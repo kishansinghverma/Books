{
 "cells": [
  {
   "cell_type": "code",
   "execution_count": 255,
   "metadata": {},
   "outputs": [],
   "source": [
    "import numpy as np"
   ]
  },
  {
   "cell_type": "code",
   "execution_count": 256,
   "metadata": {},
   "outputs": [
    {
     "data": {
      "text/plain": [
       "array([[0.25833457, 0.93672923, 0.9723923 , 0.21003674],\n",
       "       [0.93439048, 0.68596168, 0.75534685, 0.03067104],\n",
       "       [0.59927238, 0.37155397, 0.29375253, 0.89886522]])"
      ]
     },
     "execution_count": 256,
     "metadata": {},
     "output_type": "execute_result"
    }
   ],
   "source": [
    "ds=np.random.random([3, 4])\n",
    "ds"
   ]
  },
  {
   "cell_type": "code",
   "execution_count": 257,
   "metadata": {},
   "outputs": [
    {
     "data": {
      "text/plain": [
       "6.947306995850603"
      ]
     },
     "execution_count": 257,
     "metadata": {},
     "output_type": "execute_result"
    }
   ],
   "source": [
    "ds.sum()"
   ]
  },
  {
   "cell_type": "code",
   "execution_count": 258,
   "metadata": {},
   "outputs": [
    {
     "data": {
      "text/plain": [
       "6.947306995850603"
      ]
     },
     "execution_count": 258,
     "metadata": {},
     "output_type": "execute_result"
    }
   ],
   "source": [
    "np.sum(ds)"
   ]
  },
  {
   "cell_type": "code",
   "execution_count": 259,
   "metadata": {},
   "outputs": [
    {
     "data": {
      "text/plain": [
       "array([1.79199743, 1.99424488, 2.02149168, 1.13957301])"
      ]
     },
     "execution_count": 259,
     "metadata": {},
     "output_type": "execute_result"
    }
   ],
   "source": [
    "ds.sum(axis=0) #Column_wise"
   ]
  },
  {
   "cell_type": "code",
   "execution_count": 260,
   "metadata": {},
   "outputs": [
    {
     "data": {
      "text/plain": [
       "array([2.37749285, 2.40637004, 2.1634441 ])"
      ]
     },
     "execution_count": 260,
     "metadata": {},
     "output_type": "execute_result"
    }
   ],
   "source": [
    "ds.sum(axis=1) #Row_wise"
   ]
  },
  {
   "cell_type": "code",
   "execution_count": 261,
   "metadata": {},
   "outputs": [],
   "source": [
    "import pandas as pd"
   ]
  },
  {
   "cell_type": "code",
   "execution_count": 262,
   "metadata": {},
   "outputs": [
    {
     "data": {
      "text/html": [
       "<div>\n",
       "<style scoped>\n",
       "    .dataframe tbody tr th:only-of-type {\n",
       "        vertical-align: middle;\n",
       "    }\n",
       "\n",
       "    .dataframe tbody tr th {\n",
       "        vertical-align: top;\n",
       "    }\n",
       "\n",
       "    .dataframe thead th {\n",
       "        text-align: right;\n",
       "    }\n",
       "</style>\n",
       "<table border=\"1\" class=\"dataframe\">\n",
       "  <thead>\n",
       "    <tr style=\"text-align: right;\">\n",
       "      <th></th>\n",
       "      <th>order</th>\n",
       "      <th>name</th>\n",
       "      <th>height(cm)</th>\n",
       "    </tr>\n",
       "  </thead>\n",
       "  <tbody>\n",
       "    <tr>\n",
       "      <th>0</th>\n",
       "      <td>1</td>\n",
       "      <td>George Washington</td>\n",
       "      <td>189</td>\n",
       "    </tr>\n",
       "    <tr>\n",
       "      <th>1</th>\n",
       "      <td>2</td>\n",
       "      <td>John Adams</td>\n",
       "      <td>170</td>\n",
       "    </tr>\n",
       "    <tr>\n",
       "      <th>2</th>\n",
       "      <td>3</td>\n",
       "      <td>Thomas Jefferson</td>\n",
       "      <td>189</td>\n",
       "    </tr>\n",
       "    <tr>\n",
       "      <th>3</th>\n",
       "      <td>4</td>\n",
       "      <td>James Madison</td>\n",
       "      <td>163</td>\n",
       "    </tr>\n",
       "    <tr>\n",
       "      <th>4</th>\n",
       "      <td>5</td>\n",
       "      <td>James Monroe</td>\n",
       "      <td>183</td>\n",
       "    </tr>\n",
       "    <tr>\n",
       "      <th>5</th>\n",
       "      <td>6</td>\n",
       "      <td>John Quincy Adams</td>\n",
       "      <td>171</td>\n",
       "    </tr>\n",
       "    <tr>\n",
       "      <th>6</th>\n",
       "      <td>7</td>\n",
       "      <td>Andrew Jackson</td>\n",
       "      <td>185</td>\n",
       "    </tr>\n",
       "    <tr>\n",
       "      <th>7</th>\n",
       "      <td>8</td>\n",
       "      <td>Martin Van Buren</td>\n",
       "      <td>168</td>\n",
       "    </tr>\n",
       "    <tr>\n",
       "      <th>8</th>\n",
       "      <td>9</td>\n",
       "      <td>William Henry Harrison</td>\n",
       "      <td>173</td>\n",
       "    </tr>\n",
       "    <tr>\n",
       "      <th>9</th>\n",
       "      <td>10</td>\n",
       "      <td>John Tyler</td>\n",
       "      <td>183</td>\n",
       "    </tr>\n",
       "    <tr>\n",
       "      <th>10</th>\n",
       "      <td>11</td>\n",
       "      <td>James K. Polk</td>\n",
       "      <td>173</td>\n",
       "    </tr>\n",
       "    <tr>\n",
       "      <th>11</th>\n",
       "      <td>12</td>\n",
       "      <td>Zachary Taylor</td>\n",
       "      <td>173</td>\n",
       "    </tr>\n",
       "    <tr>\n",
       "      <th>12</th>\n",
       "      <td>13</td>\n",
       "      <td>Millard Fillmore</td>\n",
       "      <td>175</td>\n",
       "    </tr>\n",
       "    <tr>\n",
       "      <th>13</th>\n",
       "      <td>14</td>\n",
       "      <td>Franklin Pierce</td>\n",
       "      <td>178</td>\n",
       "    </tr>\n",
       "    <tr>\n",
       "      <th>14</th>\n",
       "      <td>15</td>\n",
       "      <td>James Buchanan</td>\n",
       "      <td>183</td>\n",
       "    </tr>\n",
       "    <tr>\n",
       "      <th>15</th>\n",
       "      <td>16</td>\n",
       "      <td>Abraham Lincoln</td>\n",
       "      <td>193</td>\n",
       "    </tr>\n",
       "    <tr>\n",
       "      <th>16</th>\n",
       "      <td>17</td>\n",
       "      <td>Andrew Johnson</td>\n",
       "      <td>178</td>\n",
       "    </tr>\n",
       "    <tr>\n",
       "      <th>17</th>\n",
       "      <td>18</td>\n",
       "      <td>Ulysses S. Grant</td>\n",
       "      <td>173</td>\n",
       "    </tr>\n",
       "    <tr>\n",
       "      <th>18</th>\n",
       "      <td>19</td>\n",
       "      <td>Rutherford B. Hayes</td>\n",
       "      <td>174</td>\n",
       "    </tr>\n",
       "    <tr>\n",
       "      <th>19</th>\n",
       "      <td>20</td>\n",
       "      <td>James A. Garfield</td>\n",
       "      <td>183</td>\n",
       "    </tr>\n",
       "    <tr>\n",
       "      <th>20</th>\n",
       "      <td>21</td>\n",
       "      <td>Chester A. Arthur</td>\n",
       "      <td>183</td>\n",
       "    </tr>\n",
       "    <tr>\n",
       "      <th>21</th>\n",
       "      <td>23</td>\n",
       "      <td>Benjamin Harrison</td>\n",
       "      <td>168</td>\n",
       "    </tr>\n",
       "    <tr>\n",
       "      <th>22</th>\n",
       "      <td>25</td>\n",
       "      <td>William McKinley</td>\n",
       "      <td>170</td>\n",
       "    </tr>\n",
       "    <tr>\n",
       "      <th>23</th>\n",
       "      <td>26</td>\n",
       "      <td>Theodore Roosevelt</td>\n",
       "      <td>178</td>\n",
       "    </tr>\n",
       "    <tr>\n",
       "      <th>24</th>\n",
       "      <td>27</td>\n",
       "      <td>William Howard Taft</td>\n",
       "      <td>182</td>\n",
       "    </tr>\n",
       "    <tr>\n",
       "      <th>25</th>\n",
       "      <td>28</td>\n",
       "      <td>Woodrow Wilson</td>\n",
       "      <td>180</td>\n",
       "    </tr>\n",
       "    <tr>\n",
       "      <th>26</th>\n",
       "      <td>29</td>\n",
       "      <td>Warren G. Harding</td>\n",
       "      <td>183</td>\n",
       "    </tr>\n",
       "    <tr>\n",
       "      <th>27</th>\n",
       "      <td>30</td>\n",
       "      <td>Calvin Coolidge</td>\n",
       "      <td>178</td>\n",
       "    </tr>\n",
       "    <tr>\n",
       "      <th>28</th>\n",
       "      <td>31</td>\n",
       "      <td>Herbert Hoover</td>\n",
       "      <td>182</td>\n",
       "    </tr>\n",
       "    <tr>\n",
       "      <th>29</th>\n",
       "      <td>32</td>\n",
       "      <td>Franklin D. Roosevelt</td>\n",
       "      <td>188</td>\n",
       "    </tr>\n",
       "    <tr>\n",
       "      <th>30</th>\n",
       "      <td>33</td>\n",
       "      <td>Harry S. Truman</td>\n",
       "      <td>175</td>\n",
       "    </tr>\n",
       "    <tr>\n",
       "      <th>31</th>\n",
       "      <td>34</td>\n",
       "      <td>Dwight D. Eisenhower</td>\n",
       "      <td>179</td>\n",
       "    </tr>\n",
       "    <tr>\n",
       "      <th>32</th>\n",
       "      <td>35</td>\n",
       "      <td>John F. Kennedy</td>\n",
       "      <td>183</td>\n",
       "    </tr>\n",
       "    <tr>\n",
       "      <th>33</th>\n",
       "      <td>36</td>\n",
       "      <td>Lyndon B. Johnson</td>\n",
       "      <td>193</td>\n",
       "    </tr>\n",
       "    <tr>\n",
       "      <th>34</th>\n",
       "      <td>37</td>\n",
       "      <td>Richard Nixon</td>\n",
       "      <td>182</td>\n",
       "    </tr>\n",
       "    <tr>\n",
       "      <th>35</th>\n",
       "      <td>38</td>\n",
       "      <td>Gerald Ford</td>\n",
       "      <td>183</td>\n",
       "    </tr>\n",
       "    <tr>\n",
       "      <th>36</th>\n",
       "      <td>39</td>\n",
       "      <td>Jimmy Carter</td>\n",
       "      <td>177</td>\n",
       "    </tr>\n",
       "    <tr>\n",
       "      <th>37</th>\n",
       "      <td>40</td>\n",
       "      <td>Ronald Reagan</td>\n",
       "      <td>185</td>\n",
       "    </tr>\n",
       "    <tr>\n",
       "      <th>38</th>\n",
       "      <td>41</td>\n",
       "      <td>George H. W. Bush</td>\n",
       "      <td>188</td>\n",
       "    </tr>\n",
       "    <tr>\n",
       "      <th>39</th>\n",
       "      <td>42</td>\n",
       "      <td>Bill Clinton</td>\n",
       "      <td>188</td>\n",
       "    </tr>\n",
       "    <tr>\n",
       "      <th>40</th>\n",
       "      <td>43</td>\n",
       "      <td>George W. Bush</td>\n",
       "      <td>182</td>\n",
       "    </tr>\n",
       "    <tr>\n",
       "      <th>41</th>\n",
       "      <td>44</td>\n",
       "      <td>Barack Obama</td>\n",
       "      <td>185</td>\n",
       "    </tr>\n",
       "  </tbody>\n",
       "</table>\n",
       "</div>"
      ],
      "text/plain": [
       "    order                    name  height(cm)\n",
       "0       1       George Washington         189\n",
       "1       2              John Adams         170\n",
       "2       3        Thomas Jefferson         189\n",
       "3       4           James Madison         163\n",
       "4       5            James Monroe         183\n",
       "5       6       John Quincy Adams         171\n",
       "6       7          Andrew Jackson         185\n",
       "7       8        Martin Van Buren         168\n",
       "8       9  William Henry Harrison         173\n",
       "9      10              John Tyler         183\n",
       "10     11           James K. Polk         173\n",
       "11     12          Zachary Taylor         173\n",
       "12     13        Millard Fillmore         175\n",
       "13     14         Franklin Pierce         178\n",
       "14     15          James Buchanan         183\n",
       "15     16         Abraham Lincoln         193\n",
       "16     17          Andrew Johnson         178\n",
       "17     18        Ulysses S. Grant         173\n",
       "18     19     Rutherford B. Hayes         174\n",
       "19     20       James A. Garfield         183\n",
       "20     21       Chester A. Arthur         183\n",
       "21     23       Benjamin Harrison         168\n",
       "22     25        William McKinley         170\n",
       "23     26      Theodore Roosevelt         178\n",
       "24     27     William Howard Taft         182\n",
       "25     28          Woodrow Wilson         180\n",
       "26     29       Warren G. Harding         183\n",
       "27     30         Calvin Coolidge         178\n",
       "28     31          Herbert Hoover         182\n",
       "29     32   Franklin D. Roosevelt         188\n",
       "30     33         Harry S. Truman         175\n",
       "31     34    Dwight D. Eisenhower         179\n",
       "32     35         John F. Kennedy         183\n",
       "33     36       Lyndon B. Johnson         193\n",
       "34     37           Richard Nixon         182\n",
       "35     38             Gerald Ford         183\n",
       "36     39            Jimmy Carter         177\n",
       "37     40           Ronald Reagan         185\n",
       "38     41       George H. W. Bush         188\n",
       "39     42            Bill Clinton         188\n",
       "40     43          George W. Bush         182\n",
       "41     44            Barack Obama         185"
      ]
     },
     "execution_count": 262,
     "metadata": {},
     "output_type": "execute_result"
    }
   ],
   "source": [
    "df=pd.read_csv(\"Datasets/heights.csv\")\n",
    "df"
   ]
  },
  {
   "cell_type": "code",
   "execution_count": 263,
   "metadata": {},
   "outputs": [
    {
     "data": {
      "text/plain": [
       "array([189, 170, 189, 163, 183, 171, 185, 168, 173, 183, 173, 173, 175,\n",
       "       178, 183, 193, 178, 173, 174, 183, 183, 168, 170, 178, 182, 180,\n",
       "       183, 178, 182, 188, 175, 179, 183, 193, 182, 183, 177, 185, 188,\n",
       "       188, 182, 185])"
      ]
     },
     "execution_count": 263,
     "metadata": {},
     "output_type": "execute_result"
    }
   ],
   "source": [
    "ht=np.array(df['height(cm)'])\n",
    "ht\n"
   ]
  },
  {
   "cell_type": "code",
   "execution_count": 264,
   "metadata": {},
   "outputs": [
    {
     "data": {
      "text/plain": [
       "179.73809523809524"
      ]
     },
     "execution_count": 264,
     "metadata": {},
     "output_type": "execute_result"
    }
   ],
   "source": [
    "ht.mean()"
   ]
  },
  {
   "cell_type": "code",
   "execution_count": 265,
   "metadata": {},
   "outputs": [
    {
     "data": {
      "text/plain": [
       "193"
      ]
     },
     "execution_count": 265,
     "metadata": {},
     "output_type": "execute_result"
    }
   ],
   "source": [
    "ht.max()"
   ]
  },
  {
   "cell_type": "code",
   "execution_count": 266,
   "metadata": {},
   "outputs": [
    {
     "data": {
      "text/plain": [
       "163"
      ]
     },
     "execution_count": 266,
     "metadata": {},
     "output_type": "execute_result"
    }
   ],
   "source": [
    "ht.min()"
   ]
  },
  {
   "cell_type": "code",
   "execution_count": 267,
   "metadata": {},
   "outputs": [
    {
     "data": {
      "text/plain": [
       "6.931843442745892"
      ]
     },
     "execution_count": 267,
     "metadata": {},
     "output_type": "execute_result"
    }
   ],
   "source": [
    "ht.std()"
   ]
  },
  {
   "cell_type": "code",
   "execution_count": 268,
   "metadata": {},
   "outputs": [
    {
     "data": {
      "text/plain": [
       "170.1"
      ]
     },
     "execution_count": 268,
     "metadata": {},
     "output_type": "execute_result"
    }
   ],
   "source": [
    "np.percentile(ht, 10)"
   ]
  },
  {
   "cell_type": "code",
   "execution_count": 269,
   "metadata": {},
   "outputs": [
    {
     "data": {
      "text/plain": [
       "173.0"
      ]
     },
     "execution_count": 269,
     "metadata": {},
     "output_type": "execute_result"
    }
   ],
   "source": [
    "np.percentile(ht, 20)"
   ]
  },
  {
   "cell_type": "code",
   "execution_count": 270,
   "metadata": {},
   "outputs": [
    {
     "data": {
      "text/plain": [
       "175.6"
      ]
     },
     "execution_count": 270,
     "metadata": {},
     "output_type": "execute_result"
    }
   ],
   "source": [
    "np.percentile(ht, 30)"
   ]
  },
  {
   "cell_type": "code",
   "execution_count": 271,
   "metadata": {},
   "outputs": [
    {
     "data": {
      "text/plain": [
       "178.0"
      ]
     },
     "execution_count": 271,
     "metadata": {},
     "output_type": "execute_result"
    }
   ],
   "source": [
    "np.percentile(ht, 40)"
   ]
  },
  {
   "cell_type": "code",
   "execution_count": 272,
   "metadata": {},
   "outputs": [
    {
     "data": {
      "text/plain": [
       "array([163, 168, 168, 170, 170, 171, 173, 173, 173, 173, 174, 175, 175,\n",
       "       177, 178, 178, 178, 178, 179, 180, 182, 182, 182, 182, 183, 183,\n",
       "       183, 183, 183, 183, 183, 183, 185, 185, 185, 188, 188, 188, 189,\n",
       "       189, 193, 193])"
      ]
     },
     "execution_count": 272,
     "metadata": {},
     "output_type": "execute_result"
    }
   ],
   "source": [
    "ht.sort()\n",
    "ht"
   ]
  },
  {
   "cell_type": "code",
   "execution_count": 273,
   "metadata": {},
   "outputs": [
    {
     "data": {
      "text/plain": [
       "(42,)"
      ]
     },
     "execution_count": 273,
     "metadata": {},
     "output_type": "execute_result"
    }
   ],
   "source": [
    "ht.shape"
   ]
  },
  {
   "cell_type": "code",
   "execution_count": 274,
   "metadata": {},
   "outputs": [
    {
     "data": {
      "text/plain": [
       "182.0"
      ]
     },
     "execution_count": 274,
     "metadata": {},
     "output_type": "execute_result"
    }
   ],
   "source": [
    "np.percentile(ht, 50)"
   ]
  },
  {
   "cell_type": "code",
   "execution_count": 275,
   "metadata": {},
   "outputs": [
    {
     "data": {
      "text/plain": [
       "178.0"
      ]
     },
     "execution_count": 275,
     "metadata": {},
     "output_type": "execute_result"
    }
   ],
   "source": [
    "(163+193)/2"
   ]
  },
  {
   "cell_type": "code",
   "execution_count": 276,
   "metadata": {},
   "outputs": [
    {
     "data": {
      "text/plain": [
       "182.0"
      ]
     },
     "execution_count": 276,
     "metadata": {},
     "output_type": "execute_result"
    }
   ],
   "source": [
    "np.median(ht)"
   ]
  },
  {
   "cell_type": "code",
   "execution_count": 277,
   "metadata": {},
   "outputs": [
    {
     "data": {
      "text/plain": [
       "182"
      ]
     },
     "execution_count": 277,
     "metadata": {},
     "output_type": "execute_result"
    }
   ],
   "source": [
    "ht[21]"
   ]
  },
  {
   "cell_type": "code",
   "execution_count": 278,
   "metadata": {},
   "outputs": [],
   "source": [
    "%matplotlib inline\n",
    "import matplotlib.pyplot as plt\n",
    "import seaborn; seaborn.set()"
   ]
  },
  {
   "cell_type": "code",
   "execution_count": 279,
   "metadata": {},
   "outputs": [
    {
     "data": {
      "text/plain": [
       "Text(0, 0.5, 'Numbers')"
      ]
     },
     "execution_count": 279,
     "metadata": {},
     "output_type": "execute_result"
    },
    {
     "data": {
      "image/png": "[encoded data removed]",
      "text/plain": [
       "<Figure size 432x288 with 1 Axes>"
      ]
     },
     "metadata": {},
     "output_type": "display_data"
    }
   ],
   "source": [
    "plt.hist(ht)\n",
    "plt.title(\"Distribution\")\n",
    "plt.xlabel(\"Height\")\n",
    "plt.ylabel(\"Numbers\")"
   ]
  },
  {
   "cell_type": "code",
   "execution_count": 280,
   "metadata": {},
   "outputs": [
    {
     "data": {
      "text/plain": [
       "<matplotlib.image.AxesImage at 0x7f6a45f93790>"
      ]
     },
     "execution_count": 280,
     "metadata": {},
     "output_type": "execute_result"
    },
    {
     "data": {
      "image/png": "[encoded data removed]",
      "text/plain": [
       "<Figure size 432x288 with 1 Axes>"
      ]
     },
     "metadata": {},
     "output_type": "display_data"
    }
   ],
   "source": [
    "x = np.linspace(0, 5, 50)\n",
    "y = np.linspace(0, 5, 50)[:, np.newaxis]\n",
    "z = np.sin(x) ** 10 + np.cos(10+x+y) * np.sin(x)\n",
    "plt.imshow(z, origin='lower', extent=[0, 5, 0, 5], cmap='viridis')"
   ]
  },
  {
   "cell_type": "code",
   "execution_count": 281,
   "metadata": {},
   "outputs": [
    {
     "data": {
      "text/plain": [
       "array([0.        , 0.10204082, 0.20408163, 0.30612245, 0.40816327,\n",
       "       0.51020408, 0.6122449 , 0.71428571, 0.81632653, 0.91836735,\n",
       "       1.02040816, 1.12244898, 1.2244898 , 1.32653061, 1.42857143,\n",
       "       1.53061224, 1.63265306, 1.73469388, 1.83673469, 1.93877551,\n",
       "       2.04081633, 2.14285714, 2.24489796, 2.34693878, 2.44897959,\n",
       "       2.55102041, 2.65306122, 2.75510204, 2.85714286, 2.95918367,\n",
       "       3.06122449, 3.16326531, 3.26530612, 3.36734694, 3.46938776,\n",
       "       3.57142857, 3.67346939, 3.7755102 , 3.87755102, 3.97959184,\n",
       "       4.08163265, 4.18367347, 4.28571429, 4.3877551 , 4.48979592,\n",
       "       4.59183673, 4.69387755, 4.79591837, 4.89795918, 5.        ])"
      ]
     },
     "execution_count": 281,
     "metadata": {},
     "output_type": "execute_result"
    }
   ],
   "source": [
    "x"
   ]
  },
  {
   "cell_type": "code",
   "execution_count": 282,
   "metadata": {},
   "outputs": [
    {
     "data": {
      "text/plain": [
       "array([[0.        ],\n",
       "       [0.10204082],\n",
       "       [0.20408163],\n",
       "       [0.30612245],\n",
       "       [0.40816327],\n",
       "       [0.51020408],\n",
       "       [0.6122449 ],\n",
       "       [0.71428571],\n",
       "       [0.81632653],\n",
       "       [0.91836735],\n",
       "       [1.02040816],\n",
       "       [1.12244898],\n",
       "       [1.2244898 ],\n",
       "       [1.32653061],\n",
       "       [1.42857143],\n",
       "       [1.53061224],\n",
       "       [1.63265306],\n",
       "       [1.73469388],\n",
       "       [1.83673469],\n",
       "       [1.93877551],\n",
       "       [2.04081633],\n",
       "       [2.14285714],\n",
       "       [2.24489796],\n",
       "       [2.34693878],\n",
       "       [2.44897959],\n",
       "       [2.55102041],\n",
       "       [2.65306122],\n",
       "       [2.75510204],\n",
       "       [2.85714286],\n",
       "       [2.95918367],\n",
       "       [3.06122449],\n",
       "       [3.16326531],\n",
       "       [3.26530612],\n",
       "       [3.36734694],\n",
       "       [3.46938776],\n",
       "       [3.57142857],\n",
       "       [3.67346939],\n",
       "       [3.7755102 ],\n",
       "       [3.87755102],\n",
       "       [3.97959184],\n",
       "       [4.08163265],\n",
       "       [4.18367347],\n",
       "       [4.28571429],\n",
       "       [4.3877551 ],\n",
       "       [4.48979592],\n",
       "       [4.59183673],\n",
       "       [4.69387755],\n",
       "       [4.79591837],\n",
       "       [4.89795918],\n",
       "       [5.        ]])"
      ]
     },
     "execution_count": 282,
     "metadata": {},
     "output_type": "execute_result"
    }
   ],
   "source": [
    "y"
   ]
  },
  {
   "cell_type": "code",
   "execution_count": 283,
   "metadata": {},
   "outputs": [
    {
     "data": {
      "text/plain": [
       "(50, 50)"
      ]
     },
     "execution_count": 283,
     "metadata": {},
     "output_type": "execute_result"
    }
   ],
   "source": [
    "z.shape"
   ]
  },
  {
   "cell_type": "code",
   "execution_count": 284,
   "metadata": {},
   "outputs": [
    {
     "data": {
      "text/plain": [
       "array([[ 0.        , -0.07938155, -0.14417848, ...,  1.57567224,\n",
       "         1.51864483,  1.38590351],\n",
       "       [ 0.        , -0.07246624, -0.12891986, ...,  1.65276797,\n",
       "         1.58763214,  1.44563411],\n",
       "       [ 0.        , -0.06479704, -0.11232005, ...,  1.72271568,\n",
       "         1.64885189,  1.4971647 ],\n",
       "       ...,\n",
       "       [ 0.        , -0.07023465, -0.15396426, ...,  0.23131708,\n",
       "         0.1881528 ,  0.09679668],\n",
       "       [ 0.        , -0.07738472, -0.16658828, ...,  0.30375382,\n",
       "         0.26638661,  0.17895982],\n",
       "       [ 0.        , -0.08372973, -0.17747924, ...,  0.38307675,\n",
       "         0.35059816,  0.26610053]])"
      ]
     },
     "execution_count": 284,
     "metadata": {},
     "output_type": "execute_result"
    }
   ],
   "source": [
    "z"
   ]
  },
  {
   "cell_type": "code",
   "execution_count": 285,
   "metadata": {},
   "outputs": [
    {
     "data": {
      "text/html": [
       "<div>\n",
       "<style scoped>\n",
       "    .dataframe tbody tr th:only-of-type {\n",
       "        vertical-align: middle;\n",
       "    }\n",
       "\n",
       "    .dataframe tbody tr th {\n",
       "        vertical-align: top;\n",
       "    }\n",
       "\n",
       "    .dataframe thead th {\n",
       "        text-align: right;\n",
       "    }\n",
       "</style>\n",
       "<table border=\"1\" class=\"dataframe\">\n",
       "  <thead>\n",
       "    <tr style=\"text-align: right;\">\n",
       "      <th></th>\n",
       "      <th>STATION</th>\n",
       "      <th>STATION_NAME</th>\n",
       "      <th>DATE</th>\n",
       "      <th>PRCP</th>\n",
       "      <th>SNWD</th>\n",
       "      <th>SNOW</th>\n",
       "      <th>TMAX</th>\n",
       "      <th>TMIN</th>\n",
       "      <th>AWND</th>\n",
       "      <th>WDF2</th>\n",
       "      <th>WDF5</th>\n",
       "      <th>WSF2</th>\n",
       "      <th>WSF5</th>\n",
       "      <th>WT01</th>\n",
       "      <th>WT05</th>\n",
       "      <th>WT02</th>\n",
       "      <th>WT03</th>\n",
       "    </tr>\n",
       "  </thead>\n",
       "  <tbody>\n",
       "    <tr>\n",
       "      <th>0</th>\n",
       "      <td>GHCND:USW00024233</td>\n",
       "      <td>SEATTLE TACOMA INTERNATIONAL AIRPORT WA US</td>\n",
       "      <td>20140101</td>\n",
       "      <td>0</td>\n",
       "      <td>0</td>\n",
       "      <td>0</td>\n",
       "      <td>72</td>\n",
       "      <td>33</td>\n",
       "      <td>12</td>\n",
       "      <td>340</td>\n",
       "      <td>310</td>\n",
       "      <td>36</td>\n",
       "      <td>40</td>\n",
       "      <td>-9999</td>\n",
       "      <td>-9999</td>\n",
       "      <td>-9999</td>\n",
       "      <td>-9999</td>\n",
       "    </tr>\n",
       "    <tr>\n",
       "      <th>1</th>\n",
       "      <td>GHCND:USW00024233</td>\n",
       "      <td>SEATTLE TACOMA INTERNATIONAL AIRPORT WA US</td>\n",
       "      <td>20140102</td>\n",
       "      <td>41</td>\n",
       "      <td>0</td>\n",
       "      <td>0</td>\n",
       "      <td>106</td>\n",
       "      <td>61</td>\n",
       "      <td>32</td>\n",
       "      <td>190</td>\n",
       "      <td>200</td>\n",
       "      <td>94</td>\n",
       "      <td>116</td>\n",
       "      <td>-9999</td>\n",
       "      <td>-9999</td>\n",
       "      <td>-9999</td>\n",
       "      <td>-9999</td>\n",
       "    </tr>\n",
       "    <tr>\n",
       "      <th>2</th>\n",
       "      <td>GHCND:USW00024233</td>\n",
       "      <td>SEATTLE TACOMA INTERNATIONAL AIRPORT WA US</td>\n",
       "      <td>20140103</td>\n",
       "      <td>15</td>\n",
       "      <td>0</td>\n",
       "      <td>0</td>\n",
       "      <td>89</td>\n",
       "      <td>28</td>\n",
       "      <td>26</td>\n",
       "      <td>30</td>\n",
       "      <td>50</td>\n",
       "      <td>63</td>\n",
       "      <td>72</td>\n",
       "      <td>1</td>\n",
       "      <td>-9999</td>\n",
       "      <td>-9999</td>\n",
       "      <td>-9999</td>\n",
       "    </tr>\n",
       "    <tr>\n",
       "      <th>3</th>\n",
       "      <td>GHCND:USW00024233</td>\n",
       "      <td>SEATTLE TACOMA INTERNATIONAL AIRPORT WA US</td>\n",
       "      <td>20140104</td>\n",
       "      <td>0</td>\n",
       "      <td>0</td>\n",
       "      <td>0</td>\n",
       "      <td>78</td>\n",
       "      <td>6</td>\n",
       "      <td>27</td>\n",
       "      <td>40</td>\n",
       "      <td>40</td>\n",
       "      <td>45</td>\n",
       "      <td>58</td>\n",
       "      <td>1</td>\n",
       "      <td>-9999</td>\n",
       "      <td>-9999</td>\n",
       "      <td>-9999</td>\n",
       "    </tr>\n",
       "    <tr>\n",
       "      <th>4</th>\n",
       "      <td>GHCND:USW00024233</td>\n",
       "      <td>SEATTLE TACOMA INTERNATIONAL AIRPORT WA US</td>\n",
       "      <td>20140105</td>\n",
       "      <td>0</td>\n",
       "      <td>0</td>\n",
       "      <td>0</td>\n",
       "      <td>83</td>\n",
       "      <td>-5</td>\n",
       "      <td>37</td>\n",
       "      <td>10</td>\n",
       "      <td>10</td>\n",
       "      <td>67</td>\n",
       "      <td>76</td>\n",
       "      <td>-9999</td>\n",
       "      <td>-9999</td>\n",
       "      <td>-9999</td>\n",
       "      <td>-9999</td>\n",
       "    </tr>\n",
       "    <tr>\n",
       "      <th>...</th>\n",
       "      <td>...</td>\n",
       "      <td>...</td>\n",
       "      <td>...</td>\n",
       "      <td>...</td>\n",
       "      <td>...</td>\n",
       "      <td>...</td>\n",
       "      <td>...</td>\n",
       "      <td>...</td>\n",
       "      <td>...</td>\n",
       "      <td>...</td>\n",
       "      <td>...</td>\n",
       "      <td>...</td>\n",
       "      <td>...</td>\n",
       "      <td>...</td>\n",
       "      <td>...</td>\n",
       "      <td>...</td>\n",
       "      <td>...</td>\n",
       "    </tr>\n",
       "    <tr>\n",
       "      <th>360</th>\n",
       "      <td>GHCND:USW00024233</td>\n",
       "      <td>SEATTLE TACOMA INTERNATIONAL AIRPORT WA US</td>\n",
       "      <td>20141227</td>\n",
       "      <td>33</td>\n",
       "      <td>0</td>\n",
       "      <td>0</td>\n",
       "      <td>94</td>\n",
       "      <td>44</td>\n",
       "      <td>49</td>\n",
       "      <td>210</td>\n",
       "      <td>210</td>\n",
       "      <td>112</td>\n",
       "      <td>161</td>\n",
       "      <td>1</td>\n",
       "      <td>-9999</td>\n",
       "      <td>-9999</td>\n",
       "      <td>-9999</td>\n",
       "    </tr>\n",
       "    <tr>\n",
       "      <th>361</th>\n",
       "      <td>GHCND:USW00024233</td>\n",
       "      <td>SEATTLE TACOMA INTERNATIONAL AIRPORT WA US</td>\n",
       "      <td>20141228</td>\n",
       "      <td>41</td>\n",
       "      <td>0</td>\n",
       "      <td>0</td>\n",
       "      <td>67</td>\n",
       "      <td>28</td>\n",
       "      <td>18</td>\n",
       "      <td>50</td>\n",
       "      <td>30</td>\n",
       "      <td>58</td>\n",
       "      <td>72</td>\n",
       "      <td>1</td>\n",
       "      <td>-9999</td>\n",
       "      <td>-9999</td>\n",
       "      <td>-9999</td>\n",
       "    </tr>\n",
       "    <tr>\n",
       "      <th>362</th>\n",
       "      <td>GHCND:USW00024233</td>\n",
       "      <td>SEATTLE TACOMA INTERNATIONAL AIRPORT WA US</td>\n",
       "      <td>20141229</td>\n",
       "      <td>0</td>\n",
       "      <td>0</td>\n",
       "      <td>0</td>\n",
       "      <td>61</td>\n",
       "      <td>6</td>\n",
       "      <td>43</td>\n",
       "      <td>350</td>\n",
       "      <td>350</td>\n",
       "      <td>76</td>\n",
       "      <td>103</td>\n",
       "      <td>1</td>\n",
       "      <td>-9999</td>\n",
       "      <td>-9999</td>\n",
       "      <td>-9999</td>\n",
       "    </tr>\n",
       "    <tr>\n",
       "      <th>363</th>\n",
       "      <td>GHCND:USW00024233</td>\n",
       "      <td>SEATTLE TACOMA INTERNATIONAL AIRPORT WA US</td>\n",
       "      <td>20141230</td>\n",
       "      <td>0</td>\n",
       "      <td>0</td>\n",
       "      <td>0</td>\n",
       "      <td>33</td>\n",
       "      <td>-21</td>\n",
       "      <td>36</td>\n",
       "      <td>90</td>\n",
       "      <td>70</td>\n",
       "      <td>63</td>\n",
       "      <td>76</td>\n",
       "      <td>-9999</td>\n",
       "      <td>-9999</td>\n",
       "      <td>-9999</td>\n",
       "      <td>-9999</td>\n",
       "    </tr>\n",
       "    <tr>\n",
       "      <th>364</th>\n",
       "      <td>GHCND:USW00024233</td>\n",
       "      <td>SEATTLE TACOMA INTERNATIONAL AIRPORT WA US</td>\n",
       "      <td>20141231</td>\n",
       "      <td>0</td>\n",
       "      <td>0</td>\n",
       "      <td>0</td>\n",
       "      <td>33</td>\n",
       "      <td>-27</td>\n",
       "      <td>30</td>\n",
       "      <td>30</td>\n",
       "      <td>-9999</td>\n",
       "      <td>58</td>\n",
       "      <td>-9999</td>\n",
       "      <td>-9999</td>\n",
       "      <td>-9999</td>\n",
       "      <td>-9999</td>\n",
       "      <td>-9999</td>\n",
       "    </tr>\n",
       "  </tbody>\n",
       "</table>\n",
       "<p>365 rows × 17 columns</p>\n",
       "</div>"
      ],
      "text/plain": [
       "               STATION                                STATION_NAME      DATE  \\\n",
       "0    GHCND:USW00024233  SEATTLE TACOMA INTERNATIONAL AIRPORT WA US  20140101   \n",
       "1    GHCND:USW00024233  SEATTLE TACOMA INTERNATIONAL AIRPORT WA US  20140102   \n",
       "2    GHCND:USW00024233  SEATTLE TACOMA INTERNATIONAL AIRPORT WA US  20140103   \n",
       "3    GHCND:USW00024233  SEATTLE TACOMA INTERNATIONAL AIRPORT WA US  20140104   \n",
       "4    GHCND:USW00024233  SEATTLE TACOMA INTERNATIONAL AIRPORT WA US  20140105   \n",
       "..                 ...                                         ...       ...   \n",
       "360  GHCND:USW00024233  SEATTLE TACOMA INTERNATIONAL AIRPORT WA US  20141227   \n",
       "361  GHCND:USW00024233  SEATTLE TACOMA INTERNATIONAL AIRPORT WA US  20141228   \n",
       "362  GHCND:USW00024233  SEATTLE TACOMA INTERNATIONAL AIRPORT WA US  20141229   \n",
       "363  GHCND:USW00024233  SEATTLE TACOMA INTERNATIONAL AIRPORT WA US  20141230   \n",
       "364  GHCND:USW00024233  SEATTLE TACOMA INTERNATIONAL AIRPORT WA US  20141231   \n",
       "\n",
       "     PRCP  SNWD  SNOW  TMAX  TMIN  AWND  WDF2  WDF5  WSF2  WSF5  WT01  WT05  \\\n",
       "0       0     0     0    72    33    12   340   310    36    40 -9999 -9999   \n",
       "1      41     0     0   106    61    32   190   200    94   116 -9999 -9999   \n",
       "2      15     0     0    89    28    26    30    50    63    72     1 -9999   \n",
       "3       0     0     0    78     6    27    40    40    45    58     1 -9999   \n",
       "4       0     0     0    83    -5    37    10    10    67    76 -9999 -9999   \n",
       "..    ...   ...   ...   ...   ...   ...   ...   ...   ...   ...   ...   ...   \n",
       "360    33     0     0    94    44    49   210   210   112   161     1 -9999   \n",
       "361    41     0     0    67    28    18    50    30    58    72     1 -9999   \n",
       "362     0     0     0    61     6    43   350   350    76   103     1 -9999   \n",
       "363     0     0     0    33   -21    36    90    70    63    76 -9999 -9999   \n",
       "364     0     0     0    33   -27    30    30 -9999    58 -9999 -9999 -9999   \n",
       "\n",
       "     WT02  WT03  \n",
       "0   -9999 -9999  \n",
       "1   -9999 -9999  \n",
       "2   -9999 -9999  \n",
       "3   -9999 -9999  \n",
       "4   -9999 -9999  \n",
       "..    ...   ...  \n",
       "360 -9999 -9999  \n",
       "361 -9999 -9999  \n",
       "362 -9999 -9999  \n",
       "363 -9999 -9999  \n",
       "364 -9999 -9999  \n",
       "\n",
       "[365 rows x 17 columns]"
      ]
     },
     "execution_count": 285,
     "metadata": {},
     "output_type": "execute_result"
    }
   ],
   "source": [
    "df=pd.read_csv(\"Datasets/rain.csv\")\n",
    "df"
   ]
  },
  {
   "cell_type": "code",
   "execution_count": 286,
   "metadata": {},
   "outputs": [
    {
     "data": {
      "text/plain": [
       "array([  0,  41,  15,   0,   0,   3, 122,  97,  58,  43, 213,  15,   0,\n",
       "         0,   0,   0,   0,   0,   0,   0,   0,   5,   0,   0,   0,   0,\n",
       "         0,  89, 216,   0,  23,  20,   0,   0,   0,   0,   0,   0,  51,\n",
       "         5, 183, 170,  46,  18,  94, 117, 264, 145, 152,  10,  30,  28,\n",
       "        25,  61, 130,   3,   0,   0,   0,   5, 191, 107, 165, 467,  30,\n",
       "         0, 323,  43, 188,   0,   0,   5,  69,  81, 277,   3,   0,   5,\n",
       "         0,   0,   0,   0,   0,  41,  36,   3, 221, 140,   0,   0,   0,\n",
       "         0,  25,   0,  46,   0,   0,  46,   0,   0,   0,   0,   0,   0,\n",
       "         5, 109, 185,   0, 137,   0,  51, 142,  89, 124,   0,  33,  69,\n",
       "         0,   0,   0,   0,   0, 333, 160,  51,   0,   0, 137,  20,   5,\n",
       "         0,   0,   0,   0,   0,   0,   0,   0,   0,   0,   0,   0,  38,\n",
       "         0,  56,   0,   0,   0,   0,   0,   0,   0,   0,   0,   0,   0,\n",
       "         0,   0,   0,   0,   0,   0,  18,  64,   0,   5,  36,  13,   0,\n",
       "         8,   3,   0,   0,   0,   0,   0,   0,  18,  23,   0,   0,   0,\n",
       "         0,   0,   0,   0,   0,   0,   0,   0,   0,   0,   0,   0,   0,\n",
       "         0,   0,   0,   0,   0,   0,   0,   3, 193,   0,   0,   0,   0,\n",
       "         0,   0,   0,   0,   0,   5,   0,   0,   0,   0,   0,   0,   0,\n",
       "         0,   5, 127, 216,   0,  10,   0,   0,   0,   0,   0,   0,   0,\n",
       "         0,   0,   0,   0,   0,   0,   0,  84,  13,   0,  30,   0,   0,\n",
       "         0,   0,   0,   0,   0,   0,   0,   0,   0,   0,   0,   0,   5,\n",
       "         3,   0,   0,   0,   3, 183, 203,  43,  89,   0,   0,   8,   0,\n",
       "         0,   0,   0,   0,   0,   0,   0,   0,   0,   3,  74,   0,  76,\n",
       "        71,  86,   0,  33, 150,   0, 117,  10, 320,  94,  41,  61,  15,\n",
       "         8, 127,   5, 254, 170,   0,  18, 109,  41,  48,  41,   0,   0,\n",
       "        51,   0,   0,   0,   0,   0,   0,   0,   0,   0,   0,  36, 152,\n",
       "         5, 119,  13, 183,   3,  33, 343,  36,   0,   0,   0,   0,   8,\n",
       "        30,  74,   0,  91,  99, 130,  69,   0,   0,   0,   0,   0,  28,\n",
       "       130,  30, 196,   0,   0, 206,  53,   0,   0,  33,  41,   0,   0,\n",
       "         0])"
      ]
     },
     "execution_count": 286,
     "metadata": {},
     "output_type": "execute_result"
    }
   ],
   "source": [
    "rf=df['PRCP'].values\n",
    "rf"
   ]
  },
  {
   "cell_type": "code",
   "execution_count": 287,
   "metadata": {},
   "outputs": [
    {
     "data": {
      "text/plain": [
       "array([  0,  41,  15,   0,   0,   3, 122,  97,  58,  43, 213,  15,   0,\n",
       "         0,   0,   0,   0,   0,   0,   0,   0,   5,   0,   0,   0,   0,\n",
       "         0,  89, 216,   0,  23,  20,   0,   0,   0,   0,   0,   0,  51,\n",
       "         5, 183, 170,  46,  18,  94, 117, 264, 145, 152,  10,  30,  28,\n",
       "        25,  61, 130,   3,   0,   0,   0,   5, 191, 107, 165, 467,  30,\n",
       "         0, 323,  43, 188,   0,   0,   5,  69,  81, 277,   3,   0,   5,\n",
       "         0,   0,   0,   0,   0,  41,  36,   3, 221, 140,   0,   0,   0,\n",
       "         0,  25,   0,  46,   0,   0,  46,   0,   0,   0,   0,   0,   0,\n",
       "         5, 109, 185,   0, 137,   0,  51, 142,  89, 124,   0,  33,  69,\n",
       "         0,   0,   0,   0,   0, 333, 160,  51,   0,   0, 137,  20,   5,\n",
       "         0,   0,   0,   0,   0,   0,   0,   0,   0,   0,   0,   0,  38,\n",
       "         0,  56,   0,   0,   0,   0,   0,   0,   0,   0,   0,   0,   0,\n",
       "         0,   0,   0,   0,   0,   0,  18,  64,   0,   5,  36,  13,   0,\n",
       "         8,   3,   0,   0,   0,   0,   0,   0,  18,  23,   0,   0,   0,\n",
       "         0,   0,   0,   0,   0,   0,   0,   0,   0,   0,   0,   0,   0,\n",
       "         0,   0,   0,   0,   0,   0,   0,   3, 193,   0,   0,   0,   0,\n",
       "         0,   0,   0,   0,   0,   5,   0,   0,   0,   0,   0,   0,   0,\n",
       "         0,   5, 127, 216,   0,  10,   0,   0,   0,   0,   0,   0,   0,\n",
       "         0,   0,   0,   0,   0,   0,   0,  84,  13,   0,  30,   0,   0,\n",
       "         0,   0,   0,   0,   0,   0,   0,   0,   0,   0,   0,   0,   5,\n",
       "         3,   0,   0,   0,   3, 183, 203,  43,  89,   0,   0,   8,   0,\n",
       "         0,   0,   0,   0,   0,   0,   0,   0,   0,   3,  74,   0,  76,\n",
       "        71,  86,   0,  33, 150,   0, 117,  10, 320,  94,  41,  61,  15,\n",
       "         8, 127,   5, 254, 170,   0,  18, 109,  41,  48,  41,   0,   0,\n",
       "        51,   0,   0,   0,   0,   0,   0,   0,   0,   0,   0,  36, 152,\n",
       "         5, 119,  13, 183,   3,  33, 343,  36,   0,   0,   0,   0,   8,\n",
       "        30,  74,   0,  91,  99, 130,  69,   0,   0,   0,   0,   0,  28,\n",
       "       130,  30, 196,   0,   0, 206,  53,   0,   0,  33,  41,   0,   0,\n",
       "         0])"
      ]
     },
     "execution_count": 287,
     "metadata": {},
     "output_type": "execute_result"
    }
   ],
   "source": [
    "np.array(rf)"
   ]
  },
  {
   "cell_type": "code",
   "execution_count": 288,
   "metadata": {},
   "outputs": [],
   "source": [
    "inch=rf/254"
   ]
  },
  {
   "cell_type": "code",
   "execution_count": 289,
   "metadata": {},
   "outputs": [
    {
     "data": {
      "text/plain": [
       "array([0.        , 0.16141732, 0.05905512, 0.        , 0.        ,\n",
       "       0.01181102, 0.48031496, 0.38188976, 0.22834646, 0.16929134,\n",
       "       0.83858268, 0.05905512, 0.        , 0.        , 0.        ,\n",
       "       0.        , 0.        , 0.        , 0.        , 0.        ,\n",
       "       0.        , 0.01968504, 0.        , 0.        , 0.        ,\n",
       "       0.        , 0.        , 0.3503937 , 0.8503937 , 0.        ,\n",
       "       0.09055118, 0.07874016, 0.        , 0.        , 0.        ,\n",
       "       0.        , 0.        , 0.        , 0.2007874 , 0.01968504,\n",
       "       0.72047244, 0.66929134, 0.18110236, 0.07086614, 0.37007874,\n",
       "       0.46062992, 1.03937008, 0.57086614, 0.5984252 , 0.03937008,\n",
       "       0.11811024, 0.11023622, 0.0984252 , 0.24015748, 0.51181102,\n",
       "       0.01181102, 0.        , 0.        , 0.        , 0.01968504,\n",
       "       0.7519685 , 0.42125984, 0.6496063 , 1.83858268, 0.11811024,\n",
       "       0.        , 1.27165354, 0.16929134, 0.74015748, 0.        ,\n",
       "       0.        , 0.01968504, 0.27165354, 0.31889764, 1.09055118,\n",
       "       0.01181102, 0.        , 0.01968504, 0.        , 0.        ,\n",
       "       0.        , 0.        , 0.        , 0.16141732, 0.14173228,\n",
       "       0.01181102, 0.87007874, 0.5511811 , 0.        , 0.        ,\n",
       "       0.        , 0.        , 0.0984252 , 0.        , 0.18110236,\n",
       "       0.        , 0.        , 0.18110236, 0.        , 0.        ,\n",
       "       0.        , 0.        , 0.        , 0.        , 0.01968504,\n",
       "       0.42913386, 0.72834646, 0.        , 0.53937008, 0.        ,\n",
       "       0.2007874 , 0.55905512, 0.3503937 , 0.48818898, 0.        ,\n",
       "       0.12992126, 0.27165354, 0.        , 0.        , 0.        ,\n",
       "       0.        , 0.        , 1.31102362, 0.62992126, 0.2007874 ,\n",
       "       0.        , 0.        , 0.53937008, 0.07874016, 0.01968504,\n",
       "       0.        , 0.        , 0.        , 0.        , 0.        ,\n",
       "       0.        , 0.        , 0.        , 0.        , 0.        ,\n",
       "       0.        , 0.        , 0.1496063 , 0.        , 0.22047244,\n",
       "       0.        , 0.        , 0.        , 0.        , 0.        ,\n",
       "       0.        , 0.        , 0.        , 0.        , 0.        ,\n",
       "       0.        , 0.        , 0.        , 0.        , 0.        ,\n",
       "       0.        , 0.        , 0.07086614, 0.2519685 , 0.        ,\n",
       "       0.01968504, 0.14173228, 0.0511811 , 0.        , 0.03149606,\n",
       "       0.01181102, 0.        , 0.        , 0.        , 0.        ,\n",
       "       0.        , 0.        , 0.07086614, 0.09055118, 0.        ,\n",
       "       0.        , 0.        , 0.        , 0.        , 0.        ,\n",
       "       0.        , 0.        , 0.        , 0.        , 0.        ,\n",
       "       0.        , 0.        , 0.        , 0.        , 0.        ,\n",
       "       0.        , 0.        , 0.        , 0.        , 0.        ,\n",
       "       0.        , 0.        , 0.01181102, 0.75984252, 0.        ,\n",
       "       0.        , 0.        , 0.        , 0.        , 0.        ,\n",
       "       0.        , 0.        , 0.        , 0.01968504, 0.        ,\n",
       "       0.        , 0.        , 0.        , 0.        , 0.        ,\n",
       "       0.        , 0.        , 0.01968504, 0.5       , 0.8503937 ,\n",
       "       0.        , 0.03937008, 0.        , 0.        , 0.        ,\n",
       "       0.        , 0.        , 0.        , 0.        , 0.        ,\n",
       "       0.        , 0.        , 0.        , 0.        , 0.        ,\n",
       "       0.        , 0.33070866, 0.0511811 , 0.        , 0.11811024,\n",
       "       0.        , 0.        , 0.        , 0.        , 0.        ,\n",
       "       0.        , 0.        , 0.        , 0.        , 0.        ,\n",
       "       0.        , 0.        , 0.        , 0.        , 0.01968504,\n",
       "       0.01181102, 0.        , 0.        , 0.        , 0.01181102,\n",
       "       0.72047244, 0.7992126 , 0.16929134, 0.3503937 , 0.        ,\n",
       "       0.        , 0.03149606, 0.        , 0.        , 0.        ,\n",
       "       0.        , 0.        , 0.        , 0.        , 0.        ,\n",
       "       0.        , 0.        , 0.01181102, 0.29133858, 0.        ,\n",
       "       0.2992126 , 0.27952756, 0.33858268, 0.        , 0.12992126,\n",
       "       0.59055118, 0.        , 0.46062992, 0.03937008, 1.25984252,\n",
       "       0.37007874, 0.16141732, 0.24015748, 0.05905512, 0.03149606,\n",
       "       0.5       , 0.01968504, 1.        , 0.66929134, 0.        ,\n",
       "       0.07086614, 0.42913386, 0.16141732, 0.18897638, 0.16141732,\n",
       "       0.        , 0.        , 0.2007874 , 0.        , 0.        ,\n",
       "       0.        , 0.        , 0.        , 0.        , 0.        ,\n",
       "       0.        , 0.        , 0.        , 0.14173228, 0.5984252 ,\n",
       "       0.01968504, 0.46850394, 0.0511811 , 0.72047244, 0.01181102,\n",
       "       0.12992126, 1.3503937 , 0.14173228, 0.        , 0.        ,\n",
       "       0.        , 0.        , 0.03149606, 0.11811024, 0.29133858,\n",
       "       0.        , 0.35826772, 0.38976378, 0.51181102, 0.27165354,\n",
       "       0.        , 0.        , 0.        , 0.        , 0.        ,\n",
       "       0.11023622, 0.51181102, 0.11811024, 0.77165354, 0.        ,\n",
       "       0.        , 0.81102362, 0.20866142, 0.        , 0.        ,\n",
       "       0.12992126, 0.16141732, 0.        , 0.        , 0.        ])"
      ]
     },
     "execution_count": 289,
     "metadata": {},
     "output_type": "execute_result"
    }
   ],
   "source": [
    "inch"
   ]
  },
  {
   "cell_type": "code",
   "execution_count": 290,
   "metadata": {},
   "outputs": [
    {
     "data": {
      "text/plain": [
       "(365,)"
      ]
     },
     "execution_count": 290,
     "metadata": {},
     "output_type": "execute_result"
    }
   ],
   "source": [
    "inch.shape"
   ]
  },
  {
   "cell_type": "code",
   "execution_count": 291,
   "metadata": {},
   "outputs": [
    {
     "data": {
      "text/plain": [
       "Text(0.5, 1.0, 'Distribution Chart')"
      ]
     },
     "execution_count": 291,
     "metadata": {},
     "output_type": "execute_result"
    },
    {
     "data": {
      "image/png": "[encoded data removed]",
      "text/plain": [
       "<Figure size 432x288 with 1 Axes>"
      ]
     },
     "metadata": {},
     "output_type": "display_data"
    }
   ],
   "source": [
    "plt.hist(inch, 100)\n",
    "plt.ylabel(\"Days\")\n",
    "plt.xlabel(\"Rainfall in Inches\")\n",
    "plt.title(\"Distribution Chart\")"
   ]
  },
  {
   "cell_type": "code",
   "execution_count": 292,
   "metadata": {},
   "outputs": [
    {
     "data": {
      "text/plain": [
       "array([0.        , 0.16141732, 0.05905512, 0.        , 0.        ,\n",
       "       0.01181102, 0.48031496, 0.38188976, 0.22834646, 0.16929134,\n",
       "       0.83858268, 0.05905512, 0.        , 0.        , 0.        ,\n",
       "       0.        , 0.        , 0.        , 0.        , 0.        ,\n",
       "       0.        , 0.01968504, 0.        , 0.        , 0.        ,\n",
       "       0.        , 0.        , 0.3503937 , 0.8503937 , 0.        ,\n",
       "       0.09055118, 0.07874016, 0.        , 0.        , 0.        ,\n",
       "       0.        , 0.        , 0.        , 0.2007874 , 0.01968504,\n",
       "       0.72047244, 0.66929134, 0.18110236, 0.07086614, 0.37007874,\n",
       "       0.46062992, 1.03937008, 0.57086614, 0.5984252 , 0.03937008,\n",
       "       0.11811024, 0.11023622, 0.0984252 , 0.24015748, 0.51181102,\n",
       "       0.01181102, 0.        , 0.        , 0.        , 0.01968504,\n",
       "       0.7519685 , 0.42125984, 0.6496063 , 1.83858268, 0.11811024,\n",
       "       0.        , 1.27165354, 0.16929134, 0.74015748, 0.        ,\n",
       "       0.        , 0.01968504, 0.27165354, 0.31889764, 1.09055118,\n",
       "       0.01181102, 0.        , 0.01968504, 0.        , 0.        ,\n",
       "       0.        , 0.        , 0.        , 0.16141732, 0.14173228,\n",
       "       0.01181102, 0.87007874, 0.5511811 , 0.        , 0.        ,\n",
       "       0.        , 0.        , 0.0984252 , 0.        , 0.18110236,\n",
       "       0.        , 0.        , 0.18110236, 0.        , 0.        ,\n",
       "       0.        , 0.        , 0.        , 0.        , 0.01968504,\n",
       "       0.42913386, 0.72834646, 0.        , 0.53937008, 0.        ,\n",
       "       0.2007874 , 0.55905512, 0.3503937 , 0.48818898, 0.        ,\n",
       "       0.12992126, 0.27165354, 0.        , 0.        , 0.        ,\n",
       "       0.        , 0.        , 1.31102362, 0.62992126, 0.2007874 ,\n",
       "       0.        , 0.        , 0.53937008, 0.07874016, 0.01968504,\n",
       "       0.        , 0.        , 0.        , 0.        , 0.        ,\n",
       "       0.        , 0.        , 0.        , 0.        , 0.        ,\n",
       "       0.        , 0.        , 0.1496063 , 0.        , 0.22047244,\n",
       "       0.        , 0.        , 0.        , 0.        , 0.        ,\n",
       "       0.        , 0.        , 0.        , 0.        , 0.        ,\n",
       "       0.        , 0.        , 0.        , 0.        , 0.        ,\n",
       "       0.        , 0.        , 0.07086614, 0.2519685 , 0.        ,\n",
       "       0.01968504, 0.14173228, 0.0511811 , 0.        , 0.03149606,\n",
       "       0.01181102, 0.        , 0.        , 0.        , 0.        ,\n",
       "       0.        , 0.        , 0.07086614, 0.09055118, 0.        ,\n",
       "       0.        , 0.        , 0.        , 0.        , 0.        ,\n",
       "       0.        , 0.        , 0.        , 0.        , 0.        ,\n",
       "       0.        , 0.        , 0.        , 0.        , 0.        ,\n",
       "       0.        , 0.        , 0.        , 0.        , 0.        ,\n",
       "       0.        , 0.        , 0.01181102, 0.75984252, 0.        ,\n",
       "       0.        , 0.        , 0.        , 0.        , 0.        ,\n",
       "       0.        , 0.        , 0.        , 0.01968504, 0.        ,\n",
       "       0.        , 0.        , 0.        , 0.        , 0.        ,\n",
       "       0.        , 0.        , 0.01968504, 0.5       , 0.8503937 ,\n",
       "       0.        , 0.03937008, 0.        , 0.        , 0.        ,\n",
       "       0.        , 0.        , 0.        , 0.        , 0.        ,\n",
       "       0.        , 0.        , 0.        , 0.        , 0.        ,\n",
       "       0.        , 0.33070866, 0.0511811 , 0.        , 0.11811024,\n",
       "       0.        , 0.        , 0.        , 0.        , 0.        ,\n",
       "       0.        , 0.        , 0.        , 0.        , 0.        ,\n",
       "       0.        , 0.        , 0.        , 0.        , 0.01968504,\n",
       "       0.01181102, 0.        , 0.        , 0.        , 0.01181102,\n",
       "       0.72047244, 0.7992126 , 0.16929134, 0.3503937 , 0.        ,\n",
       "       0.        , 0.03149606, 0.        , 0.        , 0.        ,\n",
       "       0.        , 0.        , 0.        , 0.        , 0.        ,\n",
       "       0.        , 0.        , 0.01181102, 0.29133858, 0.        ,\n",
       "       0.2992126 , 0.27952756, 0.33858268, 0.        , 0.12992126,\n",
       "       0.59055118, 0.        , 0.46062992, 0.03937008, 1.25984252,\n",
       "       0.37007874, 0.16141732, 0.24015748, 0.05905512, 0.03149606,\n",
       "       0.5       , 0.01968504, 1.        , 0.66929134, 0.        ,\n",
       "       0.07086614, 0.42913386, 0.16141732, 0.18897638, 0.16141732,\n",
       "       0.        , 0.        , 0.2007874 , 0.        , 0.        ,\n",
       "       0.        , 0.        , 0.        , 0.        , 0.        ,\n",
       "       0.        , 0.        , 0.        , 0.14173228, 0.5984252 ,\n",
       "       0.01968504, 0.46850394, 0.0511811 , 0.72047244, 0.01181102,\n",
       "       0.12992126, 1.3503937 , 0.14173228, 0.        , 0.        ,\n",
       "       0.        , 0.        , 0.03149606, 0.11811024, 0.29133858,\n",
       "       0.        , 0.35826772, 0.38976378, 0.51181102, 0.27165354,\n",
       "       0.        , 0.        , 0.        , 0.        , 0.        ,\n",
       "       0.11023622, 0.51181102, 0.11811024, 0.77165354, 0.        ,\n",
       "       0.        , 0.81102362, 0.20866142, 0.        , 0.        ,\n",
       "       0.12992126, 0.16141732, 0.        , 0.        , 0.        ])"
      ]
     },
     "execution_count": 292,
     "metadata": {},
     "output_type": "execute_result"
    }
   ],
   "source": [
    "inch"
   ]
  },
  {
   "cell_type": "code",
   "execution_count": 293,
   "metadata": {},
   "outputs": [
    {
     "data": {
      "text/plain": [
       "(array([75., 26., 19., 13.,  9.,  3.,  2.,  2.,  0.,  1.]),\n",
       " array([0.01181102, 0.19448819, 0.37716535, 0.55984252, 0.74251969,\n",
       "        0.92519685, 1.10787402, 1.29055118, 1.47322835, 1.65590551,\n",
       "        1.83858268]),\n",
       " <a list of 10 Patch objects>)"
      ]
     },
     "execution_count": 293,
     "metadata": {},
     "output_type": "execute_result"
    },
    {
     "data": {
      "image/png": "[encoded data removed]",
      "text/plain": [
       "<Figure size 432x288 with 1 Axes>"
      ]
     },
     "metadata": {},
     "output_type": "display_data"
    }
   ],
   "source": [
    "plt.hist(inch[inch>0])\n"
   ]
  },
  {
   "cell_type": "code",
   "execution_count": 294,
   "metadata": {},
   "outputs": [
    {
     "data": {
      "text/plain": [
       "0.1329737892352497"
      ]
     },
     "execution_count": 294,
     "metadata": {},
     "output_type": "execute_result"
    }
   ],
   "source": [
    "inch.mean()"
   ]
  },
  {
   "cell_type": "code",
   "execution_count": 295,
   "metadata": {},
   "outputs": [
    {
     "data": {
      "text/plain": [
       "1.8385826771653544"
      ]
     },
     "execution_count": 295,
     "metadata": {},
     "output_type": "execute_result"
    }
   ],
   "source": [
    "inch.max()"
   ]
  },
  {
   "cell_type": "code",
   "execution_count": 296,
   "metadata": {},
   "outputs": [
    {
     "data": {
      "text/plain": [
       "array([0.        , 0.        , 0.        , 0.        , 0.        ,\n",
       "       0.        , 0.        , 0.        , 0.        , 0.        ,\n",
       "       0.        , 0.        , 0.        , 0.        , 0.        ,\n",
       "       0.        , 0.        , 0.        , 0.        , 0.        ,\n",
       "       0.        , 0.        , 0.        , 0.        , 0.        ,\n",
       "       0.        , 0.        , 0.        , 0.        , 0.        ,\n",
       "       0.        , 0.        , 0.        , 0.        , 0.        ,\n",
       "       0.        , 0.        , 0.        , 0.        , 0.        ,\n",
       "       0.        , 0.        , 0.        , 0.        , 0.        ,\n",
       "       0.        , 0.        , 0.        , 0.        , 0.        ,\n",
       "       0.        , 0.        , 0.        , 0.        , 0.        ,\n",
       "       0.        , 0.        , 0.        , 0.        , 0.        ,\n",
       "       0.        , 0.        , 0.        , 0.        , 0.        ,\n",
       "       0.        , 0.        , 0.        , 0.        , 0.        ,\n",
       "       0.        , 0.        , 0.        , 0.        , 0.        ,\n",
       "       0.        , 0.        , 0.        , 0.        , 0.        ,\n",
       "       0.        , 0.        , 0.        , 0.        , 0.        ,\n",
       "       0.        , 0.        , 0.        , 0.        , 0.        ,\n",
       "       0.        , 0.        , 0.        , 0.        , 0.        ,\n",
       "       0.        , 0.        , 0.        , 0.        , 0.        ,\n",
       "       0.        , 0.        , 0.        , 0.        , 0.        ,\n",
       "       0.        , 0.        , 0.        , 0.        , 0.        ,\n",
       "       0.        , 0.        , 0.        , 0.        , 0.        ,\n",
       "       0.        , 0.        , 0.        , 0.        , 0.        ,\n",
       "       0.        , 0.        , 0.        , 0.        , 0.        ,\n",
       "       0.        , 0.        , 0.        , 0.        , 0.        ,\n",
       "       0.        , 0.        , 0.        , 0.        , 0.        ,\n",
       "       0.        , 0.        , 0.        , 0.        , 0.        ,\n",
       "       0.        , 0.        , 0.        , 0.        , 0.        ,\n",
       "       0.        , 0.        , 0.        , 0.        , 0.        ,\n",
       "       0.        , 0.        , 0.        , 0.        , 0.        ,\n",
       "       0.        , 0.        , 0.        , 0.        , 0.        ,\n",
       "       0.        , 0.        , 0.        , 0.        , 0.        ,\n",
       "       0.        , 0.        , 0.        , 0.        , 0.        ,\n",
       "       0.        , 0.        , 0.        , 0.        , 0.        ,\n",
       "       0.        , 0.        , 0.        , 0.        , 0.        ,\n",
       "       0.        , 0.        , 0.        , 0.        , 0.        ,\n",
       "       0.        , 0.        , 0.        , 0.        , 0.        ,\n",
       "       0.        , 0.        , 0.        , 0.        , 0.        ,\n",
       "       0.        , 0.        , 0.        , 0.        , 0.        ,\n",
       "       0.        , 0.        , 0.        , 0.        , 0.        ,\n",
       "       0.        , 0.        , 0.        , 0.        , 0.        ,\n",
       "       0.        , 0.        , 0.        , 0.        , 0.        ,\n",
       "       0.01181102, 0.01181102, 0.01181102, 0.01181102, 0.01181102,\n",
       "       0.01181102, 0.01181102, 0.01181102, 0.01181102, 0.01181102,\n",
       "       0.01968504, 0.01968504, 0.01968504, 0.01968504, 0.01968504,\n",
       "       0.01968504, 0.01968504, 0.01968504, 0.01968504, 0.01968504,\n",
       "       0.01968504, 0.01968504, 0.01968504, 0.03149606, 0.03149606,\n",
       "       0.03149606, 0.03149606, 0.03937008, 0.03937008, 0.03937008,\n",
       "       0.0511811 , 0.0511811 , 0.0511811 , 0.05905512, 0.05905512,\n",
       "       0.05905512, 0.07086614, 0.07086614, 0.07086614, 0.07086614,\n",
       "       0.07874016, 0.07874016, 0.09055118, 0.09055118, 0.0984252 ,\n",
       "       0.0984252 , 0.11023622, 0.11023622, 0.11811024, 0.11811024,\n",
       "       0.11811024, 0.11811024, 0.11811024, 0.12992126, 0.12992126,\n",
       "       0.12992126, 0.12992126, 0.14173228, 0.14173228, 0.14173228,\n",
       "       0.14173228, 0.1496063 , 0.16141732, 0.16141732, 0.16141732,\n",
       "       0.16141732, 0.16141732, 0.16141732, 0.16929134, 0.16929134,\n",
       "       0.16929134, 0.18110236, 0.18110236, 0.18110236, 0.18897638,\n",
       "       0.2007874 , 0.2007874 , 0.2007874 , 0.2007874 , 0.20866142,\n",
       "       0.22047244, 0.22834646, 0.24015748, 0.24015748, 0.2519685 ,\n",
       "       0.27165354, 0.27165354, 0.27165354, 0.27952756, 0.29133858,\n",
       "       0.29133858, 0.2992126 , 0.31889764, 0.33070866, 0.33858268,\n",
       "       0.3503937 , 0.3503937 , 0.3503937 , 0.35826772, 0.37007874,\n",
       "       0.37007874, 0.38188976, 0.38976378, 0.42125984, 0.42913386,\n",
       "       0.42913386, 0.46062992, 0.46062992, 0.46850394, 0.48031496,\n",
       "       0.48818898, 0.5       , 0.5       , 0.51181102, 0.51181102,\n",
       "       0.51181102, 0.53937008, 0.53937008, 0.5511811 , 0.55905512,\n",
       "       0.57086614, 0.59055118, 0.5984252 , 0.5984252 , 0.62992126,\n",
       "       0.6496063 , 0.66929134, 0.66929134, 0.72047244, 0.72047244,\n",
       "       0.72047244, 0.72834646, 0.74015748, 0.7519685 , 0.75984252,\n",
       "       0.77165354, 0.7992126 , 0.81102362, 0.83858268, 0.8503937 ,\n",
       "       0.8503937 , 0.87007874, 1.        , 1.03937008, 1.09055118,\n",
       "       1.25984252, 1.27165354, 1.31102362, 1.3503937 , 1.83858268])"
      ]
     },
     "execution_count": 296,
     "metadata": {},
     "output_type": "execute_result"
    }
   ],
   "source": [
    "inch.sort()\n",
    "inch"
   ]
  },
  {
   "cell_type": "code",
   "execution_count": 297,
   "metadata": {},
   "outputs": [
    {
     "data": {
      "text/plain": [
       "0.011811023622047244"
      ]
     },
     "execution_count": 297,
     "metadata": {},
     "output_type": "execute_result"
    }
   ],
   "source": [
    "inch[inch>0].min() #minimum value greater then 0"
   ]
  },
  {
   "cell_type": "code",
   "execution_count": 298,
   "metadata": {},
   "outputs": [
    {
     "data": {
      "text/plain": [
       "1.8385826771653544"
      ]
     },
     "execution_count": 298,
     "metadata": {},
     "output_type": "execute_result"
    }
   ],
   "source": [
    "inch.max() #highest"
   ]
  },
  {
   "cell_type": "code",
   "execution_count": 299,
   "metadata": {},
   "outputs": [
    {
     "data": {
      "text/plain": [
       "1.3503937007874016"
      ]
     },
     "execution_count": 299,
     "metadata": {},
     "output_type": "execute_result"
    }
   ],
   "source": [
    "inch[inch<(inch.max())].max() #second highest"
   ]
  },
  {
   "cell_type": "code",
   "execution_count": 300,
   "metadata": {},
   "outputs": [
    {
     "data": {
      "text/plain": [
       "1.311023622047244"
      ]
     },
     "execution_count": 300,
     "metadata": {},
     "output_type": "execute_result"
    }
   ],
   "source": [
    "inch[inch< (inch[inch<(inch.max())].max())].max() #third highest"
   ]
  },
  {
   "cell_type": "code",
   "execution_count": 301,
   "metadata": {},
   "outputs": [],
   "source": [
    "new=np.unique(inch)"
   ]
  },
  {
   "cell_type": "code",
   "execution_count": 302,
   "metadata": {},
   "outputs": [
    {
     "data": {
      "text/plain": [
       "array([0.        , 0.01181102, 0.01968504, 0.03149606, 0.03937008,\n",
       "       0.0511811 , 0.05905512, 0.07086614, 0.07874016, 0.09055118,\n",
       "       0.0984252 , 0.11023622, 0.11811024, 0.12992126, 0.14173228,\n",
       "       0.1496063 , 0.16141732, 0.16929134, 0.18110236, 0.18897638,\n",
       "       0.2007874 , 0.20866142, 0.22047244, 0.22834646, 0.24015748,\n",
       "       0.2519685 , 0.27165354, 0.27952756, 0.29133858, 0.2992126 ,\n",
       "       0.31889764, 0.33070866, 0.33858268, 0.3503937 , 0.35826772,\n",
       "       0.37007874, 0.38188976, 0.38976378, 0.42125984, 0.42913386,\n",
       "       0.46062992, 0.46850394, 0.48031496, 0.48818898, 0.5       ,\n",
       "       0.51181102, 0.53937008, 0.5511811 , 0.55905512, 0.57086614,\n",
       "       0.59055118, 0.5984252 , 0.62992126, 0.6496063 , 0.66929134,\n",
       "       0.72047244, 0.72834646, 0.74015748, 0.7519685 , 0.75984252,\n",
       "       0.77165354, 0.7992126 , 0.81102362, 0.83858268, 0.8503937 ,\n",
       "       0.87007874, 1.        , 1.03937008, 1.09055118, 1.25984252,\n",
       "       1.27165354, 1.31102362, 1.3503937 , 1.83858268])"
      ]
     },
     "execution_count": 302,
     "metadata": {},
     "output_type": "execute_result"
    }
   ],
   "source": [
    "new.sort()\n",
    "new"
   ]
  },
  {
   "cell_type": "code",
   "execution_count": 303,
   "metadata": {},
   "outputs": [
    {
     "data": {
      "text/plain": [
       "1.3503937007874016"
      ]
     },
     "execution_count": 303,
     "metadata": {},
     "output_type": "execute_result"
    }
   ],
   "source": [
    "new[-2]"
   ]
  },
  {
   "cell_type": "code",
   "execution_count": 304,
   "metadata": {},
   "outputs": [
    {
     "data": {
      "text/plain": [
       "array([0.0511811, 0.0984252, 0.1496063])"
      ]
     },
     "execution_count": 304,
     "metadata": {},
     "output_type": "execute_result"
    }
   ],
   "source": [
    "indexes=[5, 10, 15] #fancy indexing\n",
    "new[indexes]"
   ]
  },
  {
   "cell_type": "code",
   "execution_count": 305,
   "metadata": {},
   "outputs": [
    {
     "data": {
      "text/plain": [
       "array([[0.0511811, 0.0984252],\n",
       "       [0.1496063, 0.2007874]])"
      ]
     },
     "execution_count": 305,
     "metadata": {},
     "output_type": "execute_result"
    }
   ],
   "source": [
    "indexes=np.array([[5, 10],[15, 20]]) #have to create a multidimensional array supported by numpy\n",
    "new[indexes]"
   ]
  },
  {
   "cell_type": "code",
   "execution_count": 306,
   "metadata": {},
   "outputs": [
    {
     "data": {
      "text/plain": [
       "array([0.        , 1.83858268, 0.5984252 ])"
      ]
     },
     "execution_count": 306,
     "metadata": {},
     "output_type": "execute_result"
    }
   ],
   "source": [
    "indexes=[0, -1, -23] #one more onedimensional\n",
    "new[indexes]"
   ]
  },
  {
   "cell_type": "code",
   "execution_count": 307,
   "metadata": {},
   "outputs": [
    {
     "data": {
      "text/plain": [
       "array([[0.81076511, 0.28586873, 0.19758731, 0.52043753],\n",
       "       [0.93386071, 0.07941688, 0.82802823, 0.74297111],\n",
       "       [0.69128398, 0.85948172, 0.89007643, 0.58510141]])"
      ]
     },
     "execution_count": 307,
     "metadata": {},
     "output_type": "execute_result"
    }
   ],
   "source": [
    "data=np.random.random([3, 4])\n",
    "data"
   ]
  },
  {
   "cell_type": "code",
   "execution_count": 308,
   "metadata": {},
   "outputs": [
    {
     "name": "stderr",
     "output_type": "stream",
     "text": [
      "/home/ubuntu/anaconda3/lib/python3.7/site-packages/ipykernel_launcher.py:2: FutureWarning: Using a non-tuple sequence for multidimensional indexing is deprecated; use `arr[tuple(seq)]` instead of `arr[seq]`. In the future this will be interpreted as an array index, `arr[np.array(seq)]`, which will result either in an error or a different result.\n",
      "  \n"
     ]
    },
    {
     "data": {
      "text/plain": [
       "array([0.85948172, 0.58510141])"
      ]
     },
     "execution_count": 308,
     "metadata": {},
     "output_type": "execute_result"
    }
   ],
   "source": [
    "indexes=[[2,2], [1,3]] #supported but depricated\n",
    "data[indexes]"
   ]
  },
  {
   "cell_type": "code",
   "execution_count": 309,
   "metadata": {},
   "outputs": [
    {
     "data": {
      "text/plain": [
       "array([0.28586873, 0.82802823, 0.58510141])"
      ]
     },
     "execution_count": 309,
     "metadata": {},
     "output_type": "execute_result"
    }
   ],
   "source": [
    "row=[0,1,2] #fully supported\n",
    "col=[1,2,3]\n",
    "data[row, col]"
   ]
  },
  {
   "cell_type": "code",
   "execution_count": 310,
   "metadata": {},
   "outputs": [
    {
     "data": {
      "text/plain": [
       "array([0.07941688, 0.82802823, 0.74297111])"
      ]
     },
     "execution_count": 310,
     "metadata": {},
     "output_type": "execute_result"
    }
   ],
   "source": [
    "data[1, [1,2,3]] #merged operation"
   ]
  },
  {
   "cell_type": "code",
   "execution_count": 311,
   "metadata": {},
   "outputs": [
    {
     "data": {
      "text/plain": [
       "array([[0.85948172, 0.89007643]])"
      ]
     },
     "execution_count": 311,
     "metadata": {},
     "output_type": "execute_result"
    }
   ],
   "source": [
    "data[2:, [1,2]] #with slicing"
   ]
  },
  {
   "cell_type": "code",
   "execution_count": 312,
   "metadata": {},
   "outputs": [
    {
     "data": {
      "text/plain": [
       "array([[-4.05992582e-01, -1.12980900e+00],\n",
       "       [-1.18122448e+00, -1.20321251e+00],\n",
       "       [ 3.05929845e-01,  4.85151964e-01],\n",
       "       [-1.75268695e+00, -3.40069525e+00],\n",
       "       [ 2.26109036e-01,  1.13313826e+00],\n",
       "       [ 6.06369182e-01,  9.59802450e-01],\n",
       "       [ 5.08636661e-01, -8.42962089e-01],\n",
       "       [ 1.80879440e+00,  3.75820034e+00],\n",
       "       [ 8.15476694e-01,  2.30887376e+00],\n",
       "       [ 1.37937009e+00,  1.80142746e+00],\n",
       "       [-1.26768205e+00, -3.30483370e+00],\n",
       "       [ 4.82839600e-01, -3.76458413e-01],\n",
       "       [ 4.60495820e-01,  1.23179700e+00],\n",
       "       [ 9.19606001e-01,  2.62677788e+00],\n",
       "       [ 6.66544157e-01,  1.29345291e+00],\n",
       "       [-1.52931750e-01,  1.63568156e+00],\n",
       "       [ 4.17238258e-01, -1.37555797e-01],\n",
       "       [-2.92735771e-01, -2.02815831e+00],\n",
       "       [ 5.56968489e-01, -7.76490778e-01],\n",
       "       [ 1.15174837e+00,  2.99364761e+00],\n",
       "       [-7.47833961e-01, -1.61994320e+00],\n",
       "       [ 2.22072477e-01,  2.10218094e-01],\n",
       "       [ 1.64144866e+00,  3.18365385e+00],\n",
       "       [ 2.10315704e-02,  1.19499555e+00],\n",
       "       [ 3.57224353e-01, -1.04588503e+00],\n",
       "       [-1.52049937e-01, -7.83891078e-01],\n",
       "       [ 3.91315999e-01,  1.60679404e+00],\n",
       "       [-1.30890483e+00, -2.15196545e+00],\n",
       "       [ 8.93666346e-01,  1.82281235e+00],\n",
       "       [-6.79372462e-01, -5.84227775e-01],\n",
       "       [ 5.13747885e-01,  1.03934128e+00],\n",
       "       [ 1.47988870e+00,  2.27800264e+00],\n",
       "       [-1.26968657e+00, -1.59731090e+00],\n",
       "       [-3.17506736e-01,  3.19687112e-01],\n",
       "       [-8.72314798e-02, -9.08868012e-01],\n",
       "       [-9.22467115e-01, -5.62273838e-01],\n",
       "       [-5.65664260e-01,  3.27923760e-01],\n",
       "       [ 2.10580041e+00,  5.97347277e+00],\n",
       "       [ 3.40041545e-02, -2.41549933e-01],\n",
       "       [ 6.75833791e-01, -5.19721987e-01],\n",
       "       [ 6.62892964e-02,  5.46572381e-01],\n",
       "       [-1.16706263e+00, -3.37851008e+00],\n",
       "       [ 9.38964800e-01,  1.72376364e+00],\n",
       "       [-9.71528884e-01, -1.98964057e+00],\n",
       "       [ 2.93015666e-01,  1.26295906e+00],\n",
       "       [-4.60372351e-01, -6.29833900e-02],\n",
       "       [ 7.74003359e-01,  1.51395046e+00],\n",
       "       [ 9.22323621e-01,  6.42589030e-01],\n",
       "       [-3.73480991e-01, -6.19098683e-01],\n",
       "       [ 8.50483915e-02, -4.85903033e-02],\n",
       "       [ 1.46860606e+00,  3.09022544e+00],\n",
       "       [ 6.23645146e-01,  6.37233912e-01],\n",
       "       [-5.61500084e-03,  4.23785685e-01],\n",
       "       [-1.80941659e+00, -4.17935640e+00],\n",
       "       [-2.09456316e-01, -5.86251957e-01],\n",
       "       [ 1.78285987e+00,  4.27550608e+00],\n",
       "       [-9.98287405e-01,  2.56115059e-01],\n",
       "       [ 6.23211862e-02,  4.76849144e-01],\n",
       "       [ 4.79303216e-01, -1.07827667e-01],\n",
       "       [-1.34358292e+00, -2.42980966e+00],\n",
       "       [-3.82810713e-01, -1.90850070e+00],\n",
       "       [-7.59547776e-01, -3.35106320e+00],\n",
       "       [-1.38043633e+00, -9.61736037e-01],\n",
       "       [ 1.13184900e+00,  2.11956895e+00],\n",
       "       [ 1.00605935e-01, -3.02073909e-01],\n",
       "       [ 1.40638829e+00,  3.46953372e+00],\n",
       "       [ 8.00204682e-01,  2.44447775e+00],\n",
       "       [ 2.56303014e-01,  2.29640712e+00],\n",
       "       [ 8.46879292e-01,  1.69595060e+00],\n",
       "       [-2.80560525e-01, -2.00961096e+00],\n",
       "       [-7.10367454e-01, -3.00137619e-01],\n",
       "       [ 1.41446454e+00,  3.61466573e+00],\n",
       "       [-5.39291055e-01, -4.55724799e-01],\n",
       "       [ 1.64811031e+00,  2.54963833e+00],\n",
       "       [-5.95862244e-01, -1.11708482e+00],\n",
       "       [-3.64005207e-01, -5.03793469e-01],\n",
       "       [ 5.39381280e-01,  1.55357119e+00],\n",
       "       [ 2.60679294e-03, -7.66915048e-01],\n",
       "       [-1.90507889e+00, -4.08639424e+00],\n",
       "       [ 8.49368730e-01,  2.76120601e+00],\n",
       "       [ 5.99284208e-01,  2.29873430e+00],\n",
       "       [-7.56341215e-01, -2.71426936e+00],\n",
       "       [-1.04800791e+00, -2.08332405e+00],\n",
       "       [-1.48535581e+00, -1.53289220e+00],\n",
       "       [ 5.15151400e-01,  4.27847352e-01],\n",
       "       [ 1.13400126e+00,  1.85469452e+00],\n",
       "       [-5.93205174e-02,  2.26047839e-01],\n",
       "       [-5.72178291e-01, -4.86023894e-01],\n",
       "       [-5.68255591e-01,  2.01403592e-01],\n",
       "       [-7.96452642e-01,  1.02148312e+00],\n",
       "       [-2.50021261e-01, -1.53138537e+00],\n",
       "       [ 8.04741461e-01,  2.46504213e+00],\n",
       "       [-6.67834661e-02,  6.11599016e-01],\n",
       "       [-4.09344137e-01, -1.06707361e+00],\n",
       "       [ 1.36204232e+00,  1.64860222e+00],\n",
       "       [ 8.47963951e-02,  1.13167598e+00],\n",
       "       [ 2.78926763e-01, -6.74989163e-01],\n",
       "       [-3.07452890e-01, -3.25192411e-01],\n",
       "       [ 7.57749744e-01,  1.99576056e+00],\n",
       "       [ 3.83617953e-01, -3.11006470e-01]])"
      ]
     },
     "execution_count": 312,
     "metadata": {},
     "output_type": "execute_result"
    }
   ],
   "source": [
    "mean = [0, 0]\n",
    "cov = [[1, 2],\n",
    "[2, 5]]\n",
    "rand = np.random.RandomState(42)\n",
    "X = rand.multivariate_normal(mean, cov, 100)\n",
    "X"
   ]
  },
  {
   "cell_type": "code",
   "execution_count": 313,
   "metadata": {},
   "outputs": [],
   "source": [
    "data=[]\n",
    "for _ in range(1, 500):\n",
    "    arr=np.random.randint(1, 7, [1000000])\n",
    "    data.append(arr.mean())"
   ]
  },
  {
   "cell_type": "code",
   "execution_count": 314,
   "metadata": {},
   "outputs": [
    {
     "data": {
      "text/plain": [
       "1.7067709596967016"
      ]
     },
     "execution_count": 314,
     "metadata": {},
     "output_type": "execute_result"
    }
   ],
   "source": [
    "arr.std()"
   ]
  },
  {
   "cell_type": "code",
   "execution_count": 315,
   "metadata": {},
   "outputs": [
    {
     "data": {
      "text/plain": [
       "3.500944"
      ]
     },
     "execution_count": 315,
     "metadata": {},
     "output_type": "execute_result"
    }
   ],
   "source": [
    "arr.mean()"
   ]
  },
  {
   "cell_type": "code",
   "execution_count": 316,
   "metadata": {},
   "outputs": [
    {
     "data": {
      "text/plain": [
       "<matplotlib.collections.PathCollection at 0x7f6a45fbed50>"
      ]
     },
     "execution_count": 316,
     "metadata": {},
     "output_type": "execute_result"
    },
    {
     "data": {
      "image/png": "[encoded data removed]",
      "text/plain": [
       "<Figure size 432x288 with 1 Axes>"
      ]
     },
     "metadata": {},
     "output_type": "display_data"
    }
   ],
   "source": [
    "plt.scatter(data, np.arange(1,500))"
   ]
  },
  {
   "cell_type": "code",
   "execution_count": 317,
   "metadata": {},
   "outputs": [
    {
     "data": {
      "text/plain": [
       "3.500108114228457"
      ]
     },
     "execution_count": 317,
     "metadata": {},
     "output_type": "execute_result"
    }
   ],
   "source": [
    "np.mean(data)"
   ]
  },
  {
   "cell_type": "code",
   "execution_count": 318,
   "metadata": {},
   "outputs": [
    {
     "data": {
      "text/plain": [
       "3.5"
      ]
     },
     "execution_count": 318,
     "metadata": {},
     "output_type": "execute_result"
    }
   ],
   "source": [
    "(np.arange(1, 7)*(1/6)).sum() #functional derivation "
   ]
  },
  {
   "cell_type": "code",
   "execution_count": 319,
   "metadata": {},
   "outputs": [
    {
     "data": {
      "text/plain": [
       "1.4142135623730951"
      ]
     },
     "execution_count": 319,
     "metadata": {},
     "output_type": "execute_result"
    }
   ],
   "source": [
    "np.arange(1, 6).std()"
   ]
  },
  {
   "cell_type": "code",
   "execution_count": 320,
   "metadata": {},
   "outputs": [],
   "source": [
    "import numpy as np\n",
    "rand=np.random.RandomState(42)"
   ]
  },
  {
   "cell_type": "code",
   "execution_count": 321,
   "metadata": {},
   "outputs": [
    {
     "data": {
      "text/plain": [
       "array([ 2, 12, 63, 86, 46, 60, 75, 68, 28, 89, 56, 70, 45, 82, 43, 93, 25,\n",
       "       51, 13, 32])"
      ]
     },
     "execution_count": 321,
     "metadata": {},
     "output_type": "execute_result"
    }
   ],
   "source": [
    "selection=np.random.choice(100, 20, replace=False)\n",
    "selection"
   ]
  },
  {
   "cell_type": "code",
   "execution_count": 322,
   "metadata": {},
   "outputs": [
    {
     "data": {
      "text/plain": [
       "array([ 62,  87,  70, 140,   5, 136, 101,  40,  36, 102,  86, 165, 162,\n",
       "        45, 198,  51, 188, 186,  58, 115, 136,  22, 167, 164, 119,  31,\n",
       "        53,  87, 154,  96, 179,  61,  25, 120,  85,  86, 191, 190,  99,\n",
       "         5, 112, 120, 187,  10,  83, 134,  87, 180, 162, 124, 124, 184,\n",
       "       176, 140,   6, 199,  88, 109,  72,  56,  69,  80, 186, 196, 164,\n",
       "        76, 198, 151, 183, 151,  54, 149,  45, 142, 117, 186, 146,  44,\n",
       "        90, 104,  83,  59,  82,  33,  67, 150, 113, 135,  11,  57, 104,\n",
       "        19, 125, 115, 171,  32, 109,  27, 131, 124, 186])"
      ]
     },
     "execution_count": 322,
     "metadata": {},
     "output_type": "execute_result"
    }
   ],
   "source": [
    "data=np.random.randint(200, size=101)\n",
    "data"
   ]
  },
  {
   "cell_type": "code",
   "execution_count": 323,
   "metadata": {},
   "outputs": [
    {
     "data": {
      "text/plain": [
       "array([ 70, 162, 196, 113,  87,  69, 186, 183, 154,  57,  88,  54, 134,\n",
       "        82,  10, 115,  31, 184,  45,  25])"
      ]
     },
     "execution_count": 323,
     "metadata": {},
     "output_type": "execute_result"
    }
   ],
   "source": [
    "data[selection] #fancy selecction with array indexer"
   ]
  },
  {
   "cell_type": "code",
   "execution_count": 324,
   "metadata": {},
   "outputs": [
    {
     "data": {
      "text/plain": [
       "array([  0,   1,   2,   3,   4,   5,   6,   7,   8,   9,  10,  11,  12,\n",
       "        13,  14,  15,  16,  17,  18,  19,  20,  21,  22,  23,  24,  25,\n",
       "        26,  27,  28,  29,  30,  31,  32,  33,  34,  35,  36,  37,  38,\n",
       "        39,  40,  41,  42,  43,  44,  45,  46,  47,  48,  49,  50,  51,\n",
       "        52,  53,  54,  55,  56,  57,  58,  59,  60,  61,  62,  63,  64,\n",
       "        65,  66,  67,  68,  69,  70,  71,  72,  73,  74,  75,  76,  77,\n",
       "        78,  79,  80,  81,  82,  83,  84,  85,  86,  87,  88,  89,  90,\n",
       "        91,  92,  93,  94,  95,  96,  97,  98,  99, 100])"
      ]
     },
     "execution_count": 324,
     "metadata": {},
     "output_type": "execute_result"
    }
   ],
   "source": [
    "index=np.arange(101)\n",
    "index"
   ]
  },
  {
   "cell_type": "code",
   "execution_count": 325,
   "metadata": {},
   "outputs": [
    {
     "data": {
      "text/plain": [
       "array([ 62,  87,  70, 140,   5, 136, 101,  40,  36, 102,  86, 165, 162,\n",
       "        45, 198,  51, 188, 186,  58, 115, 136,  22, 167, 164, 119,  31,\n",
       "        53,  87, 154,  96, 179,  61,  25, 120,  85,  86, 191, 190,  99,\n",
       "         5, 112, 120, 187,  10,  83, 134,  87, 180, 162, 124, 124, 184,\n",
       "       176, 140,   6, 199,  88, 109,  72,  56,  69,  80, 186, 196, 164,\n",
       "        76, 198, 151, 183, 151,  54, 149,  45, 142, 117, 186, 146,  44,\n",
       "        90, 104,  83,  59,  82,  33,  67, 150, 113, 135,  11,  57, 104,\n",
       "        19, 125, 115, 171,  32, 109,  27, 131, 124, 186])"
      ]
     },
     "execution_count": 325,
     "metadata": {},
     "output_type": "execute_result"
    }
   ],
   "source": [
    "data"
   ]
  },
  {
   "cell_type": "code",
   "execution_count": 326,
   "metadata": {},
   "outputs": [
    {
     "data": {
      "text/plain": [
       "[array([ 62,  87,  70, 140,   5, 136, 101,  40,  36, 102,  86, 165, 162,\n",
       "         45, 198,  51, 188, 186,  58, 115, 136,  22, 167, 164, 119,  31,\n",
       "         53,  87, 154,  96, 179,  61,  25, 120,  85,  86, 191, 190,  99,\n",
       "          5, 112, 120, 187,  10,  83, 134,  87, 180, 162, 124, 124, 184,\n",
       "        176, 140,   6, 199,  88, 109,  72,  56,  69,  80, 186, 196, 164,\n",
       "         76, 198, 151, 183, 151,  54, 149,  45, 142, 117, 186, 146,  44,\n",
       "         90, 104,  83,  59,  82,  33,  67, 150, 113, 135,  11,  57, 104,\n",
       "         19, 125, 115, 171,  32, 109,  27, 131, 124, 186]),\n",
       " array([  0,   1,   2,   3,   4,   5,   6,   7,   8,   9,  10,  11,  12,\n",
       "         13,  14,  15,  16,  17,  18,  19,  20,  21,  22,  23,  24,  25,\n",
       "         26,  27,  28,  29,  30,  31,  32,  33,  34,  35,  36,  37,  38,\n",
       "         39,  40,  41,  42,  43,  44,  45,  46,  47,  48,  49,  50,  51,\n",
       "         52,  53,  54,  55,  56,  57,  58,  59,  60,  61,  62,  63,  64,\n",
       "         65,  66,  67,  68,  69,  70,  71,  72,  73,  74,  75,  76,  77,\n",
       "         78,  79,  80,  81,  82,  83,  84,  85,  86,  87,  88,  89,  90,\n",
       "         91,  92,  93,  94,  95,  96,  97,  98,  99, 100])]"
      ]
     },
     "execution_count": 326,
     "metadata": {},
     "output_type": "execute_result"
    }
   ],
   "source": [
    "data=([data, index])\n",
    "data"
   ]
  },
  {
   "cell_type": "code",
   "execution_count": 336,
   "metadata": {},
   "outputs": [
    {
     "data": {
      "text/plain": [
       "<matplotlib.collections.PathCollection at 0x7f6a45a9a490>"
      ]
     },
     "execution_count": 336,
     "metadata": {},
     "output_type": "execute_result"
    },
    {
     "data": {
      "image/png": "[encoded data removed]",
      "text/plain": [
       "<Figure size 432x288 with 1 Axes>"
      ]
     },
     "metadata": {},
     "output_type": "display_data"
    }
   ],
   "source": [
    "plt.scatter(data[1], data[0])\n",
    "plt.scatter(data[1][selection], data[0][selection], s=200, alpha=0.3)"
   ]
  }
 ],
 "metadata": {
  "kernelspec": {
   "display_name": "Python 3",
   "language": "python",
   "name": "python3"
  },
  "language_info": {
   "codemirror_mode": {
    "name": "ipython",
    "version": 3
   },
   "file_extension": ".py",
   "mimetype": "text/x-python",
   "name": "python",
   "nbconvert_exporter": "python",
   "pygments_lexer": "ipython3",
   "version": "3.7.6"
  }
 },
 "nbformat": 4,
 "nbformat_minor": 4
}
