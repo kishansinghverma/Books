{
 "cells": [
  {
   "cell_type": "code",
   "execution_count": 77,
   "metadata": {},
   "outputs": [],
   "source": [
    "import pandas as pd\n",
    "df=pd.read_csv(\"Datasets/movies.csv\")"
   ]
  },
  {
   "cell_type": "code",
   "execution_count": 78,
   "metadata": {},
   "outputs": [
    {
     "data": {
      "text/html": [
       "<div>\n",
       "<style scoped>\n",
       "    .dataframe tbody tr th:only-of-type {\n",
       "        vertical-align: middle;\n",
       "    }\n",
       "\n",
       "    .dataframe tbody tr th {\n",
       "        vertical-align: top;\n",
       "    }\n",
       "\n",
       "    .dataframe thead th {\n",
       "        text-align: right;\n",
       "    }\n",
       "</style>\n",
       "<table border=\"1\" class=\"dataframe\">\n",
       "  <thead>\n",
       "    <tr style=\"text-align: right;\">\n",
       "      <th></th>\n",
       "      <th>star_rating</th>\n",
       "      <th>title</th>\n",
       "      <th>content_rating</th>\n",
       "      <th>genre</th>\n",
       "      <th>duration</th>\n",
       "      <th>actors_list</th>\n",
       "    </tr>\n",
       "  </thead>\n",
       "  <tbody>\n",
       "    <tr>\n",
       "      <th>0</th>\n",
       "      <td>9.3</td>\n",
       "      <td>The Shawshank Redemption</td>\n",
       "      <td>R</td>\n",
       "      <td>Crime</td>\n",
       "      <td>142</td>\n",
       "      <td>[u'Tim Robbins', u'Morgan Freeman', u'Bob Gunt...</td>\n",
       "    </tr>\n",
       "    <tr>\n",
       "      <th>1</th>\n",
       "      <td>9.2</td>\n",
       "      <td>The Godfather</td>\n",
       "      <td>R</td>\n",
       "      <td>Crime</td>\n",
       "      <td>175</td>\n",
       "      <td>[u'Marlon Brando', u'Al Pacino', u'James Caan']</td>\n",
       "    </tr>\n",
       "    <tr>\n",
       "      <th>2</th>\n",
       "      <td>9.1</td>\n",
       "      <td>The Godfather: Part II</td>\n",
       "      <td>R</td>\n",
       "      <td>Crime</td>\n",
       "      <td>200</td>\n",
       "      <td>[u'Al Pacino', u'Robert De Niro', u'Robert Duv...</td>\n",
       "    </tr>\n",
       "    <tr>\n",
       "      <th>3</th>\n",
       "      <td>9.0</td>\n",
       "      <td>The Dark Knight</td>\n",
       "      <td>PG-13</td>\n",
       "      <td>Action</td>\n",
       "      <td>152</td>\n",
       "      <td>[u'Christian Bale', u'Heath Ledger', u'Aaron E...</td>\n",
       "    </tr>\n",
       "    <tr>\n",
       "      <th>4</th>\n",
       "      <td>8.9</td>\n",
       "      <td>Pulp Fiction</td>\n",
       "      <td>R</td>\n",
       "      <td>Crime</td>\n",
       "      <td>154</td>\n",
       "      <td>[u'John Travolta', u'Uma Thurman', u'Samuel L....</td>\n",
       "    </tr>\n",
       "    <tr>\n",
       "      <th>...</th>\n",
       "      <td>...</td>\n",
       "      <td>...</td>\n",
       "      <td>...</td>\n",
       "      <td>...</td>\n",
       "      <td>...</td>\n",
       "      <td>...</td>\n",
       "    </tr>\n",
       "    <tr>\n",
       "      <th>974</th>\n",
       "      <td>7.4</td>\n",
       "      <td>Tootsie</td>\n",
       "      <td>PG</td>\n",
       "      <td>Comedy</td>\n",
       "      <td>116</td>\n",
       "      <td>[u'Dustin Hoffman', u'Jessica Lange', u'Teri G...</td>\n",
       "    </tr>\n",
       "    <tr>\n",
       "      <th>975</th>\n",
       "      <td>7.4</td>\n",
       "      <td>Back to the Future Part III</td>\n",
       "      <td>PG</td>\n",
       "      <td>Adventure</td>\n",
       "      <td>118</td>\n",
       "      <td>[u'Michael J. Fox', u'Christopher Lloyd', u'Ma...</td>\n",
       "    </tr>\n",
       "    <tr>\n",
       "      <th>976</th>\n",
       "      <td>7.4</td>\n",
       "      <td>Master and Commander: The Far Side of the World</td>\n",
       "      <td>PG-13</td>\n",
       "      <td>Action</td>\n",
       "      <td>138</td>\n",
       "      <td>[u'Russell Crowe', u'Paul Bettany', u'Billy Bo...</td>\n",
       "    </tr>\n",
       "    <tr>\n",
       "      <th>977</th>\n",
       "      <td>7.4</td>\n",
       "      <td>Poltergeist</td>\n",
       "      <td>PG</td>\n",
       "      <td>Horror</td>\n",
       "      <td>114</td>\n",
       "      <td>[u'JoBeth Williams', u\"Heather O'Rourke\", u'Cr...</td>\n",
       "    </tr>\n",
       "    <tr>\n",
       "      <th>978</th>\n",
       "      <td>7.4</td>\n",
       "      <td>Wall Street</td>\n",
       "      <td>R</td>\n",
       "      <td>Crime</td>\n",
       "      <td>126</td>\n",
       "      <td>[u'Charlie Sheen', u'Michael Douglas', u'Tamar...</td>\n",
       "    </tr>\n",
       "  </tbody>\n",
       "</table>\n",
       "<p>979 rows × 6 columns</p>\n",
       "</div>"
      ],
      "text/plain": [
       "     star_rating                                            title  \\\n",
       "0            9.3                         The Shawshank Redemption   \n",
       "1            9.2                                    The Godfather   \n",
       "2            9.1                           The Godfather: Part II   \n",
       "3            9.0                                  The Dark Knight   \n",
       "4            8.9                                     Pulp Fiction   \n",
       "..           ...                                              ...   \n",
       "974          7.4                                          Tootsie   \n",
       "975          7.4                      Back to the Future Part III   \n",
       "976          7.4  Master and Commander: The Far Side of the World   \n",
       "977          7.4                                      Poltergeist   \n",
       "978          7.4                                      Wall Street   \n",
       "\n",
       "    content_rating      genre  duration  \\\n",
       "0                R      Crime       142   \n",
       "1                R      Crime       175   \n",
       "2                R      Crime       200   \n",
       "3            PG-13     Action       152   \n",
       "4                R      Crime       154   \n",
       "..             ...        ...       ...   \n",
       "974             PG     Comedy       116   \n",
       "975             PG  Adventure       118   \n",
       "976          PG-13     Action       138   \n",
       "977             PG     Horror       114   \n",
       "978              R      Crime       126   \n",
       "\n",
       "                                           actors_list  \n",
       "0    [u'Tim Robbins', u'Morgan Freeman', u'Bob Gunt...  \n",
       "1      [u'Marlon Brando', u'Al Pacino', u'James Caan']  \n",
       "2    [u'Al Pacino', u'Robert De Niro', u'Robert Duv...  \n",
       "3    [u'Christian Bale', u'Heath Ledger', u'Aaron E...  \n",
       "4    [u'John Travolta', u'Uma Thurman', u'Samuel L....  \n",
       "..                                                 ...  \n",
       "974  [u'Dustin Hoffman', u'Jessica Lange', u'Teri G...  \n",
       "975  [u'Michael J. Fox', u'Christopher Lloyd', u'Ma...  \n",
       "976  [u'Russell Crowe', u'Paul Bettany', u'Billy Bo...  \n",
       "977  [u'JoBeth Williams', u\"Heather O'Rourke\", u'Cr...  \n",
       "978  [u'Charlie Sheen', u'Michael Douglas', u'Tamar...  \n",
       "\n",
       "[979 rows x 6 columns]"
      ]
     },
     "execution_count": 78,
     "metadata": {},
     "output_type": "execute_result"
    }
   ],
   "source": [
    "df"
   ]
  },
  {
   "cell_type": "code",
   "execution_count": 79,
   "metadata": {},
   "outputs": [
    {
     "name": "stdout",
     "output_type": "stream",
     "text": [
      "<class 'pandas.core.frame.DataFrame'>\n",
      "RangeIndex: 979 entries, 0 to 978\n",
      "Data columns (total 6 columns):\n",
      " #   Column          Non-Null Count  Dtype  \n",
      "---  ------          --------------  -----  \n",
      " 0   star_rating     979 non-null    float64\n",
      " 1   title           979 non-null    object \n",
      " 2   content_rating  976 non-null    object \n",
      " 3   genre           979 non-null    object \n",
      " 4   duration        979 non-null    int64  \n",
      " 5   actors_list     979 non-null    object \n",
      "dtypes: float64(1), int64(1), object(4)\n",
      "memory usage: 46.0+ KB\n"
     ]
    }
   ],
   "source": [
    "df.info()"
   ]
  },
  {
   "cell_type": "markdown",
   "metadata": {},
   "source": [
    "df.info()\n"
   ]
  },
  {
   "cell_type": "code",
   "execution_count": 80,
   "metadata": {},
   "outputs": [
    {
     "data": {
      "text/plain": [
       "(16,)"
      ]
     },
     "execution_count": 80,
     "metadata": {},
     "output_type": "execute_result"
    }
   ],
   "source": [
    "df.genre.unique().shape"
   ]
  },
  {
   "cell_type": "code",
   "execution_count": 81,
   "metadata": {},
   "outputs": [
    {
     "data": {
      "text/html": [
       "<div>\n",
       "<style scoped>\n",
       "    .dataframe tbody tr th:only-of-type {\n",
       "        vertical-align: middle;\n",
       "    }\n",
       "\n",
       "    .dataframe tbody tr th {\n",
       "        vertical-align: top;\n",
       "    }\n",
       "\n",
       "    .dataframe thead th {\n",
       "        text-align: right;\n",
       "    }\n",
       "</style>\n",
       "<table border=\"1\" class=\"dataframe\">\n",
       "  <thead>\n",
       "    <tr style=\"text-align: right;\">\n",
       "      <th></th>\n",
       "      <th>star_rating</th>\n",
       "      <th>title</th>\n",
       "      <th>content_rating</th>\n",
       "      <th>genre</th>\n",
       "      <th>duration</th>\n",
       "      <th>actors_list</th>\n",
       "    </tr>\n",
       "  </thead>\n",
       "  <tbody>\n",
       "    <tr>\n",
       "      <th>0</th>\n",
       "      <td>9.3</td>\n",
       "      <td>The Shawshank Redemption</td>\n",
       "      <td>R</td>\n",
       "      <td>Crime</td>\n",
       "      <td>142</td>\n",
       "      <td>[u'Tim Robbins', u'Morgan Freeman', u'Bob Gunt...</td>\n",
       "    </tr>\n",
       "    <tr>\n",
       "      <th>1</th>\n",
       "      <td>9.2</td>\n",
       "      <td>The Godfather</td>\n",
       "      <td>R</td>\n",
       "      <td>Crime</td>\n",
       "      <td>175</td>\n",
       "      <td>[u'Marlon Brando', u'Al Pacino', u'James Caan']</td>\n",
       "    </tr>\n",
       "    <tr>\n",
       "      <th>2</th>\n",
       "      <td>9.1</td>\n",
       "      <td>The Godfather: Part II</td>\n",
       "      <td>R</td>\n",
       "      <td>Crime</td>\n",
       "      <td>200</td>\n",
       "      <td>[u'Al Pacino', u'Robert De Niro', u'Robert Duv...</td>\n",
       "    </tr>\n",
       "    <tr>\n",
       "      <th>3</th>\n",
       "      <td>9.0</td>\n",
       "      <td>The Dark Knight</td>\n",
       "      <td>PG-13</td>\n",
       "      <td>Action</td>\n",
       "      <td>152</td>\n",
       "      <td>[u'Christian Bale', u'Heath Ledger', u'Aaron E...</td>\n",
       "    </tr>\n",
       "    <tr>\n",
       "      <th>4</th>\n",
       "      <td>8.9</td>\n",
       "      <td>Pulp Fiction</td>\n",
       "      <td>R</td>\n",
       "      <td>Crime</td>\n",
       "      <td>154</td>\n",
       "      <td>[u'John Travolta', u'Uma Thurman', u'Samuel L....</td>\n",
       "    </tr>\n",
       "    <tr>\n",
       "      <th>...</th>\n",
       "      <td>...</td>\n",
       "      <td>...</td>\n",
       "      <td>...</td>\n",
       "      <td>...</td>\n",
       "      <td>...</td>\n",
       "      <td>...</td>\n",
       "    </tr>\n",
       "    <tr>\n",
       "      <th>974</th>\n",
       "      <td>7.4</td>\n",
       "      <td>Tootsie</td>\n",
       "      <td>PG</td>\n",
       "      <td>Comedy</td>\n",
       "      <td>116</td>\n",
       "      <td>[u'Dustin Hoffman', u'Jessica Lange', u'Teri G...</td>\n",
       "    </tr>\n",
       "    <tr>\n",
       "      <th>975</th>\n",
       "      <td>7.4</td>\n",
       "      <td>Back to the Future Part III</td>\n",
       "      <td>PG</td>\n",
       "      <td>Adventure</td>\n",
       "      <td>118</td>\n",
       "      <td>[u'Michael J. Fox', u'Christopher Lloyd', u'Ma...</td>\n",
       "    </tr>\n",
       "    <tr>\n",
       "      <th>976</th>\n",
       "      <td>7.4</td>\n",
       "      <td>Master and Commander: The Far Side of the World</td>\n",
       "      <td>PG-13</td>\n",
       "      <td>Action</td>\n",
       "      <td>138</td>\n",
       "      <td>[u'Russell Crowe', u'Paul Bettany', u'Billy Bo...</td>\n",
       "    </tr>\n",
       "    <tr>\n",
       "      <th>977</th>\n",
       "      <td>7.4</td>\n",
       "      <td>Poltergeist</td>\n",
       "      <td>PG</td>\n",
       "      <td>Horror</td>\n",
       "      <td>114</td>\n",
       "      <td>[u'JoBeth Williams', u\"Heather O'Rourke\", u'Cr...</td>\n",
       "    </tr>\n",
       "    <tr>\n",
       "      <th>978</th>\n",
       "      <td>7.4</td>\n",
       "      <td>Wall Street</td>\n",
       "      <td>R</td>\n",
       "      <td>Crime</td>\n",
       "      <td>126</td>\n",
       "      <td>[u'Charlie Sheen', u'Michael Douglas', u'Tamar...</td>\n",
       "    </tr>\n",
       "  </tbody>\n",
       "</table>\n",
       "<p>979 rows × 6 columns</p>\n",
       "</div>"
      ],
      "text/plain": [
       "     star_rating                                            title  \\\n",
       "0            9.3                         The Shawshank Redemption   \n",
       "1            9.2                                    The Godfather   \n",
       "2            9.1                           The Godfather: Part II   \n",
       "3            9.0                                  The Dark Knight   \n",
       "4            8.9                                     Pulp Fiction   \n",
       "..           ...                                              ...   \n",
       "974          7.4                                          Tootsie   \n",
       "975          7.4                      Back to the Future Part III   \n",
       "976          7.4  Master and Commander: The Far Side of the World   \n",
       "977          7.4                                      Poltergeist   \n",
       "978          7.4                                      Wall Street   \n",
       "\n",
       "    content_rating      genre  duration  \\\n",
       "0                R      Crime       142   \n",
       "1                R      Crime       175   \n",
       "2                R      Crime       200   \n",
       "3            PG-13     Action       152   \n",
       "4                R      Crime       154   \n",
       "..             ...        ...       ...   \n",
       "974             PG     Comedy       116   \n",
       "975             PG  Adventure       118   \n",
       "976          PG-13     Action       138   \n",
       "977             PG     Horror       114   \n",
       "978              R      Crime       126   \n",
       "\n",
       "                                           actors_list  \n",
       "0    [u'Tim Robbins', u'Morgan Freeman', u'Bob Gunt...  \n",
       "1      [u'Marlon Brando', u'Al Pacino', u'James Caan']  \n",
       "2    [u'Al Pacino', u'Robert De Niro', u'Robert Duv...  \n",
       "3    [u'Christian Bale', u'Heath Ledger', u'Aaron E...  \n",
       "4    [u'John Travolta', u'Uma Thurman', u'Samuel L....  \n",
       "..                                                 ...  \n",
       "974  [u'Dustin Hoffman', u'Jessica Lange', u'Teri G...  \n",
       "975  [u'Michael J. Fox', u'Christopher Lloyd', u'Ma...  \n",
       "976  [u'Russell Crowe', u'Paul Bettany', u'Billy Bo...  \n",
       "977  [u'JoBeth Williams', u\"Heather O'Rourke\", u'Cr...  \n",
       "978  [u'Charlie Sheen', u'Michael Douglas', u'Tamar...  \n",
       "\n",
       "[979 rows x 6 columns]"
      ]
     },
     "execution_count": 81,
     "metadata": {},
     "output_type": "execute_result"
    }
   ],
   "source": [
    "df"
   ]
  },
  {
   "cell_type": "code",
   "execution_count": 82,
   "metadata": {},
   "outputs": [],
   "source": [
    "import numpy as np"
   ]
  },
  {
   "cell_type": "code",
   "execution_count": 83,
   "metadata": {},
   "outputs": [
    {
     "data": {
      "text/plain": [
       "'1.18.1'"
      ]
     },
     "execution_count": 83,
     "metadata": {},
     "output_type": "execute_result"
    }
   ],
   "source": [
    "np.__version__"
   ]
  },
  {
   "cell_type": "code",
   "execution_count": 84,
   "metadata": {},
   "outputs": [
    {
     "data": {
      "text/plain": [
       "\u001b[0;31mSignature:\u001b[0m \u001b[0mnp\u001b[0m\u001b[0;34m.\u001b[0m\u001b[0mbyte_bounds\u001b[0m\u001b[0;34m(\u001b[0m\u001b[0ma\u001b[0m\u001b[0;34m)\u001b[0m\u001b[0;34m\u001b[0m\u001b[0;34m\u001b[0m\u001b[0m\n",
       "\u001b[0;31mDocstring:\u001b[0m\n",
       "Returns pointers to the end-points of an array.\n",
       "\n",
       "Parameters\n",
       "----------\n",
       "a : ndarray\n",
       "    Input array. It must conform to the Python-side of the array\n",
       "    interface.\n",
       "\n",
       "Returns\n",
       "-------\n",
       "(low, high) : tuple of 2 integers\n",
       "    The first integer is the first byte of the array, the second\n",
       "    integer is just past the last byte of the array.  If `a` is not\n",
       "    contiguous it will not use every byte between the (`low`, `high`)\n",
       "    values.\n",
       "\n",
       "Examples\n",
       "--------\n",
       ">>> I = np.eye(2, dtype='f'); I.dtype\n",
       "dtype('float32')\n",
       ">>> low, high = np.byte_bounds(I)\n",
       ">>> high - low == I.size*I.itemsize\n",
       "True\n",
       ">>> I = np.eye(2); I.dtype\n",
       "dtype('float64')\n",
       ">>> low, high = np.byte_bounds(I)\n",
       ">>> high - low == I.size*I.itemsize\n",
       "True\n",
       "\u001b[0;31mFile:\u001b[0m      ~/anaconda3/lib/python3.7/site-packages/numpy/lib/utils.py\n",
       "\u001b[0;31mType:\u001b[0m      function\n"
      ]
     },
     "metadata": {},
     "output_type": "display_data"
    }
   ],
   "source": [
    "np.byte_bounds?"
   ]
  },
  {
   "cell_type": "code",
   "execution_count": 85,
   "metadata": {},
   "outputs": [
    {
     "data": {
      "text/plain": [
       "\u001b[0;31mType:\u001b[0m        module\n",
       "\u001b[0;31mString form:\u001b[0m <module 'numpy' from '/home/ubuntu/anaconda3/lib/python3.7/site-packages/numpy/__init__.py'>\n",
       "\u001b[0;31mFile:\u001b[0m        ~/anaconda3/lib/python3.7/site-packages/numpy/__init__.py\n",
       "\u001b[0;31mDocstring:\u001b[0m  \n",
       "NumPy\n",
       "=====\n",
       "\n",
       "Provides\n",
       "  1. An array object of arbitrary homogeneous items\n",
       "  2. Fast mathematical operations over arrays\n",
       "  3. Linear Algebra, Fourier Transforms, Random Number Generation\n",
       "\n",
       "How to use the documentation\n",
       "----------------------------\n",
       "Documentation is available in two forms: docstrings provided\n",
       "with the code, and a loose standing reference guide, available from\n",
       "`the NumPy homepage <https://www.scipy.org>`_.\n",
       "\n",
       "We recommend exploring the docstrings using\n",
       "`IPython <https://ipython.org>`_, an advanced Python shell with\n",
       "TAB-completion and introspection capabilities.  See below for further\n",
       "instructions.\n",
       "\n",
       "The docstring examples assume that `numpy` has been imported as `np`::\n",
       "\n",
       "  >>> import numpy as np\n",
       "\n",
       "Code snippets are indicated by three greater-than signs::\n",
       "\n",
       "  >>> x = 42\n",
       "  >>> x = x + 1\n",
       "\n",
       "Use the built-in ``help`` function to view a function's docstring::\n",
       "\n",
       "  >>> help(np.sort)\n",
       "  ... # doctest: +SKIP\n",
       "\n",
       "For some objects, ``np.info(obj)`` may provide additional help.  This is\n",
       "particularly true if you see the line \"Help on ufunc object:\" at the top\n",
       "of the help() page.  Ufuncs are implemented in C, not Python, for speed.\n",
       "The native Python help() does not know how to view their help, but our\n",
       "np.info() function does.\n",
       "\n",
       "To search for documents containing a keyword, do::\n",
       "\n",
       "  >>> np.lookfor('keyword')\n",
       "  ... # doctest: +SKIP\n",
       "\n",
       "General-purpose documents like a glossary and help on the basic concepts\n",
       "of numpy are available under the ``doc`` sub-module::\n",
       "\n",
       "  >>> from numpy import doc\n",
       "  >>> help(doc)\n",
       "  ... # doctest: +SKIP\n",
       "\n",
       "Available subpackages\n",
       "---------------------\n",
       "doc\n",
       "    Topical documentation on broadcasting, indexing, etc.\n",
       "lib\n",
       "    Basic functions used by several sub-packages.\n",
       "random\n",
       "    Core Random Tools\n",
       "linalg\n",
       "    Core Linear Algebra Tools\n",
       "fft\n",
       "    Core FFT routines\n",
       "polynomial\n",
       "    Polynomial tools\n",
       "testing\n",
       "    NumPy testing tools\n",
       "f2py\n",
       "    Fortran to Python Interface Generator.\n",
       "distutils\n",
       "    Enhancements to distutils with support for\n",
       "    Fortran compilers support and more.\n",
       "\n",
       "Utilities\n",
       "---------\n",
       "test\n",
       "    Run numpy unittests\n",
       "show_config\n",
       "    Show numpy build configuration\n",
       "dual\n",
       "    Overwrite certain functions with high-performance Scipy tools\n",
       "matlib\n",
       "    Make everything matrices.\n",
       "__version__\n",
       "    NumPy version string\n",
       "\n",
       "Viewing documentation using IPython\n",
       "-----------------------------------\n",
       "Start IPython with the NumPy profile (``ipython -p numpy``), which will\n",
       "import `numpy` under the alias `np`.  Then, use the ``cpaste`` command to\n",
       "paste examples into the shell.  To see which functions are available in\n",
       "`numpy`, type ``np.<TAB>`` (where ``<TAB>`` refers to the TAB key), or use\n",
       "``np.*cos*?<ENTER>`` (where ``<ENTER>`` refers to the ENTER key) to narrow\n",
       "down the list.  To view the docstring for a function, use\n",
       "``np.cos?<ENTER>`` (to view the docstring) and ``np.cos??<ENTER>`` (to view\n",
       "the source code).\n",
       "\n",
       "Copies vs. in-place operation\n",
       "-----------------------------\n",
       "Most of the functions in `numpy` return a copy of the array argument\n",
       "(e.g., `np.sort`).  In-place versions of these functions are often\n",
       "available as array methods, i.e. ``x = np.array([1,2,3]); x.sort()``.\n",
       "Exceptions to this rule are documented.\n"
      ]
     },
     "metadata": {},
     "output_type": "display_data"
    }
   ],
   "source": [
    "np?"
   ]
  },
  {
   "cell_type": "code",
   "execution_count": 86,
   "metadata": {},
   "outputs": [
    {
     "data": {
      "text/plain": [
       "\u001b[0;31mSignature:\u001b[0m\n",
       "\u001b[0mnp\u001b[0m\u001b[0;34m.\u001b[0m\u001b[0mlinspace\u001b[0m\u001b[0;34m(\u001b[0m\u001b[0;34m\u001b[0m\n",
       "\u001b[0;34m\u001b[0m    \u001b[0mstart\u001b[0m\u001b[0;34m,\u001b[0m\u001b[0;34m\u001b[0m\n",
       "\u001b[0;34m\u001b[0m    \u001b[0mstop\u001b[0m\u001b[0;34m,\u001b[0m\u001b[0;34m\u001b[0m\n",
       "\u001b[0;34m\u001b[0m    \u001b[0mnum\u001b[0m\u001b[0;34m=\u001b[0m\u001b[0;36m50\u001b[0m\u001b[0;34m,\u001b[0m\u001b[0;34m\u001b[0m\n",
       "\u001b[0;34m\u001b[0m    \u001b[0mendpoint\u001b[0m\u001b[0;34m=\u001b[0m\u001b[0;32mTrue\u001b[0m\u001b[0;34m,\u001b[0m\u001b[0;34m\u001b[0m\n",
       "\u001b[0;34m\u001b[0m    \u001b[0mretstep\u001b[0m\u001b[0;34m=\u001b[0m\u001b[0;32mFalse\u001b[0m\u001b[0;34m,\u001b[0m\u001b[0;34m\u001b[0m\n",
       "\u001b[0;34m\u001b[0m    \u001b[0mdtype\u001b[0m\u001b[0;34m=\u001b[0m\u001b[0;32mNone\u001b[0m\u001b[0;34m,\u001b[0m\u001b[0;34m\u001b[0m\n",
       "\u001b[0;34m\u001b[0m    \u001b[0maxis\u001b[0m\u001b[0;34m=\u001b[0m\u001b[0;36m0\u001b[0m\u001b[0;34m,\u001b[0m\u001b[0;34m\u001b[0m\n",
       "\u001b[0;34m\u001b[0m\u001b[0;34m)\u001b[0m\u001b[0;34m\u001b[0m\u001b[0;34m\u001b[0m\u001b[0m\n",
       "\u001b[0;31mDocstring:\u001b[0m\n",
       "Return evenly spaced numbers over a specified interval.\n",
       "\n",
       "Returns `num` evenly spaced samples, calculated over the\n",
       "interval [`start`, `stop`].\n",
       "\n",
       "The endpoint of the interval can optionally be excluded.\n",
       "\n",
       ".. versionchanged:: 1.16.0\n",
       "    Non-scalar `start` and `stop` are now supported.\n",
       "\n",
       "Parameters\n",
       "----------\n",
       "start : array_like\n",
       "    The starting value of the sequence.\n",
       "stop : array_like\n",
       "    The end value of the sequence, unless `endpoint` is set to False.\n",
       "    In that case, the sequence consists of all but the last of ``num + 1``\n",
       "    evenly spaced samples, so that `stop` is excluded.  Note that the step\n",
       "    size changes when `endpoint` is False.\n",
       "num : int, optional\n",
       "    Number of samples to generate. Default is 50. Must be non-negative.\n",
       "endpoint : bool, optional\n",
       "    If True, `stop` is the last sample. Otherwise, it is not included.\n",
       "    Default is True.\n",
       "retstep : bool, optional\n",
       "    If True, return (`samples`, `step`), where `step` is the spacing\n",
       "    between samples.\n",
       "dtype : dtype, optional\n",
       "    The type of the output array.  If `dtype` is not given, infer the data\n",
       "    type from the other input arguments.\n",
       "\n",
       "    .. versionadded:: 1.9.0\n",
       "\n",
       "axis : int, optional\n",
       "    The axis in the result to store the samples.  Relevant only if start\n",
       "    or stop are array-like.  By default (0), the samples will be along a\n",
       "    new axis inserted at the beginning. Use -1 to get an axis at the end.\n",
       "\n",
       "    .. versionadded:: 1.16.0\n",
       "\n",
       "Returns\n",
       "-------\n",
       "samples : ndarray\n",
       "    There are `num` equally spaced samples in the closed interval\n",
       "    ``[start, stop]`` or the half-open interval ``[start, stop)``\n",
       "    (depending on whether `endpoint` is True or False).\n",
       "step : float, optional\n",
       "    Only returned if `retstep` is True\n",
       "\n",
       "    Size of spacing between samples.\n",
       "\n",
       "\n",
       "See Also\n",
       "--------\n",
       "arange : Similar to `linspace`, but uses a step size (instead of the\n",
       "         number of samples).\n",
       "geomspace : Similar to `linspace`, but with numbers spaced evenly on a log\n",
       "            scale (a geometric progression).\n",
       "logspace : Similar to `geomspace`, but with the end points specified as\n",
       "           logarithms.\n",
       "\n",
       "Examples\n",
       "--------\n",
       ">>> np.linspace(2.0, 3.0, num=5)\n",
       "array([2.  , 2.25, 2.5 , 2.75, 3.  ])\n",
       ">>> np.linspace(2.0, 3.0, num=5, endpoint=False)\n",
       "array([2. ,  2.2,  2.4,  2.6,  2.8])\n",
       ">>> np.linspace(2.0, 3.0, num=5, retstep=True)\n",
       "(array([2.  ,  2.25,  2.5 ,  2.75,  3.  ]), 0.25)\n",
       "\n",
       "Graphical illustration:\n",
       "\n",
       ">>> import matplotlib.pyplot as plt\n",
       ">>> N = 8\n",
       ">>> y = np.zeros(N)\n",
       ">>> x1 = np.linspace(0, 10, N, endpoint=True)\n",
       ">>> x2 = np.linspace(0, 10, N, endpoint=False)\n",
       ">>> plt.plot(x1, y, 'o')\n",
       "[<matplotlib.lines.Line2D object at 0x...>]\n",
       ">>> plt.plot(x2, y + 0.5, 'o')\n",
       "[<matplotlib.lines.Line2D object at 0x...>]\n",
       ">>> plt.ylim([-0.5, 1])\n",
       "(-0.5, 1)\n",
       ">>> plt.show()\n",
       "\u001b[0;31mFile:\u001b[0m      ~/anaconda3/lib/python3.7/site-packages/numpy/core/function_base.py\n",
       "\u001b[0;31mType:\u001b[0m      function\n"
      ]
     },
     "metadata": {},
     "output_type": "display_data"
    }
   ],
   "source": [
    "np.linspace?"
   ]
  },
  {
   "cell_type": "markdown",
   "metadata": {},
   "source": [
    "np.random.randint?"
   ]
  },
  {
   "cell_type": "code",
   "execution_count": 87,
   "metadata": {},
   "outputs": [
    {
     "data": {
      "text/plain": [
       "80000"
      ]
     },
     "execution_count": 87,
     "metadata": {},
     "output_type": "execute_result"
    }
   ],
   "source": [
    "x=np.random.randint(100, size=(100, 100))\n",
    "x.nbytes"
   ]
  },
  {
   "cell_type": "code",
   "execution_count": 88,
   "metadata": {},
   "outputs": [],
   "source": [
    "x[0, 0]=10.2"
   ]
  },
  {
   "cell_type": "code",
   "execution_count": 89,
   "metadata": {},
   "outputs": [
    {
     "data": {
      "text/plain": [
       "10"
      ]
     },
     "execution_count": 89,
     "metadata": {},
     "output_type": "execute_result"
    }
   ],
   "source": [
    "x[0,0]"
   ]
  },
  {
   "cell_type": "code",
   "execution_count": 90,
   "metadata": {},
   "outputs": [
    {
     "data": {
      "text/plain": [
       "array([[18, 12,  3,  3,  4,  6,  2, 17, 17,  1],\n",
       "       [19,  4, 16,  2,  5, 11, 17,  1, 11, 11],\n",
       "       [ 8,  3, 19, 15,  9,  7, 12,  6,  8,  2],\n",
       "       [ 2, 15, 19, 10,  0, 19, 19, 13,  6, 19],\n",
       "       [14,  4,  4,  2,  0, 13, 13,  9,  6,  0],\n",
       "       [17,  0,  1, 14,  2, 15,  8,  9,  2,  8],\n",
       "       [ 3, 11,  9,  2,  6, 18, 11, 15, 19, 19],\n",
       "       [11,  9, 15, 16, 13,  6,  3, 17,  8, 17],\n",
       "       [ 9,  4, 10,  0, 11, 14, 11, 10, 19, 10],\n",
       "       [16,  5,  0, 11, 10,  6, 13, 18,  6, 15]])"
      ]
     },
     "execution_count": 90,
     "metadata": {},
     "output_type": "execute_result"
    }
   ],
   "source": [
    "x=np.random.randint(20, size=(10,10))\n",
    "x"
   ]
  },
  {
   "cell_type": "code",
   "execution_count": 91,
   "metadata": {},
   "outputs": [
    {
     "data": {
      "text/plain": [
       "array([[19, 15,  9,  7, 12,  6,  8,  2],\n",
       "       [19, 10,  0, 19, 19, 13,  6, 19],\n",
       "       [ 4,  2,  0, 13, 13,  9,  6,  0],\n",
       "       [ 1, 14,  2, 15,  8,  9,  2,  8],\n",
       "       [ 9,  2,  6, 18, 11, 15, 19, 19],\n",
       "       [15, 16, 13,  6,  3, 17,  8, 17],\n",
       "       [10,  0, 11, 14, 11, 10, 19, 10],\n",
       "       [ 0, 11, 10,  6, 13, 18,  6, 15]])"
      ]
     },
     "execution_count": 91,
     "metadata": {},
     "output_type": "execute_result"
    }
   ],
   "source": [
    "x[2:,2:]"
   ]
  },
  {
   "cell_type": "code",
   "execution_count": 92,
   "metadata": {},
   "outputs": [
    {
     "data": {
      "text/plain": [
       "array([[18, 12],\n",
       "       [19,  4]])"
      ]
     },
     "execution_count": 92,
     "metadata": {},
     "output_type": "execute_result"
    }
   ],
   "source": [
    "x[:2, :2]"
   ]
  },
  {
   "cell_type": "code",
   "execution_count": 93,
   "metadata": {},
   "outputs": [
    {
     "data": {
      "text/plain": [
       "array([[15,  6, 18, 13,  6, 10, 11,  0,  5, 16],\n",
       "       [10, 19, 10, 11, 14, 11,  0, 10,  4,  9],\n",
       "       [17,  8, 17,  3,  6, 13, 16, 15,  9, 11],\n",
       "       [19, 19, 15, 11, 18,  6,  2,  9, 11,  3],\n",
       "       [ 8,  2,  9,  8, 15,  2, 14,  1,  0, 17],\n",
       "       [ 0,  6,  9, 13, 13,  0,  2,  4,  4, 14],\n",
       "       [19,  6, 13, 19, 19,  0, 10, 19, 15,  2],\n",
       "       [ 2,  8,  6, 12,  7,  9, 15, 19,  3,  8],\n",
       "       [11, 11,  1, 17, 11,  5,  2, 16,  4, 19],\n",
       "       [ 1, 17, 17,  2,  6,  4,  3,  3, 12, 18]])"
      ]
     },
     "execution_count": 93,
     "metadata": {},
     "output_type": "execute_result"
    }
   ],
   "source": [
    "x[::-1, ::-1]"
   ]
  },
  {
   "cell_type": "code",
   "execution_count": 94,
   "metadata": {},
   "outputs": [
    {
     "data": {
      "text/plain": [
       "array([[18, 12,  3,  3,  4,  6,  2, 17, 17,  1],\n",
       "       [19,  4, 16,  2,  5, 11, 17,  1, 11, 11],\n",
       "       [ 8,  3, 19, 15,  9,  7, 12,  6,  8,  2],\n",
       "       [ 2, 15, 19, 10,  0, 19, 19, 13,  6, 19],\n",
       "       [14,  4,  4,  2,  0, 13, 13,  9,  6,  0],\n",
       "       [17,  0,  1, 14,  2, 15,  8,  9,  2,  8],\n",
       "       [ 3, 11,  9,  2,  6, 18, 11, 15, 19, 19],\n",
       "       [11,  9, 15, 16, 13,  6,  3, 17,  8, 17],\n",
       "       [ 9,  4, 10,  0, 11, 14, 11, 10, 19, 10],\n",
       "       [16,  5,  0, 11, 10,  6, 13, 18,  6, 15]])"
      ]
     },
     "execution_count": 94,
     "metadata": {},
     "output_type": "execute_result"
    }
   ],
   "source": [
    "x"
   ]
  },
  {
   "cell_type": "code",
   "execution_count": 95,
   "metadata": {},
   "outputs": [
    {
     "data": {
      "text/plain": [
       "array([[18,  3,  4,  2, 17],\n",
       "       [ 8, 19,  9, 12,  8],\n",
       "       [14,  4,  0, 13,  6],\n",
       "       [ 3,  9,  6, 11, 19],\n",
       "       [ 9, 10, 11, 11, 19]])"
      ]
     },
     "execution_count": 95,
     "metadata": {},
     "output_type": "execute_result"
    }
   ],
   "source": [
    "x[::2, ::2]"
   ]
  },
  {
   "cell_type": "code",
   "execution_count": 96,
   "metadata": {},
   "outputs": [
    {
     "data": {
      "text/plain": [
       "array([ 1, 17, 17,  2,  6,  4,  3,  3, 12, 18])"
      ]
     },
     "execution_count": 96,
     "metadata": {},
     "output_type": "execute_result"
    }
   ],
   "source": [
    "x[0, ::-1]"
   ]
  },
  {
   "cell_type": "code",
   "execution_count": 97,
   "metadata": {},
   "outputs": [
    {
     "data": {
      "text/plain": [
       "array([[ 0, 12,  3,  3,  4,  6,  2, 17, 17,  1],\n",
       "       [19,  4, 16,  2,  5, 11, 17,  1, 11, 11],\n",
       "       [ 8,  3, 19, 15,  9,  7, 12,  6,  8,  2],\n",
       "       [ 2, 15, 19, 10,  0, 19, 19, 13,  6, 19],\n",
       "       [14,  4,  4,  2,  0, 13, 13,  9,  6,  0],\n",
       "       [17,  0,  1, 14,  2, 15,  8,  9,  2,  8],\n",
       "       [ 3, 11,  9,  2,  6, 18, 11, 15, 19, 19],\n",
       "       [11,  9, 15, 16, 13,  6,  3, 17,  8, 17],\n",
       "       [ 9,  4, 10,  0, 11, 14, 11, 10, 19, 10],\n",
       "       [16,  5,  0, 11, 10,  6, 13, 18,  6, 15]])"
      ]
     },
     "execution_count": 97,
     "metadata": {},
     "output_type": "execute_result"
    }
   ],
   "source": [
    "y=x[:, :2]\n",
    "y\n",
    "y[0,0]=0\n",
    "x"
   ]
  },
  {
   "cell_type": "code",
   "execution_count": null,
   "metadata": {},
   "outputs": [],
   "source": []
  },
  {
   "cell_type": "code",
   "execution_count": 98,
   "metadata": {},
   "outputs": [
    {
     "data": {
      "text/plain": [
       "array([[ 0, 12, 19,  4],\n",
       "       [ 8,  3,  2, 15],\n",
       "       [14,  4, 17,  0],\n",
       "       [ 3, 11, 11,  9],\n",
       "       [ 9,  4, 16,  5]])"
      ]
     },
     "execution_count": 98,
     "metadata": {},
     "output_type": "execute_result"
    }
   ],
   "source": [
    "y.reshape(5,4)"
   ]
  },
  {
   "cell_type": "code",
   "execution_count": 99,
   "metadata": {},
   "outputs": [
    {
     "data": {
      "text/plain": [
       "array([[ 0, 12,  3,  3,  4,  6,  2, 17, 17,  1],\n",
       "       [19,  4, 16,  2,  5, 11, 17,  1, 11, 11],\n",
       "       [ 8,  3, 19, 15,  9,  7, 12,  6,  8,  2],\n",
       "       [ 2, 15, 19, 10,  0, 19, 19, 13,  6, 19],\n",
       "       [14,  4,  4,  2,  0, 13, 13,  9,  6,  0],\n",
       "       [17,  0,  1, 14,  2, 15,  8,  9,  2,  8],\n",
       "       [ 3, 11,  9,  2,  6, 18, 11, 15, 19, 19],\n",
       "       [11,  9, 15, 16, 13,  6,  3, 17,  8, 17],\n",
       "       [ 9,  4, 10,  0, 11, 14, 11, 10, 19, 10],\n",
       "       [16,  5,  0, 11, 10,  6, 13, 18,  6, 15]])"
      ]
     },
     "execution_count": 99,
     "metadata": {},
     "output_type": "execute_result"
    }
   ],
   "source": [
    "x"
   ]
  },
  {
   "cell_type": "code",
   "execution_count": 100,
   "metadata": {},
   "outputs": [
    {
     "data": {
      "text/plain": [
       "array([[ 0, 12],\n",
       "       [19,  4],\n",
       "       [ 8,  3],\n",
       "       [ 2, 15],\n",
       "       [14,  4],\n",
       "       [17,  0],\n",
       "       [ 3, 11],\n",
       "       [11,  9],\n",
       "       [ 9,  4],\n",
       "       [16,  5]])"
      ]
     },
     "execution_count": 100,
     "metadata": {},
     "output_type": "execute_result"
    }
   ],
   "source": [
    "y"
   ]
  },
  {
   "cell_type": "code",
   "execution_count": null,
   "metadata": {},
   "outputs": [],
   "source": []
  },
  {
   "cell_type": "code",
   "execution_count": null,
   "metadata": {},
   "outputs": [],
   "source": []
  },
  {
   "cell_type": "code",
   "execution_count": 101,
   "metadata": {},
   "outputs": [
    {
     "data": {
      "text/plain": [
       "array([[ 0, 12,  3,  3,  4,  6,  2, 17, 17,  1,  0, 12],\n",
       "       [19,  4, 16,  2,  5, 11, 17,  1, 11, 11, 19,  4],\n",
       "       [ 8,  3, 19, 15,  9,  7, 12,  6,  8,  2,  8,  3],\n",
       "       [ 2, 15, 19, 10,  0, 19, 19, 13,  6, 19,  2, 15],\n",
       "       [14,  4,  4,  2,  0, 13, 13,  9,  6,  0, 14,  4],\n",
       "       [17,  0,  1, 14,  2, 15,  8,  9,  2,  8, 17,  0],\n",
       "       [ 3, 11,  9,  2,  6, 18, 11, 15, 19, 19,  3, 11],\n",
       "       [11,  9, 15, 16, 13,  6,  3, 17,  8, 17, 11,  9],\n",
       "       [ 9,  4, 10,  0, 11, 14, 11, 10, 19, 10,  9,  4],\n",
       "       [16,  5,  0, 11, 10,  6, 13, 18,  6, 15, 16,  5]])"
      ]
     },
     "execution_count": 101,
     "metadata": {},
     "output_type": "execute_result"
    }
   ],
   "source": [
    "np.hstack([x, y])"
   ]
  },
  {
   "cell_type": "code",
   "execution_count": 102,
   "metadata": {},
   "outputs": [
    {
     "name": "stdout",
     "output_type": "stream",
     "text": [
      "[[ 0 12  3  3  4  6  2 17 17  1]\n",
      " [19  4 16  2  5 11 17  1 11 11]\n",
      " [ 8  3 19 15  9  7 12  6  8  2]\n",
      " [ 2 15 19 10  0 19 19 13  6 19]\n",
      " [14  4  4  2  0 13 13  9  6  0]\n",
      " [17  0  1 14  2 15  8  9  2  8]\n",
      " [ 3 11  9  2  6 18 11 15 19 19]\n",
      " [11  9 15 16 13  6  3 17  8 17]\n",
      " [ 9  4 10  0 11 14 11 10 19 10]\n",
      " [16  5  0 11 10  6 13 18  6 15]] [[ 0 12]\n",
      " [19  4]\n",
      " [ 8  3]\n",
      " [ 2 15]\n",
      " [14  4]\n",
      " [17  0]\n",
      " [ 3 11]\n",
      " [11  9]\n",
      " [ 9  4]\n",
      " [16  5]]\n"
     ]
    }
   ],
   "source": [
    "print(x, y)"
   ]
  },
  {
   "cell_type": "code",
   "execution_count": 103,
   "metadata": {},
   "outputs": [
    {
     "data": {
      "text/plain": [
       "array([[ 0, 24,  6,  6,  8, 12,  4, 34, 34,  2],\n",
       "       [38,  8, 32,  4, 10, 22, 34,  2, 22, 22],\n",
       "       [16,  6, 38, 30, 18, 14, 24, 12, 16,  4],\n",
       "       [ 4, 30, 38, 20,  0, 38, 38, 26, 12, 38],\n",
       "       [28,  8,  8,  4,  0, 26, 26, 18, 12,  0],\n",
       "       [34,  0,  2, 28,  4, 30, 16, 18,  4, 16],\n",
       "       [ 6, 22, 18,  4, 12, 36, 22, 30, 38, 38],\n",
       "       [22, 18, 30, 32, 26, 12,  6, 34, 16, 34],\n",
       "       [18,  8, 20,  0, 22, 28, 22, 20, 38, 20],\n",
       "       [32, 10,  0, 22, 20, 12, 26, 36, 12, 30]])"
      ]
     },
     "execution_count": 103,
     "metadata": {},
     "output_type": "execute_result"
    }
   ],
   "source": [
    "x+x"
   ]
  },
  {
   "cell_type": "code",
   "execution_count": 104,
   "metadata": {},
   "outputs": [
    {
     "data": {
      "text/plain": [
       "array([[  0, 144,   9,   9,  16,  36,   4, 289, 289,   1],\n",
       "       [361,  16, 256,   4,  25, 121, 289,   1, 121, 121],\n",
       "       [ 64,   9, 361, 225,  81,  49, 144,  36,  64,   4],\n",
       "       [  4, 225, 361, 100,   0, 361, 361, 169,  36, 361],\n",
       "       [196,  16,  16,   4,   0, 169, 169,  81,  36,   0],\n",
       "       [289,   0,   1, 196,   4, 225,  64,  81,   4,  64],\n",
       "       [  9, 121,  81,   4,  36, 324, 121, 225, 361, 361],\n",
       "       [121,  81, 225, 256, 169,  36,   9, 289,  64, 289],\n",
       "       [ 81,  16, 100,   0, 121, 196, 121, 100, 361, 100],\n",
       "       [256,  25,   0, 121, 100,  36, 169, 324,  36, 225]])"
      ]
     },
     "execution_count": 104,
     "metadata": {},
     "output_type": "execute_result"
    }
   ],
   "source": [
    "x**2"
   ]
  },
  {
   "cell_type": "code",
   "execution_count": 105,
   "metadata": {},
   "outputs": [
    {
     "data": {
      "text/plain": [
       "array([[ 0, 12,  3,  3,  4,  6,  2, 17, 17,  1],\n",
       "       [19,  4, 16,  2,  5, 11, 17,  1, 11, 11],\n",
       "       [ 8,  3, 19, 15,  9,  7, 12,  6,  8,  2],\n",
       "       [ 2, 15, 19, 10,  0, 19, 19, 13,  6, 19],\n",
       "       [14,  4,  4,  2,  0, 13, 13,  9,  6,  0],\n",
       "       [17,  0,  1, 14,  2, 15,  8,  9,  2,  8],\n",
       "       [ 3, 11,  9,  2,  6, 18, 11, 15, 19, 19],\n",
       "       [11,  9, 15, 16, 13,  6,  3, 17,  8, 17],\n",
       "       [ 9,  4, 10,  0, 11, 14, 11, 10, 19, 10],\n",
       "       [16,  5,  0, 11, 10,  6, 13, 18,  6, 15]])"
      ]
     },
     "execution_count": 105,
     "metadata": {},
     "output_type": "execute_result"
    }
   ],
   "source": [
    "x"
   ]
  },
  {
   "cell_type": "code",
   "execution_count": null,
   "metadata": {},
   "outputs": [],
   "source": []
  },
  {
   "cell_type": "code",
   "execution_count": 106,
   "metadata": {},
   "outputs": [
    {
     "data": {
      "text/plain": [
       "array([[[ 0,  0],\n",
       "        [12, 12],\n",
       "        [ 3,  3],\n",
       "        [ 3,  3],\n",
       "        [ 4,  4],\n",
       "        [ 6,  6],\n",
       "        [ 2,  2],\n",
       "        [17, 17],\n",
       "        [17, 17],\n",
       "        [ 1,  1]],\n",
       "\n",
       "       [[19, 19],\n",
       "        [ 4,  4],\n",
       "        [16, 16],\n",
       "        [ 2,  2],\n",
       "        [ 5,  5],\n",
       "        [11, 11],\n",
       "        [17, 17],\n",
       "        [ 1,  1],\n",
       "        [11, 11],\n",
       "        [11, 11]],\n",
       "\n",
       "       [[ 8,  8],\n",
       "        [ 3,  3],\n",
       "        [19, 19],\n",
       "        [15, 15],\n",
       "        [ 9,  9],\n",
       "        [ 7,  7],\n",
       "        [12, 12],\n",
       "        [ 6,  6],\n",
       "        [ 8,  8],\n",
       "        [ 2,  2]],\n",
       "\n",
       "       [[ 2,  2],\n",
       "        [15, 15],\n",
       "        [19, 19],\n",
       "        [10, 10],\n",
       "        [ 0,  0],\n",
       "        [19, 19],\n",
       "        [19, 19],\n",
       "        [13, 13],\n",
       "        [ 6,  6],\n",
       "        [19, 19]],\n",
       "\n",
       "       [[14, 14],\n",
       "        [ 4,  4],\n",
       "        [ 4,  4],\n",
       "        [ 2,  2],\n",
       "        [ 0,  0],\n",
       "        [13, 13],\n",
       "        [13, 13],\n",
       "        [ 9,  9],\n",
       "        [ 6,  6],\n",
       "        [ 0,  0]],\n",
       "\n",
       "       [[17, 17],\n",
       "        [ 0,  0],\n",
       "        [ 1,  1],\n",
       "        [14, 14],\n",
       "        [ 2,  2],\n",
       "        [15, 15],\n",
       "        [ 8,  8],\n",
       "        [ 9,  9],\n",
       "        [ 2,  2],\n",
       "        [ 8,  8]],\n",
       "\n",
       "       [[ 3,  3],\n",
       "        [11, 11],\n",
       "        [ 9,  9],\n",
       "        [ 2,  2],\n",
       "        [ 6,  6],\n",
       "        [18, 18],\n",
       "        [11, 11],\n",
       "        [15, 15],\n",
       "        [19, 19],\n",
       "        [19, 19]],\n",
       "\n",
       "       [[11, 11],\n",
       "        [ 9,  9],\n",
       "        [15, 15],\n",
       "        [16, 16],\n",
       "        [13, 13],\n",
       "        [ 6,  6],\n",
       "        [ 3,  3],\n",
       "        [17, 17],\n",
       "        [ 8,  8],\n",
       "        [17, 17]],\n",
       "\n",
       "       [[ 9,  9],\n",
       "        [ 4,  4],\n",
       "        [10, 10],\n",
       "        [ 0,  0],\n",
       "        [11, 11],\n",
       "        [14, 14],\n",
       "        [11, 11],\n",
       "        [10, 10],\n",
       "        [19, 19],\n",
       "        [10, 10]],\n",
       "\n",
       "       [[16, 16],\n",
       "        [ 5,  5],\n",
       "        [ 0,  0],\n",
       "        [11, 11],\n",
       "        [10, 10],\n",
       "        [ 6,  6],\n",
       "        [13, 13],\n",
       "        [18, 18],\n",
       "        [ 6,  6],\n",
       "        [15, 15]]])"
      ]
     },
     "execution_count": 106,
     "metadata": {},
     "output_type": "execute_result"
    }
   ],
   "source": [
    "np.dstack([x, x])"
   ]
  },
  {
   "cell_type": "code",
   "execution_count": 107,
   "metadata": {},
   "outputs": [
    {
     "data": {
      "text/plain": [
       "array([5, 6, 6, 6, 2, 3, 2, 2, 2, 3, 5, 1, 8, 0, 6, 1, 7, 8, 8, 4])"
      ]
     },
     "execution_count": 107,
     "metadata": {},
     "output_type": "execute_result"
    }
   ],
   "source": [
    "z=np.random.randint(10, size=20)\n",
    "z"
   ]
  },
  {
   "cell_type": "code",
   "execution_count": 108,
   "metadata": {},
   "outputs": [
    {
     "data": {
      "text/plain": [
       "[array([5, 6, 6]),\n",
       " array([], dtype=int64),\n",
       " array([6, 6, 6, 2, 3, 2, 2, 2, 3, 5, 1, 8, 0, 6, 1, 7, 8, 8, 4])]"
      ]
     },
     "execution_count": 108,
     "metadata": {},
     "output_type": "execute_result"
    }
   ],
   "source": [
    "np.split(z, [3, 1])"
   ]
  },
  {
   "cell_type": "code",
   "execution_count": 109,
   "metadata": {},
   "outputs": [
    {
     "data": {
      "text/plain": [
       "array([[ 0, 12,  3,  3,  4,  6,  2, 17, 17,  1],\n",
       "       [19,  4, 16,  2,  5, 11, 17,  1, 11, 11],\n",
       "       [ 8,  3, 19, 15,  9,  7, 12,  6,  8,  2],\n",
       "       [ 2, 15, 19, 10,  0, 19, 19, 13,  6, 19],\n",
       "       [14,  4,  4,  2,  0, 13, 13,  9,  6,  0],\n",
       "       [17,  0,  1, 14,  2, 15,  8,  9,  2,  8],\n",
       "       [ 3, 11,  9,  2,  6, 18, 11, 15, 19, 19],\n",
       "       [11,  9, 15, 16, 13,  6,  3, 17,  8, 17],\n",
       "       [ 9,  4, 10,  0, 11, 14, 11, 10, 19, 10],\n",
       "       [16,  5,  0, 11, 10,  6, 13, 18,  6, 15]])"
      ]
     },
     "execution_count": 109,
     "metadata": {},
     "output_type": "execute_result"
    }
   ],
   "source": [
    "x"
   ]
  },
  {
   "cell_type": "code",
   "execution_count": 110,
   "metadata": {},
   "outputs": [
    {
     "data": {
      "text/plain": [
       "[array([[ 0, 12,  3,  3,  4,  6,  2, 17, 17,  1],\n",
       "        [19,  4, 16,  2,  5, 11, 17,  1, 11, 11],\n",
       "        [ 8,  3, 19, 15,  9,  7, 12,  6,  8,  2]]),\n",
       " array([[ 2, 15, 19, 10,  0, 19, 19, 13,  6, 19],\n",
       "        [14,  4,  4,  2,  0, 13, 13,  9,  6,  0],\n",
       "        [17,  0,  1, 14,  2, 15,  8,  9,  2,  8],\n",
       "        [ 3, 11,  9,  2,  6, 18, 11, 15, 19, 19]]),\n",
       " array([[11,  9, 15, 16, 13,  6,  3, 17,  8, 17],\n",
       "        [ 9,  4, 10,  0, 11, 14, 11, 10, 19, 10],\n",
       "        [16,  5,  0, 11, 10,  6, 13, 18,  6, 15]])]"
      ]
     },
     "execution_count": 110,
     "metadata": {},
     "output_type": "execute_result"
    }
   ],
   "source": [
    "np.split(x, [3, 7])"
   ]
  },
  {
   "cell_type": "code",
   "execution_count": 111,
   "metadata": {},
   "outputs": [
    {
     "data": {
      "text/plain": [
       "[array([[ 0, 12,  3],\n",
       "        [19,  4, 16],\n",
       "        [ 8,  3, 19],\n",
       "        [ 2, 15, 19],\n",
       "        [14,  4,  4],\n",
       "        [17,  0,  1],\n",
       "        [ 3, 11,  9],\n",
       "        [11,  9, 15],\n",
       "        [ 9,  4, 10],\n",
       "        [16,  5,  0]]),\n",
       " array([[ 3,  4],\n",
       "        [ 2,  5],\n",
       "        [15,  9],\n",
       "        [10,  0],\n",
       "        [ 2,  0],\n",
       "        [14,  2],\n",
       "        [ 2,  6],\n",
       "        [16, 13],\n",
       "        [ 0, 11],\n",
       "        [11, 10]]),\n",
       " array([[ 6,  2, 17, 17,  1],\n",
       "        [11, 17,  1, 11, 11],\n",
       "        [ 7, 12,  6,  8,  2],\n",
       "        [19, 19, 13,  6, 19],\n",
       "        [13, 13,  9,  6,  0],\n",
       "        [15,  8,  9,  2,  8],\n",
       "        [18, 11, 15, 19, 19],\n",
       "        [ 6,  3, 17,  8, 17],\n",
       "        [14, 11, 10, 19, 10],\n",
       "        [ 6, 13, 18,  6, 15]])]"
      ]
     },
     "execution_count": 111,
     "metadata": {},
     "output_type": "execute_result"
    }
   ],
   "source": [
    "np.hsplit(x, [3, 5])"
   ]
  },
  {
   "cell_type": "code",
   "execution_count": 112,
   "metadata": {},
   "outputs": [
    {
     "data": {
      "text/plain": [
       "array([[ 0, 12,  3,  3,  4,  6,  2, 17, 17,  1],\n",
       "       [19,  4, 16,  2,  5, 11, 17,  1, 11, 11],\n",
       "       [ 8,  3, 19, 15,  9,  7, 12,  6,  8,  2],\n",
       "       [ 2, 15, 19, 10,  0, 19, 19, 13,  6, 19],\n",
       "       [14,  4,  4,  2,  0, 13, 13,  9,  6,  0],\n",
       "       [17,  0,  1, 14,  2, 15,  8,  9,  2,  8],\n",
       "       [ 3, 11,  9,  2,  6, 18, 11, 15, 19, 19],\n",
       "       [11,  9, 15, 16, 13,  6,  3, 17,  8, 17],\n",
       "       [ 9,  4, 10,  0, 11, 14, 11, 10, 19, 10],\n",
       "       [16,  5,  0, 11, 10,  6, 13, 18,  6, 15]])"
      ]
     },
     "execution_count": 112,
     "metadata": {},
     "output_type": "execute_result"
    }
   ],
   "source": [
    "x"
   ]
  },
  {
   "cell_type": "code",
   "execution_count": 113,
   "metadata": {},
   "outputs": [
    {
     "data": {
      "text/plain": [
       "[array([[ 0, 12,  3,  3,  4,  6,  2, 17, 17,  1],\n",
       "        [19,  4, 16,  2,  5, 11, 17,  1, 11, 11],\n",
       "        [ 8,  3, 19, 15,  9,  7, 12,  6,  8,  2]]),\n",
       " array([[ 2, 15, 19, 10,  0, 19, 19, 13,  6, 19],\n",
       "        [14,  4,  4,  2,  0, 13, 13,  9,  6,  0]]),\n",
       " array([[17,  0,  1, 14,  2, 15,  8,  9,  2,  8],\n",
       "        [ 3, 11,  9,  2,  6, 18, 11, 15, 19, 19],\n",
       "        [11,  9, 15, 16, 13,  6,  3, 17,  8, 17],\n",
       "        [ 9,  4, 10,  0, 11, 14, 11, 10, 19, 10],\n",
       "        [16,  5,  0, 11, 10,  6, 13, 18,  6, 15]])]"
      ]
     },
     "execution_count": 113,
     "metadata": {},
     "output_type": "execute_result"
    }
   ],
   "source": [
    "np.vsplit(x, [3, 5])"
   ]
  },
  {
   "cell_type": "code",
   "execution_count": null,
   "metadata": {},
   "outputs": [],
   "source": []
  },
  {
   "cell_type": "code",
   "execution_count": 114,
   "metadata": {},
   "outputs": [
    {
     "data": {
      "text/plain": [
       "array([0, 1, 2, 3, 4])"
      ]
     },
     "execution_count": 114,
     "metadata": {},
     "output_type": "execute_result"
    }
   ],
   "source": [
    "np.arange(5\n",
    "        )"
   ]
  },
  {
   "cell_type": "code",
   "execution_count": 115,
   "metadata": {},
   "outputs": [
    {
     "data": {
      "text/plain": [
       "array([1, 2, 3, 4, 5])"
      ]
     },
     "execution_count": 115,
     "metadata": {},
     "output_type": "execute_result"
    }
   ],
   "source": [
    "np.arange(1, 6)"
   ]
  },
  {
   "cell_type": "code",
   "execution_count": 116,
   "metadata": {},
   "outputs": [
    {
     "data": {
      "text/plain": [
       "array([0.        , 0.5       , 0.66666667, 0.75      , 0.8       ])"
      ]
     },
     "execution_count": 116,
     "metadata": {},
     "output_type": "execute_result"
    }
   ],
   "source": [
    "np.arange(5)/np.arange(1,6)"
   ]
  },
  {
   "cell_type": "code",
   "execution_count": 117,
   "metadata": {},
   "outputs": [
    {
     "data": {
      "text/plain": [
       "array([0, 1, 2, 3, 4, 5, 6, 7, 8, 9])"
      ]
     },
     "execution_count": 117,
     "metadata": {},
     "output_type": "execute_result"
    }
   ],
   "source": [
    "x=np.arange(10\n",
    "         )\n",
    "x"
   ]
  },
  {
   "cell_type": "code",
   "execution_count": 118,
   "metadata": {},
   "outputs": [
    {
     "data": {
      "text/plain": [
       "45"
      ]
     },
     "execution_count": 118,
     "metadata": {},
     "output_type": "execute_result"
    }
   ],
   "source": [
    "np.add.reduce(x)"
   ]
  },
  {
   "cell_type": "code",
   "execution_count": 119,
   "metadata": {},
   "outputs": [
    {
     "data": {
      "text/plain": [
       "-45"
      ]
     },
     "execution_count": 119,
     "metadata": {},
     "output_type": "execute_result"
    }
   ],
   "source": [
    "np.subtract.reduce(x)"
   ]
  },
  {
   "cell_type": "code",
   "execution_count": null,
   "metadata": {},
   "outputs": [],
   "source": []
  },
  {
   "cell_type": "code",
   "execution_count": 120,
   "metadata": {},
   "outputs": [
    {
     "data": {
      "text/plain": [
       "0"
      ]
     },
     "execution_count": 120,
     "metadata": {},
     "output_type": "execute_result"
    }
   ],
   "source": [
    "np.multiply.reduce(x)"
   ]
  },
  {
   "cell_type": "code",
   "execution_count": 121,
   "metadata": {},
   "outputs": [
    {
     "data": {
      "text/plain": [
       "array([ 0,  1,  3,  6, 10, 15, 21, 28, 36, 45])"
      ]
     },
     "execution_count": 121,
     "metadata": {},
     "output_type": "execute_result"
    }
   ],
   "source": [
    "np.add.accumulate(x)"
   ]
  },
  {
   "cell_type": "code",
   "execution_count": 122,
   "metadata": {},
   "outputs": [
    {
     "data": {
      "text/plain": [
       "array([0, 0, 0, 0, 0, 0, 0, 0, 0, 0])"
      ]
     },
     "execution_count": 122,
     "metadata": {},
     "output_type": "execute_result"
    }
   ],
   "source": [
    "np.multiply.accumulate(x)"
   ]
  },
  {
   "cell_type": "code",
   "execution_count": 123,
   "metadata": {},
   "outputs": [
    {
     "data": {
      "text/plain": [
       "array([ 2,  4,  6,  8, 10, 12, 14, 16, 18, 20])"
      ]
     },
     "execution_count": 123,
     "metadata": {},
     "output_type": "execute_result"
    }
   ],
   "source": [
    "np.arange(2, 21, 2)"
   ]
  },
  {
   "cell_type": "code",
   "execution_count": 124,
   "metadata": {},
   "outputs": [
    {
     "data": {
      "text/plain": [
       "array([[ 2,  3,  4,  5],\n",
       "       [ 4,  6,  8, 10],\n",
       "       [ 6,  9, 12, 15],\n",
       "       [ 8, 12, 16, 20]])"
      ]
     },
     "execution_count": 124,
     "metadata": {},
     "output_type": "execute_result"
    }
   ],
   "source": [
    "np.multiply.outer(np.arange(1, 5), np.arange(2, 6))"
   ]
  },
  {
   "cell_type": "code",
   "execution_count": 125,
   "metadata": {},
   "outputs": [
    {
     "data": {
      "text/plain": [
       "array([1, 2, 3, 4])"
      ]
     },
     "execution_count": 125,
     "metadata": {},
     "output_type": "execute_result"
    }
   ],
   "source": [
    "x=np.arange(1, 5)\n",
    "x"
   ]
  },
  {
   "cell_type": "code",
   "execution_count": 126,
   "metadata": {},
   "outputs": [
    {
     "data": {
      "text/plain": [
       "array([2, 3, 4, 5])"
      ]
     },
     "execution_count": 126,
     "metadata": {},
     "output_type": "execute_result"
    }
   ],
   "source": [
    "y=np.arange(2, 6)\n",
    "y"
   ]
  },
  {
   "cell_type": "code",
   "execution_count": 127,
   "metadata": {},
   "outputs": [
    {
     "data": {
      "text/plain": [
       "array([4.29334086e-01, 9.50034430e-01, 8.37211891e-01, 7.84838464e-01,\n",
       "       3.49747549e-01, 8.89932546e-02, 3.05546708e-01, 4.84085620e-02,\n",
       "       9.23941000e-01, 6.57134267e-01, 9.97807481e-01, 3.38806051e-01,\n",
       "       9.37640339e-02, 9.26145209e-01, 4.40689824e-01, 9.03149126e-01,\n",
       "       3.59848919e-01, 4.91467821e-01, 1.43397266e-01, 2.47337631e-01,\n",
       "       2.78224119e-02, 9.60987632e-01, 4.20279120e-01, 6.33049612e-01,\n",
       "       8.77125746e-01, 8.15658061e-01, 1.32766102e-02, 2.17031747e-01,\n",
       "       8.26758312e-01, 5.23005203e-02, 6.82773205e-01, 7.51492769e-01,\n",
       "       1.76265056e-02, 9.64748609e-01, 3.76965198e-01, 9.69357241e-01,\n",
       "       1.10618178e-01, 7.95264356e-01, 3.09619532e-01, 5.06092422e-01,\n",
       "       6.05690236e-01, 6.44115920e-01, 8.36307618e-01, 1.97335991e-01,\n",
       "       9.71907319e-01, 6.88795489e-01, 2.92995530e-01, 3.64896678e-01,\n",
       "       4.71854831e-01, 3.02128597e-01, 4.13408282e-01, 9.17092326e-01,\n",
       "       8.66561374e-01, 3.67408073e-01, 3.60442100e-01, 9.69242206e-01,\n",
       "       6.64425221e-01, 8.05457417e-01, 2.31758037e-01, 7.78849612e-01,\n",
       "       6.28714760e-01, 3.02436732e-01, 9.81261464e-01, 5.79752545e-01,\n",
       "       7.79772852e-01, 1.86185452e-01, 1.97974894e-01, 3.00629027e-01,\n",
       "       1.02103866e-01, 8.92918927e-01, 1.20620935e-01, 4.45148462e-01,\n",
       "       6.20272769e-01, 2.18895907e-01, 1.39969071e-01, 8.62484887e-01,\n",
       "       8.02150828e-01, 9.91569833e-02, 3.97733329e-01, 1.48755632e-01,\n",
       "       8.58874053e-01, 8.33117337e-01, 3.22006851e-01, 8.32775889e-01,\n",
       "       5.63103260e-01, 4.46458273e-01, 2.43483959e-01, 2.21660500e-01,\n",
       "       9.25065930e-01, 3.89910596e-01, 7.08012589e-01, 3.74058735e-01,\n",
       "       3.18465531e-01, 9.58546304e-01, 9.22559972e-01, 5.16538479e-01,\n",
       "       4.76942726e-01, 5.86380170e-01, 4.23452895e-01, 2.34349528e-01,\n",
       "       6.18870962e-01, 2.68076128e-01, 1.26263857e-01, 3.49180716e-01,\n",
       "       7.53237163e-01, 3.04688283e-01, 3.52336282e-01, 5.87439048e-01,\n",
       "       4.72233443e-01, 9.91143666e-01, 3.37950750e-01, 7.24685364e-01,\n",
       "       2.37697202e-01, 8.73665924e-01, 3.71627435e-01, 8.53691168e-01,\n",
       "       6.47472153e-01, 4.34442279e-01, 2.34033542e-01, 8.82896995e-02,\n",
       "       8.55919440e-01, 8.56477890e-01, 6.56734340e-01, 6.80943363e-01,\n",
       "       3.58590715e-01, 1.37316144e-01, 1.93726587e-01, 9.21927392e-01,\n",
       "       6.16089824e-01, 4.28235489e-01, 9.88754927e-01, 9.10351003e-02,\n",
       "       7.27822309e-01, 4.68724276e-01, 8.99696632e-01, 8.25895658e-01,\n",
       "       3.64836918e-01, 2.25579682e-01, 4.60457253e-01, 7.56679269e-01,\n",
       "       7.51271067e-01, 4.77234189e-01, 2.46822293e-01, 2.70056047e-01,\n",
       "       4.89480253e-01, 7.10919962e-01, 5.52812217e-01, 8.96652076e-01,\n",
       "       1.27417596e-01, 4.52334004e-01, 1.28648878e-01, 3.85847840e-01,\n",
       "       1.66846347e-02, 1.64480944e-01, 9.48389795e-01, 2.04973007e-02,\n",
       "       4.83528652e-02, 3.30396998e-01, 9.21844846e-01, 7.68081933e-02,\n",
       "       1.33379502e-01, 2.66998225e-01, 7.77273396e-01, 1.00787792e-01,\n",
       "       2.35883886e-01, 5.30029319e-02, 2.68466964e-01, 1.85383274e-01,\n",
       "       4.21791757e-01, 7.43528776e-01, 1.70325685e-01, 4.77172125e-01,\n",
       "       2.23309950e-01, 3.94953540e-02, 8.39452830e-01, 2.34482738e-01,\n",
       "       6.18467993e-01, 4.51528810e-01, 3.48445288e-01, 7.10450240e-01,\n",
       "       2.59926415e-01, 9.59874015e-01, 6.31780509e-01, 3.84488311e-01,\n",
       "       1.56616039e-01, 4.12075485e-01, 7.34164090e-01, 2.60264421e-01,\n",
       "       1.75841230e-01, 9.10546943e-01, 6.04344277e-01, 6.97304290e-01,\n",
       "       1.14734479e-01, 8.73267463e-01, 5.06270536e-01, 1.12563749e-01,\n",
       "       7.17091282e-01, 5.50048592e-01, 4.75490035e-01, 1.22199525e-02,\n",
       "       3.52502025e-01, 6.53179728e-01, 9.85756837e-01, 2.04175208e-01,\n",
       "       7.54806696e-01, 1.25551069e-01, 9.44328192e-02, 9.11319571e-01,\n",
       "       3.31227142e-01, 5.55450288e-01, 7.65107893e-01, 4.01618495e-01,\n",
       "       7.17789187e-01, 2.88248057e-01, 4.96682308e-01, 1.26683132e-02,\n",
       "       4.04491180e-01, 9.47295576e-01, 7.54045659e-01, 5.18380293e-01,\n",
       "       9.44340988e-01, 7.74366106e-01, 2.40796591e-01, 8.29862381e-01,\n",
       "       9.37771562e-01, 8.62117895e-01, 2.34256308e-01, 3.86269113e-01,\n",
       "       4.24052284e-01, 2.44317018e-01, 6.99637333e-01, 1.82597521e-01,\n",
       "       5.60146674e-01, 5.66531451e-01, 3.96605302e-01, 5.54432700e-01,\n",
       "       1.51599714e-01, 8.08165969e-01, 5.07509352e-01, 7.69245767e-01,\n",
       "       7.63187727e-01, 8.34554910e-01, 9.14311535e-02, 3.40695879e-01,\n",
       "       2.76338699e-01, 8.25726526e-03, 2.40549233e-01, 5.98884581e-01,\n",
       "       9.81591546e-01, 9.55751180e-01, 6.60642469e-01, 3.21728385e-01,\n",
       "       9.49300608e-01, 8.76959427e-01, 5.20102024e-02, 4.01649919e-02,\n",
       "       4.14574588e-01, 8.85297252e-01, 5.56727692e-02, 8.84683016e-01,\n",
       "       5.93016775e-01, 2.86612325e-01, 2.24515739e-01, 6.06337291e-01,\n",
       "       5.27359486e-01, 6.54486198e-01, 4.88445458e-01, 5.79914980e-01,\n",
       "       6.98445341e-01, 5.92206953e-01, 4.48906993e-01, 7.72474073e-01,\n",
       "       8.87213090e-01, 6.13784888e-01, 6.68887371e-01, 3.88563895e-01,\n",
       "       4.53976699e-01, 5.65946248e-03, 2.70465689e-01, 8.56955064e-01,\n",
       "       9.57308048e-01, 2.31075901e-02, 4.50189144e-01, 1.73603776e-01,\n",
       "       5.84568133e-01, 5.22077942e-01, 4.20786675e-01, 6.85110606e-01,\n",
       "       2.74084022e-01, 4.99493019e-01, 1.79740840e-01, 2.23625272e-01,\n",
       "       6.06801933e-01, 2.01665138e-02, 8.80724448e-01, 8.73155834e-01,\n",
       "       8.74040174e-01, 1.37020737e-01, 7.35989751e-01, 7.11632063e-01,\n",
       "       4.09172712e-01, 4.92261485e-02, 7.05091823e-01, 7.15666049e-01,\n",
       "       5.60325212e-01, 7.24013891e-01, 1.95484759e-01, 3.51785021e-01,\n",
       "       4.75686851e-01, 3.12633615e-01, 9.07474433e-01, 2.25797726e-01,\n",
       "       2.07136243e-01, 3.67798414e-01, 3.15240036e-01, 3.46898022e-01,\n",
       "       4.70292049e-01, 8.00025088e-01, 4.75874477e-01, 3.93906645e-01,\n",
       "       9.69083670e-01, 8.24517597e-01, 1.32459858e-01, 9.65794876e-01,\n",
       "       4.06923304e-02, 8.74449725e-01, 6.62430742e-01, 7.94173734e-01,\n",
       "       2.46572752e-01, 5.08088136e-01, 6.86365514e-01, 3.05209029e-01,\n",
       "       5.46390580e-01, 5.81111891e-01, 8.96344375e-02, 4.32149180e-01,\n",
       "       5.60195194e-01, 1.67560509e-01, 3.41911658e-02, 9.71063862e-01,\n",
       "       4.73272857e-01, 1.51349961e-01, 1.01496570e-01, 3.02519741e-01,\n",
       "       7.46744627e-01, 9.03335195e-02, 1.98585418e-01, 9.54566915e-01,\n",
       "       4.65942518e-01, 6.95769428e-01, 9.87846215e-01, 3.98958067e-01,\n",
       "       5.16546071e-01, 4.50928998e-02, 9.99299152e-01, 1.08291112e-01,\n",
       "       2.15334826e-01, 4.54818571e-01, 2.34730526e-01, 2.84745528e-01,\n",
       "       7.94622133e-02, 2.21194484e-01, 2.19717246e-01, 1.68483805e-01,\n",
       "       8.77773726e-01, 6.00196254e-01, 3.51277308e-01, 8.10575535e-01,\n",
       "       8.03382643e-01, 9.76371897e-01, 7.40700868e-01, 8.63886665e-01,\n",
       "       7.52488754e-01, 1.74202303e-01, 5.84598919e-01, 2.62324381e-01,\n",
       "       5.51450156e-01, 9.51792472e-01, 9.26397089e-01, 9.15590484e-01,\n",
       "       2.71428411e-01, 6.88501029e-01, 9.41996025e-01, 7.55971589e-01,\n",
       "       8.47966367e-01, 9.15544846e-01, 9.52652652e-01, 5.76896506e-01,\n",
       "       1.97327389e-01, 7.19939275e-01, 5.89760666e-01, 5.84346733e-01,\n",
       "       8.66951250e-01, 9.99907443e-01, 9.65399571e-01, 2.92208191e-01,\n",
       "       6.50043601e-01, 8.46302561e-01, 4.97206175e-01, 3.97320017e-01,\n",
       "       6.26078691e-01, 2.84107110e-01, 8.61632393e-01, 1.86410636e-01,\n",
       "       6.87637715e-02, 9.92617198e-01, 6.09439522e-01, 4.79803213e-02,\n",
       "       9.26166389e-01, 8.53351244e-01, 2.66494248e-01, 3.64072773e-01,\n",
       "       9.59366712e-01, 2.46202355e-01, 6.99451116e-01, 8.72827793e-01,\n",
       "       4.17599971e-01, 3.99998298e-01, 7.30925379e-01, 3.55966162e-01,\n",
       "       5.61705776e-01, 1.75779348e-01, 6.75720092e-02, 4.33801328e-01,\n",
       "       8.95668357e-01, 7.77381914e-01, 3.95101754e-01, 9.30152083e-01,\n",
       "       2.86569783e-01, 6.52236366e-01, 4.19863413e-02, 8.76239380e-01,\n",
       "       5.25605965e-01, 4.88722586e-01, 1.23511234e-01, 5.40399995e-01,\n",
       "       6.84628160e-01, 1.03429336e-01, 1.62798379e-01, 5.21739032e-01,\n",
       "       1.99358663e-02, 7.88317866e-01, 7.53233837e-01, 1.50515925e-01,\n",
       "       1.75603470e-01, 1.01765396e-01, 7.28861150e-01, 2.57095962e-01,\n",
       "       2.83712502e-01, 7.73984723e-01, 6.81712094e-01, 3.67082821e-01,\n",
       "       3.52241521e-01, 8.45777594e-02, 1.49921528e-01, 2.45341794e-01,\n",
       "       1.27519263e-01, 9.87866548e-01, 8.47800006e-01, 5.68801670e-01,\n",
       "       4.99239883e-01, 6.17272228e-01, 2.89523780e-01, 2.19738793e-01,\n",
       "       7.26316914e-01, 6.08802462e-01, 8.25906037e-01, 3.12667021e-01,\n",
       "       7.67137657e-01, 8.88023568e-01, 4.51708298e-02, 7.67983877e-01,\n",
       "       8.20000325e-01, 6.60758376e-02, 6.67032948e-01, 6.37900449e-01,\n",
       "       9.72659784e-01, 5.96290643e-02, 1.88881890e-01, 1.31340444e-01,\n",
       "       7.39185240e-01, 3.63567235e-01, 7.25894966e-02, 2.52593567e-01,\n",
       "       2.61071419e-01, 8.10041824e-01, 4.97388759e-01, 8.21394066e-01,\n",
       "       4.69799769e-01, 3.97313859e-02, 5.75339386e-01, 2.40561554e-01,\n",
       "       5.41664520e-01, 9.79646005e-01, 5.99827992e-01, 9.39882357e-01,\n",
       "       7.46782846e-01, 7.44638598e-01, 3.98248316e-01, 9.61122640e-01,\n",
       "       8.61016822e-01, 6.74234444e-02, 4.81894177e-01, 8.27639397e-01,\n",
       "       4.68864829e-02, 9.43995316e-01, 3.91329093e-02, 3.01791984e-01,\n",
       "       7.83493788e-01, 7.01374186e-01, 6.89576492e-01, 6.82058403e-01,\n",
       "       6.54455844e-01, 7.83474497e-01, 9.93445182e-01, 4.77592237e-01,\n",
       "       6.00107262e-02, 4.51664536e-01, 5.66810587e-01, 7.45590396e-01,\n",
       "       5.79983307e-01, 2.74242647e-02, 6.31673851e-01, 5.53697370e-01,\n",
       "       6.38555740e-01, 2.33401038e-01, 4.15904522e-01, 5.08439718e-01,\n",
       "       5.21836835e-02, 4.68680675e-01, 6.08489183e-02, 3.32484800e-01,\n",
       "       7.80200224e-01, 7.10462657e-01, 9.49355719e-01, 8.37620724e-01,\n",
       "       4.68421362e-01, 7.23621468e-01, 7.46147376e-01, 1.69678357e-02,\n",
       "       8.14633350e-01, 8.21230458e-01, 9.22256316e-01, 9.59736877e-01,\n",
       "       1.18846778e-01, 8.92284263e-02, 1.52714227e-01, 4.64081896e-01,\n",
       "       2.65748577e-02, 7.79198779e-01, 6.14216951e-01, 9.34389685e-01,\n",
       "       9.36989256e-01, 2.49252970e-01, 9.54768712e-01, 4.03800388e-01,\n",
       "       2.37153133e-01, 9.15008697e-01, 7.05996041e-01, 8.03386839e-01,\n",
       "       8.98541452e-01, 4.44299395e-01, 8.49379883e-01, 4.96055871e-01,\n",
       "       8.11807159e-01, 2.92245018e-01, 5.11135358e-01, 6.11919053e-01,\n",
       "       9.96761157e-01, 7.17503382e-01, 9.17080373e-01, 4.69564559e-01,\n",
       "       8.48938171e-01, 8.39971749e-01, 7.01562750e-02, 5.41834984e-01,\n",
       "       1.88534878e-01, 2.59879342e-01, 4.99924461e-01, 1.59572986e-01,\n",
       "       9.39221641e-01, 8.24818235e-01, 1.64850765e-01, 2.78217642e-01,\n",
       "       5.14966230e-01, 6.00789919e-01, 6.61312966e-01, 4.43180995e-01,\n",
       "       9.01775000e-01, 6.21916673e-01, 6.80644916e-01, 2.56311434e-01,\n",
       "       6.51181285e-01, 8.13990419e-01, 2.70561604e-01, 8.85678579e-01,\n",
       "       7.72972273e-01, 9.69869068e-01, 4.20303452e-01, 5.48454077e-01,\n",
       "       8.78095450e-02, 3.02626497e-01, 3.00398380e-01, 6.60234525e-01,\n",
       "       4.72305686e-01, 8.60633365e-01, 3.01177182e-01, 2.12628295e-01,\n",
       "       4.11485209e-01, 3.11054664e-01, 3.89860673e-01, 6.69555243e-01,\n",
       "       2.88709850e-01, 3.48124700e-01, 7.95951251e-02, 4.51033224e-01,\n",
       "       5.04237621e-01, 2.05369942e-01, 6.80472001e-01, 5.32587677e-01,\n",
       "       1.03384604e-01, 4.61278226e-01, 3.66240890e-01, 7.11893140e-01,\n",
       "       9.51232065e-02, 6.19670804e-01, 4.55430003e-01, 7.24422373e-01,\n",
       "       4.04799023e-01, 1.02020266e-01, 2.85535920e-01, 5.37355859e-01,\n",
       "       3.78756786e-01, 4.13883331e-01, 5.30539628e-01, 5.65946229e-02,\n",
       "       5.10697804e-01, 2.20561562e-01, 3.28088853e-01, 8.57506554e-01,\n",
       "       8.46177697e-01, 2.72731115e-01, 1.08924247e-01, 3.64979679e-01,\n",
       "       4.12629762e-01, 6.33597698e-01, 7.94404310e-01, 3.65132403e-01,\n",
       "       8.51862059e-01, 3.51420156e-01, 5.60991470e-01, 1.32360633e-01,\n",
       "       8.49937055e-01, 4.67062081e-01, 8.10436314e-01, 8.17006365e-01,\n",
       "       9.15334067e-01, 2.28758182e-01, 5.31494758e-01, 7.09037900e-01,\n",
       "       4.23324344e-01, 1.28634150e-01, 9.89201942e-02, 3.04235186e-01,\n",
       "       1.73079974e-01, 8.71206105e-01, 8.27859205e-01, 7.64831636e-01,\n",
       "       3.41434413e-01, 5.07759383e-01, 7.41119111e-01, 7.99805564e-02,\n",
       "       1.17195193e-01, 6.01736269e-01, 8.77534865e-01, 7.91603020e-01,\n",
       "       6.18557303e-01, 1.09919021e-01, 3.92084424e-01, 4.84194850e-01,\n",
       "       9.49436485e-01, 5.30127978e-01, 1.88790561e-01, 2.79576727e-01,\n",
       "       8.43078850e-01, 1.21513152e-01, 3.57444506e-01, 3.45333067e-01,\n",
       "       7.96348104e-01, 6.38527374e-01, 6.23701881e-01, 8.57932615e-01,\n",
       "       8.61983330e-01, 6.30028997e-01, 5.67380714e-01, 2.42028081e-01,\n",
       "       6.17643979e-01, 7.69491366e-01, 5.20823259e-01, 5.65002774e-02,\n",
       "       2.52038365e-01, 9.15464193e-01, 6.89378352e-01, 8.77883460e-01,\n",
       "       7.47244381e-01, 6.01679912e-01, 5.85019752e-03, 7.37122922e-01,\n",
       "       8.41073186e-01, 5.89521761e-01, 9.62737440e-01, 8.53933765e-01,\n",
       "       3.68888961e-01, 9.33711899e-01, 6.29088259e-01, 2.24404512e-02,\n",
       "       3.19038884e-01, 5.56645701e-01, 8.88332049e-01, 4.92439679e-01,\n",
       "       9.23932779e-01, 9.29677827e-01, 8.97512934e-01, 4.35201135e-01,\n",
       "       7.08915738e-01, 5.34973145e-01, 2.78564363e-01, 6.04611166e-01,\n",
       "       1.83962021e-01, 6.31456304e-02, 2.43114899e-01, 2.94332480e-01,\n",
       "       1.76970160e-01, 3.14417229e-01, 5.84517189e-01, 3.41648713e-01,\n",
       "       2.48325720e-01, 1.59589718e-01, 3.68522486e-01, 1.56908100e-01,\n",
       "       8.97325668e-01, 6.02651451e-01, 3.57126803e-01, 8.43450361e-01,\n",
       "       7.98102878e-01, 4.55171586e-01, 7.50813160e-01, 8.69746703e-01,\n",
       "       7.91193352e-01, 6.95952990e-01, 4.33348774e-01, 1.35121761e-01,\n",
       "       3.78598118e-01, 6.80199250e-01, 3.09477632e-01, 6.66213559e-01,\n",
       "       6.58047692e-01, 8.88104472e-01, 7.07671425e-02, 1.06993869e-01,\n",
       "       3.19472947e-02, 7.52296840e-01, 1.38695186e-01, 8.94631203e-01,\n",
       "       1.04643687e-01, 2.06677724e-01, 6.98175829e-01, 6.19346452e-01,\n",
       "       3.88335474e-01, 5.92833291e-01, 4.99417613e-01, 9.12983364e-01,\n",
       "       5.61338275e-01, 8.36584718e-01, 8.44814845e-01, 8.99469549e-01,\n",
       "       8.59845767e-01, 4.92871867e-01, 6.88568187e-03, 6.44534649e-01,\n",
       "       7.43679275e-01, 1.36187507e-02, 5.31294749e-01, 6.87197869e-01,\n",
       "       1.19256084e-02, 1.17279878e-01, 3.72766982e-01, 6.60184939e-01,\n",
       "       7.62987040e-01, 5.98573581e-02, 5.87237339e-01, 8.87973271e-01,\n",
       "       8.09933261e-02, 7.29782918e-01, 9.91513700e-01, 1.87278032e-01,\n",
       "       8.77132491e-01, 5.53041456e-02, 6.07625718e-01, 6.76619417e-01,\n",
       "       5.66165416e-01, 7.16714313e-01, 1.03176319e-01, 4.58185576e-01,\n",
       "       1.29374502e-01, 7.42766371e-01, 6.56888266e-02, 5.24072669e-01,\n",
       "       5.93771203e-01, 1.68554983e-01, 2.44315209e-01, 7.15045008e-01,\n",
       "       1.52444189e-01, 1.67163562e-01, 3.47510813e-01, 3.19741679e-01,\n",
       "       3.64915057e-02, 5.02264426e-02, 7.64407164e-01, 4.32505479e-01,\n",
       "       9.58996234e-01, 1.96260907e-01, 5.93688767e-01, 1.24959574e-01,\n",
       "       5.66981796e-01, 5.81052764e-01, 7.91447893e-01, 3.71689721e-02,\n",
       "       8.16849490e-01, 2.82181981e-02, 4.60050314e-01, 6.89226252e-01,\n",
       "       6.41244733e-01, 1.93388645e-01, 8.04243585e-01, 1.99594804e-02,\n",
       "       3.23705224e-02, 1.64662241e-01, 1.82241016e-01, 6.18065505e-02,\n",
       "       8.40094998e-01, 1.74606975e-01, 5.16562984e-01, 4.92413524e-02,\n",
       "       2.09577947e-02, 7.05930342e-01, 2.87474984e-01, 2.91661107e-01,\n",
       "       3.36828419e-01, 2.86455621e-01, 5.46757726e-01, 6.44294131e-01,\n",
       "       7.22912714e-01, 8.70097432e-01, 9.61713282e-01, 1.12652706e-01,\n",
       "       9.52657982e-01, 2.85206275e-01, 5.05495141e-02, 2.74875900e-02,\n",
       "       6.32301683e-05, 1.46767872e-01, 6.78037601e-01, 9.01222943e-01,\n",
       "       5.78789024e-01, 5.97721470e-01, 7.50266620e-01, 7.38178414e-01,\n",
       "       3.03340143e-01, 4.72046596e-01, 7.16303095e-02, 9.13952181e-01,\n",
       "       2.62890142e-01, 1.51772564e-01, 7.99275239e-01, 6.42355598e-01,\n",
       "       5.53845601e-01, 7.41554398e-01, 2.03223745e-01, 2.06003730e-01,\n",
       "       7.02356968e-01, 9.29152477e-01, 6.42356263e-01, 7.86975692e-01,\n",
       "       4.10947314e-02, 3.42548837e-01, 8.29177073e-01, 8.31136569e-01,\n",
       "       7.32430517e-01, 5.65777595e-01, 7.54874579e-01, 8.12478774e-02,\n",
       "       7.74809398e-01, 3.39181287e-01, 4.30085226e-01, 5.21458722e-01,\n",
       "       6.66054224e-01, 2.28558273e-01, 1.18564393e-01, 6.68705654e-01,\n",
       "       1.03522275e-01, 4.08575091e-01, 1.50535303e-02, 4.46547485e-01,\n",
       "       2.44367657e-01, 2.95270218e-01, 9.40712879e-01, 2.04650425e-01,\n",
       "       6.97629142e-01, 9.66337150e-01, 5.67446731e-01, 6.97128855e-01,\n",
       "       4.70292414e-02, 5.21114977e-01, 2.96365197e-01, 7.70651912e-01,\n",
       "       7.44807247e-01, 4.46350404e-01, 1.05033924e-01, 4.02321758e-01,\n",
       "       4.13110475e-01, 5.96636601e-01, 4.16412094e-02, 3.33449065e-01,\n",
       "       1.51292575e-02, 1.43226088e-01, 5.58763554e-02, 7.57018573e-01,\n",
       "       8.20262001e-01, 2.06259324e-01, 3.82246949e-01, 2.25058087e-01,\n",
       "       8.89141096e-01, 5.97599170e-01, 2.05040157e-01, 9.21836631e-01,\n",
       "       4.29088850e-01, 2.53309311e-01, 3.57305497e-01, 1.53809407e-01,\n",
       "       7.01495598e-01, 7.60078808e-01, 7.55986056e-01, 6.55262013e-01,\n",
       "       7.39295220e-01, 3.80137292e-01, 1.99100511e-01, 1.43826021e-01,\n",
       "       5.66096662e-01, 8.68762531e-01, 4.13207861e-01, 6.94920901e-03,\n",
       "       4.00481181e-01, 7.82241002e-01, 7.71435105e-02, 7.95349990e-01,\n",
       "       9.40034050e-01, 7.59502181e-01, 9.76171659e-01, 1.97208503e-01,\n",
       "       2.35289022e-01, 5.72006270e-01, 2.90804483e-01, 4.07826696e-01,\n",
       "       3.37371306e-01, 5.83075211e-01, 4.77299345e-03, 5.22641549e-01,\n",
       "       2.05851025e-01, 9.93146116e-01, 4.98770719e-01, 3.81123366e-01,\n",
       "       1.92307552e-03, 8.63549291e-01, 7.78045608e-01, 1.60810163e-01,\n",
       "       9.70504651e-01, 1.70710802e-01, 4.93217321e-01, 6.55124422e-01,\n",
       "       8.16564791e-01, 6.03245290e-01, 8.32439185e-01, 7.91769151e-01,\n",
       "       6.31413914e-01, 2.41952280e-01, 4.85227290e-01, 1.33221303e-02,\n",
       "       4.10350232e-01, 7.22937536e-01, 8.99959201e-01, 1.74929726e-01,\n",
       "       7.34005826e-01, 1.80483695e-01, 7.64148792e-01, 8.48457594e-01,\n",
       "       4.07766648e-01, 3.52970457e-01, 6.98328885e-01, 5.77230970e-01])"
      ]
     },
     "execution_count": 127,
     "metadata": {},
     "output_type": "execute_result"
    }
   ],
   "source": [
    "x=np.random.random(1000\n",
    "                )\n",
    "x"
   ]
  },
  {
   "cell_type": "code",
   "execution_count": 128,
   "metadata": {},
   "outputs": [
    {
     "data": {
      "text/plain": [
       "502.52838975536014"
      ]
     },
     "execution_count": 128,
     "metadata": {},
     "output_type": "execute_result"
    }
   ],
   "source": [
    "np.sum(x)"
   ]
  },
  {
   "cell_type": "code",
   "execution_count": 129,
   "metadata": {},
   "outputs": [
    {
     "data": {
      "text/plain": [
       "502.5283897553599"
      ]
     },
     "execution_count": 129,
     "metadata": {},
     "output_type": "execute_result"
    }
   ],
   "source": [
    "sum(x)"
   ]
  },
  {
   "cell_type": "code",
   "execution_count": 130,
   "metadata": {},
   "outputs": [
    {
     "data": {
      "text/plain": [
       "array([0.89682461, 0.71654196, 0.9521136 , ..., 0.92951848, 0.54515377,\n",
       "       0.31698105])"
      ]
     },
     "execution_count": 130,
     "metadata": {},
     "output_type": "execute_result"
    }
   ],
   "source": [
    "x=np.random.rand(100000)\n",
    "x"
   ]
  },
  {
   "cell_type": "code",
   "execution_count": 131,
   "metadata": {},
   "outputs": [
    {
     "data": {
      "text/plain": [
       "(2.5921856961930168e-05, 0.9999919703040315)"
      ]
     },
     "execution_count": 131,
     "metadata": {},
     "output_type": "execute_result"
    }
   ],
   "source": [
    "min(x), max(x)"
   ]
  },
  {
   "cell_type": "code",
   "execution_count": 132,
   "metadata": {},
   "outputs": [
    {
     "data": {
      "text/plain": [
       "array([[0.47949197, 0.95882473, 0.73676118, ..., 0.14115937, 0.53885541,\n",
       "        0.13450273],\n",
       "       [0.79060503, 0.38271067, 0.9311419 , ..., 0.37089709, 0.68090894,\n",
       "        0.58322615],\n",
       "       [0.52935231, 0.81486935, 0.42931959, ..., 0.06702769, 0.42833828,\n",
       "        0.34215717],\n",
       "       ...,\n",
       "       [0.29814719, 0.00764921, 0.47286308, ..., 0.29145535, 0.49886349,\n",
       "        0.35683765],\n",
       "       [0.09241266, 0.62506889, 0.69479809, ..., 0.24415768, 0.35882399,\n",
       "        0.13134043],\n",
       "       [0.52798244, 0.7462105 , 0.19957608, ..., 0.10123289, 0.29256228,\n",
       "        0.47935996]])"
      ]
     },
     "execution_count": 132,
     "metadata": {},
     "output_type": "execute_result"
    }
   ],
   "source": [
    "x=np.random.random([500, 400])\n",
    "x"
   ]
  },
  {
   "cell_type": "code",
   "execution_count": 133,
   "metadata": {},
   "outputs": [
    {
     "data": {
      "text/plain": [
       "array([210.79802414, 196.14996727, 204.46383836, 197.3210146 ,\n",
       "       198.84482482, 206.27096418, 190.18279838, 187.82125113,\n",
       "       190.76802269, 199.84115549, 193.77611008, 197.65242886,\n",
       "       200.68968767, 200.8467147 , 208.69329544, 193.96936981,\n",
       "       198.59923089, 196.82432673, 193.31247599, 197.17674528,\n",
       "       192.54851171, 200.37237446, 195.87676094, 200.15995482,\n",
       "       203.75584955, 202.9677409 , 204.66397215, 202.57730927,\n",
       "       195.16999455, 207.46693644, 195.61056829, 196.14599961,\n",
       "       187.75521933, 202.17183132, 198.84388946, 201.62293999,\n",
       "       189.23100792, 189.51008   , 209.13037463, 198.90044613,\n",
       "       199.74027858, 202.74012691, 203.85595144, 199.28472029,\n",
       "       201.27135193, 207.57034684, 198.98329754, 198.68659074,\n",
       "       208.03328731, 200.16256215, 200.50928413, 203.94082902,\n",
       "       205.69115602, 191.79697694, 191.63907138, 200.60781235,\n",
       "       192.24732424, 189.62653378, 205.83072923, 198.24656105,\n",
       "       201.87537526, 201.66432032, 189.39778065, 201.19103516,\n",
       "       198.41816165, 197.41049649, 193.69619653, 208.76622484,\n",
       "       197.88176506, 204.82418714, 201.33725784, 203.48518265,\n",
       "       199.25675267, 202.42618465, 208.61695756, 193.52492808,\n",
       "       197.70216107, 198.57627143, 199.5284366 , 200.11211643,\n",
       "       202.73619269, 200.7911875 , 193.28618701, 207.42683998,\n",
       "       195.77423876, 200.2591562 , 194.86629409, 200.54548974,\n",
       "       199.23999018, 200.45316314, 189.45440735, 201.4469449 ,\n",
       "       196.51290815, 206.57955388, 197.36872388, 211.73050648,\n",
       "       198.42040038, 192.33331522, 192.15896488, 205.9543915 ,\n",
       "       206.39898146, 207.55487197, 201.01879725, 195.16296166,\n",
       "       205.5913011 , 205.71595313, 201.28571276, 197.66838197,\n",
       "       194.99088566, 209.21022831, 206.38134479, 202.1621698 ,\n",
       "       199.12724414, 210.50679064, 201.45190985, 197.21316539,\n",
       "       205.72944765, 193.86258882, 203.01113227, 192.02786344,\n",
       "       205.14554745, 195.10481339, 190.79836526, 195.44918535,\n",
       "       202.21572198, 203.28359609, 196.44244312, 196.45191272,\n",
       "       191.91079824, 191.1342046 , 196.97534867, 218.56629907,\n",
       "       195.38280407, 197.02640147, 210.34978187, 194.86087697,\n",
       "       194.56305548, 200.53107155, 204.32324955, 204.91650307,\n",
       "       195.26309723, 190.66284426, 192.85022456, 206.31513273,\n",
       "       202.08118813, 206.70348534, 203.93720236, 192.35454459,\n",
       "       207.0327456 , 190.81681504, 207.86362678, 203.62275372,\n",
       "       194.02183868, 196.76675845, 206.87526914, 204.68460861,\n",
       "       208.07755242, 199.60883515, 201.06891152, 193.95651834,\n",
       "       196.72343018, 196.29734994, 197.38116139, 197.08446755,\n",
       "       201.79440406, 206.87122699, 200.6702938 , 202.02400689,\n",
       "       196.34847117, 212.73408249, 201.0890289 , 211.33991451,\n",
       "       200.66987536, 195.57482157, 205.89117977, 201.18786917,\n",
       "       189.1565079 , 204.77543703, 200.57053068, 201.60017248,\n",
       "       200.23213991, 193.31408694, 204.58876836, 201.43911113,\n",
       "       198.75360288, 201.64364611, 198.97973718, 206.03651809,\n",
       "       200.87013445, 208.56606899, 198.06485977, 202.89253482,\n",
       "       202.10684931, 196.88577041, 201.30459173, 202.38309769,\n",
       "       203.23220713, 201.1969522 , 196.68466807, 208.87346441,\n",
       "       202.52087639, 206.17009122, 204.24794199, 203.27573421,\n",
       "       198.00376362, 192.86264265, 202.25127865, 200.89777501,\n",
       "       193.01032331, 203.14417278, 199.9163612 , 199.88870398,\n",
       "       202.02945418, 202.28561304, 201.77313551, 206.37650812,\n",
       "       199.1682231 , 204.14403494, 203.63411934, 196.78553898,\n",
       "       199.18013202, 195.99046655, 195.56413366, 197.71294473,\n",
       "       199.69427303, 195.60026777, 197.92142306, 193.73755962,\n",
       "       201.08113191, 212.30609634, 201.47583913, 204.92862281,\n",
       "       200.87008091, 192.45356121, 196.42876911, 193.64542978,\n",
       "       197.77140411, 194.90534436, 195.7497156 , 195.97824021,\n",
       "       210.68809942, 190.40117902, 201.7810773 , 207.28505515,\n",
       "       201.13486577, 193.79320336, 201.2163157 , 205.88806457,\n",
       "       194.17272142, 206.74103635, 201.50381965, 214.47310177,\n",
       "       198.82701286, 202.82860777, 197.99081602, 202.05308998,\n",
       "       191.40188698, 205.63611901, 197.70893927, 201.81420338,\n",
       "       199.00579797, 199.70620188, 207.13657873, 202.28966672,\n",
       "       196.87287175, 197.01350151, 193.66211825, 193.78595267,\n",
       "       206.22701834, 195.5066353 , 199.47178771, 203.98099367,\n",
       "       201.50362696, 201.3784458 , 201.90819693, 200.81095719,\n",
       "       206.8950294 , 194.37765425, 203.6172543 , 207.77578099,\n",
       "       197.32076919, 197.95459544, 190.24846024, 202.00633772,\n",
       "       202.43425453, 203.42310878, 200.85959062, 188.0612898 ,\n",
       "       198.75289644, 194.36889442, 198.4556969 , 202.70255606,\n",
       "       204.42351097, 196.53630598, 204.68947483, 200.6068132 ,\n",
       "       196.01952453, 200.17255526, 201.15953983, 194.2640107 ,\n",
       "       192.40394162, 195.75548988, 206.11643098, 190.82469297,\n",
       "       201.12113336, 199.76186506, 202.79628963, 205.36730593,\n",
       "       186.95815907, 204.69344474, 207.11745405, 189.9259917 ,\n",
       "       198.06185356, 203.54117999, 203.28032984, 208.03442766,\n",
       "       204.437819  , 188.2733198 , 201.8098932 , 198.42809144,\n",
       "       203.02509534, 212.55170811, 208.5613386 , 195.21916797,\n",
       "       190.98196155, 197.72484868, 190.25506279, 188.76973297,\n",
       "       194.76959642, 201.53720024, 203.7381996 , 201.50221486,\n",
       "       197.89444263, 195.93042054, 199.69820078, 199.44017213,\n",
       "       201.56051772, 205.46362859, 206.63970854, 204.82143193,\n",
       "       199.44110799, 200.24715295, 192.47960575, 203.84535539,\n",
       "       198.27822389, 203.41980847, 193.81687573, 192.59778103,\n",
       "       204.4497492 , 186.94827693, 195.81071638, 207.43885019,\n",
       "       203.00135599, 203.37880508, 199.43544926, 195.90526538,\n",
       "       200.87452123, 192.20146541, 194.50081447, 200.7748453 ,\n",
       "       196.82333882, 205.14073813, 194.66873221, 194.98432742,\n",
       "       190.73676749, 203.95916923, 199.14476308, 205.72370676,\n",
       "       202.47129678, 202.71870646, 205.40909075, 193.43012608,\n",
       "       200.9234237 , 209.17262389, 191.54229083, 194.9801071 ,\n",
       "       205.84957795, 209.39512854, 209.60661728, 200.70540133,\n",
       "       195.80186345, 195.05748542, 204.8313826 , 197.64118407,\n",
       "       210.87371353, 200.26086897, 202.35608531, 208.29354567,\n",
       "       203.08019735, 195.7133493 , 209.11012652, 199.85520196,\n",
       "       196.58542447, 201.03523262, 191.60195911, 194.90839641,\n",
       "       203.42208851, 192.33377539, 205.3408243 , 202.0903202 ,\n",
       "       204.0245951 , 200.38818951, 192.43228962, 204.49388241,\n",
       "       198.498076  , 197.2163976 , 202.45481566, 196.54234707,\n",
       "       194.26007595, 190.51022006, 193.34626293, 199.79409084,\n",
       "       200.48610482, 199.17345465, 203.46745007, 205.05783778,\n",
       "       195.3191011 , 193.86086578, 204.20529553, 194.26983528,\n",
       "       192.61214152, 188.71367253, 198.57001693, 205.10627726,\n",
       "       205.01089027, 205.03552217, 210.46312492, 196.86463049,\n",
       "       211.63161345, 202.8377045 , 201.99564157, 198.94676809,\n",
       "       204.84049321, 198.25894936, 203.19039654, 209.83985632,\n",
       "       190.87245553, 187.02519949, 186.4700985 , 206.43939372,\n",
       "       198.99188355, 200.1910552 , 205.34079498, 195.77329183,\n",
       "       195.09591836, 189.63730022, 201.51181382, 205.15653774,\n",
       "       202.85931142, 206.89741132, 205.85161291, 206.74789963,\n",
       "       201.10337042, 208.19374259, 205.39932349, 192.84122106,\n",
       "       193.08718539, 201.3519728 , 197.19025127, 203.46760052,\n",
       "       200.8574543 , 197.25628423, 198.03489943, 205.54446373,\n",
       "       194.57813783, 203.13980008, 199.45773508, 196.66021048,\n",
       "       200.23368781, 196.15428296, 197.04281483, 204.18737214,\n",
       "       197.44307323, 203.44326954, 200.99160823, 189.28466626,\n",
       "       205.13632422, 198.34903056, 201.92957174, 207.09860878,\n",
       "       200.43668941, 195.91684947, 195.18224314, 197.4029804 ,\n",
       "       192.91592979, 202.36905997, 205.78167976, 196.80885192,\n",
       "       200.957383  , 198.53113037, 198.18714943, 200.97606916,\n",
       "       199.54743895, 194.37816413, 200.36020353, 196.47394216,\n",
       "       195.50917046, 193.63144789, 201.01293367, 199.98951153])"
      ]
     },
     "execution_count": 133,
     "metadata": {},
     "output_type": "execute_result"
    }
   ],
   "source": [
    "a=np.sum(x, axis=1)\n",
    "a"
   ]
  },
  {
   "cell_type": "code",
   "execution_count": 134,
   "metadata": {},
   "outputs": [
    {
     "data": {
      "text/plain": [
       "array([243.84566059, 250.4659896 , 241.61444783, 248.35725707,\n",
       "       248.61460019, 247.89460386, 262.92252991, 247.9095569 ,\n",
       "       241.46590228, 252.77551339, 245.675392  , 247.679237  ,\n",
       "       252.06976306, 255.98749898, 245.63240056, 241.26471913,\n",
       "       246.03895687, 255.78988019, 243.80203056, 246.38910854,\n",
       "       254.55855172, 235.4000294 , 249.28516387, 255.18035592,\n",
       "       258.13603435, 251.46788261, 258.02991187, 244.34407173,\n",
       "       238.09264641, 250.7356315 , 254.26208595, 248.29037693,\n",
       "       242.45952102, 242.84019054, 257.42321146, 254.04951077,\n",
       "       242.43475347, 251.82569408, 262.18262211, 249.82202199,\n",
       "       258.81401836, 254.62309655, 247.50201873, 239.89728123,\n",
       "       247.35541826, 250.36632911, 251.81126244, 243.23071969,\n",
       "       255.06278496, 257.7096811 , 248.51180796, 260.08577824,\n",
       "       248.27356383, 248.71603631, 261.92153135, 249.13826355,\n",
       "       253.81726844, 240.59731106, 242.29956651, 248.20376091,\n",
       "       251.4815467 , 250.60912576, 241.81532492, 236.32276031,\n",
       "       239.34981995, 243.161562  , 251.44475177, 248.57317221,\n",
       "       241.0925199 , 249.3449348 , 251.56351385, 251.48904062,\n",
       "       252.52766563, 257.18385934, 248.79665136, 248.5578092 ,\n",
       "       249.78989311, 245.54919948, 244.84443236, 256.23493157,\n",
       "       250.08780978, 245.45988159, 252.8427711 , 245.18353162,\n",
       "       251.01182501, 251.99588334, 245.31389983, 261.55337087,\n",
       "       257.30711844, 254.58287619, 253.66585554, 251.27178324,\n",
       "       244.52188818, 248.2586798 , 247.96653805, 252.3221947 ,\n",
       "       259.44573725, 257.78802067, 248.25519565, 241.26316025,\n",
       "       243.99360661, 249.78896479, 248.56894325, 250.05041779,\n",
       "       247.37728024, 237.80250205, 252.35520531, 242.40169787,\n",
       "       246.12560911, 240.44607462, 248.98252596, 255.52990734,\n",
       "       253.23853237, 234.55419806, 249.66385986, 250.35410394,\n",
       "       248.54596526, 254.21093186, 247.2498012 , 253.65202337,\n",
       "       256.55355657, 262.35315186, 249.73690174, 252.70262739,\n",
       "       248.60221694, 242.53005669, 249.94616894, 255.50247537,\n",
       "       252.70329206, 250.04323706, 249.20580825, 257.71326975,\n",
       "       243.18701593, 249.12199994, 236.31160118, 251.16287509,\n",
       "       244.1599011 , 253.91673025, 245.54246675, 261.91022761,\n",
       "       249.28170908, 255.5633881 , 248.05145379, 254.13400471,\n",
       "       257.52333696, 250.39112201, 232.45228139, 253.66854125,\n",
       "       248.99911006, 257.48819915, 253.60826054, 264.65889563,\n",
       "       246.6198655 , 247.14318724, 253.38725795, 255.18642497,\n",
       "       258.25389891, 261.51384304, 245.35386384, 254.34417498,\n",
       "       238.90679328, 252.68704846, 234.01061002, 242.73061318,\n",
       "       246.29951338, 262.9858373 , 252.86486687, 235.65952152,\n",
       "       263.17663245, 238.41477795, 241.7069145 , 249.76548342,\n",
       "       245.30916934, 250.45635021, 242.99671892, 248.53119884,\n",
       "       257.27243353, 246.91436512, 247.52517311, 252.64470071,\n",
       "       249.59076107, 256.33887625, 249.30958813, 250.48363091,\n",
       "       244.81609096, 246.71431797, 258.2713774 , 247.89441451,\n",
       "       247.85339372, 257.93094201, 240.36928861, 257.56320502,\n",
       "       249.23837324, 250.63019958, 254.26045441, 251.00145911,\n",
       "       239.01771326, 247.92311706, 248.97702072, 250.89303176,\n",
       "       254.61621615, 252.66970508, 250.82021592, 244.90853684,\n",
       "       252.26220352, 258.81844905, 237.52564741, 245.74611924,\n",
       "       246.27910204, 245.62617324, 255.82205603, 242.27156745,\n",
       "       262.32779466, 253.05817826, 257.4767788 , 248.41871063,\n",
       "       249.19788193, 245.59247115, 246.52827339, 244.55907864,\n",
       "       250.80740356, 256.33678023, 241.69244097, 259.25946051,\n",
       "       248.39046787, 251.55729962, 266.6604169 , 252.11823243,\n",
       "       252.41306548, 241.53373289, 246.58972131, 246.12721908,\n",
       "       248.21182286, 251.0187406 , 241.43543735, 234.9586787 ,\n",
       "       257.96357164, 255.55849867, 257.91898989, 251.90805993,\n",
       "       260.73097321, 256.06001156, 256.6580295 , 250.74637859,\n",
       "       253.8451278 , 265.67911228, 251.09035719, 250.6452016 ,\n",
       "       249.4202019 , 249.74514302, 241.57420203, 250.26735143,\n",
       "       249.22240603, 241.86157651, 248.11308769, 245.6450098 ,\n",
       "       252.90443771, 253.73436349, 249.92130098, 242.24018689,\n",
       "       247.05410769, 247.71399079, 240.97211577, 247.98253342,\n",
       "       240.96507646, 245.04693947, 249.43856273, 240.86528963,\n",
       "       249.94160822, 252.50544161, 247.53510507, 250.16071925,\n",
       "       264.75541499, 237.32146416, 257.07568246, 254.72595531,\n",
       "       254.91367724, 254.50454969, 256.15607422, 251.01984505,\n",
       "       253.45957412, 249.2920354 , 252.4104446 , 251.85500327,\n",
       "       262.12886728, 249.76412509, 251.72263303, 253.41427853,\n",
       "       249.64117203, 251.07329069, 253.29585311, 254.77120063,\n",
       "       244.68372123, 255.91293685, 255.66114818, 259.50141714,\n",
       "       246.92020018, 249.6120753 , 248.66444194, 247.00059843,\n",
       "       257.62591048, 240.73507593, 251.29151261, 241.66676109,\n",
       "       244.05892866, 257.10672993, 241.77671945, 250.79859761,\n",
       "       245.88076265, 243.51409649, 252.02554077, 239.9377196 ,\n",
       "       250.75575135, 245.73832529, 245.56851016, 241.3286692 ,\n",
       "       246.07059168, 247.9725874 , 257.84091587, 242.2982806 ,\n",
       "       253.84512496, 248.19067005, 247.23999265, 240.30800316,\n",
       "       247.08786817, 249.56158637, 247.83483417, 264.55990515,\n",
       "       256.52336664, 260.1349178 , 257.13293284, 241.61503234,\n",
       "       255.99622873, 244.47387982, 256.40572219, 246.14967982,\n",
       "       240.47915413, 249.70931002, 251.97537013, 250.66056068,\n",
       "       260.45849776, 248.99937065, 246.7239068 , 254.58636369,\n",
       "       249.90961668, 260.27877898, 253.32174671, 245.45142047,\n",
       "       260.07004938, 259.59951982, 248.79230067, 247.880326  ,\n",
       "       253.10101118, 249.29572688, 252.70236327, 251.01628118,\n",
       "       251.86416609, 249.45752611, 243.79937132, 258.87800107,\n",
       "       241.54935913, 247.76092692, 249.13217401, 253.22082735,\n",
       "       247.96283727, 246.28646351, 247.34447102, 239.83558503,\n",
       "       252.8645466 , 262.65755505, 250.8699444 , 243.1771495 ,\n",
       "       238.96330221, 245.08121269, 245.68119142, 243.47974569,\n",
       "       249.03605639, 261.1301943 , 256.22180254, 246.24822951,\n",
       "       252.84275109, 246.41360987, 246.59191504, 243.63571685,\n",
       "       248.7815972 , 247.9846218 , 252.57518084, 239.55650219,\n",
       "       250.97097572, 254.79367867, 243.20839508, 250.46805793,\n",
       "       248.09667439, 249.66758479, 265.15397474, 249.45342029,\n",
       "       252.08467778, 261.64312394, 247.71009043, 240.74645447])"
      ]
     },
     "execution_count": 134,
     "metadata": {},
     "output_type": "execute_result"
    }
   ],
   "source": [
    "b=np.sum(x, axis=0)\n",
    "b"
   ]
  },
  {
   "cell_type": "code",
   "execution_count": 135,
   "metadata": {},
   "outputs": [
    {
     "data": {
      "text/plain": [
       "200.31053624932207"
      ]
     },
     "execution_count": 135,
     "metadata": {},
     "output_type": "execute_result"
    }
   ],
   "source": [
    "np.median(a)"
   ]
  },
  {
   "cell_type": "code",
   "execution_count": 136,
   "metadata": {},
   "outputs": [
    {
     "data": {
      "text/plain": [
       "249.6525159437308"
      ]
     },
     "execution_count": 136,
     "metadata": {},
     "output_type": "execute_result"
    }
   ],
   "source": [
    "np.median(b)"
   ]
  },
  {
   "cell_type": "code",
   "execution_count": 137,
   "metadata": {},
   "outputs": [],
   "source": [
    "import pandas as pd\n",
    "train  = pd.read_csv(\"Datasets/train.csv\")\n",
    "test = pd.read_csv(\"Datasets/test.csv\")\n"
   ]
  },
  {
   "cell_type": "code",
   "execution_count": 138,
   "metadata": {},
   "outputs": [],
   "source": [
    "train.workclass.value_counts(sort=True)\n",
    "train.workclass.fillna('Private',inplace=True)\n",
    "train.occupation.value_counts(sort=True)\n",
    "train.occupation.fillna('Prof-specialty',inplace=True)\n",
    "train['native.country'].value_counts(sort=True)\n",
    "train['native.country'].fillna('United-States',inplace=True)"
   ]
  },
  {
   "cell_type": "code",
   "execution_count": 139,
   "metadata": {},
   "outputs": [
    {
     "data": {
      "text/html": [
       "<div>\n",
       "<style scoped>\n",
       "    .dataframe tbody tr th:only-of-type {\n",
       "        vertical-align: middle;\n",
       "    }\n",
       "\n",
       "    .dataframe tbody tr th {\n",
       "        vertical-align: top;\n",
       "    }\n",
       "\n",
       "    .dataframe thead th {\n",
       "        text-align: right;\n",
       "    }\n",
       "</style>\n",
       "<table border=\"1\" class=\"dataframe\">\n",
       "  <thead>\n",
       "    <tr style=\"text-align: right;\">\n",
       "      <th></th>\n",
       "      <th>age</th>\n",
       "      <th>workclass</th>\n",
       "      <th>fnlwgt</th>\n",
       "      <th>education</th>\n",
       "      <th>education.num</th>\n",
       "      <th>marital.status</th>\n",
       "      <th>occupation</th>\n",
       "      <th>relationship</th>\n",
       "      <th>race</th>\n",
       "      <th>sex</th>\n",
       "      <th>capital.gain</th>\n",
       "      <th>capital.loss</th>\n",
       "      <th>hours.per.week</th>\n",
       "      <th>native.country</th>\n",
       "      <th>target</th>\n",
       "    </tr>\n",
       "  </thead>\n",
       "  <tbody>\n",
       "    <tr>\n",
       "      <th>0</th>\n",
       "      <td>39</td>\n",
       "      <td>State-gov</td>\n",
       "      <td>77516</td>\n",
       "      <td>Bachelors</td>\n",
       "      <td>13</td>\n",
       "      <td>Never-married</td>\n",
       "      <td>Adm-clerical</td>\n",
       "      <td>Not-in-family</td>\n",
       "      <td>White</td>\n",
       "      <td>Male</td>\n",
       "      <td>2174</td>\n",
       "      <td>0</td>\n",
       "      <td>40</td>\n",
       "      <td>United-States</td>\n",
       "      <td>&lt;=50K</td>\n",
       "    </tr>\n",
       "    <tr>\n",
       "      <th>1</th>\n",
       "      <td>50</td>\n",
       "      <td>Self-emp-not-inc</td>\n",
       "      <td>83311</td>\n",
       "      <td>Bachelors</td>\n",
       "      <td>13</td>\n",
       "      <td>Married-civ-spouse</td>\n",
       "      <td>Exec-managerial</td>\n",
       "      <td>Husband</td>\n",
       "      <td>White</td>\n",
       "      <td>Male</td>\n",
       "      <td>0</td>\n",
       "      <td>0</td>\n",
       "      <td>13</td>\n",
       "      <td>United-States</td>\n",
       "      <td>&lt;=50K</td>\n",
       "    </tr>\n",
       "    <tr>\n",
       "      <th>2</th>\n",
       "      <td>38</td>\n",
       "      <td>Private</td>\n",
       "      <td>215646</td>\n",
       "      <td>HS-grad</td>\n",
       "      <td>9</td>\n",
       "      <td>Divorced</td>\n",
       "      <td>Handlers-cleaners</td>\n",
       "      <td>Not-in-family</td>\n",
       "      <td>White</td>\n",
       "      <td>Male</td>\n",
       "      <td>0</td>\n",
       "      <td>0</td>\n",
       "      <td>40</td>\n",
       "      <td>United-States</td>\n",
       "      <td>&lt;=50K</td>\n",
       "    </tr>\n",
       "    <tr>\n",
       "      <th>3</th>\n",
       "      <td>53</td>\n",
       "      <td>Private</td>\n",
       "      <td>234721</td>\n",
       "      <td>11th</td>\n",
       "      <td>7</td>\n",
       "      <td>Married-civ-spouse</td>\n",
       "      <td>Handlers-cleaners</td>\n",
       "      <td>Husband</td>\n",
       "      <td>Black</td>\n",
       "      <td>Male</td>\n",
       "      <td>0</td>\n",
       "      <td>0</td>\n",
       "      <td>40</td>\n",
       "      <td>United-States</td>\n",
       "      <td>&lt;=50K</td>\n",
       "    </tr>\n",
       "    <tr>\n",
       "      <th>4</th>\n",
       "      <td>28</td>\n",
       "      <td>Private</td>\n",
       "      <td>338409</td>\n",
       "      <td>Bachelors</td>\n",
       "      <td>13</td>\n",
       "      <td>Married-civ-spouse</td>\n",
       "      <td>Prof-specialty</td>\n",
       "      <td>Wife</td>\n",
       "      <td>Black</td>\n",
       "      <td>Female</td>\n",
       "      <td>0</td>\n",
       "      <td>0</td>\n",
       "      <td>40</td>\n",
       "      <td>Cuba</td>\n",
       "      <td>&lt;=50K</td>\n",
       "    </tr>\n",
       "  </tbody>\n",
       "</table>\n",
       "</div>"
      ],
      "text/plain": [
       "   age          workclass  fnlwgt   education  education.num  \\\n",
       "0   39          State-gov   77516   Bachelors             13   \n",
       "1   50   Self-emp-not-inc   83311   Bachelors             13   \n",
       "2   38            Private  215646     HS-grad              9   \n",
       "3   53            Private  234721        11th              7   \n",
       "4   28            Private  338409   Bachelors             13   \n",
       "\n",
       "        marital.status          occupation    relationship    race      sex  \\\n",
       "0        Never-married        Adm-clerical   Not-in-family   White     Male   \n",
       "1   Married-civ-spouse     Exec-managerial         Husband   White     Male   \n",
       "2             Divorced   Handlers-cleaners   Not-in-family   White     Male   \n",
       "3   Married-civ-spouse   Handlers-cleaners         Husband   Black     Male   \n",
       "4   Married-civ-spouse      Prof-specialty            Wife   Black   Female   \n",
       "\n",
       "   capital.gain  capital.loss  hours.per.week  native.country  target  \n",
       "0          2174             0              40   United-States   <=50K  \n",
       "1             0             0              13   United-States   <=50K  \n",
       "2             0             0              40   United-States   <=50K  \n",
       "3             0             0              40   United-States   <=50K  \n",
       "4             0             0              40            Cuba   <=50K  "
      ]
     },
     "execution_count": 139,
     "metadata": {},
     "output_type": "execute_result"
    }
   ],
   "source": [
    "train.head()"
   ]
  }
 ],
 "metadata": {
  "kernelspec": {
   "display_name": "Python 3",
   "language": "python",
   "name": "python3"
  },
  "language_info": {
   "codemirror_mode": {
    "name": "ipython",
    "version": 3
   },
   "file_extension": ".py",
   "mimetype": "text/x-python",
   "name": "python",
   "nbconvert_exporter": "python",
   "pygments_lexer": "ipython3",
   "version": "3.7.6"
  }
 },
 "nbformat": 4,
 "nbformat_minor": 4
}
