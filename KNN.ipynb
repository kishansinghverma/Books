{
 "cells": [
  {
   "cell_type": "code",
   "execution_count": 16,
   "metadata": {},
   "outputs": [],
   "source": [
    "import numpy as np\n",
    "import matplotlib.pyplot as plt"
   ]
  },
  {
   "cell_type": "code",
   "execution_count": 17,
   "metadata": {},
   "outputs": [
    {
     "data": {
      "text/plain": [
       "array([[0.54305776, 0.9746165 ],\n",
       "       [0.62746625, 0.08619549],\n",
       "       [0.78531351, 0.37159449],\n",
       "       [0.04219856, 0.16400054],\n",
       "       [0.3285105 , 0.3152397 ],\n",
       "       [0.78892753, 0.55314278],\n",
       "       [0.60799955, 0.50846321],\n",
       "       [0.38047578, 0.77021919],\n",
       "       [0.24931291, 0.51393777],\n",
       "       [0.07731315, 0.48136669]])"
      ]
     },
     "execution_count": 17,
     "metadata": {},
     "output_type": "execute_result"
    }
   ],
   "source": [
    "x=np.random.rand(10,2)\n",
    "x"
   ]
  },
  {
   "cell_type": "code",
   "execution_count": 18,
   "metadata": {},
   "outputs": [
    {
     "data": {
      "text/plain": [
       "<matplotlib.collections.PathCollection at 0x7f812a5803d0>"
      ]
     },
     "execution_count": 18,
     "metadata": {},
     "output_type": "execute_result"
    },
    {
     "data": {
      "image/png": "[encoded data removed]",
      "text/plain": [
       "<Figure size 432x288 with 1 Axes>"
      ]
     },
     "metadata": {
      "needs_background": "light"
     },
     "output_type": "display_data"
    }
   ],
   "source": [
    "plt.scatter(x[:, 0], x[:, 1])"
   ]
  },
  {
   "cell_type": "code",
   "execution_count": 19,
   "metadata": {},
   "outputs": [
    {
     "data": {
      "text/plain": [
       "array([[0., 0., 0., 0., 0., 0., 0., 0., 0., 0.],\n",
       "       [0., 0., 0., 0., 0., 0., 0., 0., 0., 0.],\n",
       "       [0., 0., 0., 0., 0., 0., 0., 0., 0., 0.],\n",
       "       [0., 0., 0., 0., 0., 0., 0., 0., 0., 0.],\n",
       "       [0., 0., 0., 0., 0., 0., 0., 0., 0., 0.],\n",
       "       [0., 0., 0., 0., 0., 0., 0., 0., 0., 0.],\n",
       "       [0., 0., 0., 0., 0., 0., 0., 0., 0., 0.],\n",
       "       [0., 0., 0., 0., 0., 0., 0., 0., 0., 0.],\n",
       "       [0., 0., 0., 0., 0., 0., 0., 0., 0., 0.],\n",
       "       [0., 0., 0., 0., 0., 0., 0., 0., 0., 0.]])"
      ]
     },
     "execution_count": 19,
     "metadata": {},
     "output_type": "execute_result"
    }
   ],
   "source": [
    "res=np.zeros([x.shape[0], x.shape[0]])\n",
    "res"
   ]
  },
  {
   "cell_type": "code",
   "execution_count": 20,
   "metadata": {},
   "outputs": [
    {
     "data": {
      "text/plain": [
       "array([[0.        , 0.89242181, 0.64986414, 0.95286838, 0.69340341,\n",
       "        0.48794677, 0.47065521, 0.26117266, 0.54636154, 0.67839031],\n",
       "       [0.89242181, 0.        , 0.3261416 , 0.59041671, 0.37661092,\n",
       "        0.4940744 , 0.42271619, 0.7272501 , 0.57093205, 0.67736896],\n",
       "       [0.64986414, 0.3261416 , 0.        , 0.77156663, 0.46026606,\n",
       "        0.18158425, 0.22399394, 0.56815072, 0.55457935, 0.71645966],\n",
       "       [0.95286838, 0.59041671, 0.77156663, 0.        , 0.32380211,\n",
       "        0.84204265, 0.6624087 , 0.6942136 , 0.40663548, 0.31930284],\n",
       "       [0.69340341, 0.37661092, 0.46026606, 0.32380211, 0.        ,\n",
       "        0.5182487 , 0.33977854, 0.45793748, 0.21389994, 0.30116156],\n",
       "       [0.48794677, 0.4940744 , 0.18158425, 0.84204265, 0.5182487 ,\n",
       "        0.        , 0.18636308, 0.4625527 , 0.54103694, 0.71522502],\n",
       "       [0.47065521, 0.42271619, 0.22399394, 0.6624087 , 0.33977854,\n",
       "        0.18636308, 0.        , 0.34681877, 0.35872842, 0.53137771],\n",
       "       [0.26117266, 0.7272501 , 0.56815072, 0.6942136 , 0.45793748,\n",
       "        0.4625527 , 0.34681877, 0.        , 0.28789558, 0.41874019],\n",
       "       [0.54636154, 0.57093205, 0.55457935, 0.40663548, 0.21389994,\n",
       "        0.54103694, 0.35872842, 0.28789558, 0.        , 0.17505653],\n",
       "       [0.67839031, 0.67736896, 0.71645966, 0.31930284, 0.30116156,\n",
       "        0.71522502, 0.53137771, 0.41874019, 0.17505653, 0.        ]])"
      ]
     },
     "execution_count": 20,
     "metadata": {},
     "output_type": "execute_result"
    }
   ],
   "source": [
    "def getDistance(p1, p2):\n",
    "    return (((p1[0]-p2[0])**2)+((p1[1]-p2[1])**2))**(1/2)\n",
    "\n",
    "def run():\n",
    "    for i in range(len(x)):\n",
    "        for j in range(len(x)):\n",
    "            res[i][j]=(getDistance(x[i], x[j]))\n",
    "run()\n",
    "res"
   ]
  },
  {
   "cell_type": "code",
   "execution_count": 21,
   "metadata": {},
   "outputs": [
    {
     "data": {
      "text/plain": [
       "array([[0, 7, 6, 5, 8, 2, 9, 4, 1, 3],\n",
       "       [1, 2, 4, 6, 5, 8, 3, 9, 7, 0],\n",
       "       [2, 5, 6, 1, 4, 8, 7, 0, 9, 3],\n",
       "       [3, 9, 4, 8, 1, 6, 7, 2, 5, 0],\n",
       "       [4, 8, 9, 3, 6, 1, 7, 2, 5, 0],\n",
       "       [5, 2, 6, 7, 0, 1, 4, 8, 9, 3],\n",
       "       [6, 5, 2, 4, 7, 8, 1, 0, 9, 3],\n",
       "       [7, 0, 8, 6, 9, 4, 5, 2, 3, 1],\n",
       "       [8, 9, 4, 7, 6, 3, 5, 0, 2, 1],\n",
       "       [9, 8, 4, 3, 7, 6, 1, 0, 5, 2]])"
      ]
     },
     "execution_count": 21,
     "metadata": {},
     "output_type": "execute_result"
    }
   ],
   "source": [
    "np.argsort(res, axis=1)"
   ]
  }
 ],
 "metadata": {
  "kernelspec": {
   "display_name": "Python 3",
   "language": "python",
   "name": "python3"
  },
  "language_info": {
   "codemirror_mode": {
    "name": "ipython",
    "version": 3
   },
   "file_extension": ".py",
   "mimetype": "text/x-python",
   "name": "python",
   "nbconvert_exporter": "python",
   "pygments_lexer": "ipython3",
   "version": "3.7.6"
  }
 },
 "nbformat": 4,
 "nbformat_minor": 4
}
