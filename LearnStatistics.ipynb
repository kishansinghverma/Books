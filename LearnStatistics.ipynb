{
 "cells": [
  {
   "cell_type": "code",
   "execution_count": 1,
   "metadata": {},
   "outputs": [],
   "source": [
    "#class 10\n",
    "import numpy as np\n",
    "import matplotlib.pyplot as plt\n",
    "import seaborn\n",
    "import pandas as pd\n",
    "seaborn.set()\n",
    "xi=np.array([10, 20, 36, 40, 50, 56, 60, 70, 72, 80, 88, 92, 95])\n",
    "fi=np.array([1,1,3,4,3,2,4,4,1,1,2,3,1])"
   ]
  },
  {
   "cell_type": "code",
   "execution_count": 2,
   "metadata": {},
   "outputs": [
    {
     "data": {
      "text/plain": [
       "array([10, 20, 36, 40, 50, 56, 60, 70, 72, 80, 88, 92, 95])"
      ]
     },
     "execution_count": 2,
     "metadata": {},
     "output_type": "execute_result"
    }
   ],
   "source": [
    "xi"
   ]
  },
  {
   "cell_type": "code",
   "execution_count": 3,
   "metadata": {},
   "outputs": [
    {
     "data": {
      "text/plain": [
       "array([1, 1, 3, 4, 3, 2, 4, 4, 1, 1, 2, 3, 1])"
      ]
     },
     "execution_count": 3,
     "metadata": {},
     "output_type": "execute_result"
    }
   ],
   "source": [
    "fi"
   ]
  },
  {
   "cell_type": "code",
   "execution_count": 4,
   "metadata": {},
   "outputs": [
    {
     "data": {
      "text/plain": [
       "array([ 10,  20, 108, 160, 150, 112, 240, 280,  72,  80, 176, 276,  95])"
      ]
     },
     "execution_count": 4,
     "metadata": {},
     "output_type": "execute_result"
    }
   ],
   "source": [
    "fx=fi*xi\n",
    "fx"
   ]
  },
  {
   "cell_type": "code",
   "execution_count": 5,
   "metadata": {},
   "outputs": [
    {
     "data": {
      "text/plain": [
       "59.3"
      ]
     },
     "execution_count": 5,
     "metadata": {},
     "output_type": "execute_result"
    }
   ],
   "source": [
    "fx.sum()/fi.sum()"
   ]
  },
  {
   "cell_type": "code",
   "execution_count": 6,
   "metadata": {},
   "outputs": [
    {
     "data": {
      "text/plain": [
       "array([10, 20, 36, 36, 36, 40, 40, 40, 40, 50, 50, 50, 56, 56, 60, 60, 60,\n",
       "       60, 70, 70, 70, 70, 72, 80, 88, 88, 92, 92, 92, 95])"
      ]
     },
     "execution_count": 6,
     "metadata": {},
     "output_type": "execute_result"
    }
   ],
   "source": [
    "#expanding data\n",
    "marks=[]\n",
    "for i in range(len(xi)):\n",
    "    for j in range(fi[i]):\n",
    "        marks.append(xi[i])\n",
    "        \n",
    "marks=np.array(marks)\n",
    "marks"
   ]
  },
  {
   "cell_type": "code",
   "execution_count": 7,
   "metadata": {},
   "outputs": [
    {
     "data": {
      "text/plain": [
       "59.3"
      ]
     },
     "execution_count": 7,
     "metadata": {},
     "output_type": "execute_result"
    }
   ],
   "source": [
    "marks.mean()"
   ]
  },
  {
   "cell_type": "code",
   "execution_count": 8,
   "metadata": {},
   "outputs": [],
   "source": [
    "bin=[10,25,40,55,70,85,100]\n",
    "arr, bin=np.histogram(marks, bin)"
   ]
  },
  {
   "cell_type": "code",
   "execution_count": 9,
   "metadata": {},
   "outputs": [
    {
     "data": {
      "text/plain": [
       "(array([2., 3., 7., 6., 6., 6.]),\n",
       " array([ 10,  25,  40,  55,  70,  85, 100]),\n",
       " <a list of 6 Patch objects>)"
      ]
     },
     "execution_count": 9,
     "metadata": {},
     "output_type": "execute_result"
    },
    {
     "data": {
      "image/png": "[encoded data removed]",
      "text/plain": [
       "<Figure size 432x288 with 1 Axes>"
      ]
     },
     "metadata": {},
     "output_type": "display_data"
    }
   ],
   "source": [
    "plt.xticks([10, 25, 40, 55, 70, 85, 100])\n",
    "plt.hist(marks, bin)"
   ]
  },
  {
   "cell_type": "code",
   "execution_count": 10,
   "metadata": {},
   "outputs": [],
   "source": [
    "class_int=[]\n",
    "for i in range(len(bin[1:])):\n",
    "    class_int.append((bin[i]+bin[i+1])/2)"
   ]
  },
  {
   "cell_type": "code",
   "execution_count": 11,
   "metadata": {},
   "outputs": [
    {
     "data": {
      "text/plain": [
       "62.0"
      ]
     },
     "execution_count": 11,
     "metadata": {},
     "output_type": "execute_result"
    }
   ],
   "source": [
    "(arr*class_int).sum()/fi.sum() #direct method"
   ]
  },
  {
   "cell_type": "code",
   "execution_count": 12,
   "metadata": {},
   "outputs": [
    {
     "data": {
      "text/plain": [
       "[17.5, 32.5, 47.5, 62.5, 77.5, 92.5]"
      ]
     },
     "execution_count": 12,
     "metadata": {},
     "output_type": "execute_result"
    }
   ],
   "source": [
    "class_int"
   ]
  },
  {
   "cell_type": "code",
   "execution_count": 13,
   "metadata": {},
   "outputs": [
    {
     "data": {
      "text/plain": [
       "array([-45., -30., -15.,   0.,  15.,  30.])"
      ]
     },
     "execution_count": 13,
     "metadata": {},
     "output_type": "execute_result"
    }
   ],
   "source": [
    "distant=class_int-class_int[(len(class_int)//2)]\n",
    "distant"
   ]
  },
  {
   "cell_type": "code",
   "execution_count": 14,
   "metadata": {},
   "outputs": [
    {
     "data": {
      "text/plain": [
       "-15.0"
      ]
     },
     "execution_count": 14,
     "metadata": {},
     "output_type": "execute_result"
    }
   ],
   "source": [
    "fidi=(distant*arr).sum()\n",
    "fidi"
   ]
  },
  {
   "cell_type": "code",
   "execution_count": 15,
   "metadata": {},
   "outputs": [],
   "source": [
    "t=fidi/fi.sum()"
   ]
  },
  {
   "cell_type": "code",
   "execution_count": 16,
   "metadata": {},
   "outputs": [
    {
     "data": {
      "text/plain": [
       "62.0"
      ]
     },
     "execution_count": 16,
     "metadata": {},
     "output_type": "execute_result"
    }
   ],
   "source": [
    "t+class_int[(len(class_int)//2)] #assumed mean"
   ]
  },
  {
   "cell_type": "code",
   "execution_count": 17,
   "metadata": {},
   "outputs": [
    {
     "data": {
      "text/plain": [
       "array([-3., -2., -1.,  0.,  1.,  2.])"
      ]
     },
     "execution_count": 17,
     "metadata": {},
     "output_type": "execute_result"
    }
   ],
   "source": [
    "distant=distant/15\n",
    "distant"
   ]
  },
  {
   "cell_type": "code",
   "execution_count": 18,
   "metadata": {},
   "outputs": [
    {
     "data": {
      "text/plain": [
       "-1.0"
      ]
     },
     "execution_count": 18,
     "metadata": {},
     "output_type": "execute_result"
    }
   ],
   "source": [
    "fiui=(distant*arr).sum()\n",
    "fiui"
   ]
  },
  {
   "cell_type": "code",
   "execution_count": 19,
   "metadata": {},
   "outputs": [
    {
     "data": {
      "text/plain": [
       "62.0"
      ]
     },
     "execution_count": 19,
     "metadata": {},
     "output_type": "execute_result"
    }
   ],
   "source": [
    "class_int[(len(class_int)//2)]+(fiui*15)/fi.sum() #step deviation method"
   ]
  },
  {
   "cell_type": "code",
   "execution_count": 20,
   "metadata": {},
   "outputs": [],
   "source": [
    "class_interval=[15, 25, 35, 45, 55, 65, 75, 85]"
   ]
  },
  {
   "cell_type": "code",
   "execution_count": 21,
   "metadata": {},
   "outputs": [],
   "source": [
    "states=[6, 11, 7, 4, 4, 2, 1]"
   ]
  },
  {
   "cell_type": "code",
   "execution_count": 22,
   "metadata": {},
   "outputs": [
    {
     "data": {
      "text/plain": [
       "[20.0, 30.0, 40.0, 50.0, 60.0, 70.0, 80.0]"
      ]
     },
     "execution_count": 22,
     "metadata": {},
     "output_type": "execute_result"
    }
   ],
   "source": [
    "class_mid=[]\n",
    "for i in range(len(states)):\n",
    "    class_mid.append((class_interval[i]+class_interval[i+1])/2)\n",
    "    \n",
    "class_mid"
   ]
  },
  {
   "cell_type": "code",
   "execution_count": 23,
   "metadata": {},
   "outputs": [],
   "source": [
    "stats=pd.DataFrame()"
   ]
  },
  {
   "cell_type": "code",
   "execution_count": 24,
   "metadata": {},
   "outputs": [
    {
     "data": {
      "text/html": [
       "<div>\n",
       "<style scoped>\n",
       "    .dataframe tbody tr th:only-of-type {\n",
       "        vertical-align: middle;\n",
       "    }\n",
       "\n",
       "    .dataframe tbody tr th {\n",
       "        vertical-align: top;\n",
       "    }\n",
       "\n",
       "    .dataframe thead th {\n",
       "        text-align: right;\n",
       "    }\n",
       "</style>\n",
       "<table border=\"1\" class=\"dataframe\">\n",
       "  <thead>\n",
       "    <tr style=\"text-align: right;\">\n",
       "      <th></th>\n",
       "      <th>fi</th>\n",
       "    </tr>\n",
       "  </thead>\n",
       "  <tbody>\n",
       "    <tr>\n",
       "      <th>0</th>\n",
       "      <td>6</td>\n",
       "    </tr>\n",
       "    <tr>\n",
       "      <th>1</th>\n",
       "      <td>11</td>\n",
       "    </tr>\n",
       "    <tr>\n",
       "      <th>2</th>\n",
       "      <td>7</td>\n",
       "    </tr>\n",
       "    <tr>\n",
       "      <th>3</th>\n",
       "      <td>4</td>\n",
       "    </tr>\n",
       "    <tr>\n",
       "      <th>4</th>\n",
       "      <td>4</td>\n",
       "    </tr>\n",
       "    <tr>\n",
       "      <th>5</th>\n",
       "      <td>2</td>\n",
       "    </tr>\n",
       "    <tr>\n",
       "      <th>6</th>\n",
       "      <td>1</td>\n",
       "    </tr>\n",
       "  </tbody>\n",
       "</table>\n",
       "</div>"
      ],
      "text/plain": [
       "   fi\n",
       "0   6\n",
       "1  11\n",
       "2   7\n",
       "3   4\n",
       "4   4\n",
       "5   2\n",
       "6   1"
      ]
     },
     "execution_count": 24,
     "metadata": {},
     "output_type": "execute_result"
    }
   ],
   "source": [
    "stats['fi']=states\n",
    "stats"
   ]
  },
  {
   "cell_type": "code",
   "execution_count": 25,
   "metadata": {},
   "outputs": [
    {
     "data": {
      "text/html": [
       "<div>\n",
       "<style scoped>\n",
       "    .dataframe tbody tr th:only-of-type {\n",
       "        vertical-align: middle;\n",
       "    }\n",
       "\n",
       "    .dataframe tbody tr th {\n",
       "        vertical-align: top;\n",
       "    }\n",
       "\n",
       "    .dataframe thead th {\n",
       "        text-align: right;\n",
       "    }\n",
       "</style>\n",
       "<table border=\"1\" class=\"dataframe\">\n",
       "  <thead>\n",
       "    <tr style=\"text-align: right;\">\n",
       "      <th></th>\n",
       "      <th>fi</th>\n",
       "      <th>mid_point</th>\n",
       "    </tr>\n",
       "  </thead>\n",
       "  <tbody>\n",
       "    <tr>\n",
       "      <th>0</th>\n",
       "      <td>6</td>\n",
       "      <td>20.0</td>\n",
       "    </tr>\n",
       "    <tr>\n",
       "      <th>1</th>\n",
       "      <td>11</td>\n",
       "      <td>30.0</td>\n",
       "    </tr>\n",
       "    <tr>\n",
       "      <th>2</th>\n",
       "      <td>7</td>\n",
       "      <td>40.0</td>\n",
       "    </tr>\n",
       "    <tr>\n",
       "      <th>3</th>\n",
       "      <td>4</td>\n",
       "      <td>50.0</td>\n",
       "    </tr>\n",
       "    <tr>\n",
       "      <th>4</th>\n",
       "      <td>4</td>\n",
       "      <td>60.0</td>\n",
       "    </tr>\n",
       "    <tr>\n",
       "      <th>5</th>\n",
       "      <td>2</td>\n",
       "      <td>70.0</td>\n",
       "    </tr>\n",
       "    <tr>\n",
       "      <th>6</th>\n",
       "      <td>1</td>\n",
       "      <td>80.0</td>\n",
       "    </tr>\n",
       "  </tbody>\n",
       "</table>\n",
       "</div>"
      ],
      "text/plain": [
       "   fi  mid_point\n",
       "0   6       20.0\n",
       "1  11       30.0\n",
       "2   7       40.0\n",
       "3   4       50.0\n",
       "4   4       60.0\n",
       "5   2       70.0\n",
       "6   1       80.0"
      ]
     },
     "execution_count": 25,
     "metadata": {},
     "output_type": "execute_result"
    }
   ],
   "source": [
    "stats['mid_point']=class_mid\n",
    "stats"
   ]
  },
  {
   "cell_type": "code",
   "execution_count": 26,
   "metadata": {},
   "outputs": [
    {
     "data": {
      "text/html": [
       "<div>\n",
       "<style scoped>\n",
       "    .dataframe tbody tr th:only-of-type {\n",
       "        vertical-align: middle;\n",
       "    }\n",
       "\n",
       "    .dataframe tbody tr th {\n",
       "        vertical-align: top;\n",
       "    }\n",
       "\n",
       "    .dataframe thead th {\n",
       "        text-align: right;\n",
       "    }\n",
       "</style>\n",
       "<table border=\"1\" class=\"dataframe\">\n",
       "  <thead>\n",
       "    <tr style=\"text-align: right;\">\n",
       "      <th></th>\n",
       "      <th>fi</th>\n",
       "      <th>mid_point</th>\n",
       "      <th>fi_xi</th>\n",
       "    </tr>\n",
       "  </thead>\n",
       "  <tbody>\n",
       "    <tr>\n",
       "      <th>0</th>\n",
       "      <td>6</td>\n",
       "      <td>20.0</td>\n",
       "      <td>120.0</td>\n",
       "    </tr>\n",
       "    <tr>\n",
       "      <th>1</th>\n",
       "      <td>11</td>\n",
       "      <td>30.0</td>\n",
       "      <td>330.0</td>\n",
       "    </tr>\n",
       "    <tr>\n",
       "      <th>2</th>\n",
       "      <td>7</td>\n",
       "      <td>40.0</td>\n",
       "      <td>280.0</td>\n",
       "    </tr>\n",
       "    <tr>\n",
       "      <th>3</th>\n",
       "      <td>4</td>\n",
       "      <td>50.0</td>\n",
       "      <td>200.0</td>\n",
       "    </tr>\n",
       "    <tr>\n",
       "      <th>4</th>\n",
       "      <td>4</td>\n",
       "      <td>60.0</td>\n",
       "      <td>240.0</td>\n",
       "    </tr>\n",
       "    <tr>\n",
       "      <th>5</th>\n",
       "      <td>2</td>\n",
       "      <td>70.0</td>\n",
       "      <td>140.0</td>\n",
       "    </tr>\n",
       "    <tr>\n",
       "      <th>6</th>\n",
       "      <td>1</td>\n",
       "      <td>80.0</td>\n",
       "      <td>80.0</td>\n",
       "    </tr>\n",
       "  </tbody>\n",
       "</table>\n",
       "</div>"
      ],
      "text/plain": [
       "   fi  mid_point  fi_xi\n",
       "0   6       20.0  120.0\n",
       "1  11       30.0  330.0\n",
       "2   7       40.0  280.0\n",
       "3   4       50.0  200.0\n",
       "4   4       60.0  240.0\n",
       "5   2       70.0  140.0\n",
       "6   1       80.0   80.0"
      ]
     },
     "execution_count": 26,
     "metadata": {},
     "output_type": "execute_result"
    }
   ],
   "source": [
    "stats['fi_xi']=stats['fi']*stats['mid_point']\n",
    "stats"
   ]
  },
  {
   "cell_type": "code",
   "execution_count": 27,
   "metadata": {},
   "outputs": [
    {
     "data": {
      "text/plain": [
       "39.714285714285715"
      ]
     },
     "execution_count": 27,
     "metadata": {},
     "output_type": "execute_result"
    }
   ],
   "source": [
    "stats['fi_xi'].sum()/stats['fi'].sum() #direct method"
   ]
  },
  {
   "cell_type": "code",
   "execution_count": 28,
   "metadata": {},
   "outputs": [
    {
     "data": {
      "text/html": [
       "<div>\n",
       "<style scoped>\n",
       "    .dataframe tbody tr th:only-of-type {\n",
       "        vertical-align: middle;\n",
       "    }\n",
       "\n",
       "    .dataframe tbody tr th {\n",
       "        vertical-align: top;\n",
       "    }\n",
       "\n",
       "    .dataframe thead th {\n",
       "        text-align: right;\n",
       "    }\n",
       "</style>\n",
       "<table border=\"1\" class=\"dataframe\">\n",
       "  <thead>\n",
       "    <tr style=\"text-align: right;\">\n",
       "      <th></th>\n",
       "      <th>fi</th>\n",
       "      <th>mid_point</th>\n",
       "      <th>fi_xi</th>\n",
       "      <th>mid_point-median</th>\n",
       "    </tr>\n",
       "  </thead>\n",
       "  <tbody>\n",
       "    <tr>\n",
       "      <th>0</th>\n",
       "      <td>6</td>\n",
       "      <td>20.0</td>\n",
       "      <td>120.0</td>\n",
       "      <td>-30.0</td>\n",
       "    </tr>\n",
       "    <tr>\n",
       "      <th>1</th>\n",
       "      <td>11</td>\n",
       "      <td>30.0</td>\n",
       "      <td>330.0</td>\n",
       "      <td>-20.0</td>\n",
       "    </tr>\n",
       "    <tr>\n",
       "      <th>2</th>\n",
       "      <td>7</td>\n",
       "      <td>40.0</td>\n",
       "      <td>280.0</td>\n",
       "      <td>-10.0</td>\n",
       "    </tr>\n",
       "    <tr>\n",
       "      <th>3</th>\n",
       "      <td>4</td>\n",
       "      <td>50.0</td>\n",
       "      <td>200.0</td>\n",
       "      <td>0.0</td>\n",
       "    </tr>\n",
       "    <tr>\n",
       "      <th>4</th>\n",
       "      <td>4</td>\n",
       "      <td>60.0</td>\n",
       "      <td>240.0</td>\n",
       "      <td>10.0</td>\n",
       "    </tr>\n",
       "    <tr>\n",
       "      <th>5</th>\n",
       "      <td>2</td>\n",
       "      <td>70.0</td>\n",
       "      <td>140.0</td>\n",
       "      <td>20.0</td>\n",
       "    </tr>\n",
       "    <tr>\n",
       "      <th>6</th>\n",
       "      <td>1</td>\n",
       "      <td>80.0</td>\n",
       "      <td>80.0</td>\n",
       "      <td>30.0</td>\n",
       "    </tr>\n",
       "  </tbody>\n",
       "</table>\n",
       "</div>"
      ],
      "text/plain": [
       "   fi  mid_point  fi_xi  mid_point-median\n",
       "0   6       20.0  120.0             -30.0\n",
       "1  11       30.0  330.0             -20.0\n",
       "2   7       40.0  280.0             -10.0\n",
       "3   4       50.0  200.0               0.0\n",
       "4   4       60.0  240.0              10.0\n",
       "5   2       70.0  140.0              20.0\n",
       "6   1       80.0   80.0              30.0"
      ]
     },
     "execution_count": 28,
     "metadata": {},
     "output_type": "execute_result"
    }
   ],
   "source": [
    "stats['mid_point-median']=stats['mid_point']-stats['mid_point'].median()\n",
    "stats"
   ]
  },
  {
   "cell_type": "code",
   "execution_count": 29,
   "metadata": {},
   "outputs": [
    {
     "data": {
      "text/html": [
       "<div>\n",
       "<style scoped>\n",
       "    .dataframe tbody tr th:only-of-type {\n",
       "        vertical-align: middle;\n",
       "    }\n",
       "\n",
       "    .dataframe tbody tr th {\n",
       "        vertical-align: top;\n",
       "    }\n",
       "\n",
       "    .dataframe thead th {\n",
       "        text-align: right;\n",
       "    }\n",
       "</style>\n",
       "<table border=\"1\" class=\"dataframe\">\n",
       "  <thead>\n",
       "    <tr style=\"text-align: right;\">\n",
       "      <th></th>\n",
       "      <th>fi</th>\n",
       "      <th>mid_point</th>\n",
       "      <th>fi_xi</th>\n",
       "      <th>mid_point-median</th>\n",
       "      <th>mid_point-median*fi</th>\n",
       "    </tr>\n",
       "  </thead>\n",
       "  <tbody>\n",
       "    <tr>\n",
       "      <th>0</th>\n",
       "      <td>6</td>\n",
       "      <td>20.0</td>\n",
       "      <td>120.0</td>\n",
       "      <td>-30.0</td>\n",
       "      <td>-180.0</td>\n",
       "    </tr>\n",
       "    <tr>\n",
       "      <th>1</th>\n",
       "      <td>11</td>\n",
       "      <td>30.0</td>\n",
       "      <td>330.0</td>\n",
       "      <td>-20.0</td>\n",
       "      <td>-220.0</td>\n",
       "    </tr>\n",
       "    <tr>\n",
       "      <th>2</th>\n",
       "      <td>7</td>\n",
       "      <td>40.0</td>\n",
       "      <td>280.0</td>\n",
       "      <td>-10.0</td>\n",
       "      <td>-70.0</td>\n",
       "    </tr>\n",
       "    <tr>\n",
       "      <th>3</th>\n",
       "      <td>4</td>\n",
       "      <td>50.0</td>\n",
       "      <td>200.0</td>\n",
       "      <td>0.0</td>\n",
       "      <td>0.0</td>\n",
       "    </tr>\n",
       "    <tr>\n",
       "      <th>4</th>\n",
       "      <td>4</td>\n",
       "      <td>60.0</td>\n",
       "      <td>240.0</td>\n",
       "      <td>10.0</td>\n",
       "      <td>40.0</td>\n",
       "    </tr>\n",
       "    <tr>\n",
       "      <th>5</th>\n",
       "      <td>2</td>\n",
       "      <td>70.0</td>\n",
       "      <td>140.0</td>\n",
       "      <td>20.0</td>\n",
       "      <td>40.0</td>\n",
       "    </tr>\n",
       "    <tr>\n",
       "      <th>6</th>\n",
       "      <td>1</td>\n",
       "      <td>80.0</td>\n",
       "      <td>80.0</td>\n",
       "      <td>30.0</td>\n",
       "      <td>30.0</td>\n",
       "    </tr>\n",
       "  </tbody>\n",
       "</table>\n",
       "</div>"
      ],
      "text/plain": [
       "   fi  mid_point  fi_xi  mid_point-median  mid_point-median*fi\n",
       "0   6       20.0  120.0             -30.0               -180.0\n",
       "1  11       30.0  330.0             -20.0               -220.0\n",
       "2   7       40.0  280.0             -10.0                -70.0\n",
       "3   4       50.0  200.0               0.0                  0.0\n",
       "4   4       60.0  240.0              10.0                 40.0\n",
       "5   2       70.0  140.0              20.0                 40.0\n",
       "6   1       80.0   80.0              30.0                 30.0"
      ]
     },
     "execution_count": 29,
     "metadata": {},
     "output_type": "execute_result"
    }
   ],
   "source": [
    "stats['mid_point-median*fi']=stats['mid_point-median']*stats['fi']\n",
    "stats"
   ]
  },
  {
   "cell_type": "code",
   "execution_count": 30,
   "metadata": {},
   "outputs": [
    {
     "data": {
      "text/plain": [
       "39.714285714285715"
      ]
     },
     "execution_count": 30,
     "metadata": {},
     "output_type": "execute_result"
    }
   ],
   "source": [
    "(stats['mid_point-median*fi'].sum()/stats['fi'].sum())+stats['mid_point'].median() #assumed mean"
   ]
  },
  {
   "cell_type": "code",
   "execution_count": 31,
   "metadata": {},
   "outputs": [
    {
     "data": {
      "text/html": [
       "<div>\n",
       "<style scoped>\n",
       "    .dataframe tbody tr th:only-of-type {\n",
       "        vertical-align: middle;\n",
       "    }\n",
       "\n",
       "    .dataframe tbody tr th {\n",
       "        vertical-align: top;\n",
       "    }\n",
       "\n",
       "    .dataframe thead th {\n",
       "        text-align: right;\n",
       "    }\n",
       "</style>\n",
       "<table border=\"1\" class=\"dataframe\">\n",
       "  <thead>\n",
       "    <tr style=\"text-align: right;\">\n",
       "      <th></th>\n",
       "      <th>fi</th>\n",
       "      <th>mid_point</th>\n",
       "      <th>fi_xi</th>\n",
       "      <th>mid_point-median</th>\n",
       "      <th>mid_point-median*fi</th>\n",
       "      <th>mid_point-median*fi-h</th>\n",
       "    </tr>\n",
       "  </thead>\n",
       "  <tbody>\n",
       "    <tr>\n",
       "      <th>0</th>\n",
       "      <td>6</td>\n",
       "      <td>20.0</td>\n",
       "      <td>120.0</td>\n",
       "      <td>-30.0</td>\n",
       "      <td>-180.0</td>\n",
       "      <td>-18.0</td>\n",
       "    </tr>\n",
       "    <tr>\n",
       "      <th>1</th>\n",
       "      <td>11</td>\n",
       "      <td>30.0</td>\n",
       "      <td>330.0</td>\n",
       "      <td>-20.0</td>\n",
       "      <td>-220.0</td>\n",
       "      <td>-22.0</td>\n",
       "    </tr>\n",
       "    <tr>\n",
       "      <th>2</th>\n",
       "      <td>7</td>\n",
       "      <td>40.0</td>\n",
       "      <td>280.0</td>\n",
       "      <td>-10.0</td>\n",
       "      <td>-70.0</td>\n",
       "      <td>-7.0</td>\n",
       "    </tr>\n",
       "    <tr>\n",
       "      <th>3</th>\n",
       "      <td>4</td>\n",
       "      <td>50.0</td>\n",
       "      <td>200.0</td>\n",
       "      <td>0.0</td>\n",
       "      <td>0.0</td>\n",
       "      <td>0.0</td>\n",
       "    </tr>\n",
       "    <tr>\n",
       "      <th>4</th>\n",
       "      <td>4</td>\n",
       "      <td>60.0</td>\n",
       "      <td>240.0</td>\n",
       "      <td>10.0</td>\n",
       "      <td>40.0</td>\n",
       "      <td>4.0</td>\n",
       "    </tr>\n",
       "    <tr>\n",
       "      <th>5</th>\n",
       "      <td>2</td>\n",
       "      <td>70.0</td>\n",
       "      <td>140.0</td>\n",
       "      <td>20.0</td>\n",
       "      <td>40.0</td>\n",
       "      <td>4.0</td>\n",
       "    </tr>\n",
       "    <tr>\n",
       "      <th>6</th>\n",
       "      <td>1</td>\n",
       "      <td>80.0</td>\n",
       "      <td>80.0</td>\n",
       "      <td>30.0</td>\n",
       "      <td>30.0</td>\n",
       "      <td>3.0</td>\n",
       "    </tr>\n",
       "  </tbody>\n",
       "</table>\n",
       "</div>"
      ],
      "text/plain": [
       "   fi  mid_point  fi_xi  mid_point-median  mid_point-median*fi  \\\n",
       "0   6       20.0  120.0             -30.0               -180.0   \n",
       "1  11       30.0  330.0             -20.0               -220.0   \n",
       "2   7       40.0  280.0             -10.0                -70.0   \n",
       "3   4       50.0  200.0               0.0                  0.0   \n",
       "4   4       60.0  240.0              10.0                 40.0   \n",
       "5   2       70.0  140.0              20.0                 40.0   \n",
       "6   1       80.0   80.0              30.0                 30.0   \n",
       "\n",
       "   mid_point-median*fi-h  \n",
       "0                  -18.0  \n",
       "1                  -22.0  \n",
       "2                   -7.0  \n",
       "3                    0.0  \n",
       "4                    4.0  \n",
       "5                    4.0  \n",
       "6                    3.0  "
      ]
     },
     "execution_count": 31,
     "metadata": {},
     "output_type": "execute_result"
    }
   ],
   "source": [
    "stats['mid_point-median*fi-h']=stats['mid_point-median*fi']/10\n",
    "stats"
   ]
  },
  {
   "cell_type": "code",
   "execution_count": 32,
   "metadata": {},
   "outputs": [
    {
     "data": {
      "text/plain": [
       "39.714285714285715"
      ]
     },
     "execution_count": 32,
     "metadata": {},
     "output_type": "execute_result"
    }
   ],
   "source": [
    "((stats['mid_point-median*fi-h'].sum()/stats['fi'].sum())*10)+stats['mid_point'].median() #step deviation method"
   ]
  },
  {
   "cell_type": "code",
   "execution_count": 33,
   "metadata": {},
   "outputs": [
    {
     "data": {
      "text/plain": [
       "[40.0, 80.0, 125.0, 200.0, 300.0, 400.0]"
      ]
     },
     "execution_count": 33,
     "metadata": {},
     "output_type": "execute_result"
    }
   ],
   "source": [
    "intervals=[20, 60, 100, 150, 250, 350, 450]\n",
    "mids=[]\n",
    "for i in range(len(intervals[1:])):\n",
    "    mids.append((intervals[i]+intervals[i+1])/2)\n",
    "    \n",
    "mids"
   ]
  },
  {
   "cell_type": "code",
   "execution_count": 34,
   "metadata": {},
   "outputs": [],
   "source": [
    "stats=pd.DataFrame()\n",
    "stats['xi']=mids\n",
    "stats['fi']=[7,5,16,12,2,3]"
   ]
  },
  {
   "cell_type": "code",
   "execution_count": 35,
   "metadata": {},
   "outputs": [
    {
     "data": {
      "text/html": [
       "<div>\n",
       "<style scoped>\n",
       "    .dataframe tbody tr th:only-of-type {\n",
       "        vertical-align: middle;\n",
       "    }\n",
       "\n",
       "    .dataframe tbody tr th {\n",
       "        vertical-align: top;\n",
       "    }\n",
       "\n",
       "    .dataframe thead th {\n",
       "        text-align: right;\n",
       "    }\n",
       "</style>\n",
       "<table border=\"1\" class=\"dataframe\">\n",
       "  <thead>\n",
       "    <tr style=\"text-align: right;\">\n",
       "      <th></th>\n",
       "      <th>xi</th>\n",
       "      <th>fi</th>\n",
       "    </tr>\n",
       "  </thead>\n",
       "  <tbody>\n",
       "    <tr>\n",
       "      <th>0</th>\n",
       "      <td>40.0</td>\n",
       "      <td>7</td>\n",
       "    </tr>\n",
       "    <tr>\n",
       "      <th>1</th>\n",
       "      <td>80.0</td>\n",
       "      <td>5</td>\n",
       "    </tr>\n",
       "    <tr>\n",
       "      <th>2</th>\n",
       "      <td>125.0</td>\n",
       "      <td>16</td>\n",
       "    </tr>\n",
       "    <tr>\n",
       "      <th>3</th>\n",
       "      <td>200.0</td>\n",
       "      <td>12</td>\n",
       "    </tr>\n",
       "    <tr>\n",
       "      <th>4</th>\n",
       "      <td>300.0</td>\n",
       "      <td>2</td>\n",
       "    </tr>\n",
       "    <tr>\n",
       "      <th>5</th>\n",
       "      <td>400.0</td>\n",
       "      <td>3</td>\n",
       "    </tr>\n",
       "  </tbody>\n",
       "</table>\n",
       "</div>"
      ],
      "text/plain": [
       "      xi  fi\n",
       "0   40.0   7\n",
       "1   80.0   5\n",
       "2  125.0  16\n",
       "3  200.0  12\n",
       "4  300.0   2\n",
       "5  400.0   3"
      ]
     },
     "execution_count": 35,
     "metadata": {},
     "output_type": "execute_result"
    }
   ],
   "source": [
    "stats"
   ]
  },
  {
   "cell_type": "code",
   "execution_count": 36,
   "metadata": {},
   "outputs": [
    {
     "data": {
      "text/html": [
       "<div>\n",
       "<style scoped>\n",
       "    .dataframe tbody tr th:only-of-type {\n",
       "        vertical-align: middle;\n",
       "    }\n",
       "\n",
       "    .dataframe tbody tr th {\n",
       "        vertical-align: top;\n",
       "    }\n",
       "\n",
       "    .dataframe thead th {\n",
       "        text-align: right;\n",
       "    }\n",
       "</style>\n",
       "<table border=\"1\" class=\"dataframe\">\n",
       "  <thead>\n",
       "    <tr style=\"text-align: right;\">\n",
       "      <th></th>\n",
       "      <th>xi</th>\n",
       "      <th>fi</th>\n",
       "      <th>fi*xi</th>\n",
       "    </tr>\n",
       "  </thead>\n",
       "  <tbody>\n",
       "    <tr>\n",
       "      <th>0</th>\n",
       "      <td>40.0</td>\n",
       "      <td>7</td>\n",
       "      <td>280.0</td>\n",
       "    </tr>\n",
       "    <tr>\n",
       "      <th>1</th>\n",
       "      <td>80.0</td>\n",
       "      <td>5</td>\n",
       "      <td>400.0</td>\n",
       "    </tr>\n",
       "    <tr>\n",
       "      <th>2</th>\n",
       "      <td>125.0</td>\n",
       "      <td>16</td>\n",
       "      <td>2000.0</td>\n",
       "    </tr>\n",
       "    <tr>\n",
       "      <th>3</th>\n",
       "      <td>200.0</td>\n",
       "      <td>12</td>\n",
       "      <td>2400.0</td>\n",
       "    </tr>\n",
       "    <tr>\n",
       "      <th>4</th>\n",
       "      <td>300.0</td>\n",
       "      <td>2</td>\n",
       "      <td>600.0</td>\n",
       "    </tr>\n",
       "    <tr>\n",
       "      <th>5</th>\n",
       "      <td>400.0</td>\n",
       "      <td>3</td>\n",
       "      <td>1200.0</td>\n",
       "    </tr>\n",
       "  </tbody>\n",
       "</table>\n",
       "</div>"
      ],
      "text/plain": [
       "      xi  fi   fi*xi\n",
       "0   40.0   7   280.0\n",
       "1   80.0   5   400.0\n",
       "2  125.0  16  2000.0\n",
       "3  200.0  12  2400.0\n",
       "4  300.0   2   600.0\n",
       "5  400.0   3  1200.0"
      ]
     },
     "execution_count": 36,
     "metadata": {},
     "output_type": "execute_result"
    }
   ],
   "source": [
    "stats['fi*xi']=stats['fi']*stats['xi']\n",
    "stats"
   ]
  },
  {
   "cell_type": "code",
   "execution_count": 37,
   "metadata": {},
   "outputs": [
    {
     "data": {
      "text/plain": [
       "152.88888888888889"
      ]
     },
     "execution_count": 37,
     "metadata": {},
     "output_type": "execute_result"
    }
   ],
   "source": [
    "stats['fi*xi'].sum()/stats['fi'].sum() #direct method"
   ]
  },
  {
   "cell_type": "code",
   "execution_count": 38,
   "metadata": {},
   "outputs": [
    {
     "data": {
      "text/plain": [
       "array([ 0,  2,  4,  6,  8, 10, 12, 14])"
      ]
     },
     "execution_count": 38,
     "metadata": {},
     "output_type": "execute_result"
    }
   ],
   "source": [
    "intervals=np.arange(0, 15, 2)\n",
    "intervals"
   ]
  },
  {
   "cell_type": "code",
   "execution_count": 39,
   "metadata": {},
   "outputs": [
    {
     "data": {
      "text/plain": [
       "[1.0, 3.0, 5.0, 7.0, 9.0, 11.0, 13.0]"
      ]
     },
     "execution_count": 39,
     "metadata": {},
     "output_type": "execute_result"
    }
   ],
   "source": [
    "mids=[]\n",
    "for i in range(len(intervals[1:])):\n",
    "    mids.append((intervals[i]+intervals[i+1])/2)\n",
    "mids    "
   ]
  },
  {
   "cell_type": "code",
   "execution_count": 40,
   "metadata": {},
   "outputs": [
    {
     "data": {
      "text/html": [
       "<div>\n",
       "<style scoped>\n",
       "    .dataframe tbody tr th:only-of-type {\n",
       "        vertical-align: middle;\n",
       "    }\n",
       "\n",
       "    .dataframe tbody tr th {\n",
       "        vertical-align: top;\n",
       "    }\n",
       "\n",
       "    .dataframe thead th {\n",
       "        text-align: right;\n",
       "    }\n",
       "</style>\n",
       "<table border=\"1\" class=\"dataframe\">\n",
       "  <thead>\n",
       "    <tr style=\"text-align: right;\">\n",
       "      <th></th>\n",
       "      <th>fi</th>\n",
       "      <th>xi</th>\n",
       "    </tr>\n",
       "  </thead>\n",
       "  <tbody>\n",
       "    <tr>\n",
       "      <th>0</th>\n",
       "      <td>1</td>\n",
       "      <td>1.0</td>\n",
       "    </tr>\n",
       "    <tr>\n",
       "      <th>1</th>\n",
       "      <td>2</td>\n",
       "      <td>3.0</td>\n",
       "    </tr>\n",
       "    <tr>\n",
       "      <th>2</th>\n",
       "      <td>1</td>\n",
       "      <td>5.0</td>\n",
       "    </tr>\n",
       "    <tr>\n",
       "      <th>3</th>\n",
       "      <td>5</td>\n",
       "      <td>7.0</td>\n",
       "    </tr>\n",
       "    <tr>\n",
       "      <th>4</th>\n",
       "      <td>6</td>\n",
       "      <td>9.0</td>\n",
       "    </tr>\n",
       "    <tr>\n",
       "      <th>5</th>\n",
       "      <td>2</td>\n",
       "      <td>11.0</td>\n",
       "    </tr>\n",
       "    <tr>\n",
       "      <th>6</th>\n",
       "      <td>3</td>\n",
       "      <td>13.0</td>\n",
       "    </tr>\n",
       "  </tbody>\n",
       "</table>\n",
       "</div>"
      ],
      "text/plain": [
       "   fi    xi\n",
       "0   1   1.0\n",
       "1   2   3.0\n",
       "2   1   5.0\n",
       "3   5   7.0\n",
       "4   6   9.0\n",
       "5   2  11.0\n",
       "6   3  13.0"
      ]
     },
     "execution_count": 40,
     "metadata": {},
     "output_type": "execute_result"
    }
   ],
   "source": [
    "stats=pd.DataFrame()\n",
    "stats['fi']=[1,2,1,5,6,2,3]\n",
    "stats['xi']=mids\n",
    "stats"
   ]
  },
  {
   "cell_type": "code",
   "execution_count": 41,
   "metadata": {},
   "outputs": [
    {
     "data": {
      "text/html": [
       "<div>\n",
       "<style scoped>\n",
       "    .dataframe tbody tr th:only-of-type {\n",
       "        vertical-align: middle;\n",
       "    }\n",
       "\n",
       "    .dataframe tbody tr th {\n",
       "        vertical-align: top;\n",
       "    }\n",
       "\n",
       "    .dataframe thead th {\n",
       "        text-align: right;\n",
       "    }\n",
       "</style>\n",
       "<table border=\"1\" class=\"dataframe\">\n",
       "  <thead>\n",
       "    <tr style=\"text-align: right;\">\n",
       "      <th></th>\n",
       "      <th>fi</th>\n",
       "      <th>xi</th>\n",
       "      <th>fi*xi</th>\n",
       "    </tr>\n",
       "  </thead>\n",
       "  <tbody>\n",
       "    <tr>\n",
       "      <th>0</th>\n",
       "      <td>1</td>\n",
       "      <td>1.0</td>\n",
       "      <td>1.0</td>\n",
       "    </tr>\n",
       "    <tr>\n",
       "      <th>1</th>\n",
       "      <td>2</td>\n",
       "      <td>3.0</td>\n",
       "      <td>6.0</td>\n",
       "    </tr>\n",
       "    <tr>\n",
       "      <th>2</th>\n",
       "      <td>1</td>\n",
       "      <td>5.0</td>\n",
       "      <td>5.0</td>\n",
       "    </tr>\n",
       "    <tr>\n",
       "      <th>3</th>\n",
       "      <td>5</td>\n",
       "      <td>7.0</td>\n",
       "      <td>35.0</td>\n",
       "    </tr>\n",
       "    <tr>\n",
       "      <th>4</th>\n",
       "      <td>6</td>\n",
       "      <td>9.0</td>\n",
       "      <td>54.0</td>\n",
       "    </tr>\n",
       "    <tr>\n",
       "      <th>5</th>\n",
       "      <td>2</td>\n",
       "      <td>11.0</td>\n",
       "      <td>22.0</td>\n",
       "    </tr>\n",
       "    <tr>\n",
       "      <th>6</th>\n",
       "      <td>3</td>\n",
       "      <td>13.0</td>\n",
       "      <td>39.0</td>\n",
       "    </tr>\n",
       "  </tbody>\n",
       "</table>\n",
       "</div>"
      ],
      "text/plain": [
       "   fi    xi  fi*xi\n",
       "0   1   1.0    1.0\n",
       "1   2   3.0    6.0\n",
       "2   1   5.0    5.0\n",
       "3   5   7.0   35.0\n",
       "4   6   9.0   54.0\n",
       "5   2  11.0   22.0\n",
       "6   3  13.0   39.0"
      ]
     },
     "execution_count": 41,
     "metadata": {},
     "output_type": "execute_result"
    }
   ],
   "source": [
    "stats['fi*xi']=stats['fi']*stats['xi']\n",
    "stats"
   ]
  },
  {
   "cell_type": "code",
   "execution_count": 42,
   "metadata": {},
   "outputs": [
    {
     "data": {
      "text/plain": [
       "8.1"
      ]
     },
     "execution_count": 42,
     "metadata": {},
     "output_type": "execute_result"
    }
   ],
   "source": [
    "stats['fi*xi'].sum()/stats['fi'].sum()"
   ]
  },
  {
   "cell_type": "code",
   "execution_count": 43,
   "metadata": {},
   "outputs": [
    {
     "name": "stdout",
     "output_type": "stream",
     "text": [
      "    xi  fi  fi*xi\n",
      "0  510  12   6120\n",
      "1  530  14   7420\n",
      "2  550   8   4400\n",
      "3  570   6   3420\n",
      "4  590  10   5900\n",
      "\n",
      "545.2\n"
     ]
    }
   ],
   "source": [
    "stats=pd.DataFrame()\n",
    "stats['xi']=[510, 530, 550, 570, 590]\n",
    "stats['fi']=[12, 14, 8, 6, 10]\n",
    "stats['fi*xi']=stats['fi']*stats['xi']\n",
    "print(stats)\n",
    "print()\n",
    "print(stats['fi*xi'].sum()/stats['fi'].sum())"
   ]
  },
  {
   "cell_type": "code",
   "execution_count": 44,
   "metadata": {},
   "outputs": [
    {
     "data": {
      "text/plain": [
       "array([65, 68, 71, 74, 77, 80, 83, 86])"
      ]
     },
     "execution_count": 44,
     "metadata": {},
     "output_type": "execute_result"
    }
   ],
   "source": [
    "intervals=np.arange(65, 87, 3)\n",
    "intervals"
   ]
  },
  {
   "cell_type": "code",
   "execution_count": 45,
   "metadata": {},
   "outputs": [
    {
     "data": {
      "text/plain": [
       "[66.5, 69.5, 72.5, 75.5, 78.5, 81.5, 84.5]"
      ]
     },
     "execution_count": 45,
     "metadata": {},
     "output_type": "execute_result"
    }
   ],
   "source": [
    "mids=[]\n",
    "for i in range(len(intervals[1:])):\n",
    "    mids.append((intervals[i]+intervals[i+1])/2)\n",
    "\n",
    "mids    "
   ]
  },
  {
   "cell_type": "code",
   "execution_count": 46,
   "metadata": {},
   "outputs": [
    {
     "data": {
      "text/html": [
       "<div>\n",
       "<style scoped>\n",
       "    .dataframe tbody tr th:only-of-type {\n",
       "        vertical-align: middle;\n",
       "    }\n",
       "\n",
       "    .dataframe tbody tr th {\n",
       "        vertical-align: top;\n",
       "    }\n",
       "\n",
       "    .dataframe thead th {\n",
       "        text-align: right;\n",
       "    }\n",
       "</style>\n",
       "<table border=\"1\" class=\"dataframe\">\n",
       "  <thead>\n",
       "    <tr style=\"text-align: right;\">\n",
       "      <th></th>\n",
       "      <th>fi</th>\n",
       "      <th>xi</th>\n",
       "      <th>fi*xi</th>\n",
       "    </tr>\n",
       "  </thead>\n",
       "  <tbody>\n",
       "    <tr>\n",
       "      <th>0</th>\n",
       "      <td>2</td>\n",
       "      <td>66.5</td>\n",
       "      <td>133.0</td>\n",
       "    </tr>\n",
       "    <tr>\n",
       "      <th>1</th>\n",
       "      <td>4</td>\n",
       "      <td>69.5</td>\n",
       "      <td>278.0</td>\n",
       "    </tr>\n",
       "    <tr>\n",
       "      <th>2</th>\n",
       "      <td>3</td>\n",
       "      <td>72.5</td>\n",
       "      <td>217.5</td>\n",
       "    </tr>\n",
       "    <tr>\n",
       "      <th>3</th>\n",
       "      <td>8</td>\n",
       "      <td>75.5</td>\n",
       "      <td>604.0</td>\n",
       "    </tr>\n",
       "    <tr>\n",
       "      <th>4</th>\n",
       "      <td>7</td>\n",
       "      <td>78.5</td>\n",
       "      <td>549.5</td>\n",
       "    </tr>\n",
       "    <tr>\n",
       "      <th>5</th>\n",
       "      <td>4</td>\n",
       "      <td>81.5</td>\n",
       "      <td>326.0</td>\n",
       "    </tr>\n",
       "    <tr>\n",
       "      <th>6</th>\n",
       "      <td>2</td>\n",
       "      <td>84.5</td>\n",
       "      <td>169.0</td>\n",
       "    </tr>\n",
       "  </tbody>\n",
       "</table>\n",
       "</div>"
      ],
      "text/plain": [
       "   fi    xi  fi*xi\n",
       "0   2  66.5  133.0\n",
       "1   4  69.5  278.0\n",
       "2   3  72.5  217.5\n",
       "3   8  75.5  604.0\n",
       "4   7  78.5  549.5\n",
       "5   4  81.5  326.0\n",
       "6   2  84.5  169.0"
      ]
     },
     "execution_count": 46,
     "metadata": {},
     "output_type": "execute_result"
    }
   ],
   "source": [
    "stats=pd.DataFrame()\n",
    "stats['fi']=[2,4,3,8,7,4,2]\n",
    "stats['xi']=mids\n",
    "stats['fi*xi']=stats['fi']*stats['xi']\n",
    "stats"
   ]
  },
  {
   "cell_type": "code",
   "execution_count": 47,
   "metadata": {},
   "outputs": [
    {
     "data": {
      "text/plain": [
       "75.9"
      ]
     },
     "execution_count": 47,
     "metadata": {},
     "output_type": "execute_result"
    }
   ],
   "source": [
    "stats['fi*xi'].sum()/stats['fi'].sum()"
   ]
  },
  {
   "cell_type": "code",
   "execution_count": 48,
   "metadata": {},
   "outputs": [
    {
     "data": {
      "text/html": [
       "<div>\n",
       "<style scoped>\n",
       "    .dataframe tbody tr th:only-of-type {\n",
       "        vertical-align: middle;\n",
       "    }\n",
       "\n",
       "    .dataframe tbody tr th {\n",
       "        vertical-align: top;\n",
       "    }\n",
       "\n",
       "    .dataframe thead th {\n",
       "        text-align: right;\n",
       "    }\n",
       "</style>\n",
       "<table border=\"1\" class=\"dataframe\">\n",
       "  <thead>\n",
       "    <tr style=\"text-align: right;\">\n",
       "      <th></th>\n",
       "      <th>xi</th>\n",
       "      <th>fi</th>\n",
       "      <th>fi*xi</th>\n",
       "    </tr>\n",
       "  </thead>\n",
       "  <tbody>\n",
       "    <tr>\n",
       "      <th>0</th>\n",
       "      <td>51</td>\n",
       "      <td>15</td>\n",
       "      <td>765</td>\n",
       "    </tr>\n",
       "    <tr>\n",
       "      <th>1</th>\n",
       "      <td>54</td>\n",
       "      <td>110</td>\n",
       "      <td>5940</td>\n",
       "    </tr>\n",
       "    <tr>\n",
       "      <th>2</th>\n",
       "      <td>57</td>\n",
       "      <td>135</td>\n",
       "      <td>7695</td>\n",
       "    </tr>\n",
       "    <tr>\n",
       "      <th>3</th>\n",
       "      <td>60</td>\n",
       "      <td>115</td>\n",
       "      <td>6900</td>\n",
       "    </tr>\n",
       "    <tr>\n",
       "      <th>4</th>\n",
       "      <td>63</td>\n",
       "      <td>25</td>\n",
       "      <td>1575</td>\n",
       "    </tr>\n",
       "  </tbody>\n",
       "</table>\n",
       "</div>"
      ],
      "text/plain": [
       "   xi   fi  fi*xi\n",
       "0  51   15    765\n",
       "1  54  110   5940\n",
       "2  57  135   7695\n",
       "3  60  115   6900\n",
       "4  63   25   1575"
      ]
     },
     "execution_count": 48,
     "metadata": {},
     "output_type": "execute_result"
    }
   ],
   "source": [
    "stats=pd.DataFrame()\n",
    "stats['xi']=[51, 54, 57, 60, 63]\n",
    "stats['fi']=[15, 110, 135, 115, 25]\n",
    "stats['fi*xi']=stats['fi']*stats['xi']\n",
    "stats"
   ]
  },
  {
   "cell_type": "code",
   "execution_count": 49,
   "metadata": {},
   "outputs": [
    {
     "data": {
      "text/plain": [
       "57.1875"
      ]
     },
     "execution_count": 49,
     "metadata": {},
     "output_type": "execute_result"
    }
   ],
   "source": [
    "stats['fi*xi'].sum()/stats['fi'].sum()"
   ]
  },
  {
   "cell_type": "code",
   "execution_count": 50,
   "metadata": {},
   "outputs": [
    {
     "data": {
      "text/html": [
       "<div>\n",
       "<style scoped>\n",
       "    .dataframe tbody tr th:only-of-type {\n",
       "        vertical-align: middle;\n",
       "    }\n",
       "\n",
       "    .dataframe tbody tr th {\n",
       "        vertical-align: top;\n",
       "    }\n",
       "\n",
       "    .dataframe thead th {\n",
       "        text-align: right;\n",
       "    }\n",
       "</style>\n",
       "<table border=\"1\" class=\"dataframe\">\n",
       "  <thead>\n",
       "    <tr style=\"text-align: right;\">\n",
       "      <th></th>\n",
       "      <th>fi</th>\n",
       "      <th>xi</th>\n",
       "      <th>fi*xi</th>\n",
       "    </tr>\n",
       "  </thead>\n",
       "  <tbody>\n",
       "    <tr>\n",
       "      <th>0</th>\n",
       "      <td>4</td>\n",
       "      <td>125</td>\n",
       "      <td>500</td>\n",
       "    </tr>\n",
       "    <tr>\n",
       "      <th>1</th>\n",
       "      <td>5</td>\n",
       "      <td>175</td>\n",
       "      <td>875</td>\n",
       "    </tr>\n",
       "    <tr>\n",
       "      <th>2</th>\n",
       "      <td>12</td>\n",
       "      <td>225</td>\n",
       "      <td>2700</td>\n",
       "    </tr>\n",
       "    <tr>\n",
       "      <th>3</th>\n",
       "      <td>2</td>\n",
       "      <td>275</td>\n",
       "      <td>550</td>\n",
       "    </tr>\n",
       "    <tr>\n",
       "      <th>4</th>\n",
       "      <td>2</td>\n",
       "      <td>325</td>\n",
       "      <td>650</td>\n",
       "    </tr>\n",
       "  </tbody>\n",
       "</table>\n",
       "</div>"
      ],
      "text/plain": [
       "   fi   xi  fi*xi\n",
       "0   4  125    500\n",
       "1   5  175    875\n",
       "2  12  225   2700\n",
       "3   2  275    550\n",
       "4   2  325    650"
      ]
     },
     "execution_count": 50,
     "metadata": {},
     "output_type": "execute_result"
    }
   ],
   "source": [
    "stats=pd.DataFrame()\n",
    "stats['fi']=[4,5,12,2,2]\n",
    "stats['xi']=[125, 175, 225,275,325]\n",
    "stats['fi*xi']=stats['fi']*stats['xi']\n",
    "stats"
   ]
  },
  {
   "cell_type": "code",
   "execution_count": 51,
   "metadata": {},
   "outputs": [
    {
     "data": {
      "text/plain": [
       "211.0"
      ]
     },
     "execution_count": 51,
     "metadata": {},
     "output_type": "execute_result"
    }
   ],
   "source": [
    "stats['fi*xi'].sum()/stats['fi'].sum()"
   ]
  },
  {
   "cell_type": "code",
   "execution_count": 52,
   "metadata": {},
   "outputs": [
    {
     "data": {
      "text/html": [
       "<div>\n",
       "<style scoped>\n",
       "    .dataframe tbody tr th:only-of-type {\n",
       "        vertical-align: middle;\n",
       "    }\n",
       "\n",
       "    .dataframe tbody tr th {\n",
       "        vertical-align: top;\n",
       "    }\n",
       "\n",
       "    .dataframe thead th {\n",
       "        text-align: right;\n",
       "    }\n",
       "</style>\n",
       "<table border=\"1\" class=\"dataframe\">\n",
       "  <thead>\n",
       "    <tr style=\"text-align: right;\">\n",
       "      <th></th>\n",
       "      <th>fi</th>\n",
       "      <th>xi</th>\n",
       "      <th>fi*xi</th>\n",
       "    </tr>\n",
       "  </thead>\n",
       "  <tbody>\n",
       "    <tr>\n",
       "      <th>0</th>\n",
       "      <td>4</td>\n",
       "      <td>0.02</td>\n",
       "      <td>0.08</td>\n",
       "    </tr>\n",
       "    <tr>\n",
       "      <th>1</th>\n",
       "      <td>9</td>\n",
       "      <td>0.06</td>\n",
       "      <td>0.54</td>\n",
       "    </tr>\n",
       "    <tr>\n",
       "      <th>2</th>\n",
       "      <td>9</td>\n",
       "      <td>0.10</td>\n",
       "      <td>0.90</td>\n",
       "    </tr>\n",
       "    <tr>\n",
       "      <th>3</th>\n",
       "      <td>2</td>\n",
       "      <td>0.14</td>\n",
       "      <td>0.28</td>\n",
       "    </tr>\n",
       "    <tr>\n",
       "      <th>4</th>\n",
       "      <td>4</td>\n",
       "      <td>0.18</td>\n",
       "      <td>0.72</td>\n",
       "    </tr>\n",
       "    <tr>\n",
       "      <th>5</th>\n",
       "      <td>2</td>\n",
       "      <td>0.22</td>\n",
       "      <td>0.44</td>\n",
       "    </tr>\n",
       "  </tbody>\n",
       "</table>\n",
       "</div>"
      ],
      "text/plain": [
       "   fi    xi  fi*xi\n",
       "0   4  0.02   0.08\n",
       "1   9  0.06   0.54\n",
       "2   9  0.10   0.90\n",
       "3   2  0.14   0.28\n",
       "4   4  0.18   0.72\n",
       "5   2  0.22   0.44"
      ]
     },
     "execution_count": 52,
     "metadata": {},
     "output_type": "execute_result"
    }
   ],
   "source": [
    "stats=pd.DataFrame()\n",
    "stats['fi']=[4, 9, 9, 2, 4, 2]\n",
    "stats['xi']=[.02, .06, .10, .14, .18, .22]\n",
    "stats['fi*xi']=stats['fi']*stats['xi']\n",
    "stats"
   ]
  },
  {
   "cell_type": "code",
   "execution_count": 53,
   "metadata": {},
   "outputs": [
    {
     "data": {
      "text/plain": [
       "0.09866666666666667"
      ]
     },
     "execution_count": 53,
     "metadata": {},
     "output_type": "execute_result"
    }
   ],
   "source": [
    "stats['fi*xi'].sum()/stats['fi'].sum()"
   ]
  },
  {
   "cell_type": "code",
   "execution_count": 54,
   "metadata": {},
   "outputs": [
    {
     "data": {
      "text/html": [
       "<div>\n",
       "<style scoped>\n",
       "    .dataframe tbody tr th:only-of-type {\n",
       "        vertical-align: middle;\n",
       "    }\n",
       "\n",
       "    .dataframe tbody tr th {\n",
       "        vertical-align: top;\n",
       "    }\n",
       "\n",
       "    .dataframe thead th {\n",
       "        text-align: right;\n",
       "    }\n",
       "</style>\n",
       "<table border=\"1\" class=\"dataframe\">\n",
       "  <thead>\n",
       "    <tr style=\"text-align: right;\">\n",
       "      <th></th>\n",
       "      <th>fi</th>\n",
       "      <th>xi</th>\n",
       "      <th>fi*xi</th>\n",
       "    </tr>\n",
       "  </thead>\n",
       "  <tbody>\n",
       "    <tr>\n",
       "      <th>0</th>\n",
       "      <td>11</td>\n",
       "      <td>3</td>\n",
       "      <td>33</td>\n",
       "    </tr>\n",
       "    <tr>\n",
       "      <th>1</th>\n",
       "      <td>10</td>\n",
       "      <td>8</td>\n",
       "      <td>80</td>\n",
       "    </tr>\n",
       "    <tr>\n",
       "      <th>2</th>\n",
       "      <td>7</td>\n",
       "      <td>12</td>\n",
       "      <td>84</td>\n",
       "    </tr>\n",
       "    <tr>\n",
       "      <th>3</th>\n",
       "      <td>4</td>\n",
       "      <td>17</td>\n",
       "      <td>68</td>\n",
       "    </tr>\n",
       "    <tr>\n",
       "      <th>4</th>\n",
       "      <td>4</td>\n",
       "      <td>24</td>\n",
       "      <td>96</td>\n",
       "    </tr>\n",
       "    <tr>\n",
       "      <th>5</th>\n",
       "      <td>3</td>\n",
       "      <td>33</td>\n",
       "      <td>99</td>\n",
       "    </tr>\n",
       "    <tr>\n",
       "      <th>6</th>\n",
       "      <td>1</td>\n",
       "      <td>39</td>\n",
       "      <td>39</td>\n",
       "    </tr>\n",
       "  </tbody>\n",
       "</table>\n",
       "</div>"
      ],
      "text/plain": [
       "   fi  xi  fi*xi\n",
       "0  11   3     33\n",
       "1  10   8     80\n",
       "2   7  12     84\n",
       "3   4  17     68\n",
       "4   4  24     96\n",
       "5   3  33     99\n",
       "6   1  39     39"
      ]
     },
     "execution_count": 54,
     "metadata": {},
     "output_type": "execute_result"
    }
   ],
   "source": [
    "stats=pd.DataFrame()\n",
    "stats['fi']=[11,10,7,4,4,3,1]\n",
    "stats['xi']=[3,8,12,17,24, 33,39]\n",
    "stats['fi*xi']=stats['fi']*stats['xi']\n",
    "stats"
   ]
  },
  {
   "cell_type": "code",
   "execution_count": 55,
   "metadata": {},
   "outputs": [
    {
     "data": {
      "text/plain": [
       "12.475"
      ]
     },
     "execution_count": 55,
     "metadata": {},
     "output_type": "execute_result"
    }
   ],
   "source": [
    "stats['fi*xi'].sum()/stats['fi'].sum()"
   ]
  },
  {
   "cell_type": "code",
   "execution_count": 56,
   "metadata": {},
   "outputs": [
    {
     "data": {
      "text/html": [
       "<div>\n",
       "<style scoped>\n",
       "    .dataframe tbody tr th:only-of-type {\n",
       "        vertical-align: middle;\n",
       "    }\n",
       "\n",
       "    .dataframe tbody tr th {\n",
       "        vertical-align: top;\n",
       "    }\n",
       "\n",
       "    .dataframe thead th {\n",
       "        text-align: right;\n",
       "    }\n",
       "</style>\n",
       "<table border=\"1\" class=\"dataframe\">\n",
       "  <thead>\n",
       "    <tr style=\"text-align: right;\">\n",
       "      <th></th>\n",
       "      <th>fi</th>\n",
       "      <th>xi</th>\n",
       "      <th>fi*xi</th>\n",
       "    </tr>\n",
       "  </thead>\n",
       "  <tbody>\n",
       "    <tr>\n",
       "      <th>0</th>\n",
       "      <td>3</td>\n",
       "      <td>50</td>\n",
       "      <td>150</td>\n",
       "    </tr>\n",
       "    <tr>\n",
       "      <th>1</th>\n",
       "      <td>10</td>\n",
       "      <td>60</td>\n",
       "      <td>600</td>\n",
       "    </tr>\n",
       "    <tr>\n",
       "      <th>2</th>\n",
       "      <td>11</td>\n",
       "      <td>70</td>\n",
       "      <td>770</td>\n",
       "    </tr>\n",
       "    <tr>\n",
       "      <th>3</th>\n",
       "      <td>8</td>\n",
       "      <td>80</td>\n",
       "      <td>640</td>\n",
       "    </tr>\n",
       "    <tr>\n",
       "      <th>4</th>\n",
       "      <td>3</td>\n",
       "      <td>90</td>\n",
       "      <td>270</td>\n",
       "    </tr>\n",
       "  </tbody>\n",
       "</table>\n",
       "</div>"
      ],
      "text/plain": [
       "   fi  xi  fi*xi\n",
       "0   3  50    150\n",
       "1  10  60    600\n",
       "2  11  70    770\n",
       "3   8  80    640\n",
       "4   3  90    270"
      ]
     },
     "execution_count": 56,
     "metadata": {},
     "output_type": "execute_result"
    }
   ],
   "source": [
    "stats=pd.DataFrame()\n",
    "stats['fi']=[3, 10, 11, 8, 3]\n",
    "stats['xi']=[50, 60, 70, 80, 90]\n",
    "stats['fi*xi']=stats['fi']*stats['xi']\n",
    "stats"
   ]
  },
  {
   "cell_type": "code",
   "execution_count": 57,
   "metadata": {},
   "outputs": [
    {
     "data": {
      "text/plain": [
       "69.42857142857143"
      ]
     },
     "execution_count": 57,
     "metadata": {},
     "output_type": "execute_result"
    }
   ],
   "source": [
    "stats['fi*xi'].sum()/stats['fi'].sum()"
   ]
  },
  {
   "cell_type": "code",
   "execution_count": 58,
   "metadata": {},
   "outputs": [],
   "source": [
    "#Mode_Function\n",
    "\n",
    "def getMode(class_intervals, freq):\n",
    "    data=pd.DataFrame()\n",
    "    data['class_int']=class_intervals\n",
    "    data['freq']=freq\n",
    "    i=np.argmax(freq)\n",
    "    return class_intervals[i][0]+((freq[i]-freq[i-1])/((2*freq[i])-freq[i-1]-freq[i+1]))*(class_intervals[i][1]-class_intervals[i][0])"
   ]
  },
  {
   "cell_type": "code",
   "execution_count": 59,
   "metadata": {},
   "outputs": [
    {
     "data": {
      "text/plain": [
       "3.2857142857142856"
      ]
     },
     "execution_count": 59,
     "metadata": {},
     "output_type": "execute_result"
    }
   ],
   "source": [
    "getMode([[1,3], [3,5], [5, 7], [7, 9], [9,11]], [7, 8, 2,2,1])"
   ]
  },
  {
   "cell_type": "code",
   "execution_count": 60,
   "metadata": {},
   "outputs": [
    {
     "data": {
      "text/plain": [
       "36.81818181818182"
      ]
     },
     "execution_count": 60,
     "metadata": {},
     "output_type": "execute_result"
    }
   ],
   "source": [
    "getMode([[5,15], [15, 25], [25, 35], [35, 45], [45, 55], [55, 65]], [6, 11, 21, 23, 14, 5])"
   ]
  },
  {
   "cell_type": "code",
   "execution_count": 61,
   "metadata": {},
   "outputs": [
    {
     "data": {
      "text/plain": [
       "65.625"
      ]
     },
     "execution_count": 61,
     "metadata": {},
     "output_type": "execute_result"
    }
   ],
   "source": [
    "getMode([[0,20],[20,40], [40, 60], [60, 80], [80, 100], [100, 120]], [10,35,52, 61,38,29])"
   ]
  },
  {
   "cell_type": "code",
   "execution_count": 62,
   "metadata": {},
   "outputs": [
    {
     "data": {
      "text/plain": [
       "1847.8260869565217"
      ]
     },
     "execution_count": 62,
     "metadata": {},
     "output_type": "execute_result"
    }
   ],
   "source": [
    "getMode([[1000, 1500], [1500, 2000], [2000, 2500], [2500, 3000], [3000, 3500], [3500, 4000], [4000, 4500], [4500, 5000]], [24, 40, 33, 28, 30, 22, 16, 7])"
   ]
  },
  {
   "cell_type": "code",
   "execution_count": 63,
   "metadata": {},
   "outputs": [
    {
     "data": {
      "text/plain": [
       "30.625"
      ]
     },
     "execution_count": 63,
     "metadata": {},
     "output_type": "execute_result"
    }
   ],
   "source": [
    "getMode([[15, 20], [20, 25], [25, 30], [30, 35], [35, 40], [40, 45], [45, 50], [50, 55]], [3, 8, 9, 10, 3, 0, 0, 2])"
   ]
  },
  {
   "cell_type": "code",
   "execution_count": 64,
   "metadata": {},
   "outputs": [
    {
     "data": {
      "text/plain": [
       "4608.695652173913"
      ]
     },
     "execution_count": 64,
     "metadata": {},
     "output_type": "execute_result"
    }
   ],
   "source": [
    "getMode([[3000, 4000], [4000, 5000], [5000, 6000], [6000, 7000], [7000, 8000], [8000, 9000], [9000, 10000], [10000, 11000]], [4, 18, 9,7,6,3,1,1])"
   ]
  },
  {
   "cell_type": "code",
   "execution_count": 65,
   "metadata": {},
   "outputs": [
    {
     "data": {
      "text/plain": [
       "44.705882352941174"
      ]
     },
     "execution_count": 65,
     "metadata": {},
     "output_type": "execute_result"
    }
   ],
   "source": [
    "getMode([[0,10],[10,20],[20,30],[30, 40], [40,50], [50, 60], [60, 70], [70, 80]], [7, 14, 13,12,20,11,15,8])"
   ]
  },
  {
   "cell_type": "code",
   "execution_count": 66,
   "metadata": {},
   "outputs": [
    {
     "data": {
      "text/html": [
       "<div>\n",
       "<style scoped>\n",
       "    .dataframe tbody tr th:only-of-type {\n",
       "        vertical-align: middle;\n",
       "    }\n",
       "\n",
       "    .dataframe tbody tr th {\n",
       "        vertical-align: top;\n",
       "    }\n",
       "\n",
       "    .dataframe thead th {\n",
       "        text-align: right;\n",
       "    }\n",
       "</style>\n",
       "<table border=\"1\" class=\"dataframe\">\n",
       "  <thead>\n",
       "    <tr style=\"text-align: right;\">\n",
       "      <th></th>\n",
       "      <th>marks</th>\n",
       "      <th>freq</th>\n",
       "    </tr>\n",
       "  </thead>\n",
       "  <tbody>\n",
       "    <tr>\n",
       "      <th>0</th>\n",
       "      <td>20</td>\n",
       "      <td>6</td>\n",
       "    </tr>\n",
       "    <tr>\n",
       "      <th>1</th>\n",
       "      <td>29</td>\n",
       "      <td>28</td>\n",
       "    </tr>\n",
       "    <tr>\n",
       "      <th>2</th>\n",
       "      <td>28</td>\n",
       "      <td>24</td>\n",
       "    </tr>\n",
       "    <tr>\n",
       "      <th>3</th>\n",
       "      <td>33</td>\n",
       "      <td>15</td>\n",
       "    </tr>\n",
       "    <tr>\n",
       "      <th>4</th>\n",
       "      <td>42</td>\n",
       "      <td>2</td>\n",
       "    </tr>\n",
       "    <tr>\n",
       "      <th>5</th>\n",
       "      <td>38</td>\n",
       "      <td>4</td>\n",
       "    </tr>\n",
       "    <tr>\n",
       "      <th>6</th>\n",
       "      <td>43</td>\n",
       "      <td>1</td>\n",
       "    </tr>\n",
       "    <tr>\n",
       "      <th>7</th>\n",
       "      <td>25</td>\n",
       "      <td>20</td>\n",
       "    </tr>\n",
       "  </tbody>\n",
       "</table>\n",
       "</div>"
      ],
      "text/plain": [
       "   marks  freq\n",
       "0     20     6\n",
       "1     29    28\n",
       "2     28    24\n",
       "3     33    15\n",
       "4     42     2\n",
       "5     38     4\n",
       "6     43     1\n",
       "7     25    20"
      ]
     },
     "execution_count": 66,
     "metadata": {},
     "output_type": "execute_result"
    }
   ],
   "source": [
    "#Median \n",
    "stats=pd.DataFrame()\n",
    "stats['marks']=[20, 29, 28, 33, 42, 38, 43, 25]\n",
    "stats['freq']=[6, 28, 24, 15, 2, 4, 1, 20]\n",
    "stats"
   ]
  },
  {
   "cell_type": "code",
   "execution_count": 67,
   "metadata": {},
   "outputs": [],
   "source": [
    "stats.sort_values(by='marks', inplace=True)"
   ]
  },
  {
   "cell_type": "code",
   "execution_count": 68,
   "metadata": {},
   "outputs": [],
   "source": [
    "stats['cum_freq']=np.cumsum(stats['freq'])"
   ]
  },
  {
   "cell_type": "code",
   "execution_count": 69,
   "metadata": {},
   "outputs": [
    {
     "data": {
      "text/html": [
       "<div>\n",
       "<style scoped>\n",
       "    .dataframe tbody tr th:only-of-type {\n",
       "        vertical-align: middle;\n",
       "    }\n",
       "\n",
       "    .dataframe tbody tr th {\n",
       "        vertical-align: top;\n",
       "    }\n",
       "\n",
       "    .dataframe thead th {\n",
       "        text-align: right;\n",
       "    }\n",
       "</style>\n",
       "<table border=\"1\" class=\"dataframe\">\n",
       "  <thead>\n",
       "    <tr style=\"text-align: right;\">\n",
       "      <th></th>\n",
       "      <th>marks</th>\n",
       "      <th>freq</th>\n",
       "      <th>cum_freq</th>\n",
       "    </tr>\n",
       "  </thead>\n",
       "  <tbody>\n",
       "    <tr>\n",
       "      <th>0</th>\n",
       "      <td>20</td>\n",
       "      <td>6</td>\n",
       "      <td>6</td>\n",
       "    </tr>\n",
       "    <tr>\n",
       "      <th>7</th>\n",
       "      <td>25</td>\n",
       "      <td>20</td>\n",
       "      <td>26</td>\n",
       "    </tr>\n",
       "    <tr>\n",
       "      <th>2</th>\n",
       "      <td>28</td>\n",
       "      <td>24</td>\n",
       "      <td>50</td>\n",
       "    </tr>\n",
       "    <tr>\n",
       "      <th>1</th>\n",
       "      <td>29</td>\n",
       "      <td>28</td>\n",
       "      <td>78</td>\n",
       "    </tr>\n",
       "    <tr>\n",
       "      <th>3</th>\n",
       "      <td>33</td>\n",
       "      <td>15</td>\n",
       "      <td>93</td>\n",
       "    </tr>\n",
       "    <tr>\n",
       "      <th>5</th>\n",
       "      <td>38</td>\n",
       "      <td>4</td>\n",
       "      <td>97</td>\n",
       "    </tr>\n",
       "    <tr>\n",
       "      <th>4</th>\n",
       "      <td>42</td>\n",
       "      <td>2</td>\n",
       "      <td>99</td>\n",
       "    </tr>\n",
       "    <tr>\n",
       "      <th>6</th>\n",
       "      <td>43</td>\n",
       "      <td>1</td>\n",
       "      <td>100</td>\n",
       "    </tr>\n",
       "  </tbody>\n",
       "</table>\n",
       "</div>"
      ],
      "text/plain": [
       "   marks  freq  cum_freq\n",
       "0     20     6         6\n",
       "7     25    20        26\n",
       "2     28    24        50\n",
       "1     29    28        78\n",
       "3     33    15        93\n",
       "5     38     4        97\n",
       "4     42     2        99\n",
       "6     43     1       100"
      ]
     },
     "execution_count": 69,
     "metadata": {},
     "output_type": "execute_result"
    }
   ],
   "source": [
    "stats"
   ]
  },
  {
   "cell_type": "code",
   "execution_count": 70,
   "metadata": {},
   "outputs": [
    {
     "data": {
      "text/plain": [
       "array([20, 20, 20, 20, 20, 20, 29, 29, 29, 29, 29, 29, 29, 29, 29, 29, 29,\n",
       "       29, 29, 29, 29, 29, 29, 29, 29, 29, 29, 29, 29, 29, 29, 29, 29, 29,\n",
       "       28, 28, 28, 28, 28, 28, 28, 28, 28, 28, 28, 28, 28, 28, 28, 28, 28,\n",
       "       28, 28, 28, 28, 28, 28, 28, 33, 33, 33, 33, 33, 33, 33, 33, 33, 33,\n",
       "       33, 33, 33, 33, 33, 42, 42, 38, 38, 38, 38, 43, 25, 25, 25, 25, 25,\n",
       "       25, 25, 25, 25, 25, 25, 25, 25, 25, 25, 25, 25, 25, 25, 25])"
      ]
     },
     "execution_count": 70,
     "metadata": {},
     "output_type": "execute_result"
    }
   ],
   "source": [
    "dataset=[]\n",
    "for i in range(len(stats['marks'])):\n",
    "    dataset+=[stats['marks'][i]]*stats['freq'][i]\n",
    "\n",
    "dataset=np.array(dataset)\n",
    "dataset"
   ]
  },
  {
   "cell_type": "code",
   "execution_count": 71,
   "metadata": {},
   "outputs": [
    {
     "data": {
      "text/plain": [
       "28.5"
      ]
     },
     "execution_count": 71,
     "metadata": {},
     "output_type": "execute_result"
    }
   ],
   "source": [
    "np.median(dataset)"
   ]
  },
  {
   "cell_type": "code",
   "execution_count": 72,
   "metadata": {},
   "outputs": [],
   "source": [
    "def getMedian(class_interval, freq):\n",
    "    stats=pd.DataFrame()\n",
    "    stats['intervals']=class_interval\n",
    "    stats['freq']=freq\n",
    "    stats['cum_freq']=np.cumsum(stats['freq'])\n",
    "    print(stats)\n",
    "    \n",
    "    mid=(stats['cum_freq'][len(stats['cum_freq'])-1]/2)\n",
    "    print(\"Mid point is \"+str(mid))\n",
    "    n=0\n",
    "    for i in range(len(stats['cum_freq'])):\n",
    "        if(stats['cum_freq'][i]>=mid):\n",
    "            n=i\n",
    "            break\n",
    "    \n",
    "    print(\"Class selected is\", stats['intervals'][n])\n",
    "    \n",
    "    median=stats['intervals'][n][0]+((mid-stats['cum_freq'][n-1])/stats['freq'][n])*(stats['intervals'][0][1]-stats['intervals'][0][0])\n",
    "    print(\"Median is\", median)"
   ]
  },
  {
   "cell_type": "code",
   "execution_count": 73,
   "metadata": {},
   "outputs": [
    {
     "name": "stdout",
     "output_type": "stream",
     "text": [
      "   intervals  freq  cum_freq\n",
      "0    [0, 10]     5         5\n",
      "1   [10, 20]     3         8\n",
      "2   [20, 30]     4        12\n",
      "3   [30, 40]     3        15\n",
      "4   [40, 50]     3        18\n",
      "5   [50, 60]     4        22\n",
      "6   [60, 70]     7        29\n",
      "7   [70, 80]     9        38\n",
      "8   [80, 90]     7        45\n",
      "9  [90, 100]     8        53\n",
      "Mid point is 26.5\n",
      "Class selected is [60, 70]\n",
      "Median is 66.42857142857143\n"
     ]
    }
   ],
   "source": [
    "getMedian([[0,10], [10, 20], [20, 30], [30, 40], [40, 50], [50, 60], [60, 70], [70, 80], [80, 90], [90, 100]], [5,3,4,3,3,4,7,9,7,8])"
   ]
  },
  {
   "cell_type": "code",
   "execution_count": 74,
   "metadata": {},
   "outputs": [
    {
     "name": "stdout",
     "output_type": "stream",
     "text": [
      "    intervals  freq  cum_freq\n",
      "0  [135, 140]     4         4\n",
      "1  [140, 145]     7        11\n",
      "2  [145, 150]    18        29\n",
      "3  [150, 155]    11        40\n",
      "4  [155, 160]     6        46\n",
      "5  [160, 165]     5        51\n",
      "Mid point is 25.5\n",
      "Class selected is [145, 150]\n",
      "Median is 149.02777777777777\n"
     ]
    }
   ],
   "source": [
    "getMedian([[135, 140], [140, 145], [145, 150], [150, 155], [155, 160], [160, 165]], [4,7,18,11,6,5])"
   ]
  },
  {
   "cell_type": "code",
   "execution_count": 75,
   "metadata": {},
   "outputs": [],
   "source": [
    "def getMean(intervals, freq):\n",
    "    mids=[]\n",
    "    for i in range(len(intervals)):\n",
    "        mids.append((intervals[i][0]+intervals[i][1])/2)\n",
    "    \n",
    "    print(mids)\n",
    "    stats=pd.DataFrame()\n",
    "    stats['fi']=freq\n",
    "    stats['xi']=mids\n",
    "    stats['fi*xi']=stats['fi']*stats['xi']\n",
    "    print(stats)\n",
    "    \n",
    "    print(\"Mean is\", stats['fi*xi'].sum()/stats['fi'].sum())"
   ]
  },
  {
   "cell_type": "code",
   "execution_count": 76,
   "metadata": {},
   "outputs": [],
   "source": [
    "classes=[[65,85],[85,105], [105,125], [125, 145], [145,165], [165, 185], [185, 205]]\n",
    "freqs=[4,5,13,20,14,8,4]"
   ]
  },
  {
   "cell_type": "code",
   "execution_count": 77,
   "metadata": {},
   "outputs": [
    {
     "name": "stdout",
     "output_type": "stream",
     "text": [
      "[75.0, 95.0, 115.0, 135.0, 155.0, 175.0, 195.0]\n",
      "   fi     xi   fi*xi\n",
      "0   4   75.0   300.0\n",
      "1   5   95.0   475.0\n",
      "2  13  115.0  1495.0\n",
      "3  20  135.0  2700.0\n",
      "4  14  155.0  2170.0\n",
      "5   8  175.0  1400.0\n",
      "6   4  195.0   780.0\n",
      "Mean is 137.05882352941177\n"
     ]
    }
   ],
   "source": [
    "getMean(classes, freqs)"
   ]
  },
  {
   "cell_type": "code",
   "execution_count": 78,
   "metadata": {},
   "outputs": [
    {
     "data": {
      "text/plain": [
       "135.76923076923077"
      ]
     },
     "execution_count": 78,
     "metadata": {},
     "output_type": "execute_result"
    }
   ],
   "source": [
    "getMode(classes, freqs)"
   ]
  },
  {
   "cell_type": "code",
   "execution_count": 79,
   "metadata": {},
   "outputs": [
    {
     "name": "stdout",
     "output_type": "stream",
     "text": [
      "    intervals  freq  cum_freq\n",
      "0    [65, 85]     4         4\n",
      "1   [85, 105]     5         9\n",
      "2  [105, 125]    13        22\n",
      "3  [125, 145]    20        42\n",
      "4  [145, 165]    14        56\n",
      "5  [165, 185]     8        64\n",
      "6  [185, 205]     4        68\n",
      "Mid point is 34.0\n",
      "Class selected is [125, 145]\n",
      "Median is 137.0\n"
     ]
    }
   ],
   "source": [
    "getMedian(classes, freqs)"
   ]
  },
  {
   "cell_type": "code",
   "execution_count": 80,
   "metadata": {},
   "outputs": [
    {
     "data": {
      "text/plain": [
       "411"
      ]
     },
     "execution_count": 80,
     "metadata": {},
     "output_type": "execute_result"
    }
   ],
   "source": [
    "#approx\n",
    "137*3"
   ]
  },
  {
   "cell_type": "code",
   "execution_count": 81,
   "metadata": {},
   "outputs": [
    {
     "data": {
      "text/plain": [
       "409.1"
      ]
     },
     "execution_count": 81,
     "metadata": {},
     "output_type": "execute_result"
    }
   ],
   "source": [
    "135+(2*137.05) # 3Median=Mode+ 2Median"
   ]
  },
  {
   "cell_type": "code",
   "execution_count": 82,
   "metadata": {},
   "outputs": [
    {
     "name": "stdout",
     "output_type": "stream",
     "text": [
      "  intervals  freq  cum_freq\n",
      "0  [15, 20]     2         2\n",
      "1  [20, 25]     4         6\n",
      "2  [25, 30]    18        24\n",
      "3  [30, 35]    21        45\n",
      "4  [35, 40]    33        78\n",
      "5  [40, 45]    11        89\n",
      "6  [45, 50]     3        92\n",
      "7  [50, 55]     6        98\n",
      "8  [55, 60]     2       100\n",
      "Mid point is 50.0\n",
      "Class selected is [35, 40]\n",
      "Median is 35.75757575757576\n"
     ]
    }
   ],
   "source": [
    "getMedian([[15,20],[20,25],[25,30],[30,35],[35,40],[40,45],[45,50],[50,55],[55,60]],[2,4,18,21,33,11,3,6,2])"
   ]
  },
  {
   "cell_type": "code",
   "execution_count": 83,
   "metadata": {},
   "outputs": [
    {
     "name": "stdout",
     "output_type": "stream",
     "text": [
      "        intervals  freq  cum_freq\n",
      "0  [117.5, 126.5]     3         3\n",
      "1  [126.5, 135.5]     5         8\n",
      "2  [135.5, 144.5]     9        17\n",
      "3  [144.5, 153.5]    12        29\n",
      "4  [153.5, 162.5]     5        34\n",
      "5  [162.5, 171.5]     4        38\n",
      "6  [171.5, 180.5]     2        40\n",
      "Mid point is 20.0\n",
      "Class selected is [144.5, 153.5]\n",
      "Median is 146.75\n"
     ]
    }
   ],
   "source": [
    "getMedian([[117.5, 126.5], [126.5, 135.5], [135.5, 144.5], [144.5, 153.5], [153.5, 162.5], [162.5, 171.5], [171.5, 180.5]], [3,5,9,12,5,4,2])"
   ]
  },
  {
   "cell_type": "code",
   "execution_count": 84,
   "metadata": {},
   "outputs": [
    {
     "name": "stdout",
     "output_type": "stream",
     "text": [
      "      intervals  freq  cum_freq\n",
      "0  [1500, 2000]    14        14\n",
      "1  [2000, 2500]    56        70\n",
      "2  [2500, 3000]    60       130\n",
      "3  [3000, 3500]    86       216\n",
      "4  [3500, 4000]    74       290\n",
      "5  [4000, 4500]    62       352\n",
      "6  [4500, 5000]    48       400\n",
      "Mid point is 200.0\n",
      "Class selected is [3000, 3500]\n",
      "Median is 3406.9767441860467\n"
     ]
    }
   ],
   "source": [
    "getMedian([[1500, 2000], [2000, 2500], [2500, 3000], [3000, 3500], [3500, 4000], [4000, 4500], [4500, 5000]], [14, 56, 60, 86, 74, 62, 48])"
   ]
  },
  {
   "cell_type": "code",
   "execution_count": 85,
   "metadata": {},
   "outputs": [],
   "source": [
    "classes=[[1,4],[4,7], [7,10], [10,13], [13, 16], [16,19]]\n",
    "freqs=[6, 30, 40, 16, 4, 4]"
   ]
  },
  {
   "cell_type": "code",
   "execution_count": 86,
   "metadata": {},
   "outputs": [
    {
     "name": "stdout",
     "output_type": "stream",
     "text": [
      "  intervals  freq  cum_freq\n",
      "0    [1, 4]     6         6\n",
      "1    [4, 7]    30        36\n",
      "2   [7, 10]    40        76\n",
      "3  [10, 13]    16        92\n",
      "4  [13, 16]     4        96\n",
      "5  [16, 19]     4       100\n",
      "Mid point is 50.0\n",
      "Class selected is [7, 10]\n",
      "Median is 8.05\n"
     ]
    }
   ],
   "source": [
    "getMedian(classes, freqs)"
   ]
  },
  {
   "cell_type": "code",
   "execution_count": 87,
   "metadata": {},
   "outputs": [
    {
     "data": {
      "text/plain": [
       "7.882352941176471"
      ]
     },
     "execution_count": 87,
     "metadata": {},
     "output_type": "execute_result"
    }
   ],
   "source": [
    "getMode(classes, freqs)"
   ]
  },
  {
   "cell_type": "code",
   "execution_count": 88,
   "metadata": {},
   "outputs": [
    {
     "name": "stdout",
     "output_type": "stream",
     "text": [
      "[2.5, 5.5, 8.5, 11.5, 14.5, 17.5]\n",
      "   fi    xi  fi*xi\n",
      "0   6   2.5   15.0\n",
      "1  30   5.5  165.0\n",
      "2  40   8.5  340.0\n",
      "3  16  11.5  184.0\n",
      "4   4  14.5   58.0\n",
      "5   4  17.5   70.0\n",
      "Mean is 8.32\n"
     ]
    }
   ],
   "source": [
    "getMean(classes, freqs)"
   ]
  },
  {
   "cell_type": "code",
   "execution_count": 89,
   "metadata": {},
   "outputs": [
    {
     "name": "stdout",
     "output_type": "stream",
     "text": [
      "  intervals  freq  cum_freq\n",
      "0  [40, 45]     2         2\n",
      "1  [45, 50]     3         5\n",
      "2  [50, 55]     8        13\n",
      "3  [55, 60]     6        19\n",
      "4  [60, 65]     6        25\n",
      "5  [65, 70]     3        28\n",
      "6  [70, 75]     2        30\n",
      "Mid point is 15.0\n",
      "Class selected is [55, 60]\n",
      "Median is 56.666666666666664\n"
     ]
    }
   ],
   "source": [
    "getMedian([[40, 45], [45, 50], [50, 55], [55, 60], [60, 65], [65, 70], [70,75]], [2,3,8,6,6,3,2])"
   ]
  },
  {
   "cell_type": "code",
   "execution_count": 90,
   "metadata": {},
   "outputs": [
    {
     "data": {
      "text/plain": [
       "array([ 10,  20,  30,  40,  50,  60,  70,  80,  90, 100])"
      ]
     },
     "execution_count": 90,
     "metadata": {},
     "output_type": "execute_result"
    }
   ],
   "source": [
    "x=np.arange(10, 110, 10)\n",
    "x"
   ]
  },
  {
   "cell_type": "code",
   "execution_count": 91,
   "metadata": {},
   "outputs": [],
   "source": [
    "less_freqs=np.array([5,8,12,15,18,22,29,38,45,53])\n",
    "more_freqs=[53, 48,45,41,38,35,31,24,15,8]"
   ]
  },
  {
   "cell_type": "code",
   "execution_count": 92,
   "metadata": {},
   "outputs": [
    {
     "data": {
      "text/plain": [
       "[<matplotlib.lines.Line2D at 0x7f7030b1f210>]"
      ]
     },
     "execution_count": 92,
     "metadata": {},
     "output_type": "execute_result"
    },
    {
     "data": {
      "image/png": "[encoded data removed]",
      "text/plain": [
       "<Figure size 432x288 with 1 Axes>"
      ]
     },
     "metadata": {},
     "output_type": "display_data"
    }
   ],
   "source": [
    "plt.plot(x,less_freqs)\n",
    "plt.plot(x,more_freqs)"
   ]
  },
  {
   "cell_type": "code",
   "execution_count": 93,
   "metadata": {},
   "outputs": [
    {
     "data": {
      "text/plain": [
       "[<matplotlib.lines.Line2D at 0x7f7030a50f10>]"
      ]
     },
     "execution_count": 93,
     "metadata": {},
     "output_type": "execute_result"
    },
    {
     "data": {
      "image/png": "[encoded data removed]",
      "text/plain": [
       "<Figure size 432x288 with 1 Axes>"
      ]
     },
     "metadata": {},
     "output_type": "display_data"
    }
   ],
   "source": [
    "x=[120, 140, 160, 180, 200]\n",
    "y=[12, 26, 34, 40, 50]\n",
    "plt.plot(x,y)"
   ]
  },
  {
   "cell_type": "code",
   "execution_count": 94,
   "metadata": {},
   "outputs": [
    {
     "data": {
      "text/plain": [
       "[<matplotlib.lines.Line2D at 0x7f7030a2b110>]"
      ]
     },
     "execution_count": 94,
     "metadata": {},
     "output_type": "execute_result"
    },
    {
     "data": {
      "image/png": "[encoded data removed]",
      "text/plain": [
       "<Figure size 432x288 with 1 Axes>"
      ]
     },
     "metadata": {},
     "output_type": "display_data"
    }
   ],
   "source": [
    "x=np.arange(38, 54, 2)\n",
    "y=[0,3,5,9,14,28,32,35]\n",
    "plt.plot(x, y)\n",
    "plt.plot(x, np.full(len(x), 17.5))"
   ]
  },
  {
   "cell_type": "code",
   "execution_count": 95,
   "metadata": {},
   "outputs": [
    {
     "data": {
      "text/plain": [
       "[<matplotlib.lines.Line2D at 0x7f7030940290>]"
      ]
     },
     "execution_count": 95,
     "metadata": {},
     "output_type": "execute_result"
    },
    {
     "data": {
      "image/png": "[encoded data removed]",
      "text/plain": [
       "<Figure size 432x288 with 1 Axes>"
      ]
     },
     "metadata": {},
     "output_type": "display_data"
    }
   ],
   "source": [
    "plt.plot([50, 55, 60, 65, 70, 75], [100, 92, 80, 56, 18, 2])"
   ]
  },
  {
   "cell_type": "markdown",
   "metadata": {},
   "source": [
    "# Class 11"
   ]
  },
  {
   "cell_type": "code",
   "execution_count": 96,
   "metadata": {},
   "outputs": [
    {
     "data": {
      "text/html": [
       "<div>\n",
       "<style scoped>\n",
       "    .dataframe tbody tr th:only-of-type {\n",
       "        vertical-align: middle;\n",
       "    }\n",
       "\n",
       "    .dataframe tbody tr th {\n",
       "        vertical-align: top;\n",
       "    }\n",
       "\n",
       "    .dataframe thead th {\n",
       "        text-align: right;\n",
       "    }\n",
       "</style>\n",
       "<table border=\"1\" class=\"dataframe\">\n",
       "  <thead>\n",
       "    <tr style=\"text-align: right;\">\n",
       "      <th></th>\n",
       "      <th>xi</th>\n",
       "    </tr>\n",
       "  </thead>\n",
       "  <tbody>\n",
       "    <tr>\n",
       "      <th>0</th>\n",
       "      <td>6</td>\n",
       "    </tr>\n",
       "    <tr>\n",
       "      <th>1</th>\n",
       "      <td>7</td>\n",
       "    </tr>\n",
       "    <tr>\n",
       "      <th>2</th>\n",
       "      <td>10</td>\n",
       "    </tr>\n",
       "    <tr>\n",
       "      <th>3</th>\n",
       "      <td>12</td>\n",
       "    </tr>\n",
       "    <tr>\n",
       "      <th>4</th>\n",
       "      <td>13</td>\n",
       "    </tr>\n",
       "    <tr>\n",
       "      <th>5</th>\n",
       "      <td>4</td>\n",
       "    </tr>\n",
       "    <tr>\n",
       "      <th>6</th>\n",
       "      <td>8</td>\n",
       "    </tr>\n",
       "    <tr>\n",
       "      <th>7</th>\n",
       "      <td>12</td>\n",
       "    </tr>\n",
       "  </tbody>\n",
       "</table>\n",
       "</div>"
      ],
      "text/plain": [
       "   xi\n",
       "0   6\n",
       "1   7\n",
       "2  10\n",
       "3  12\n",
       "4  13\n",
       "5   4\n",
       "6   8\n",
       "7  12"
      ]
     },
     "execution_count": 96,
     "metadata": {},
     "output_type": "execute_result"
    }
   ],
   "source": [
    "data=pd.DataFrame()\n",
    "data['xi']=[6,7,10,12,13,4,8,12]\n",
    "data"
   ]
  },
  {
   "cell_type": "code",
   "execution_count": 97,
   "metadata": {},
   "outputs": [
    {
     "data": {
      "text/plain": [
       "9.0"
      ]
     },
     "execution_count": 97,
     "metadata": {},
     "output_type": "execute_result"
    }
   ],
   "source": [
    "data['xi'].mean()"
   ]
  },
  {
   "cell_type": "code",
   "execution_count": 98,
   "metadata": {},
   "outputs": [
    {
     "data": {
      "text/html": [
       "<div>\n",
       "<style scoped>\n",
       "    .dataframe tbody tr th:only-of-type {\n",
       "        vertical-align: middle;\n",
       "    }\n",
       "\n",
       "    .dataframe tbody tr th {\n",
       "        vertical-align: top;\n",
       "    }\n",
       "\n",
       "    .dataframe thead th {\n",
       "        text-align: right;\n",
       "    }\n",
       "</style>\n",
       "<table border=\"1\" class=\"dataframe\">\n",
       "  <thead>\n",
       "    <tr style=\"text-align: right;\">\n",
       "      <th></th>\n",
       "      <th>xi</th>\n",
       "      <th>xi-m</th>\n",
       "    </tr>\n",
       "  </thead>\n",
       "  <tbody>\n",
       "    <tr>\n",
       "      <th>0</th>\n",
       "      <td>6</td>\n",
       "      <td>3.0</td>\n",
       "    </tr>\n",
       "    <tr>\n",
       "      <th>1</th>\n",
       "      <td>7</td>\n",
       "      <td>2.0</td>\n",
       "    </tr>\n",
       "    <tr>\n",
       "      <th>2</th>\n",
       "      <td>10</td>\n",
       "      <td>1.0</td>\n",
       "    </tr>\n",
       "    <tr>\n",
       "      <th>3</th>\n",
       "      <td>12</td>\n",
       "      <td>3.0</td>\n",
       "    </tr>\n",
       "    <tr>\n",
       "      <th>4</th>\n",
       "      <td>13</td>\n",
       "      <td>4.0</td>\n",
       "    </tr>\n",
       "    <tr>\n",
       "      <th>5</th>\n",
       "      <td>4</td>\n",
       "      <td>5.0</td>\n",
       "    </tr>\n",
       "    <tr>\n",
       "      <th>6</th>\n",
       "      <td>8</td>\n",
       "      <td>1.0</td>\n",
       "    </tr>\n",
       "    <tr>\n",
       "      <th>7</th>\n",
       "      <td>12</td>\n",
       "      <td>3.0</td>\n",
       "    </tr>\n",
       "  </tbody>\n",
       "</table>\n",
       "</div>"
      ],
      "text/plain": [
       "   xi  xi-m\n",
       "0   6   3.0\n",
       "1   7   2.0\n",
       "2  10   1.0\n",
       "3  12   3.0\n",
       "4  13   4.0\n",
       "5   4   5.0\n",
       "6   8   1.0\n",
       "7  12   3.0"
      ]
     },
     "execution_count": 98,
     "metadata": {},
     "output_type": "execute_result"
    }
   ],
   "source": [
    "data['xi-m']=abs(data['xi']-data['xi'].mean())\n",
    "data                 "
   ]
  },
  {
   "cell_type": "code",
   "execution_count": 99,
   "metadata": {},
   "outputs": [
    {
     "data": {
      "text/plain": [
       "2.75"
      ]
     },
     "execution_count": 99,
     "metadata": {},
     "output_type": "execute_result"
    }
   ],
   "source": [
    "data['xi-m'].mean()"
   ]
  },
  {
   "cell_type": "code",
   "execution_count": 100,
   "metadata": {},
   "outputs": [],
   "source": [
    "def calculate_Mean_Deviation_About_Mean1(observations):\n",
    "    data=pd.DataFrame()\n",
    "    data['xi']=observations\n",
    "    data['xi-m']=abs(data['xi']-data['xi'].mean())\n",
    "    print(data['xi-m'])\n",
    "    print(\"Mean Deviation Is:\", data['xi-m'].mean())\n",
    "    \n",
    "def calculate_Mean_Deviation_About_Median1(observations):\n",
    "    data=pd.DataFrame()\n",
    "    data['xi']=observations\n",
    "    data['xi-m']=abs(data['xi']-data['xi'].median())\n",
    "    print(data['xi-m'])\n",
    "    print(\"Mean Deviation Is:\", data['xi-m'].mean())    "
   ]
  },
  {
   "cell_type": "code",
   "execution_count": 101,
   "metadata": {},
   "outputs": [
    {
     "name": "stdout",
     "output_type": "stream",
     "text": [
      "0    3.0\n",
      "1    2.0\n",
      "2    1.0\n",
      "3    3.0\n",
      "4    4.0\n",
      "5    5.0\n",
      "6    1.0\n",
      "7    3.0\n",
      "Name: xi-m, dtype: float64\n",
      "Mean Deviation Is: 2.75\n"
     ]
    }
   ],
   "source": [
    "calculate_Mean_Deviation_About_Mean1([6,7,10, 12, 13, 4, 8, 12])"
   ]
  },
  {
   "cell_type": "code",
   "execution_count": 102,
   "metadata": {},
   "outputs": [
    {
     "name": "stdout",
     "output_type": "stream",
     "text": [
      "0      2.0\n",
      "1      7.0\n",
      "2      8.0\n",
      "3      7.0\n",
      "4      6.0\n",
      "5      1.0\n",
      "6      7.0\n",
      "7      9.0\n",
      "8     10.0\n",
      "9      5.0\n",
      "10     2.0\n",
      "11     7.0\n",
      "12     8.0\n",
      "13     7.0\n",
      "14     6.0\n",
      "15     1.0\n",
      "16     7.0\n",
      "17     9.0\n",
      "18    10.0\n",
      "19     5.0\n",
      "Name: xi-m, dtype: float64\n",
      "Mean Deviation Is: 6.2\n"
     ]
    }
   ],
   "source": [
    "calculate_Mean_Deviation_About_Mean1([12, 3, 18, 17, 4, 9, 17, 19, 20, 15,8,17, 2, 3, 16, 11, 3, 1, 0, 5])"
   ]
  },
  {
   "cell_type": "code",
   "execution_count": 103,
   "metadata": {},
   "outputs": [
    {
     "name": "stdout",
     "output_type": "stream",
     "text": [
      "0      6.0\n",
      "1      0.0\n",
      "2      4.0\n",
      "3      6.0\n",
      "4      3.0\n",
      "5      1.0\n",
      "6      9.0\n",
      "7      5.0\n",
      "8      2.0\n",
      "9     10.0\n",
      "10    12.0\n",
      "Name: xi-m, dtype: float64\n",
      "Mean Deviation Is: 5.2727272727272725\n"
     ]
    }
   ],
   "source": [
    "calculate_Mean_Deviation_About_Median1([3, 9,5,3,12,10,18,4, 7,19,21])"
   ]
  },
  {
   "cell_type": "code",
   "execution_count": 104,
   "metadata": {},
   "outputs": [],
   "source": [
    "def calculate_Mean_Deviation_About_Mean2(xi, fi):\n",
    "    data=pd.DataFrame()\n",
    "    data['xi']=xi\n",
    "    data['fi']=fi\n",
    "    data['xi*fi']=data['xi']*data['fi']\n",
    "    mean=data['xi*fi'].sum()/data['fi'].sum()\n",
    "    data['xi-X']=abs(data['xi']-mean)\n",
    "    data['fX']=data['xi-X']*data['fi']\n",
    "    mean_deviation=data['fX'].sum()/data['fi'].sum()\n",
    "    print(data)\n",
    "    print(\"Mean Deviation About Mean is\", mean_deviation)\n",
    "    \n",
    "def calculate_Mean_Deviation_About_Median2(xi, fi):\n",
    "    data=pd.DataFrame()\n",
    "    data['xi']=xi\n",
    "    data['fi']=fi\n",
    "    data[\"cum_freq\"]=np.cumsum(data['fi'])\n",
    "    mid=data['fi'].sum()/2\n",
    "    median=0\n",
    "    for i in range(len(data['cum_freq'])):\n",
    "        if(data['cum_freq'][i]>=mid):\n",
    "            median=xi[i]\n",
    "            break;       \n",
    "    data['xi-M']=abs(data['xi']-median)\n",
    "    data['fM']=data['xi-M']*data['fi']\n",
    "    print(data)\n",
    "    mean_deviation=data['fM'].sum()/data['fi'].sum()\n",
    "    print(\"Mean deviation about median is\", mean_deviation)"
   ]
  },
  {
   "cell_type": "code",
   "execution_count": 105,
   "metadata": {},
   "outputs": [],
   "source": [
    "def create_classes(start, end, height):\n",
    "    res=[]\n",
    "    for x in range(start, (end-height)+1, height):\n",
    "        res.append([x, x+height])\n",
    "    return res\n",
    "def getMid(n):\n",
    "    return (n[0]+n[1])/2\n"
   ]
  },
  {
   "cell_type": "code",
   "execution_count": 106,
   "metadata": {},
   "outputs": [],
   "source": [
    "def calculate_Mean_Deviation_About_Mean3(cData, freqs):\n",
    "    data=pd.DataFrame()\n",
    "    data['marks']=create_classes(cData[0], cData[1], cData[2])\n",
    "    data['student']=freqs\n",
    "    data['marks.mid']=data['marks'].map(getMid)\n",
    "    data['xi*fi']=data['marks.mid']*data.student\n",
    "    data\n",
    "    mean=data['xi*fi'].sum()/data['student'].sum()\n",
    "    print(\"The mean is\", mean)\n",
    "    data['marks.mid-mean']=abs(data['marks.mid']-mean)\n",
    "    data['marks.mid-meanks*fi']=data['marks.mid-mean']*data['student']\n",
    "    mean_deviation=data['marks.mid-meanks*fi'].sum()/data['student'].sum()\n",
    "    print(data)\n",
    "    print(\"The mean deviation is:\",mean_deviation)"
   ]
  },
  {
   "cell_type": "code",
   "execution_count": 107,
   "metadata": {},
   "outputs": [
    {
     "name": "stdout",
     "output_type": "stream",
     "text": [
      "The mean is 45.0\n",
      "      marks  student  marks.mid  xi*fi  marks.mid-mean  marks.mid-meanks*fi\n",
      "0  [10, 20]        2       15.0   30.0            30.0                 60.0\n",
      "1  [20, 30]        3       25.0   75.0            20.0                 60.0\n",
      "2  [30, 40]        8       35.0  280.0            10.0                 80.0\n",
      "3  [40, 50]       14       45.0  630.0             0.0                  0.0\n",
      "4  [50, 60]        8       55.0  440.0            10.0                 80.0\n",
      "5  [60, 70]        3       65.0  195.0            20.0                 60.0\n",
      "6  [70, 80]        2       75.0  150.0            30.0                 60.0\n",
      "The mean deviation is: 10.0\n"
     ]
    }
   ],
   "source": [
    "calculate_Mean_Deviation_About_Mean3([10, 80, 10], [2, 3, 8, 14, 8, 3, 2])"
   ]
  },
  {
   "cell_type": "code",
   "execution_count": 108,
   "metadata": {},
   "outputs": [
    {
     "name": "stdout",
     "output_type": "stream",
     "text": [
      "Mid point of data is at 25.0th observation\n",
      "\n",
      "Selected class is [20, 30]\n",
      "The median is 28.0\n",
      "      marks  student  marks.mid  cum_fi  marks.mid-median  marks.mid-median*fi\n",
      "0   [0, 10]        6        5.0       6              23.0                138.0\n",
      "1  [10, 20]        7       15.0      13              13.0                 91.0\n",
      "2  [20, 30]       15       25.0      28               3.0                 45.0\n",
      "3  [30, 40]       16       35.0      44               7.0                112.0\n",
      "4  [40, 50]        4       45.0      48              17.0                 68.0\n",
      "5  [50, 60]        2       55.0      50              27.0                 54.0\n",
      "The median deviation is: 10.16\n"
     ]
    }
   ],
   "source": [
    "def calculate_Mean_Deviation_About_Median3(cData, freqs):\n",
    "    data=pd.DataFrame()\n",
    "    data['marks']=create_classes(cData[0], cData[1], cData[2])\n",
    "    data['student']=freqs\n",
    "    data['marks.mid']=data['marks'].map(getMid)\n",
    "    data['cum_fi']=np.cumsum(data['student'])\n",
    "    mid=data['student'].sum()/2\n",
    "    print(\"Mid point of data is at \"+str(mid)+\"th observation\\n\")\n",
    "    sci=0\n",
    "    for i in range(len(data['cum_fi'])):\n",
    "        if(data['cum_fi'][i]>=mid):\n",
    "            sci=i\n",
    "            break\n",
    "    print(\"Selected class is\", data['marks'][sci])\n",
    "    \n",
    "    median=data['marks'][sci][0]+((mid-data['cum_fi'][sci-1])/data['student'][sci])*cData[2]\n",
    "    print(\"The median is\", median)\n",
    "    data['marks.mid-median']=abs(data['marks.mid']-median)\n",
    "    data['marks.mid-median*fi']=data['marks.mid-median']*data['student']\n",
    "    median_deviation=data['marks.mid-median*fi'].sum()/data['student'].sum()\n",
    "    print(data)\n",
    "    print(\"The median deviation is:\",median_deviation)\n",
    "    \n",
    "calculate_Mean_Deviation_About_Median3([0,60, 10], [6, 7, 15, 16, 4, 2])"
   ]
  },
  {
   "cell_type": "code",
   "execution_count": 109,
   "metadata": {},
   "outputs": [
    {
     "name": "stdout",
     "output_type": "stream",
     "text": [
      "0    6.0\n",
      "1    3.0\n",
      "2    2.0\n",
      "3    1.0\n",
      "4    0.0\n",
      "5    2.0\n",
      "6    3.0\n",
      "7    7.0\n",
      "Name: xi-m, dtype: float64\n",
      "Mean Deviation Is: 3.0\n"
     ]
    }
   ],
   "source": [
    "calculate_Mean_Deviation_About_Mean1([4, 7, 8, 9, 10, 12, 13, 17])"
   ]
  },
  {
   "cell_type": "code",
   "execution_count": 110,
   "metadata": {},
   "outputs": [
    {
     "name": "stdout",
     "output_type": "stream",
     "text": [
      "0    12.0\n",
      "1    20.0\n",
      "2     2.0\n",
      "3    10.0\n",
      "4     8.0\n",
      "5     5.0\n",
      "6    13.0\n",
      "7     4.0\n",
      "8     4.0\n",
      "9     6.0\n",
      "Name: xi-m, dtype: float64\n",
      "Mean Deviation Is: 8.4\n"
     ]
    }
   ],
   "source": [
    "calculate_Mean_Deviation_About_Mean1([38, 70, 48, 40, 42, 55, 63, 46, 54, 44])"
   ]
  },
  {
   "cell_type": "code",
   "execution_count": 111,
   "metadata": {},
   "outputs": [
    {
     "name": "stdout",
     "output_type": "stream",
     "text": [
      "0     0.5\n",
      "1     3.5\n",
      "2     2.5\n",
      "3     0.5\n",
      "4     2.5\n",
      "5     0.5\n",
      "6     3.5\n",
      "7     2.5\n",
      "8     2.5\n",
      "9     4.5\n",
      "10    1.5\n",
      "11    3.5\n",
      "Name: xi-m, dtype: float64\n",
      "Mean Deviation Is: 2.3333333333333335\n"
     ]
    }
   ],
   "source": [
    "calculate_Mean_Deviation_About_Median1([13, 17, 16, 14, 11, 13, 10, 16, 11, 18, 12, 17])"
   ]
  },
  {
   "cell_type": "code",
   "execution_count": 112,
   "metadata": {},
   "outputs": [
    {
     "name": "stdout",
     "output_type": "stream",
     "text": [
      "0    11.5\n",
      "1    24.5\n",
      "2     1.5\n",
      "3     5.5\n",
      "4    12.5\n",
      "5     2.5\n",
      "6     5.5\n",
      "7     1.5\n",
      "8     3.5\n",
      "9     1.5\n",
      "Name: xi-m, dtype: float64\n",
      "Mean Deviation Is: 7.0\n"
     ]
    }
   ],
   "source": [
    "calculate_Mean_Deviation_About_Median1([36, 72, 46, 42, 60, 45, 53, 46, 51, 49])"
   ]
  },
  {
   "cell_type": "code",
   "execution_count": 113,
   "metadata": {},
   "outputs": [
    {
     "name": "stdout",
     "output_type": "stream",
     "text": [
      "   xi  fi  xi*fi  xi-X    fX\n",
      "0   5   7     35   9.0  63.0\n",
      "1  10   4     40   4.0  16.0\n",
      "2  15   6     90   1.0   6.0\n",
      "3  20   3     60   6.0  18.0\n",
      "4  25   5    125  11.0  55.0\n",
      "Mean Deviation About Mean is 6.32\n"
     ]
    }
   ],
   "source": [
    "calculate_Mean_Deviation_About_Mean2([5, 10, 15, 20, 25], [7, 4, 6, 3, 5])"
   ]
  },
  {
   "cell_type": "code",
   "execution_count": 114,
   "metadata": {},
   "outputs": [
    {
     "name": "stdout",
     "output_type": "stream",
     "text": [
      "   xi  fi  xi*fi  xi-X     fX\n",
      "0  10   4     40  40.0  160.0\n",
      "1  30  24    720  20.0  480.0\n",
      "2  50  28   1400   0.0    0.0\n",
      "3  70  16   1120  20.0  320.0\n",
      "4  90   8    720  40.0  320.0\n",
      "Mean Deviation About Mean is 16.0\n"
     ]
    }
   ],
   "source": [
    "calculate_Mean_Deviation_About_Mean2([10, 30, 50, 70, 90],[4, 24, 28, 16, 8])"
   ]
  },
  {
   "cell_type": "code",
   "execution_count": 115,
   "metadata": {},
   "outputs": [
    {
     "name": "stdout",
     "output_type": "stream",
     "text": [
      "   xi  fi  cum_freq  xi-M  fM\n",
      "0   5   8         8     2  16\n",
      "1   7   6        14     0   0\n",
      "2   9   2        16     2   4\n",
      "3  10   2        18     3   6\n",
      "4  12   2        20     5  10\n",
      "5  15   6        26     8  48\n",
      "Mean deviation about median is 3.230769230769231\n"
     ]
    }
   ],
   "source": [
    "calculate_Mean_Deviation_About_Median2([5, 7, 9, 10, 12, 15], [8, 6, 2, 2, 2, 6])"
   ]
  },
  {
   "cell_type": "code",
   "execution_count": 116,
   "metadata": {},
   "outputs": [
    {
     "name": "stdout",
     "output_type": "stream",
     "text": [
      "   xi  fi  cum_freq  xi-M  fM\n",
      "0  15   3         3    15  45\n",
      "1  21   5         8     9  45\n",
      "2  27   6        14     3  18\n",
      "3  30   7        21     0   0\n",
      "4  35   8        29     5  40\n",
      "Mean deviation about median is 5.103448275862069\n"
     ]
    }
   ],
   "source": [
    "calculate_Mean_Deviation_About_Median2([15, 21, 27, 30, 35], [3, 5, 6, 7, 8])"
   ]
  },
  {
   "cell_type": "code",
   "execution_count": 117,
   "metadata": {},
   "outputs": [
    {
     "name": "stdout",
     "output_type": "stream",
     "text": [
      "The mean is 358.0\n",
      "        marks  student  marks.mid   xi*fi  marks.mid-mean  marks.mid-meanks*fi\n",
      "0    [0, 100]        4       50.0   200.0           308.0               1232.0\n",
      "1  [100, 200]        8      150.0  1200.0           208.0               1664.0\n",
      "2  [200, 300]        9      250.0  2250.0           108.0                972.0\n",
      "3  [300, 400]       10      350.0  3500.0             8.0                 80.0\n",
      "4  [400, 500]        7      450.0  3150.0            92.0                644.0\n",
      "5  [500, 600]        5      550.0  2750.0           192.0                960.0\n",
      "6  [600, 700]        4      650.0  2600.0           292.0               1168.0\n",
      "7  [700, 800]        3      750.0  2250.0           392.0               1176.0\n",
      "The mean deviation is: 157.92\n"
     ]
    }
   ],
   "source": [
    "calculate_Mean_Deviation_About_Mean3([0, 800, 100], [4, 8, 9, 10, 7, 5, 4, 3])"
   ]
  },
  {
   "cell_type": "code",
   "execution_count": 118,
   "metadata": {},
   "outputs": [
    {
     "name": "stdout",
     "output_type": "stream",
     "text": [
      "The mean is 125.3\n",
      "        marks  student  marks.mid   xi*fi  marks.mid-mean  marks.mid-meanks*fi\n",
      "0   [95, 105]        9      100.0   900.0            25.3                227.7\n",
      "1  [105, 115]       13      110.0  1430.0            15.3                198.9\n",
      "2  [115, 125]       26      120.0  3120.0             5.3                137.8\n",
      "3  [125, 135]       30      130.0  3900.0             4.7                141.0\n",
      "4  [135, 145]       12      140.0  1680.0            14.7                176.4\n",
      "5  [145, 155]       10      150.0  1500.0            24.7                247.0\n",
      "The mean deviation is: 11.288\n"
     ]
    }
   ],
   "source": [
    "calculate_Mean_Deviation_About_Mean3([95, 155, 10], [9, 13, 26, 30, 12, 10])"
   ]
  },
  {
   "cell_type": "code",
   "execution_count": 119,
   "metadata": {},
   "outputs": [
    {
     "name": "stdout",
     "output_type": "stream",
     "text": [
      "Mid point of data is at 25.0th observation\n",
      "\n",
      "Selected class is [20, 30]\n",
      "The median is 27.857142857142858\n",
      "      marks  student  marks.mid  cum_fi  marks.mid-median  marks.mid-median*fi\n",
      "0   [0, 10]        6        5.0       6         22.857143           137.142857\n",
      "1  [10, 20]        8       15.0      14         12.857143           102.857143\n",
      "2  [20, 30]       14       25.0      28          2.857143            40.000000\n",
      "3  [30, 40]       16       35.0      44          7.142857           114.285714\n",
      "4  [40, 50]        4       45.0      48         17.142857            68.571429\n",
      "5  [50, 60]        2       55.0      50         27.142857            54.285714\n",
      "The median deviation is: 10.342857142857142\n"
     ]
    }
   ],
   "source": [
    "calculate_Mean_Deviation_About_Median3([0, 60, 10], [6, 8, 14, 16, 4, 2])"
   ]
  },
  {
   "cell_type": "code",
   "execution_count": 120,
   "metadata": {},
   "outputs": [
    {
     "name": "stdout",
     "output_type": "stream",
     "text": [
      "Mid point of data is at 50.0th observation\n",
      "\n",
      "Selected class is [35, 40]\n",
      "The median is 37.5\n",
      "      marks  student  marks.mid  cum_fi  marks.mid-median  marks.mid-median*fi\n",
      "0  [15, 20]        5       17.5       5              20.0                100.0\n",
      "1  [20, 25]        6       22.5      11              15.0                 90.0\n",
      "2  [25, 30]       12       27.5      23              10.0                120.0\n",
      "3  [30, 35]       14       32.5      37               5.0                 70.0\n",
      "4  [35, 40]       26       37.5      63               0.0                  0.0\n",
      "5  [40, 45]       12       42.5      75               5.0                 60.0\n",
      "6  [45, 50]       16       47.5      91              10.0                160.0\n",
      "7  [50, 55]        9       52.5     100              15.0                135.0\n",
      "The median deviation is: 7.35\n"
     ]
    }
   ],
   "source": [
    "calculate_Mean_Deviation_About_Median3([15, 55, 5], [5, 6, 12, 14, 26, 12, 16, 9])"
   ]
  },
  {
   "cell_type": "code",
   "execution_count": 121,
   "metadata": {},
   "outputs": [],
   "source": [
    "def calculate_Standard_Deviation1(arr):\n",
    "    data=pd.DataFrame()\n",
    "    data['xi']=arr\n",
    "    mean=data['xi'].mean()\n",
    "    print(\"Mean is\", mean)\n",
    "    data['xi-mean']=data['xi']-mean\n",
    "    data['sqr(xi-mean)']=data['xi-mean']**2\n",
    "    variance=data['sqr(xi-mean)'].mean()\n",
    "    print(\"Variance is\", variance)\n",
    "    print(\"Standard Deviation is\", variance**(1/2))\n",
    "    print(\"\\n\", data)\n",
    "     "
   ]
  },
  {
   "cell_type": "code",
   "execution_count": 122,
   "metadata": {},
   "outputs": [
    {
     "name": "stdout",
     "output_type": "stream",
     "text": [
      "Mean is 15.0\n",
      "Variance is 33.0\n",
      "Standard Deviation is 5.744562646538029\n",
      "\n",
      "    xi  xi-mean  sqr(xi-mean)\n",
      "0   6     -9.0          81.0\n",
      "1   8     -7.0          49.0\n",
      "2  10     -5.0          25.0\n",
      "3  12     -3.0           9.0\n",
      "4  14     -1.0           1.0\n",
      "5  16      1.0           1.0\n",
      "6  18      3.0           9.0\n",
      "7  20      5.0          25.0\n",
      "8  22      7.0          49.0\n",
      "9  24      9.0          81.0\n"
     ]
    }
   ],
   "source": [
    "calculate_Standard_Deviation1([6,8,10,12,14,16,18,20,22,24])   "
   ]
  },
  {
   "cell_type": "code",
   "execution_count": 123,
   "metadata": {},
   "outputs": [],
   "source": [
    "def calculate_Standard_Deviation2(xi, fi):\n",
    "    data=pd.DataFrame()\n",
    "    data['xi']=xi\n",
    "    data['fi']=fi\n",
    "    data['fi*xi']=data['xi']*data['fi']\n",
    "    mean=data['fi*xi'].sum()/data['fi'].sum()\n",
    "    print(\"Mean is\", mean)\n",
    "    data['xi-mean']=data['xi']-mean\n",
    "    data['sqr(xi-mean)']=data['xi-mean']**2\n",
    "    data['fi*sqr']=data['fi']*data['sqr(xi-mean)']\n",
    "    variance=data['fi*sqr'].sum()/data['fi'].sum()\n",
    "    deviation=variance**(1/2)\n",
    "    print(\"Variance is\", variance)\n",
    "    print(\"Standard deviation is\", deviation)\n",
    "    return data"
   ]
  },
  {
   "cell_type": "code",
   "execution_count": 124,
   "metadata": {},
   "outputs": [
    {
     "name": "stdout",
     "output_type": "stream",
     "text": [
      "Mean is 14.0\n",
      "Variance is 45.8\n",
      "Standard deviation is 6.767569726275452\n"
     ]
    },
    {
     "data": {
      "text/html": [
       "<div>\n",
       "<style scoped>\n",
       "    .dataframe tbody tr th:only-of-type {\n",
       "        vertical-align: middle;\n",
       "    }\n",
       "\n",
       "    .dataframe tbody tr th {\n",
       "        vertical-align: top;\n",
       "    }\n",
       "\n",
       "    .dataframe thead th {\n",
       "        text-align: right;\n",
       "    }\n",
       "</style>\n",
       "<table border=\"1\" class=\"dataframe\">\n",
       "  <thead>\n",
       "    <tr style=\"text-align: right;\">\n",
       "      <th></th>\n",
       "      <th>xi</th>\n",
       "      <th>fi</th>\n",
       "      <th>fi*xi</th>\n",
       "      <th>xi-mean</th>\n",
       "      <th>sqr(xi-mean)</th>\n",
       "      <th>fi*sqr</th>\n",
       "    </tr>\n",
       "  </thead>\n",
       "  <tbody>\n",
       "    <tr>\n",
       "      <th>0</th>\n",
       "      <td>4</td>\n",
       "      <td>3</td>\n",
       "      <td>12</td>\n",
       "      <td>-10.0</td>\n",
       "      <td>100.0</td>\n",
       "      <td>300.0</td>\n",
       "    </tr>\n",
       "    <tr>\n",
       "      <th>1</th>\n",
       "      <td>8</td>\n",
       "      <td>5</td>\n",
       "      <td>40</td>\n",
       "      <td>-6.0</td>\n",
       "      <td>36.0</td>\n",
       "      <td>180.0</td>\n",
       "    </tr>\n",
       "    <tr>\n",
       "      <th>2</th>\n",
       "      <td>11</td>\n",
       "      <td>9</td>\n",
       "      <td>99</td>\n",
       "      <td>-3.0</td>\n",
       "      <td>9.0</td>\n",
       "      <td>81.0</td>\n",
       "    </tr>\n",
       "    <tr>\n",
       "      <th>3</th>\n",
       "      <td>17</td>\n",
       "      <td>5</td>\n",
       "      <td>85</td>\n",
       "      <td>3.0</td>\n",
       "      <td>9.0</td>\n",
       "      <td>45.0</td>\n",
       "    </tr>\n",
       "    <tr>\n",
       "      <th>4</th>\n",
       "      <td>20</td>\n",
       "      <td>4</td>\n",
       "      <td>80</td>\n",
       "      <td>6.0</td>\n",
       "      <td>36.0</td>\n",
       "      <td>144.0</td>\n",
       "    </tr>\n",
       "    <tr>\n",
       "      <th>5</th>\n",
       "      <td>24</td>\n",
       "      <td>3</td>\n",
       "      <td>72</td>\n",
       "      <td>10.0</td>\n",
       "      <td>100.0</td>\n",
       "      <td>300.0</td>\n",
       "    </tr>\n",
       "    <tr>\n",
       "      <th>6</th>\n",
       "      <td>32</td>\n",
       "      <td>1</td>\n",
       "      <td>32</td>\n",
       "      <td>18.0</td>\n",
       "      <td>324.0</td>\n",
       "      <td>324.0</td>\n",
       "    </tr>\n",
       "  </tbody>\n",
       "</table>\n",
       "</div>"
      ],
      "text/plain": [
       "   xi  fi  fi*xi  xi-mean  sqr(xi-mean)  fi*sqr\n",
       "0   4   3     12    -10.0         100.0   300.0\n",
       "1   8   5     40     -6.0          36.0   180.0\n",
       "2  11   9     99     -3.0           9.0    81.0\n",
       "3  17   5     85      3.0           9.0    45.0\n",
       "4  20   4     80      6.0          36.0   144.0\n",
       "5  24   3     72     10.0         100.0   300.0\n",
       "6  32   1     32     18.0         324.0   324.0"
      ]
     },
     "execution_count": 124,
     "metadata": {},
     "output_type": "execute_result"
    }
   ],
   "source": [
    "calculate_Standard_Deviation2([4,8,11,17,20,24,32], [3, 5,9, 5, 4, 3,1])"
   ]
  },
  {
   "cell_type": "code",
   "execution_count": 125,
   "metadata": {},
   "outputs": [],
   "source": [
    "def calculate_Standard_Deviation3(cData, fi):\n",
    "    data=pd.DataFrame()\n",
    "    data['intervals']=create_classes(cData[0], cData[1], cData[2])\n",
    "    data['xi']=data['intervals'].map(getMid)\n",
    "    stats=calculate_Standard_Deviation2(data['xi'], fi)\n",
    "    stats.insert(0, 'intervals', data['intervals'])\n",
    "    print(stats)"
   ]
  },
  {
   "cell_type": "code",
   "execution_count": 126,
   "metadata": {},
   "outputs": [
    {
     "name": "stdout",
     "output_type": "stream",
     "text": [
      "Mean is 62.0\n",
      "Variance is 201.0\n",
      "Standard deviation is 14.177446878757825\n",
      "   intervals    xi  fi  fi*xi  xi-mean  sqr(xi-mean)  fi*sqr\n",
      "0   [30, 40]  35.0   3  105.0    -27.0         729.0  2187.0\n",
      "1   [40, 50]  45.0   7  315.0    -17.0         289.0  2023.0\n",
      "2   [50, 60]  55.0  12  660.0     -7.0          49.0   588.0\n",
      "3   [60, 70]  65.0  15  975.0      3.0           9.0   135.0\n",
      "4   [70, 80]  75.0   8  600.0     13.0         169.0  1352.0\n",
      "5   [80, 90]  85.0   3  255.0     23.0         529.0  1587.0\n",
      "6  [90, 100]  95.0   2  190.0     33.0        1089.0  2178.0\n"
     ]
    }
   ],
   "source": [
    "calculate_Standard_Deviation3([30, 100, 10], [3, 7, 12, 15, 8, 3, 2])"
   ]
  },
  {
   "cell_type": "code",
   "execution_count": 127,
   "metadata": {},
   "outputs": [
    {
     "name": "stdout",
     "output_type": "stream",
     "text": [
      "Mean is 12.791666666666666\n",
      "Variance is 37.45659722222222\n",
      "Standard deviation is 6.120179508986825\n"
     ]
    },
    {
     "data": {
      "text/html": [
       "<div>\n",
       "<style scoped>\n",
       "    .dataframe tbody tr th:only-of-type {\n",
       "        vertical-align: middle;\n",
       "    }\n",
       "\n",
       "    .dataframe tbody tr th {\n",
       "        vertical-align: top;\n",
       "    }\n",
       "\n",
       "    .dataframe thead th {\n",
       "        text-align: right;\n",
       "    }\n",
       "</style>\n",
       "<table border=\"1\" class=\"dataframe\">\n",
       "  <thead>\n",
       "    <tr style=\"text-align: right;\">\n",
       "      <th></th>\n",
       "      <th>xi</th>\n",
       "      <th>fi</th>\n",
       "      <th>fi*xi</th>\n",
       "      <th>xi-mean</th>\n",
       "      <th>sqr(xi-mean)</th>\n",
       "      <th>fi*sqr</th>\n",
       "    </tr>\n",
       "  </thead>\n",
       "  <tbody>\n",
       "    <tr>\n",
       "      <th>0</th>\n",
       "      <td>3</td>\n",
       "      <td>7</td>\n",
       "      <td>21</td>\n",
       "      <td>-9.791667</td>\n",
       "      <td>95.876736</td>\n",
       "      <td>671.137153</td>\n",
       "    </tr>\n",
       "    <tr>\n",
       "      <th>1</th>\n",
       "      <td>8</td>\n",
       "      <td>10</td>\n",
       "      <td>80</td>\n",
       "      <td>-4.791667</td>\n",
       "      <td>22.960069</td>\n",
       "      <td>229.600694</td>\n",
       "    </tr>\n",
       "    <tr>\n",
       "      <th>2</th>\n",
       "      <td>13</td>\n",
       "      <td>15</td>\n",
       "      <td>195</td>\n",
       "      <td>0.208333</td>\n",
       "      <td>0.043403</td>\n",
       "      <td>0.651042</td>\n",
       "    </tr>\n",
       "    <tr>\n",
       "      <th>3</th>\n",
       "      <td>18</td>\n",
       "      <td>10</td>\n",
       "      <td>180</td>\n",
       "      <td>5.208333</td>\n",
       "      <td>27.126736</td>\n",
       "      <td>271.267361</td>\n",
       "    </tr>\n",
       "    <tr>\n",
       "      <th>4</th>\n",
       "      <td>23</td>\n",
       "      <td>6</td>\n",
       "      <td>138</td>\n",
       "      <td>10.208333</td>\n",
       "      <td>104.210069</td>\n",
       "      <td>625.260417</td>\n",
       "    </tr>\n",
       "  </tbody>\n",
       "</table>\n",
       "</div>"
      ],
      "text/plain": [
       "   xi  fi  fi*xi    xi-mean  sqr(xi-mean)      fi*sqr\n",
       "0   3   7     21  -9.791667     95.876736  671.137153\n",
       "1   8  10     80  -4.791667     22.960069  229.600694\n",
       "2  13  15    195   0.208333      0.043403    0.651042\n",
       "3  18  10    180   5.208333     27.126736  271.267361\n",
       "4  23   6    138  10.208333    104.210069  625.260417"
      ]
     },
     "execution_count": 127,
     "metadata": {},
     "output_type": "execute_result"
    }
   ],
   "source": [
    "calculate_Standard_Deviation2([3, 8, 13, 18, 23], [7, 10, 15, 10, 6])"
   ]
  },
  {
   "cell_type": "code",
   "execution_count": 128,
   "metadata": {},
   "outputs": [
    {
     "name": "stdout",
     "output_type": "stream",
     "text": [
      "Mean is 62.0\n",
      "Variance is 201.0\n",
      "Standard deviation is 14.177446878757825\n",
      "   intervals    xi  fi  fi*xi  xi-mean  sqr(xi-mean)  fi*sqr\n",
      "0   [30, 40]  35.0   3  105.0    -27.0         729.0  2187.0\n",
      "1   [40, 50]  45.0   7  315.0    -17.0         289.0  2023.0\n",
      "2   [50, 60]  55.0  12  660.0     -7.0          49.0   588.0\n",
      "3   [60, 70]  65.0  15  975.0      3.0           9.0   135.0\n",
      "4   [70, 80]  75.0   8  600.0     13.0         169.0  1352.0\n",
      "5   [80, 90]  85.0   3  255.0     23.0         529.0  1587.0\n",
      "6  [90, 100]  95.0   2  190.0     33.0        1089.0  2178.0\n"
     ]
    }
   ],
   "source": [
    "calculate_Standard_Deviation3([30, 100, 10], [3, 7, 12, 15, 8, 3, 2])"
   ]
  },
  {
   "cell_type": "code",
   "execution_count": 129,
   "metadata": {},
   "outputs": [
    {
     "name": "stdout",
     "output_type": "stream",
     "text": [
      "Mean is 9.0\n",
      "Variance is 9.25\n",
      "Standard Deviation is 3.0413812651491097\n",
      "\n",
      "    xi  xi-mean  sqr(xi-mean)\n",
      "0   6     -3.0           9.0\n",
      "1   7     -2.0           4.0\n",
      "2  10      1.0           1.0\n",
      "3  12      3.0           9.0\n",
      "4  13      4.0          16.0\n",
      "5   4     -5.0          25.0\n",
      "6   8     -1.0           1.0\n",
      "7  12      3.0           9.0\n"
     ]
    }
   ],
   "source": [
    "calculate_Standard_Deviation1([6, 7, 10,12, 13, 4, 8, 12])"
   ]
  },
  {
   "cell_type": "code",
   "execution_count": 130,
   "metadata": {},
   "outputs": [
    {
     "name": "stdout",
     "output_type": "stream",
     "text": [
      "Mean is 16.5\n",
      "Variance is 74.25\n",
      "Standard Deviation is 8.616843969807043\n",
      "\n",
      "    xi  xi-mean  sqr(xi-mean)\n",
      "0   3    -13.5        182.25\n",
      "1   6    -10.5        110.25\n",
      "2   9     -7.5         56.25\n",
      "3  12     -4.5         20.25\n",
      "4  15     -1.5          2.25\n",
      "5  18      1.5          2.25\n",
      "6  21      4.5         20.25\n",
      "7  24      7.5         56.25\n",
      "8  27     10.5        110.25\n",
      "9  30     13.5        182.25\n"
     ]
    }
   ],
   "source": [
    "calculate_Standard_Deviation1(range(3, 31, 3))"
   ]
  },
  {
   "cell_type": "code",
   "execution_count": 131,
   "metadata": {},
   "outputs": [
    {
     "name": "stdout",
     "output_type": "stream",
     "text": [
      "Mean is 19.0\n",
      "Variance is 43.4\n",
      "Standard deviation is 6.587867636800241\n"
     ]
    },
    {
     "data": {
      "text/html": [
       "<div>\n",
       "<style scoped>\n",
       "    .dataframe tbody tr th:only-of-type {\n",
       "        vertical-align: middle;\n",
       "    }\n",
       "\n",
       "    .dataframe tbody tr th {\n",
       "        vertical-align: top;\n",
       "    }\n",
       "\n",
       "    .dataframe thead th {\n",
       "        text-align: right;\n",
       "    }\n",
       "</style>\n",
       "<table border=\"1\" class=\"dataframe\">\n",
       "  <thead>\n",
       "    <tr style=\"text-align: right;\">\n",
       "      <th></th>\n",
       "      <th>xi</th>\n",
       "      <th>fi</th>\n",
       "      <th>fi*xi</th>\n",
       "      <th>xi-mean</th>\n",
       "      <th>sqr(xi-mean)</th>\n",
       "      <th>fi*sqr</th>\n",
       "    </tr>\n",
       "  </thead>\n",
       "  <tbody>\n",
       "    <tr>\n",
       "      <th>0</th>\n",
       "      <td>6</td>\n",
       "      <td>2</td>\n",
       "      <td>12</td>\n",
       "      <td>-13.0</td>\n",
       "      <td>169.0</td>\n",
       "      <td>338.0</td>\n",
       "    </tr>\n",
       "    <tr>\n",
       "      <th>1</th>\n",
       "      <td>10</td>\n",
       "      <td>4</td>\n",
       "      <td>40</td>\n",
       "      <td>-9.0</td>\n",
       "      <td>81.0</td>\n",
       "      <td>324.0</td>\n",
       "    </tr>\n",
       "    <tr>\n",
       "      <th>2</th>\n",
       "      <td>14</td>\n",
       "      <td>7</td>\n",
       "      <td>98</td>\n",
       "      <td>-5.0</td>\n",
       "      <td>25.0</td>\n",
       "      <td>175.0</td>\n",
       "    </tr>\n",
       "    <tr>\n",
       "      <th>3</th>\n",
       "      <td>18</td>\n",
       "      <td>12</td>\n",
       "      <td>216</td>\n",
       "      <td>-1.0</td>\n",
       "      <td>1.0</td>\n",
       "      <td>12.0</td>\n",
       "    </tr>\n",
       "    <tr>\n",
       "      <th>4</th>\n",
       "      <td>24</td>\n",
       "      <td>8</td>\n",
       "      <td>192</td>\n",
       "      <td>5.0</td>\n",
       "      <td>25.0</td>\n",
       "      <td>200.0</td>\n",
       "    </tr>\n",
       "    <tr>\n",
       "      <th>5</th>\n",
       "      <td>28</td>\n",
       "      <td>4</td>\n",
       "      <td>112</td>\n",
       "      <td>9.0</td>\n",
       "      <td>81.0</td>\n",
       "      <td>324.0</td>\n",
       "    </tr>\n",
       "    <tr>\n",
       "      <th>6</th>\n",
       "      <td>30</td>\n",
       "      <td>3</td>\n",
       "      <td>90</td>\n",
       "      <td>11.0</td>\n",
       "      <td>121.0</td>\n",
       "      <td>363.0</td>\n",
       "    </tr>\n",
       "  </tbody>\n",
       "</table>\n",
       "</div>"
      ],
      "text/plain": [
       "   xi  fi  fi*xi  xi-mean  sqr(xi-mean)  fi*sqr\n",
       "0   6   2     12    -13.0         169.0   338.0\n",
       "1  10   4     40     -9.0          81.0   324.0\n",
       "2  14   7     98     -5.0          25.0   175.0\n",
       "3  18  12    216     -1.0           1.0    12.0\n",
       "4  24   8    192      5.0          25.0   200.0\n",
       "5  28   4    112      9.0          81.0   324.0\n",
       "6  30   3     90     11.0         121.0   363.0"
      ]
     },
     "execution_count": 131,
     "metadata": {},
     "output_type": "execute_result"
    }
   ],
   "source": [
    "calculate_Standard_Deviation2([6, 10, 14, 18, 24, 28, 30], [2, 4, 7, 12, 8, 4, 3])"
   ]
  },
  {
   "cell_type": "code",
   "execution_count": 132,
   "metadata": {},
   "outputs": [
    {
     "name": "stdout",
     "output_type": "stream",
     "text": [
      "Mean is 100.0\n",
      "Variance is 29.09090909090909\n",
      "Standard deviation is 5.393598899705936\n"
     ]
    },
    {
     "data": {
      "text/html": [
       "<div>\n",
       "<style scoped>\n",
       "    .dataframe tbody tr th:only-of-type {\n",
       "        vertical-align: middle;\n",
       "    }\n",
       "\n",
       "    .dataframe tbody tr th {\n",
       "        vertical-align: top;\n",
       "    }\n",
       "\n",
       "    .dataframe thead th {\n",
       "        text-align: right;\n",
       "    }\n",
       "</style>\n",
       "<table border=\"1\" class=\"dataframe\">\n",
       "  <thead>\n",
       "    <tr style=\"text-align: right;\">\n",
       "      <th></th>\n",
       "      <th>xi</th>\n",
       "      <th>fi</th>\n",
       "      <th>fi*xi</th>\n",
       "      <th>xi-mean</th>\n",
       "      <th>sqr(xi-mean)</th>\n",
       "      <th>fi*sqr</th>\n",
       "    </tr>\n",
       "  </thead>\n",
       "  <tbody>\n",
       "    <tr>\n",
       "      <th>0</th>\n",
       "      <td>92</td>\n",
       "      <td>3</td>\n",
       "      <td>276</td>\n",
       "      <td>-8.0</td>\n",
       "      <td>64.0</td>\n",
       "      <td>192.0</td>\n",
       "    </tr>\n",
       "    <tr>\n",
       "      <th>1</th>\n",
       "      <td>93</td>\n",
       "      <td>2</td>\n",
       "      <td>186</td>\n",
       "      <td>-7.0</td>\n",
       "      <td>49.0</td>\n",
       "      <td>98.0</td>\n",
       "    </tr>\n",
       "    <tr>\n",
       "      <th>2</th>\n",
       "      <td>97</td>\n",
       "      <td>3</td>\n",
       "      <td>291</td>\n",
       "      <td>-3.0</td>\n",
       "      <td>9.0</td>\n",
       "      <td>27.0</td>\n",
       "    </tr>\n",
       "    <tr>\n",
       "      <th>3</th>\n",
       "      <td>98</td>\n",
       "      <td>2</td>\n",
       "      <td>196</td>\n",
       "      <td>-2.0</td>\n",
       "      <td>4.0</td>\n",
       "      <td>8.0</td>\n",
       "    </tr>\n",
       "    <tr>\n",
       "      <th>4</th>\n",
       "      <td>102</td>\n",
       "      <td>6</td>\n",
       "      <td>612</td>\n",
       "      <td>2.0</td>\n",
       "      <td>4.0</td>\n",
       "      <td>24.0</td>\n",
       "    </tr>\n",
       "    <tr>\n",
       "      <th>5</th>\n",
       "      <td>104</td>\n",
       "      <td>3</td>\n",
       "      <td>312</td>\n",
       "      <td>4.0</td>\n",
       "      <td>16.0</td>\n",
       "      <td>48.0</td>\n",
       "    </tr>\n",
       "    <tr>\n",
       "      <th>6</th>\n",
       "      <td>109</td>\n",
       "      <td>3</td>\n",
       "      <td>327</td>\n",
       "      <td>9.0</td>\n",
       "      <td>81.0</td>\n",
       "      <td>243.0</td>\n",
       "    </tr>\n",
       "  </tbody>\n",
       "</table>\n",
       "</div>"
      ],
      "text/plain": [
       "    xi  fi  fi*xi  xi-mean  sqr(xi-mean)  fi*sqr\n",
       "0   92   3    276     -8.0          64.0   192.0\n",
       "1   93   2    186     -7.0          49.0    98.0\n",
       "2   97   3    291     -3.0           9.0    27.0\n",
       "3   98   2    196     -2.0           4.0     8.0\n",
       "4  102   6    612      2.0           4.0    24.0\n",
       "5  104   3    312      4.0          16.0    48.0\n",
       "6  109   3    327      9.0          81.0   243.0"
      ]
     },
     "execution_count": 132,
     "metadata": {},
     "output_type": "execute_result"
    }
   ],
   "source": [
    "calculate_Standard_Deviation2([92, 93, 97, 98, 102, 104, 109], [3, 2, 3, 2, 6, 3, 3])"
   ]
  },
  {
   "cell_type": "code",
   "execution_count": 133,
   "metadata": {},
   "outputs": [
    {
     "name": "stdout",
     "output_type": "stream",
     "text": [
      "Mean is 64.0\n",
      "Variance is 2.86\n",
      "Standard deviation is 1.6911534525287764\n"
     ]
    },
    {
     "data": {
      "text/html": [
       "<div>\n",
       "<style scoped>\n",
       "    .dataframe tbody tr th:only-of-type {\n",
       "        vertical-align: middle;\n",
       "    }\n",
       "\n",
       "    .dataframe tbody tr th {\n",
       "        vertical-align: top;\n",
       "    }\n",
       "\n",
       "    .dataframe thead th {\n",
       "        text-align: right;\n",
       "    }\n",
       "</style>\n",
       "<table border=\"1\" class=\"dataframe\">\n",
       "  <thead>\n",
       "    <tr style=\"text-align: right;\">\n",
       "      <th></th>\n",
       "      <th>xi</th>\n",
       "      <th>fi</th>\n",
       "      <th>fi*xi</th>\n",
       "      <th>xi-mean</th>\n",
       "      <th>sqr(xi-mean)</th>\n",
       "      <th>fi*sqr</th>\n",
       "    </tr>\n",
       "  </thead>\n",
       "  <tbody>\n",
       "    <tr>\n",
       "      <th>0</th>\n",
       "      <td>60</td>\n",
       "      <td>2</td>\n",
       "      <td>120</td>\n",
       "      <td>-4.0</td>\n",
       "      <td>16.0</td>\n",
       "      <td>32.0</td>\n",
       "    </tr>\n",
       "    <tr>\n",
       "      <th>1</th>\n",
       "      <td>61</td>\n",
       "      <td>1</td>\n",
       "      <td>61</td>\n",
       "      <td>-3.0</td>\n",
       "      <td>9.0</td>\n",
       "      <td>9.0</td>\n",
       "    </tr>\n",
       "    <tr>\n",
       "      <th>2</th>\n",
       "      <td>62</td>\n",
       "      <td>12</td>\n",
       "      <td>744</td>\n",
       "      <td>-2.0</td>\n",
       "      <td>4.0</td>\n",
       "      <td>48.0</td>\n",
       "    </tr>\n",
       "    <tr>\n",
       "      <th>3</th>\n",
       "      <td>63</td>\n",
       "      <td>29</td>\n",
       "      <td>1827</td>\n",
       "      <td>-1.0</td>\n",
       "      <td>1.0</td>\n",
       "      <td>29.0</td>\n",
       "    </tr>\n",
       "    <tr>\n",
       "      <th>4</th>\n",
       "      <td>64</td>\n",
       "      <td>25</td>\n",
       "      <td>1600</td>\n",
       "      <td>0.0</td>\n",
       "      <td>0.0</td>\n",
       "      <td>0.0</td>\n",
       "    </tr>\n",
       "    <tr>\n",
       "      <th>5</th>\n",
       "      <td>65</td>\n",
       "      <td>12</td>\n",
       "      <td>780</td>\n",
       "      <td>1.0</td>\n",
       "      <td>1.0</td>\n",
       "      <td>12.0</td>\n",
       "    </tr>\n",
       "    <tr>\n",
       "      <th>6</th>\n",
       "      <td>66</td>\n",
       "      <td>10</td>\n",
       "      <td>660</td>\n",
       "      <td>2.0</td>\n",
       "      <td>4.0</td>\n",
       "      <td>40.0</td>\n",
       "    </tr>\n",
       "    <tr>\n",
       "      <th>7</th>\n",
       "      <td>67</td>\n",
       "      <td>4</td>\n",
       "      <td>268</td>\n",
       "      <td>3.0</td>\n",
       "      <td>9.0</td>\n",
       "      <td>36.0</td>\n",
       "    </tr>\n",
       "    <tr>\n",
       "      <th>8</th>\n",
       "      <td>68</td>\n",
       "      <td>5</td>\n",
       "      <td>340</td>\n",
       "      <td>4.0</td>\n",
       "      <td>16.0</td>\n",
       "      <td>80.0</td>\n",
       "    </tr>\n",
       "  </tbody>\n",
       "</table>\n",
       "</div>"
      ],
      "text/plain": [
       "   xi  fi  fi*xi  xi-mean  sqr(xi-mean)  fi*sqr\n",
       "0  60   2    120     -4.0          16.0    32.0\n",
       "1  61   1     61     -3.0           9.0     9.0\n",
       "2  62  12    744     -2.0           4.0    48.0\n",
       "3  63  29   1827     -1.0           1.0    29.0\n",
       "4  64  25   1600      0.0           0.0     0.0\n",
       "5  65  12    780      1.0           1.0    12.0\n",
       "6  66  10    660      2.0           4.0    40.0\n",
       "7  67   4    268      3.0           9.0    36.0\n",
       "8  68   5    340      4.0          16.0    80.0"
      ]
     },
     "execution_count": 133,
     "metadata": {},
     "output_type": "execute_result"
    }
   ],
   "source": [
    "calculate_Standard_Deviation2(range(60, 69), [2, 1, 12, 29, 25, 12, 10, 4, 5])"
   ]
  },
  {
   "cell_type": "code",
   "execution_count": 134,
   "metadata": {},
   "outputs": [
    {
     "name": "stdout",
     "output_type": "stream",
     "text": [
      "Mean is 107.0\n",
      "Variance is 2276.0\n",
      "Standard deviation is 47.70744176750625\n",
      "    intervals     xi  fi   fi*xi  xi-mean  sqr(xi-mean)   fi*sqr\n",
      "0     [0, 30]   15.0   2    30.0    -92.0        8464.0  16928.0\n",
      "1    [30, 60]   45.0   3   135.0    -62.0        3844.0  11532.0\n",
      "2    [60, 90]   75.0   5   375.0    -32.0        1024.0   5120.0\n",
      "3   [90, 120]  105.0  10  1050.0     -2.0           4.0     40.0\n",
      "4  [120, 150]  135.0   3   405.0     28.0         784.0   2352.0\n",
      "5  [150, 180]  165.0   5   825.0     58.0        3364.0  16820.0\n",
      "6  [180, 210]  195.0   2   390.0     88.0        7744.0  15488.0\n"
     ]
    }
   ],
   "source": [
    "calculate_Standard_Deviation3([0, 210, 30], [2, 3, 5, 10, 3, 5, 2])"
   ]
  },
  {
   "cell_type": "code",
   "execution_count": 135,
   "metadata": {},
   "outputs": [
    {
     "name": "stdout",
     "output_type": "stream",
     "text": [
      "Mean is 27.0\n",
      "Variance is 132.0\n",
      "Standard deviation is 11.489125293076057\n",
      "  intervals    xi  fi  fi*xi  xi-mean  sqr(xi-mean)  fi*sqr\n",
      "0   [0, 10]   5.0   5   25.0    -22.0         484.0  2420.0\n",
      "1  [10, 20]  15.0   8  120.0    -12.0         144.0  1152.0\n",
      "2  [20, 30]  25.0  15  375.0     -2.0           4.0    60.0\n",
      "3  [30, 40]  35.0  16  560.0      8.0          64.0  1024.0\n",
      "4  [40, 50]  45.0   6  270.0     18.0         324.0  1944.0\n"
     ]
    }
   ],
   "source": [
    "calculate_Standard_Deviation3([0, 50, 10], [5, 8, 15, 16, 6])"
   ]
  },
  {
   "cell_type": "code",
   "execution_count": 136,
   "metadata": {},
   "outputs": [
    {
     "name": "stdout",
     "output_type": "stream",
     "text": [
      "Mean is 93.0\n",
      "Variance is 105.58333333333333\n",
      "Standard deviation is 10.275375094532235\n",
      "    intervals     xi  fi   fi*xi  xi-mean  sqr(xi-mean)   fi*sqr\n",
      "0    [70, 75]   72.5   3   217.5    -20.5        420.25  1260.75\n",
      "1    [75, 80]   77.5   4   310.0    -15.5        240.25   961.00\n",
      "2    [80, 85]   82.5   7   577.5    -10.5        110.25   771.75\n",
      "3    [85, 90]   87.5   7   612.5     -5.5         30.25   211.75\n",
      "4    [90, 95]   92.5  15  1387.5     -0.5          0.25     3.75\n",
      "5   [95, 100]   97.5   9   877.5      4.5         20.25   182.25\n",
      "6  [100, 105]  102.5   6   615.0      9.5         90.25   541.50\n",
      "7  [105, 110]  107.5   6   645.0     14.5        210.25  1261.50\n",
      "8  [110, 115]  112.5   3   337.5     19.5        380.25  1140.75\n"
     ]
    }
   ],
   "source": [
    "calculate_Standard_Deviation3([70, 115, 5], [3, 4, 7, 7, 15, 9, 6, 6, 3])"
   ]
  },
  {
   "cell_type": "code",
   "execution_count": 137,
   "metadata": {},
   "outputs": [
    {
     "name": "stdout",
     "output_type": "stream",
     "text": [
      "Mean is 43.0\n",
      "Variance is 30.84\n",
      "Standard deviation is 5.5533773507659285\n",
      "  intervals    xi  fi   fi*xi  xi-mean  sqr(xi-mean)  fi*sqr\n",
      "0  [32, 36]  34.0  15   510.0     -9.0          81.0  1215.0\n",
      "1  [36, 40]  38.0  17   646.0     -5.0          25.0   425.0\n",
      "2  [40, 44]  42.0  21   882.0     -1.0           1.0    21.0\n",
      "3  [44, 48]  46.0  22  1012.0      3.0           9.0   198.0\n",
      "4  [48, 52]  50.0  25  1250.0      7.0          49.0  1225.0\n"
     ]
    }
   ],
   "source": [
    "calculate_Standard_Deviation3([32, 52, 4], [15, 17, 21, 22, 25])"
   ]
  },
  {
   "cell_type": "code",
   "execution_count": 138,
   "metadata": {},
   "outputs": [
    {
     "name": "stdout",
     "output_type": "stream",
     "text": [
      "Mean is 44.6\n",
      "Variance is 227.84\n",
      "Standard deviation is 15.094369811290566\n",
      "  intervals    xi  fi   fi*xi  xi-mean  sqr(xi-mean)   fi*sqr\n",
      "0  [10, 20]  15.0   9   135.0    -29.6        876.16  7885.44\n",
      "1  [20, 30]  25.0  17   425.0    -19.6        384.16  6530.72\n",
      "2  [30, 40]  35.0  32  1120.0     -9.6         92.16  2949.12\n",
      "3  [40, 50]  45.0  33  1485.0      0.4          0.16     5.28\n",
      "4  [50, 60]  55.0  40  2200.0     10.4        108.16  4326.40\n",
      "5  [60, 70]  65.0  10   650.0     20.4        416.16  4161.60\n",
      "6  [70, 80]  75.0   9   675.0     30.4        924.16  8317.44\n"
     ]
    }
   ],
   "source": [
    "calculate_Standard_Deviation3([10,80,10],[9,17,32,33,40,10,9])"
   ]
  },
  {
   "cell_type": "code",
   "execution_count": 139,
   "metadata": {},
   "outputs": [
    {
     "name": "stdout",
     "output_type": "stream",
     "text": [
      "Mean is 44.6\n",
      "Variance is 243.84\n",
      "Standard deviation is 15.615377036754508\n",
      "  intervals    xi  fi   fi*xi  xi-mean  sqr(xi-mean)   fi*sqr\n",
      "0  [10, 20]  15.0  10   150.0    -29.6        876.16  8761.60\n",
      "1  [20, 30]  25.0  20   500.0    -19.6        384.16  7683.20\n",
      "2  [30, 40]  35.0  30  1050.0     -9.6         92.16  2764.80\n",
      "3  [40, 50]  45.0  25  1125.0      0.4          0.16     4.00\n",
      "4  [50, 60]  55.0  43  2365.0     10.4        108.16  4650.88\n",
      "5  [60, 70]  65.0  15   975.0     20.4        416.16  6242.40\n",
      "6  [70, 80]  75.0   7   525.0     30.4        924.16  6469.12\n"
     ]
    }
   ],
   "source": [
    "calculate_Standard_Deviation3([10,80,10],[10,20,30,25,43,15,7])\n"
   ]
  },
  {
   "cell_type": "code",
   "execution_count": 140,
   "metadata": {},
   "outputs": [
    {
     "name": "stdout",
     "output_type": "stream",
     "text": [
      "Mean is 51.0\n",
      "Variance is 35.0\n",
      "Standard Deviation is 5.916079783099616\n",
      "\n",
      "    xi  xi-mean  sqr(xi-mean)\n",
      "0  35    -16.0         256.0\n",
      "1  54      3.0           9.0\n",
      "2  52      1.0           1.0\n",
      "3  53      2.0           4.0\n",
      "4  56      5.0          25.0\n",
      "5  58      7.0          49.0\n",
      "6  52      1.0           1.0\n",
      "7  50     -1.0           1.0\n",
      "8  51      0.0           0.0\n",
      "9  49     -2.0           4.0\n"
     ]
    }
   ],
   "source": [
    "calculate_Standard_Deviation1([35,54,52,53,56,58,52,50,51,49])"
   ]
  },
  {
   "cell_type": "code",
   "execution_count": 141,
   "metadata": {},
   "outputs": [
    {
     "name": "stdout",
     "output_type": "stream",
     "text": [
      "Mean is 105.0\n",
      "Variance is 4.444444444444445\n",
      "Standard Deviation is 2.1081851067789197\n",
      "\n",
      "     xi  xi-mean  sqr(xi-mean)\n",
      "0  108      3.0           9.0\n",
      "1  107      2.0           4.0\n",
      "2  105      0.0           0.0\n",
      "3  106      1.0           1.0\n",
      "4  107      2.0           4.0\n",
      "5  104     -1.0           1.0\n",
      "6  103     -2.0           4.0\n",
      "7  104     -1.0           1.0\n",
      "8  101     -4.0          16.0\n"
     ]
    }
   ],
   "source": [
    "calculate_Standard_Deviation1([108,107,105,106,107,104,103,104,101])"
   ]
  },
  {
   "cell_type": "code",
   "execution_count": 142,
   "metadata": {},
   "outputs": [
    {
     "name": "stdout",
     "output_type": "stream",
     "text": [
      "Mean is 2.0\n",
      "Variance is 1.2\n",
      "Standard deviation is 1.0954451150103321\n"
     ]
    },
    {
     "data": {
      "text/html": [
       "<div>\n",
       "<style scoped>\n",
       "    .dataframe tbody tr th:only-of-type {\n",
       "        vertical-align: middle;\n",
       "    }\n",
       "\n",
       "    .dataframe tbody tr th {\n",
       "        vertical-align: top;\n",
       "    }\n",
       "\n",
       "    .dataframe thead th {\n",
       "        text-align: right;\n",
       "    }\n",
       "</style>\n",
       "<table border=\"1\" class=\"dataframe\">\n",
       "  <thead>\n",
       "    <tr style=\"text-align: right;\">\n",
       "      <th></th>\n",
       "      <th>xi</th>\n",
       "      <th>fi</th>\n",
       "      <th>fi*xi</th>\n",
       "      <th>xi-mean</th>\n",
       "      <th>sqr(xi-mean)</th>\n",
       "      <th>fi*sqr</th>\n",
       "    </tr>\n",
       "  </thead>\n",
       "  <tbody>\n",
       "    <tr>\n",
       "      <th>0</th>\n",
       "      <td>0</td>\n",
       "      <td>1</td>\n",
       "      <td>0</td>\n",
       "      <td>-2.0</td>\n",
       "      <td>4.0</td>\n",
       "      <td>4.0</td>\n",
       "    </tr>\n",
       "    <tr>\n",
       "      <th>1</th>\n",
       "      <td>1</td>\n",
       "      <td>9</td>\n",
       "      <td>9</td>\n",
       "      <td>-1.0</td>\n",
       "      <td>1.0</td>\n",
       "      <td>9.0</td>\n",
       "    </tr>\n",
       "    <tr>\n",
       "      <th>2</th>\n",
       "      <td>2</td>\n",
       "      <td>7</td>\n",
       "      <td>14</td>\n",
       "      <td>0.0</td>\n",
       "      <td>0.0</td>\n",
       "      <td>0.0</td>\n",
       "    </tr>\n",
       "    <tr>\n",
       "      <th>3</th>\n",
       "      <td>3</td>\n",
       "      <td>5</td>\n",
       "      <td>15</td>\n",
       "      <td>1.0</td>\n",
       "      <td>1.0</td>\n",
       "      <td>5.0</td>\n",
       "    </tr>\n",
       "    <tr>\n",
       "      <th>4</th>\n",
       "      <td>4</td>\n",
       "      <td>3</td>\n",
       "      <td>12</td>\n",
       "      <td>2.0</td>\n",
       "      <td>4.0</td>\n",
       "      <td>12.0</td>\n",
       "    </tr>\n",
       "  </tbody>\n",
       "</table>\n",
       "</div>"
      ],
      "text/plain": [
       "   xi  fi  fi*xi  xi-mean  sqr(xi-mean)  fi*sqr\n",
       "0   0   1      0     -2.0           4.0     4.0\n",
       "1   1   9      9     -1.0           1.0     9.0\n",
       "2   2   7     14      0.0           0.0     0.0\n",
       "3   3   5     15      1.0           1.0     5.0\n",
       "4   4   3     12      2.0           4.0    12.0"
      ]
     },
     "execution_count": 142,
     "metadata": {},
     "output_type": "execute_result"
    }
   ],
   "source": [
    "calculate_Standard_Deviation2([0,1,2,3,4],[1,9,7,5,3])"
   ]
  },
  {
   "cell_type": "code",
   "execution_count": null,
   "metadata": {},
   "outputs": [],
   "source": []
  }
 ],
 "metadata": {
  "kernelspec": {
   "display_name": "Python 3",
   "language": "python",
   "name": "python3"
  },
  "language_info": {
   "codemirror_mode": {
    "name": "ipython",
    "version": 3
   },
   "file_extension": ".py",
   "mimetype": "text/x-python",
   "name": "python",
   "nbconvert_exporter": "python",
   "pygments_lexer": "ipython3",
   "version": "3.7.6"
  }
 },
 "nbformat": 4,
 "nbformat_minor": 4
}
