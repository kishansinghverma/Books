{
 "cells": [
  {
   "cell_type": "code",
   "execution_count": 9,
   "metadata": {},
   "outputs": [
    {
     "name": "stdout",
     "output_type": "stream",
     "text": [
      "Committed @ 2020-08-01_05:08:46\n"
     ]
    }
   ],
   "source": [
    "import os\n",
    "import datetime\n",
    "now = datetime.datetime.now()\n",
    "time=now.strftime(\"%Y-%m-%d_%H:%M:%S\")\n",
    "command=\"git commit -m \"+time\n",
    "os.system(\"git add .\")\n",
    "os.system(command)\n",
    "if(not os.system(\"git push\")):\n",
    "    print(\"Committed @\", time)"
   ]
  }
 ],
 "metadata": {
  "kernelspec": {
   "display_name": "Python 3",
   "language": "python",
   "name": "python3"
  },
  "language_info": {
   "codemirror_mode": {
    "name": "ipython",
    "version": 3
   },
   "file_extension": ".py",
   "mimetype": "text/x-python",
   "name": "python",
   "nbconvert_exporter": "python",
   "pygments_lexer": "ipython3",
   "version": "3.7.6"
  }
 },
 "nbformat": 4,
 "nbformat_minor": 4
}
