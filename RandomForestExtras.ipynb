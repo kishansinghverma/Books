{
 "cells": [
  {
   "cell_type": "code",
   "execution_count": 1,
   "metadata": {
    "scrolled": true
   },
   "outputs": [
    {
     "name": "stdout",
     "output_type": "stream",
     "text": [
      "Hello\n"
     ]
    }
   ],
   "source": [
    "print(\"Hello\")"
   ]
  },
  {
   "cell_type": "code",
   "execution_count": 2,
   "metadata": {},
   "outputs": [
    {
     "name": "stdout",
     "output_type": "stream",
     "text": [
      "Hello\n"
     ]
    }
   ],
   "source": [
    "print(\"Hello\")"
   ]
  },
  {
   "cell_type": "code",
   "execution_count": 3,
   "metadata": {},
   "outputs": [],
   "source": [
    "import pandas as pd\n",
    "df=pd.read_csv(\"Datasets/movies.csv\")"
   ]
  },
  {
   "cell_type": "code",
   "execution_count": 4,
   "metadata": {},
   "outputs": [
    {
     "data": {
      "text/html": [
       "<div>\n",
       "<style scoped>\n",
       "    .dataframe tbody tr th:only-of-type {\n",
       "        vertical-align: middle;\n",
       "    }\n",
       "\n",
       "    .dataframe tbody tr th {\n",
       "        vertical-align: top;\n",
       "    }\n",
       "\n",
       "    .dataframe thead th {\n",
       "        text-align: right;\n",
       "    }\n",
       "</style>\n",
       "<table border=\"1\" class=\"dataframe\">\n",
       "  <thead>\n",
       "    <tr style=\"text-align: right;\">\n",
       "      <th></th>\n",
       "      <th>star_rating</th>\n",
       "      <th>title</th>\n",
       "      <th>content_rating</th>\n",
       "      <th>genre</th>\n",
       "      <th>duration</th>\n",
       "      <th>actors_list</th>\n",
       "    </tr>\n",
       "  </thead>\n",
       "  <tbody>\n",
       "    <tr>\n",
       "      <th>0</th>\n",
       "      <td>9.3</td>\n",
       "      <td>The Shawshank Redemption</td>\n",
       "      <td>R</td>\n",
       "      <td>Crime</td>\n",
       "      <td>142</td>\n",
       "      <td>[u'Tim Robbins', u'Morgan Freeman', u'Bob Gunt...</td>\n",
       "    </tr>\n",
       "    <tr>\n",
       "      <th>1</th>\n",
       "      <td>9.2</td>\n",
       "      <td>The Godfather</td>\n",
       "      <td>R</td>\n",
       "      <td>Crime</td>\n",
       "      <td>175</td>\n",
       "      <td>[u'Marlon Brando', u'Al Pacino', u'James Caan']</td>\n",
       "    </tr>\n",
       "    <tr>\n",
       "      <th>2</th>\n",
       "      <td>9.1</td>\n",
       "      <td>The Godfather: Part II</td>\n",
       "      <td>R</td>\n",
       "      <td>Crime</td>\n",
       "      <td>200</td>\n",
       "      <td>[u'Al Pacino', u'Robert De Niro', u'Robert Duv...</td>\n",
       "    </tr>\n",
       "    <tr>\n",
       "      <th>3</th>\n",
       "      <td>9.0</td>\n",
       "      <td>The Dark Knight</td>\n",
       "      <td>PG-13</td>\n",
       "      <td>Action</td>\n",
       "      <td>152</td>\n",
       "      <td>[u'Christian Bale', u'Heath Ledger', u'Aaron E...</td>\n",
       "    </tr>\n",
       "    <tr>\n",
       "      <th>4</th>\n",
       "      <td>8.9</td>\n",
       "      <td>Pulp Fiction</td>\n",
       "      <td>R</td>\n",
       "      <td>Crime</td>\n",
       "      <td>154</td>\n",
       "      <td>[u'John Travolta', u'Uma Thurman', u'Samuel L....</td>\n",
       "    </tr>\n",
       "    <tr>\n",
       "      <th>...</th>\n",
       "      <td>...</td>\n",
       "      <td>...</td>\n",
       "      <td>...</td>\n",
       "      <td>...</td>\n",
       "      <td>...</td>\n",
       "      <td>...</td>\n",
       "    </tr>\n",
       "    <tr>\n",
       "      <th>974</th>\n",
       "      <td>7.4</td>\n",
       "      <td>Tootsie</td>\n",
       "      <td>PG</td>\n",
       "      <td>Comedy</td>\n",
       "      <td>116</td>\n",
       "      <td>[u'Dustin Hoffman', u'Jessica Lange', u'Teri G...</td>\n",
       "    </tr>\n",
       "    <tr>\n",
       "      <th>975</th>\n",
       "      <td>7.4</td>\n",
       "      <td>Back to the Future Part III</td>\n",
       "      <td>PG</td>\n",
       "      <td>Adventure</td>\n",
       "      <td>118</td>\n",
       "      <td>[u'Michael J. Fox', u'Christopher Lloyd', u'Ma...</td>\n",
       "    </tr>\n",
       "    <tr>\n",
       "      <th>976</th>\n",
       "      <td>7.4</td>\n",
       "      <td>Master and Commander: The Far Side of the World</td>\n",
       "      <td>PG-13</td>\n",
       "      <td>Action</td>\n",
       "      <td>138</td>\n",
       "      <td>[u'Russell Crowe', u'Paul Bettany', u'Billy Bo...</td>\n",
       "    </tr>\n",
       "    <tr>\n",
       "      <th>977</th>\n",
       "      <td>7.4</td>\n",
       "      <td>Poltergeist</td>\n",
       "      <td>PG</td>\n",
       "      <td>Horror</td>\n",
       "      <td>114</td>\n",
       "      <td>[u'JoBeth Williams', u\"Heather O'Rourke\", u'Cr...</td>\n",
       "    </tr>\n",
       "    <tr>\n",
       "      <th>978</th>\n",
       "      <td>7.4</td>\n",
       "      <td>Wall Street</td>\n",
       "      <td>R</td>\n",
       "      <td>Crime</td>\n",
       "      <td>126</td>\n",
       "      <td>[u'Charlie Sheen', u'Michael Douglas', u'Tamar...</td>\n",
       "    </tr>\n",
       "  </tbody>\n",
       "</table>\n",
       "<p>979 rows × 6 columns</p>\n",
       "</div>"
      ],
      "text/plain": [
       "     star_rating                                            title  \\\n",
       "0            9.3                         The Shawshank Redemption   \n",
       "1            9.2                                    The Godfather   \n",
       "2            9.1                           The Godfather: Part II   \n",
       "3            9.0                                  The Dark Knight   \n",
       "4            8.9                                     Pulp Fiction   \n",
       "..           ...                                              ...   \n",
       "974          7.4                                          Tootsie   \n",
       "975          7.4                      Back to the Future Part III   \n",
       "976          7.4  Master and Commander: The Far Side of the World   \n",
       "977          7.4                                      Poltergeist   \n",
       "978          7.4                                      Wall Street   \n",
       "\n",
       "    content_rating      genre  duration  \\\n",
       "0                R      Crime       142   \n",
       "1                R      Crime       175   \n",
       "2                R      Crime       200   \n",
       "3            PG-13     Action       152   \n",
       "4                R      Crime       154   \n",
       "..             ...        ...       ...   \n",
       "974             PG     Comedy       116   \n",
       "975             PG  Adventure       118   \n",
       "976          PG-13     Action       138   \n",
       "977             PG     Horror       114   \n",
       "978              R      Crime       126   \n",
       "\n",
       "                                           actors_list  \n",
       "0    [u'Tim Robbins', u'Morgan Freeman', u'Bob Gunt...  \n",
       "1      [u'Marlon Brando', u'Al Pacino', u'James Caan']  \n",
       "2    [u'Al Pacino', u'Robert De Niro', u'Robert Duv...  \n",
       "3    [u'Christian Bale', u'Heath Ledger', u'Aaron E...  \n",
       "4    [u'John Travolta', u'Uma Thurman', u'Samuel L....  \n",
       "..                                                 ...  \n",
       "974  [u'Dustin Hoffman', u'Jessica Lange', u'Teri G...  \n",
       "975  [u'Michael J. Fox', u'Christopher Lloyd', u'Ma...  \n",
       "976  [u'Russell Crowe', u'Paul Bettany', u'Billy Bo...  \n",
       "977  [u'JoBeth Williams', u\"Heather O'Rourke\", u'Cr...  \n",
       "978  [u'Charlie Sheen', u'Michael Douglas', u'Tamar...  \n",
       "\n",
       "[979 rows x 6 columns]"
      ]
     },
     "execution_count": 4,
     "metadata": {},
     "output_type": "execute_result"
    }
   ],
   "source": [
    "df"
   ]
  },
  {
   "cell_type": "code",
   "execution_count": 5,
   "metadata": {},
   "outputs": [
    {
     "name": "stdout",
     "output_type": "stream",
     "text": [
      "<class 'pandas.core.frame.DataFrame'>\n",
      "RangeIndex: 979 entries, 0 to 978\n",
      "Data columns (total 6 columns):\n",
      " #   Column          Non-Null Count  Dtype  \n",
      "---  ------          --------------  -----  \n",
      " 0   star_rating     979 non-null    float64\n",
      " 1   title           979 non-null    object \n",
      " 2   content_rating  976 non-null    object \n",
      " 3   genre           979 non-null    object \n",
      " 4   duration        979 non-null    int64  \n",
      " 5   actors_list     979 non-null    object \n",
      "dtypes: float64(1), int64(1), object(4)\n",
      "memory usage: 46.0+ KB\n"
     ]
    }
   ],
   "source": [
    "df.info()"
   ]
  },
  {
   "cell_type": "markdown",
   "metadata": {},
   "source": [
    "df.info()\n"
   ]
  },
  {
   "cell_type": "code",
   "execution_count": 6,
   "metadata": {},
   "outputs": [
    {
     "data": {
      "text/plain": [
       "(16,)"
      ]
     },
     "execution_count": 6,
     "metadata": {},
     "output_type": "execute_result"
    }
   ],
   "source": [
    "df.genre.unique().shape"
   ]
  },
  {
   "cell_type": "code",
   "execution_count": 7,
   "metadata": {},
   "outputs": [
    {
     "data": {
      "text/html": [
       "<div>\n",
       "<style scoped>\n",
       "    .dataframe tbody tr th:only-of-type {\n",
       "        vertical-align: middle;\n",
       "    }\n",
       "\n",
       "    .dataframe tbody tr th {\n",
       "        vertical-align: top;\n",
       "    }\n",
       "\n",
       "    .dataframe thead th {\n",
       "        text-align: right;\n",
       "    }\n",
       "</style>\n",
       "<table border=\"1\" class=\"dataframe\">\n",
       "  <thead>\n",
       "    <tr style=\"text-align: right;\">\n",
       "      <th></th>\n",
       "      <th>star_rating</th>\n",
       "      <th>title</th>\n",
       "      <th>content_rating</th>\n",
       "      <th>genre</th>\n",
       "      <th>duration</th>\n",
       "      <th>actors_list</th>\n",
       "    </tr>\n",
       "  </thead>\n",
       "  <tbody>\n",
       "    <tr>\n",
       "      <th>0</th>\n",
       "      <td>9.3</td>\n",
       "      <td>The Shawshank Redemption</td>\n",
       "      <td>R</td>\n",
       "      <td>Crime</td>\n",
       "      <td>142</td>\n",
       "      <td>[u'Tim Robbins', u'Morgan Freeman', u'Bob Gunt...</td>\n",
       "    </tr>\n",
       "    <tr>\n",
       "      <th>1</th>\n",
       "      <td>9.2</td>\n",
       "      <td>The Godfather</td>\n",
       "      <td>R</td>\n",
       "      <td>Crime</td>\n",
       "      <td>175</td>\n",
       "      <td>[u'Marlon Brando', u'Al Pacino', u'James Caan']</td>\n",
       "    </tr>\n",
       "    <tr>\n",
       "      <th>2</th>\n",
       "      <td>9.1</td>\n",
       "      <td>The Godfather: Part II</td>\n",
       "      <td>R</td>\n",
       "      <td>Crime</td>\n",
       "      <td>200</td>\n",
       "      <td>[u'Al Pacino', u'Robert De Niro', u'Robert Duv...</td>\n",
       "    </tr>\n",
       "    <tr>\n",
       "      <th>3</th>\n",
       "      <td>9.0</td>\n",
       "      <td>The Dark Knight</td>\n",
       "      <td>PG-13</td>\n",
       "      <td>Action</td>\n",
       "      <td>152</td>\n",
       "      <td>[u'Christian Bale', u'Heath Ledger', u'Aaron E...</td>\n",
       "    </tr>\n",
       "    <tr>\n",
       "      <th>4</th>\n",
       "      <td>8.9</td>\n",
       "      <td>Pulp Fiction</td>\n",
       "      <td>R</td>\n",
       "      <td>Crime</td>\n",
       "      <td>154</td>\n",
       "      <td>[u'John Travolta', u'Uma Thurman', u'Samuel L....</td>\n",
       "    </tr>\n",
       "    <tr>\n",
       "      <th>...</th>\n",
       "      <td>...</td>\n",
       "      <td>...</td>\n",
       "      <td>...</td>\n",
       "      <td>...</td>\n",
       "      <td>...</td>\n",
       "      <td>...</td>\n",
       "    </tr>\n",
       "    <tr>\n",
       "      <th>974</th>\n",
       "      <td>7.4</td>\n",
       "      <td>Tootsie</td>\n",
       "      <td>PG</td>\n",
       "      <td>Comedy</td>\n",
       "      <td>116</td>\n",
       "      <td>[u'Dustin Hoffman', u'Jessica Lange', u'Teri G...</td>\n",
       "    </tr>\n",
       "    <tr>\n",
       "      <th>975</th>\n",
       "      <td>7.4</td>\n",
       "      <td>Back to the Future Part III</td>\n",
       "      <td>PG</td>\n",
       "      <td>Adventure</td>\n",
       "      <td>118</td>\n",
       "      <td>[u'Michael J. Fox', u'Christopher Lloyd', u'Ma...</td>\n",
       "    </tr>\n",
       "    <tr>\n",
       "      <th>976</th>\n",
       "      <td>7.4</td>\n",
       "      <td>Master and Commander: The Far Side of the World</td>\n",
       "      <td>PG-13</td>\n",
       "      <td>Action</td>\n",
       "      <td>138</td>\n",
       "      <td>[u'Russell Crowe', u'Paul Bettany', u'Billy Bo...</td>\n",
       "    </tr>\n",
       "    <tr>\n",
       "      <th>977</th>\n",
       "      <td>7.4</td>\n",
       "      <td>Poltergeist</td>\n",
       "      <td>PG</td>\n",
       "      <td>Horror</td>\n",
       "      <td>114</td>\n",
       "      <td>[u'JoBeth Williams', u\"Heather O'Rourke\", u'Cr...</td>\n",
       "    </tr>\n",
       "    <tr>\n",
       "      <th>978</th>\n",
       "      <td>7.4</td>\n",
       "      <td>Wall Street</td>\n",
       "      <td>R</td>\n",
       "      <td>Crime</td>\n",
       "      <td>126</td>\n",
       "      <td>[u'Charlie Sheen', u'Michael Douglas', u'Tamar...</td>\n",
       "    </tr>\n",
       "  </tbody>\n",
       "</table>\n",
       "<p>979 rows × 6 columns</p>\n",
       "</div>"
      ],
      "text/plain": [
       "     star_rating                                            title  \\\n",
       "0            9.3                         The Shawshank Redemption   \n",
       "1            9.2                                    The Godfather   \n",
       "2            9.1                           The Godfather: Part II   \n",
       "3            9.0                                  The Dark Knight   \n",
       "4            8.9                                     Pulp Fiction   \n",
       "..           ...                                              ...   \n",
       "974          7.4                                          Tootsie   \n",
       "975          7.4                      Back to the Future Part III   \n",
       "976          7.4  Master and Commander: The Far Side of the World   \n",
       "977          7.4                                      Poltergeist   \n",
       "978          7.4                                      Wall Street   \n",
       "\n",
       "    content_rating      genre  duration  \\\n",
       "0                R      Crime       142   \n",
       "1                R      Crime       175   \n",
       "2                R      Crime       200   \n",
       "3            PG-13     Action       152   \n",
       "4                R      Crime       154   \n",
       "..             ...        ...       ...   \n",
       "974             PG     Comedy       116   \n",
       "975             PG  Adventure       118   \n",
       "976          PG-13     Action       138   \n",
       "977             PG     Horror       114   \n",
       "978              R      Crime       126   \n",
       "\n",
       "                                           actors_list  \n",
       "0    [u'Tim Robbins', u'Morgan Freeman', u'Bob Gunt...  \n",
       "1      [u'Marlon Brando', u'Al Pacino', u'James Caan']  \n",
       "2    [u'Al Pacino', u'Robert De Niro', u'Robert Duv...  \n",
       "3    [u'Christian Bale', u'Heath Ledger', u'Aaron E...  \n",
       "4    [u'John Travolta', u'Uma Thurman', u'Samuel L....  \n",
       "..                                                 ...  \n",
       "974  [u'Dustin Hoffman', u'Jessica Lange', u'Teri G...  \n",
       "975  [u'Michael J. Fox', u'Christopher Lloyd', u'Ma...  \n",
       "976  [u'Russell Crowe', u'Paul Bettany', u'Billy Bo...  \n",
       "977  [u'JoBeth Williams', u\"Heather O'Rourke\", u'Cr...  \n",
       "978  [u'Charlie Sheen', u'Michael Douglas', u'Tamar...  \n",
       "\n",
       "[979 rows x 6 columns]"
      ]
     },
     "execution_count": 7,
     "metadata": {},
     "output_type": "execute_result"
    }
   ],
   "source": [
    "df"
   ]
  },
  {
   "cell_type": "code",
   "execution_count": 8,
   "metadata": {},
   "outputs": [],
   "source": [
    "import numpy as np"
   ]
  },
  {
   "cell_type": "code",
   "execution_count": 9,
   "metadata": {},
   "outputs": [
    {
     "data": {
      "text/plain": [
       "'1.18.1'"
      ]
     },
     "execution_count": 9,
     "metadata": {},
     "output_type": "execute_result"
    }
   ],
   "source": [
    "np.__version__"
   ]
  },
  {
   "cell_type": "code",
   "execution_count": 10,
   "metadata": {},
   "outputs": [
    {
     "data": {
      "text/plain": [
       "\u001b[1;31mSignature:\u001b[0m \u001b[0mnp\u001b[0m\u001b[1;33m.\u001b[0m\u001b[0mbyte_bounds\u001b[0m\u001b[1;33m(\u001b[0m\u001b[0ma\u001b[0m\u001b[1;33m)\u001b[0m\u001b[1;33m\u001b[0m\u001b[1;33m\u001b[0m\u001b[0m\n",
       "\u001b[1;31mDocstring:\u001b[0m\n",
       "Returns pointers to the end-points of an array.\n",
       "\n",
       "Parameters\n",
       "----------\n",
       "a : ndarray\n",
       "    Input array. It must conform to the Python-side of the array\n",
       "    interface.\n",
       "\n",
       "Returns\n",
       "-------\n",
       "(low, high) : tuple of 2 integers\n",
       "    The first integer is the first byte of the array, the second\n",
       "    integer is just past the last byte of the array.  If `a` is not\n",
       "    contiguous it will not use every byte between the (`low`, `high`)\n",
       "    values.\n",
       "\n",
       "Examples\n",
       "--------\n",
       ">>> I = np.eye(2, dtype='f'); I.dtype\n",
       "dtype('float32')\n",
       ">>> low, high = np.byte_bounds(I)\n",
       ">>> high - low == I.size*I.itemsize\n",
       "True\n",
       ">>> I = np.eye(2); I.dtype\n",
       "dtype('float64')\n",
       ">>> low, high = np.byte_bounds(I)\n",
       ">>> high - low == I.size*I.itemsize\n",
       "True\n",
       "\u001b[1;31mFile:\u001b[0m      c:\\users\\kishan verma\\anaconda3\\lib\\site-packages\\numpy\\lib\\utils.py\n",
       "\u001b[1;31mType:\u001b[0m      function\n"
      ]
     },
     "metadata": {},
     "output_type": "display_data"
    }
   ],
   "source": [
    "np.byte_bounds?"
   ]
  },
  {
   "cell_type": "code",
   "execution_count": 11,
   "metadata": {},
   "outputs": [
    {
     "data": {
      "text/plain": [
       "\u001b[1;31mType:\u001b[0m        module\n",
       "\u001b[1;31mString form:\u001b[0m <module 'numpy' from 'C:\\\\Users\\\\Kishan Verma\\\\anaconda3\\\\lib\\\\site-packages\\\\numpy\\\\__init__.py'>\n",
       "\u001b[1;31mFile:\u001b[0m        c:\\users\\kishan verma\\anaconda3\\lib\\site-packages\\numpy\\__init__.py\n",
       "\u001b[1;31mDocstring:\u001b[0m  \n",
       "NumPy\n",
       "=====\n",
       "\n",
       "Provides\n",
       "  1. An array object of arbitrary homogeneous items\n",
       "  2. Fast mathematical operations over arrays\n",
       "  3. Linear Algebra, Fourier Transforms, Random Number Generation\n",
       "\n",
       "How to use the documentation\n",
       "----------------------------\n",
       "Documentation is available in two forms: docstrings provided\n",
       "with the code, and a loose standing reference guide, available from\n",
       "`the NumPy homepage <https://www.scipy.org>`_.\n",
       "\n",
       "We recommend exploring the docstrings using\n",
       "`IPython <https://ipython.org>`_, an advanced Python shell with\n",
       "TAB-completion and introspection capabilities.  See below for further\n",
       "instructions.\n",
       "\n",
       "The docstring examples assume that `numpy` has been imported as `np`::\n",
       "\n",
       "  >>> import numpy as np\n",
       "\n",
       "Code snippets are indicated by three greater-than signs::\n",
       "\n",
       "  >>> x = 42\n",
       "  >>> x = x + 1\n",
       "\n",
       "Use the built-in ``help`` function to view a function's docstring::\n",
       "\n",
       "  >>> help(np.sort)\n",
       "  ... # doctest: +SKIP\n",
       "\n",
       "For some objects, ``np.info(obj)`` may provide additional help.  This is\n",
       "particularly true if you see the line \"Help on ufunc object:\" at the top\n",
       "of the help() page.  Ufuncs are implemented in C, not Python, for speed.\n",
       "The native Python help() does not know how to view their help, but our\n",
       "np.info() function does.\n",
       "\n",
       "To search for documents containing a keyword, do::\n",
       "\n",
       "  >>> np.lookfor('keyword')\n",
       "  ... # doctest: +SKIP\n",
       "\n",
       "General-purpose documents like a glossary and help on the basic concepts\n",
       "of numpy are available under the ``doc`` sub-module::\n",
       "\n",
       "  >>> from numpy import doc\n",
       "  >>> help(doc)\n",
       "  ... # doctest: +SKIP\n",
       "\n",
       "Available subpackages\n",
       "---------------------\n",
       "doc\n",
       "    Topical documentation on broadcasting, indexing, etc.\n",
       "lib\n",
       "    Basic functions used by several sub-packages.\n",
       "random\n",
       "    Core Random Tools\n",
       "linalg\n",
       "    Core Linear Algebra Tools\n",
       "fft\n",
       "    Core FFT routines\n",
       "polynomial\n",
       "    Polynomial tools\n",
       "testing\n",
       "    NumPy testing tools\n",
       "f2py\n",
       "    Fortran to Python Interface Generator.\n",
       "distutils\n",
       "    Enhancements to distutils with support for\n",
       "    Fortran compilers support and more.\n",
       "\n",
       "Utilities\n",
       "---------\n",
       "test\n",
       "    Run numpy unittests\n",
       "show_config\n",
       "    Show numpy build configuration\n",
       "dual\n",
       "    Overwrite certain functions with high-performance Scipy tools\n",
       "matlib\n",
       "    Make everything matrices.\n",
       "__version__\n",
       "    NumPy version string\n",
       "\n",
       "Viewing documentation using IPython\n",
       "-----------------------------------\n",
       "Start IPython with the NumPy profile (``ipython -p numpy``), which will\n",
       "import `numpy` under the alias `np`.  Then, use the ``cpaste`` command to\n",
       "paste examples into the shell.  To see which functions are available in\n",
       "`numpy`, type ``np.<TAB>`` (where ``<TAB>`` refers to the TAB key), or use\n",
       "``np.*cos*?<ENTER>`` (where ``<ENTER>`` refers to the ENTER key) to narrow\n",
       "down the list.  To view the docstring for a function, use\n",
       "``np.cos?<ENTER>`` (to view the docstring) and ``np.cos??<ENTER>`` (to view\n",
       "the source code).\n",
       "\n",
       "Copies vs. in-place operation\n",
       "-----------------------------\n",
       "Most of the functions in `numpy` return a copy of the array argument\n",
       "(e.g., `np.sort`).  In-place versions of these functions are often\n",
       "available as array methods, i.e. ``x = np.array([1,2,3]); x.sort()``.\n",
       "Exceptions to this rule are documented.\n"
      ]
     },
     "metadata": {},
     "output_type": "display_data"
    }
   ],
   "source": [
    "np?"
   ]
  },
  {
   "cell_type": "code",
   "execution_count": 12,
   "metadata": {},
   "outputs": [
    {
     "data": {
      "text/plain": [
       "\u001b[1;31mSignature:\u001b[0m\n",
       "\u001b[0mnp\u001b[0m\u001b[1;33m.\u001b[0m\u001b[0mlinspace\u001b[0m\u001b[1;33m(\u001b[0m\u001b[1;33m\n",
       "\u001b[0m    \u001b[0mstart\u001b[0m\u001b[1;33m,\u001b[0m\u001b[1;33m\n",
       "\u001b[0m    \u001b[0mstop\u001b[0m\u001b[1;33m,\u001b[0m\u001b[1;33m\n",
       "\u001b[0m    \u001b[0mnum\u001b[0m\u001b[1;33m=\u001b[0m\u001b[1;36m50\u001b[0m\u001b[1;33m,\u001b[0m\u001b[1;33m\n",
       "\u001b[0m    \u001b[0mendpoint\u001b[0m\u001b[1;33m=\u001b[0m\u001b[1;32mTrue\u001b[0m\u001b[1;33m,\u001b[0m\u001b[1;33m\n",
       "\u001b[0m    \u001b[0mretstep\u001b[0m\u001b[1;33m=\u001b[0m\u001b[1;32mFalse\u001b[0m\u001b[1;33m,\u001b[0m\u001b[1;33m\n",
       "\u001b[0m    \u001b[0mdtype\u001b[0m\u001b[1;33m=\u001b[0m\u001b[1;32mNone\u001b[0m\u001b[1;33m,\u001b[0m\u001b[1;33m\n",
       "\u001b[0m    \u001b[0maxis\u001b[0m\u001b[1;33m=\u001b[0m\u001b[1;36m0\u001b[0m\u001b[1;33m,\u001b[0m\u001b[1;33m\n",
       "\u001b[0m\u001b[1;33m)\u001b[0m\u001b[1;33m\u001b[0m\u001b[1;33m\u001b[0m\u001b[0m\n",
       "\u001b[1;31mDocstring:\u001b[0m\n",
       "Return evenly spaced numbers over a specified interval.\n",
       "\n",
       "Returns `num` evenly spaced samples, calculated over the\n",
       "interval [`start`, `stop`].\n",
       "\n",
       "The endpoint of the interval can optionally be excluded.\n",
       "\n",
       ".. versionchanged:: 1.16.0\n",
       "    Non-scalar `start` and `stop` are now supported.\n",
       "\n",
       "Parameters\n",
       "----------\n",
       "start : array_like\n",
       "    The starting value of the sequence.\n",
       "stop : array_like\n",
       "    The end value of the sequence, unless `endpoint` is set to False.\n",
       "    In that case, the sequence consists of all but the last of ``num + 1``\n",
       "    evenly spaced samples, so that `stop` is excluded.  Note that the step\n",
       "    size changes when `endpoint` is False.\n",
       "num : int, optional\n",
       "    Number of samples to generate. Default is 50. Must be non-negative.\n",
       "endpoint : bool, optional\n",
       "    If True, `stop` is the last sample. Otherwise, it is not included.\n",
       "    Default is True.\n",
       "retstep : bool, optional\n",
       "    If True, return (`samples`, `step`), where `step` is the spacing\n",
       "    between samples.\n",
       "dtype : dtype, optional\n",
       "    The type of the output array.  If `dtype` is not given, infer the data\n",
       "    type from the other input arguments.\n",
       "\n",
       "    .. versionadded:: 1.9.0\n",
       "\n",
       "axis : int, optional\n",
       "    The axis in the result to store the samples.  Relevant only if start\n",
       "    or stop are array-like.  By default (0), the samples will be along a\n",
       "    new axis inserted at the beginning. Use -1 to get an axis at the end.\n",
       "\n",
       "    .. versionadded:: 1.16.0\n",
       "\n",
       "Returns\n",
       "-------\n",
       "samples : ndarray\n",
       "    There are `num` equally spaced samples in the closed interval\n",
       "    ``[start, stop]`` or the half-open interval ``[start, stop)``\n",
       "    (depending on whether `endpoint` is True or False).\n",
       "step : float, optional\n",
       "    Only returned if `retstep` is True\n",
       "\n",
       "    Size of spacing between samples.\n",
       "\n",
       "\n",
       "See Also\n",
       "--------\n",
       "arange : Similar to `linspace`, but uses a step size (instead of the\n",
       "         number of samples).\n",
       "geomspace : Similar to `linspace`, but with numbers spaced evenly on a log\n",
       "            scale (a geometric progression).\n",
       "logspace : Similar to `geomspace`, but with the end points specified as\n",
       "           logarithms.\n",
       "\n",
       "Examples\n",
       "--------\n",
       ">>> np.linspace(2.0, 3.0, num=5)\n",
       "array([2.  , 2.25, 2.5 , 2.75, 3.  ])\n",
       ">>> np.linspace(2.0, 3.0, num=5, endpoint=False)\n",
       "array([2. ,  2.2,  2.4,  2.6,  2.8])\n",
       ">>> np.linspace(2.0, 3.0, num=5, retstep=True)\n",
       "(array([2.  ,  2.25,  2.5 ,  2.75,  3.  ]), 0.25)\n",
       "\n",
       "Graphical illustration:\n",
       "\n",
       ">>> import matplotlib.pyplot as plt\n",
       ">>> N = 8\n",
       ">>> y = np.zeros(N)\n",
       ">>> x1 = np.linspace(0, 10, N, endpoint=True)\n",
       ">>> x2 = np.linspace(0, 10, N, endpoint=False)\n",
       ">>> plt.plot(x1, y, 'o')\n",
       "[<matplotlib.lines.Line2D object at 0x...>]\n",
       ">>> plt.plot(x2, y + 0.5, 'o')\n",
       "[<matplotlib.lines.Line2D object at 0x...>]\n",
       ">>> plt.ylim([-0.5, 1])\n",
       "(-0.5, 1)\n",
       ">>> plt.show()\n",
       "\u001b[1;31mFile:\u001b[0m      c:\\users\\kishan verma\\anaconda3\\lib\\site-packages\\numpy\\core\\function_base.py\n",
       "\u001b[1;31mType:\u001b[0m      function\n"
      ]
     },
     "metadata": {},
     "output_type": "display_data"
    }
   ],
   "source": [
    "np.linspace?"
   ]
  },
  {
   "cell_type": "markdown",
   "metadata": {},
   "source": [
    "np.random.randint?"
   ]
  },
  {
   "cell_type": "code",
   "execution_count": 13,
   "metadata": {},
   "outputs": [
    {
     "data": {
      "text/plain": [
       "40000"
      ]
     },
     "execution_count": 13,
     "metadata": {},
     "output_type": "execute_result"
    }
   ],
   "source": [
    "x=np.random.randint(100, size=(100, 100))\n",
    "x.nbytes"
   ]
  },
  {
   "cell_type": "code",
   "execution_count": 14,
   "metadata": {},
   "outputs": [],
   "source": [
    "x[0, 0]=10.2"
   ]
  },
  {
   "cell_type": "code",
   "execution_count": 15,
   "metadata": {},
   "outputs": [
    {
     "data": {
      "text/plain": [
       "10"
      ]
     },
     "execution_count": 15,
     "metadata": {},
     "output_type": "execute_result"
    }
   ],
   "source": [
    "x[0,0]"
   ]
  },
  {
   "cell_type": "code",
   "execution_count": 16,
   "metadata": {},
   "outputs": [
    {
     "data": {
      "text/plain": [
       "array([[16,  8, 18,  2, 10, 14,  6,  4, 12, 18],\n",
       "       [ 1, 13, 19,  5, 14,  7, 15,  8,  6,  7],\n",
       "       [ 4,  0,  2, 18,  3, 13,  0,  7, 10, 11],\n",
       "       [17,  9, 14,  9, 17,  0,  3,  4,  2,  2],\n",
       "       [10, 11,  9, 10,  3,  1,  5,  4, 14, 11],\n",
       "       [11,  0, 10, 17, 16,  4, 15, 11,  3, 15],\n",
       "       [13, 12, 10,  9,  4, 16,  8,  0,  2,  5],\n",
       "       [13, 15,  2, 10,  9,  5,  5, 11,  0,  1],\n",
       "       [ 3,  4,  7,  3,  9, 17,  6,  2,  4,  1],\n",
       "       [19,  0,  2, 17,  4, 11, 13,  2,  6,  9]])"
      ]
     },
     "execution_count": 16,
     "metadata": {},
     "output_type": "execute_result"
    }
   ],
   "source": [
    "x=np.random.randint(20, size=(10,10))\n",
    "x"
   ]
  },
  {
   "cell_type": "code",
   "execution_count": 17,
   "metadata": {},
   "outputs": [
    {
     "data": {
      "text/plain": [
       "array([[ 2, 18,  3, 13,  0,  7, 10, 11],\n",
       "       [14,  9, 17,  0,  3,  4,  2,  2],\n",
       "       [ 9, 10,  3,  1,  5,  4, 14, 11],\n",
       "       [10, 17, 16,  4, 15, 11,  3, 15],\n",
       "       [10,  9,  4, 16,  8,  0,  2,  5],\n",
       "       [ 2, 10,  9,  5,  5, 11,  0,  1],\n",
       "       [ 7,  3,  9, 17,  6,  2,  4,  1],\n",
       "       [ 2, 17,  4, 11, 13,  2,  6,  9]])"
      ]
     },
     "execution_count": 17,
     "metadata": {},
     "output_type": "execute_result"
    }
   ],
   "source": [
    "x[2:,2:]"
   ]
  },
  {
   "cell_type": "code",
   "execution_count": 18,
   "metadata": {},
   "outputs": [
    {
     "data": {
      "text/plain": [
       "array([[16,  8],\n",
       "       [ 1, 13]])"
      ]
     },
     "execution_count": 18,
     "metadata": {},
     "output_type": "execute_result"
    }
   ],
   "source": [
    "x[:2, :2]"
   ]
  },
  {
   "cell_type": "code",
   "execution_count": 19,
   "metadata": {},
   "outputs": [
    {
     "data": {
      "text/plain": [
       "array([[ 9,  6,  2, 13, 11,  4, 17,  2,  0, 19],\n",
       "       [ 1,  4,  2,  6, 17,  9,  3,  7,  4,  3],\n",
       "       [ 1,  0, 11,  5,  5,  9, 10,  2, 15, 13],\n",
       "       [ 5,  2,  0,  8, 16,  4,  9, 10, 12, 13],\n",
       "       [15,  3, 11, 15,  4, 16, 17, 10,  0, 11],\n",
       "       [11, 14,  4,  5,  1,  3, 10,  9, 11, 10],\n",
       "       [ 2,  2,  4,  3,  0, 17,  9, 14,  9, 17],\n",
       "       [11, 10,  7,  0, 13,  3, 18,  2,  0,  4],\n",
       "       [ 7,  6,  8, 15,  7, 14,  5, 19, 13,  1],\n",
       "       [18, 12,  4,  6, 14, 10,  2, 18,  8, 16]])"
      ]
     },
     "execution_count": 19,
     "metadata": {},
     "output_type": "execute_result"
    }
   ],
   "source": [
    "x[::-1, ::-1]"
   ]
  },
  {
   "cell_type": "code",
   "execution_count": 20,
   "metadata": {},
   "outputs": [
    {
     "data": {
      "text/plain": [
       "array([[16,  8, 18,  2, 10, 14,  6,  4, 12, 18],\n",
       "       [ 1, 13, 19,  5, 14,  7, 15,  8,  6,  7],\n",
       "       [ 4,  0,  2, 18,  3, 13,  0,  7, 10, 11],\n",
       "       [17,  9, 14,  9, 17,  0,  3,  4,  2,  2],\n",
       "       [10, 11,  9, 10,  3,  1,  5,  4, 14, 11],\n",
       "       [11,  0, 10, 17, 16,  4, 15, 11,  3, 15],\n",
       "       [13, 12, 10,  9,  4, 16,  8,  0,  2,  5],\n",
       "       [13, 15,  2, 10,  9,  5,  5, 11,  0,  1],\n",
       "       [ 3,  4,  7,  3,  9, 17,  6,  2,  4,  1],\n",
       "       [19,  0,  2, 17,  4, 11, 13,  2,  6,  9]])"
      ]
     },
     "execution_count": 20,
     "metadata": {},
     "output_type": "execute_result"
    }
   ],
   "source": [
    "x"
   ]
  },
  {
   "cell_type": "code",
   "execution_count": 21,
   "metadata": {},
   "outputs": [
    {
     "data": {
      "text/plain": [
       "array([[16, 18, 10,  6, 12],\n",
       "       [ 4,  2,  3,  0, 10],\n",
       "       [10,  9,  3,  5, 14],\n",
       "       [13, 10,  4,  8,  2],\n",
       "       [ 3,  7,  9,  6,  4]])"
      ]
     },
     "execution_count": 21,
     "metadata": {},
     "output_type": "execute_result"
    }
   ],
   "source": [
    "x[::2, ::2]"
   ]
  },
  {
   "cell_type": "code",
   "execution_count": 22,
   "metadata": {},
   "outputs": [
    {
     "data": {
      "text/plain": [
       "array([18, 12,  4,  6, 14, 10,  2, 18,  8, 16])"
      ]
     },
     "execution_count": 22,
     "metadata": {},
     "output_type": "execute_result"
    }
   ],
   "source": [
    "x[0, ::-1]"
   ]
  },
  {
   "cell_type": "code",
   "execution_count": 23,
   "metadata": {},
   "outputs": [
    {
     "data": {
      "text/plain": [
       "array([[ 0,  8, 18,  2, 10, 14,  6,  4, 12, 18],\n",
       "       [ 1, 13, 19,  5, 14,  7, 15,  8,  6,  7],\n",
       "       [ 4,  0,  2, 18,  3, 13,  0,  7, 10, 11],\n",
       "       [17,  9, 14,  9, 17,  0,  3,  4,  2,  2],\n",
       "       [10, 11,  9, 10,  3,  1,  5,  4, 14, 11],\n",
       "       [11,  0, 10, 17, 16,  4, 15, 11,  3, 15],\n",
       "       [13, 12, 10,  9,  4, 16,  8,  0,  2,  5],\n",
       "       [13, 15,  2, 10,  9,  5,  5, 11,  0,  1],\n",
       "       [ 3,  4,  7,  3,  9, 17,  6,  2,  4,  1],\n",
       "       [19,  0,  2, 17,  4, 11, 13,  2,  6,  9]])"
      ]
     },
     "execution_count": 23,
     "metadata": {},
     "output_type": "execute_result"
    }
   ],
   "source": [
    "y=x[:, :2]\n",
    "y\n",
    "y[0,0]=0\n",
    "x"
   ]
  },
  {
   "cell_type": "code",
   "execution_count": null,
   "metadata": {},
   "outputs": [],
   "source": []
  },
  {
   "cell_type": "code",
   "execution_count": 24,
   "metadata": {},
   "outputs": [
    {
     "data": {
      "text/plain": [
       "array([[ 0,  8,  1, 13],\n",
       "       [ 4,  0, 17,  9],\n",
       "       [10, 11, 11,  0],\n",
       "       [13, 12, 13, 15],\n",
       "       [ 3,  4, 19,  0]])"
      ]
     },
     "execution_count": 24,
     "metadata": {},
     "output_type": "execute_result"
    }
   ],
   "source": [
    "y.reshape(5,4)"
   ]
  },
  {
   "cell_type": "code",
   "execution_count": 25,
   "metadata": {},
   "outputs": [
    {
     "data": {
      "text/plain": [
       "array([[ 0,  8, 18,  2, 10, 14,  6,  4, 12, 18],\n",
       "       [ 1, 13, 19,  5, 14,  7, 15,  8,  6,  7],\n",
       "       [ 4,  0,  2, 18,  3, 13,  0,  7, 10, 11],\n",
       "       [17,  9, 14,  9, 17,  0,  3,  4,  2,  2],\n",
       "       [10, 11,  9, 10,  3,  1,  5,  4, 14, 11],\n",
       "       [11,  0, 10, 17, 16,  4, 15, 11,  3, 15],\n",
       "       [13, 12, 10,  9,  4, 16,  8,  0,  2,  5],\n",
       "       [13, 15,  2, 10,  9,  5,  5, 11,  0,  1],\n",
       "       [ 3,  4,  7,  3,  9, 17,  6,  2,  4,  1],\n",
       "       [19,  0,  2, 17,  4, 11, 13,  2,  6,  9]])"
      ]
     },
     "execution_count": 25,
     "metadata": {},
     "output_type": "execute_result"
    }
   ],
   "source": [
    "x"
   ]
  },
  {
   "cell_type": "code",
   "execution_count": 26,
   "metadata": {},
   "outputs": [
    {
     "data": {
      "text/plain": [
       "array([[ 0,  8],\n",
       "       [ 1, 13],\n",
       "       [ 4,  0],\n",
       "       [17,  9],\n",
       "       [10, 11],\n",
       "       [11,  0],\n",
       "       [13, 12],\n",
       "       [13, 15],\n",
       "       [ 3,  4],\n",
       "       [19,  0]])"
      ]
     },
     "execution_count": 26,
     "metadata": {},
     "output_type": "execute_result"
    }
   ],
   "source": [
    "y"
   ]
  },
  {
   "cell_type": "code",
   "execution_count": null,
   "metadata": {},
   "outputs": [],
   "source": []
  },
  {
   "cell_type": "code",
   "execution_count": null,
   "metadata": {},
   "outputs": [],
   "source": []
  },
  {
   "cell_type": "code",
   "execution_count": 27,
   "metadata": {},
   "outputs": [
    {
     "data": {
      "text/plain": [
       "array([[ 0,  8, 18,  2, 10, 14,  6,  4, 12, 18,  0,  8],\n",
       "       [ 1, 13, 19,  5, 14,  7, 15,  8,  6,  7,  1, 13],\n",
       "       [ 4,  0,  2, 18,  3, 13,  0,  7, 10, 11,  4,  0],\n",
       "       [17,  9, 14,  9, 17,  0,  3,  4,  2,  2, 17,  9],\n",
       "       [10, 11,  9, 10,  3,  1,  5,  4, 14, 11, 10, 11],\n",
       "       [11,  0, 10, 17, 16,  4, 15, 11,  3, 15, 11,  0],\n",
       "       [13, 12, 10,  9,  4, 16,  8,  0,  2,  5, 13, 12],\n",
       "       [13, 15,  2, 10,  9,  5,  5, 11,  0,  1, 13, 15],\n",
       "       [ 3,  4,  7,  3,  9, 17,  6,  2,  4,  1,  3,  4],\n",
       "       [19,  0,  2, 17,  4, 11, 13,  2,  6,  9, 19,  0]])"
      ]
     },
     "execution_count": 27,
     "metadata": {},
     "output_type": "execute_result"
    }
   ],
   "source": [
    "np.hstack([x, y])"
   ]
  },
  {
   "cell_type": "code",
   "execution_count": 28,
   "metadata": {},
   "outputs": [
    {
     "name": "stdout",
     "output_type": "stream",
     "text": [
      "[[ 0  8 18  2 10 14  6  4 12 18]\n",
      " [ 1 13 19  5 14  7 15  8  6  7]\n",
      " [ 4  0  2 18  3 13  0  7 10 11]\n",
      " [17  9 14  9 17  0  3  4  2  2]\n",
      " [10 11  9 10  3  1  5  4 14 11]\n",
      " [11  0 10 17 16  4 15 11  3 15]\n",
      " [13 12 10  9  4 16  8  0  2  5]\n",
      " [13 15  2 10  9  5  5 11  0  1]\n",
      " [ 3  4  7  3  9 17  6  2  4  1]\n",
      " [19  0  2 17  4 11 13  2  6  9]] [[ 0  8]\n",
      " [ 1 13]\n",
      " [ 4  0]\n",
      " [17  9]\n",
      " [10 11]\n",
      " [11  0]\n",
      " [13 12]\n",
      " [13 15]\n",
      " [ 3  4]\n",
      " [19  0]]\n"
     ]
    }
   ],
   "source": [
    "print(x, y)"
   ]
  },
  {
   "cell_type": "code",
   "execution_count": 29,
   "metadata": {},
   "outputs": [
    {
     "data": {
      "text/plain": [
       "array([[ 0, 16, 36,  4, 20, 28, 12,  8, 24, 36],\n",
       "       [ 2, 26, 38, 10, 28, 14, 30, 16, 12, 14],\n",
       "       [ 8,  0,  4, 36,  6, 26,  0, 14, 20, 22],\n",
       "       [34, 18, 28, 18, 34,  0,  6,  8,  4,  4],\n",
       "       [20, 22, 18, 20,  6,  2, 10,  8, 28, 22],\n",
       "       [22,  0, 20, 34, 32,  8, 30, 22,  6, 30],\n",
       "       [26, 24, 20, 18,  8, 32, 16,  0,  4, 10],\n",
       "       [26, 30,  4, 20, 18, 10, 10, 22,  0,  2],\n",
       "       [ 6,  8, 14,  6, 18, 34, 12,  4,  8,  2],\n",
       "       [38,  0,  4, 34,  8, 22, 26,  4, 12, 18]])"
      ]
     },
     "execution_count": 29,
     "metadata": {},
     "output_type": "execute_result"
    }
   ],
   "source": [
    "x+x"
   ]
  },
  {
   "cell_type": "code",
   "execution_count": 30,
   "metadata": {},
   "outputs": [
    {
     "data": {
      "text/plain": [
       "array([[  0,  64, 324,   4, 100, 196,  36,  16, 144, 324],\n",
       "       [  1, 169, 361,  25, 196,  49, 225,  64,  36,  49],\n",
       "       [ 16,   0,   4, 324,   9, 169,   0,  49, 100, 121],\n",
       "       [289,  81, 196,  81, 289,   0,   9,  16,   4,   4],\n",
       "       [100, 121,  81, 100,   9,   1,  25,  16, 196, 121],\n",
       "       [121,   0, 100, 289, 256,  16, 225, 121,   9, 225],\n",
       "       [169, 144, 100,  81,  16, 256,  64,   0,   4,  25],\n",
       "       [169, 225,   4, 100,  81,  25,  25, 121,   0,   1],\n",
       "       [  9,  16,  49,   9,  81, 289,  36,   4,  16,   1],\n",
       "       [361,   0,   4, 289,  16, 121, 169,   4,  36,  81]], dtype=int32)"
      ]
     },
     "execution_count": 30,
     "metadata": {},
     "output_type": "execute_result"
    }
   ],
   "source": [
    "x**2"
   ]
  },
  {
   "cell_type": "code",
   "execution_count": 31,
   "metadata": {},
   "outputs": [
    {
     "data": {
      "text/plain": [
       "array([[ 0,  8, 18,  2, 10, 14,  6,  4, 12, 18],\n",
       "       [ 1, 13, 19,  5, 14,  7, 15,  8,  6,  7],\n",
       "       [ 4,  0,  2, 18,  3, 13,  0,  7, 10, 11],\n",
       "       [17,  9, 14,  9, 17,  0,  3,  4,  2,  2],\n",
       "       [10, 11,  9, 10,  3,  1,  5,  4, 14, 11],\n",
       "       [11,  0, 10, 17, 16,  4, 15, 11,  3, 15],\n",
       "       [13, 12, 10,  9,  4, 16,  8,  0,  2,  5],\n",
       "       [13, 15,  2, 10,  9,  5,  5, 11,  0,  1],\n",
       "       [ 3,  4,  7,  3,  9, 17,  6,  2,  4,  1],\n",
       "       [19,  0,  2, 17,  4, 11, 13,  2,  6,  9]])"
      ]
     },
     "execution_count": 31,
     "metadata": {},
     "output_type": "execute_result"
    }
   ],
   "source": [
    "x"
   ]
  },
  {
   "cell_type": "code",
   "execution_count": null,
   "metadata": {},
   "outputs": [],
   "source": []
  },
  {
   "cell_type": "code",
   "execution_count": 32,
   "metadata": {},
   "outputs": [
    {
     "data": {
      "text/plain": [
       "array([[[ 0,  0],\n",
       "        [ 8,  8],\n",
       "        [18, 18],\n",
       "        [ 2,  2],\n",
       "        [10, 10],\n",
       "        [14, 14],\n",
       "        [ 6,  6],\n",
       "        [ 4,  4],\n",
       "        [12, 12],\n",
       "        [18, 18]],\n",
       "\n",
       "       [[ 1,  1],\n",
       "        [13, 13],\n",
       "        [19, 19],\n",
       "        [ 5,  5],\n",
       "        [14, 14],\n",
       "        [ 7,  7],\n",
       "        [15, 15],\n",
       "        [ 8,  8],\n",
       "        [ 6,  6],\n",
       "        [ 7,  7]],\n",
       "\n",
       "       [[ 4,  4],\n",
       "        [ 0,  0],\n",
       "        [ 2,  2],\n",
       "        [18, 18],\n",
       "        [ 3,  3],\n",
       "        [13, 13],\n",
       "        [ 0,  0],\n",
       "        [ 7,  7],\n",
       "        [10, 10],\n",
       "        [11, 11]],\n",
       "\n",
       "       [[17, 17],\n",
       "        [ 9,  9],\n",
       "        [14, 14],\n",
       "        [ 9,  9],\n",
       "        [17, 17],\n",
       "        [ 0,  0],\n",
       "        [ 3,  3],\n",
       "        [ 4,  4],\n",
       "        [ 2,  2],\n",
       "        [ 2,  2]],\n",
       "\n",
       "       [[10, 10],\n",
       "        [11, 11],\n",
       "        [ 9,  9],\n",
       "        [10, 10],\n",
       "        [ 3,  3],\n",
       "        [ 1,  1],\n",
       "        [ 5,  5],\n",
       "        [ 4,  4],\n",
       "        [14, 14],\n",
       "        [11, 11]],\n",
       "\n",
       "       [[11, 11],\n",
       "        [ 0,  0],\n",
       "        [10, 10],\n",
       "        [17, 17],\n",
       "        [16, 16],\n",
       "        [ 4,  4],\n",
       "        [15, 15],\n",
       "        [11, 11],\n",
       "        [ 3,  3],\n",
       "        [15, 15]],\n",
       "\n",
       "       [[13, 13],\n",
       "        [12, 12],\n",
       "        [10, 10],\n",
       "        [ 9,  9],\n",
       "        [ 4,  4],\n",
       "        [16, 16],\n",
       "        [ 8,  8],\n",
       "        [ 0,  0],\n",
       "        [ 2,  2],\n",
       "        [ 5,  5]],\n",
       "\n",
       "       [[13, 13],\n",
       "        [15, 15],\n",
       "        [ 2,  2],\n",
       "        [10, 10],\n",
       "        [ 9,  9],\n",
       "        [ 5,  5],\n",
       "        [ 5,  5],\n",
       "        [11, 11],\n",
       "        [ 0,  0],\n",
       "        [ 1,  1]],\n",
       "\n",
       "       [[ 3,  3],\n",
       "        [ 4,  4],\n",
       "        [ 7,  7],\n",
       "        [ 3,  3],\n",
       "        [ 9,  9],\n",
       "        [17, 17],\n",
       "        [ 6,  6],\n",
       "        [ 2,  2],\n",
       "        [ 4,  4],\n",
       "        [ 1,  1]],\n",
       "\n",
       "       [[19, 19],\n",
       "        [ 0,  0],\n",
       "        [ 2,  2],\n",
       "        [17, 17],\n",
       "        [ 4,  4],\n",
       "        [11, 11],\n",
       "        [13, 13],\n",
       "        [ 2,  2],\n",
       "        [ 6,  6],\n",
       "        [ 9,  9]]])"
      ]
     },
     "execution_count": 32,
     "metadata": {},
     "output_type": "execute_result"
    }
   ],
   "source": [
    "np.dstack([x, x])"
   ]
  },
  {
   "cell_type": "code",
   "execution_count": 33,
   "metadata": {},
   "outputs": [
    {
     "data": {
      "text/plain": [
       "array([1, 2, 5, 8, 0, 0, 6, 8, 7, 3, 1, 9, 3, 1, 7, 1, 5, 3, 9, 1])"
      ]
     },
     "execution_count": 33,
     "metadata": {},
     "output_type": "execute_result"
    }
   ],
   "source": [
    "z=np.random.randint(10, size=20)\n",
    "z"
   ]
  },
  {
   "cell_type": "code",
   "execution_count": 34,
   "metadata": {},
   "outputs": [
    {
     "data": {
      "text/plain": [
       "[array([1, 2, 5]),\n",
       " array([], dtype=int32),\n",
       " array([2, 5, 8, 0, 0, 6, 8, 7, 3, 1, 9, 3, 1, 7, 1, 5, 3, 9, 1])]"
      ]
     },
     "execution_count": 34,
     "metadata": {},
     "output_type": "execute_result"
    }
   ],
   "source": [
    "np.split(z, [3, 1])"
   ]
  },
  {
   "cell_type": "code",
   "execution_count": 35,
   "metadata": {},
   "outputs": [
    {
     "data": {
      "text/plain": [
       "array([[ 0,  8, 18,  2, 10, 14,  6,  4, 12, 18],\n",
       "       [ 1, 13, 19,  5, 14,  7, 15,  8,  6,  7],\n",
       "       [ 4,  0,  2, 18,  3, 13,  0,  7, 10, 11],\n",
       "       [17,  9, 14,  9, 17,  0,  3,  4,  2,  2],\n",
       "       [10, 11,  9, 10,  3,  1,  5,  4, 14, 11],\n",
       "       [11,  0, 10, 17, 16,  4, 15, 11,  3, 15],\n",
       "       [13, 12, 10,  9,  4, 16,  8,  0,  2,  5],\n",
       "       [13, 15,  2, 10,  9,  5,  5, 11,  0,  1],\n",
       "       [ 3,  4,  7,  3,  9, 17,  6,  2,  4,  1],\n",
       "       [19,  0,  2, 17,  4, 11, 13,  2,  6,  9]])"
      ]
     },
     "execution_count": 35,
     "metadata": {},
     "output_type": "execute_result"
    }
   ],
   "source": [
    "x"
   ]
  },
  {
   "cell_type": "code",
   "execution_count": 36,
   "metadata": {},
   "outputs": [
    {
     "data": {
      "text/plain": [
       "[array([[ 0,  8, 18,  2, 10, 14,  6,  4, 12, 18],\n",
       "        [ 1, 13, 19,  5, 14,  7, 15,  8,  6,  7],\n",
       "        [ 4,  0,  2, 18,  3, 13,  0,  7, 10, 11]]),\n",
       " array([[17,  9, 14,  9, 17,  0,  3,  4,  2,  2],\n",
       "        [10, 11,  9, 10,  3,  1,  5,  4, 14, 11],\n",
       "        [11,  0, 10, 17, 16,  4, 15, 11,  3, 15],\n",
       "        [13, 12, 10,  9,  4, 16,  8,  0,  2,  5]]),\n",
       " array([[13, 15,  2, 10,  9,  5,  5, 11,  0,  1],\n",
       "        [ 3,  4,  7,  3,  9, 17,  6,  2,  4,  1],\n",
       "        [19,  0,  2, 17,  4, 11, 13,  2,  6,  9]])]"
      ]
     },
     "execution_count": 36,
     "metadata": {},
     "output_type": "execute_result"
    }
   ],
   "source": [
    "np.split(x, [3, 7])"
   ]
  },
  {
   "cell_type": "code",
   "execution_count": 37,
   "metadata": {},
   "outputs": [
    {
     "data": {
      "text/plain": [
       "[array([[ 0,  8, 18],\n",
       "        [ 1, 13, 19],\n",
       "        [ 4,  0,  2],\n",
       "        [17,  9, 14],\n",
       "        [10, 11,  9],\n",
       "        [11,  0, 10],\n",
       "        [13, 12, 10],\n",
       "        [13, 15,  2],\n",
       "        [ 3,  4,  7],\n",
       "        [19,  0,  2]]),\n",
       " array([[ 2, 10],\n",
       "        [ 5, 14],\n",
       "        [18,  3],\n",
       "        [ 9, 17],\n",
       "        [10,  3],\n",
       "        [17, 16],\n",
       "        [ 9,  4],\n",
       "        [10,  9],\n",
       "        [ 3,  9],\n",
       "        [17,  4]]),\n",
       " array([[14,  6,  4, 12, 18],\n",
       "        [ 7, 15,  8,  6,  7],\n",
       "        [13,  0,  7, 10, 11],\n",
       "        [ 0,  3,  4,  2,  2],\n",
       "        [ 1,  5,  4, 14, 11],\n",
       "        [ 4, 15, 11,  3, 15],\n",
       "        [16,  8,  0,  2,  5],\n",
       "        [ 5,  5, 11,  0,  1],\n",
       "        [17,  6,  2,  4,  1],\n",
       "        [11, 13,  2,  6,  9]])]"
      ]
     },
     "execution_count": 37,
     "metadata": {},
     "output_type": "execute_result"
    }
   ],
   "source": [
    "np.hsplit(x, [3, 5])"
   ]
  },
  {
   "cell_type": "code",
   "execution_count": 38,
   "metadata": {},
   "outputs": [
    {
     "data": {
      "text/plain": [
       "array([[ 0,  8, 18,  2, 10, 14,  6,  4, 12, 18],\n",
       "       [ 1, 13, 19,  5, 14,  7, 15,  8,  6,  7],\n",
       "       [ 4,  0,  2, 18,  3, 13,  0,  7, 10, 11],\n",
       "       [17,  9, 14,  9, 17,  0,  3,  4,  2,  2],\n",
       "       [10, 11,  9, 10,  3,  1,  5,  4, 14, 11],\n",
       "       [11,  0, 10, 17, 16,  4, 15, 11,  3, 15],\n",
       "       [13, 12, 10,  9,  4, 16,  8,  0,  2,  5],\n",
       "       [13, 15,  2, 10,  9,  5,  5, 11,  0,  1],\n",
       "       [ 3,  4,  7,  3,  9, 17,  6,  2,  4,  1],\n",
       "       [19,  0,  2, 17,  4, 11, 13,  2,  6,  9]])"
      ]
     },
     "execution_count": 38,
     "metadata": {},
     "output_type": "execute_result"
    }
   ],
   "source": [
    "x"
   ]
  },
  {
   "cell_type": "code",
   "execution_count": 39,
   "metadata": {},
   "outputs": [
    {
     "data": {
      "text/plain": [
       "[array([[ 0,  8, 18,  2, 10, 14,  6,  4, 12, 18],\n",
       "        [ 1, 13, 19,  5, 14,  7, 15,  8,  6,  7],\n",
       "        [ 4,  0,  2, 18,  3, 13,  0,  7, 10, 11]]),\n",
       " array([[17,  9, 14,  9, 17,  0,  3,  4,  2,  2],\n",
       "        [10, 11,  9, 10,  3,  1,  5,  4, 14, 11]]),\n",
       " array([[11,  0, 10, 17, 16,  4, 15, 11,  3, 15],\n",
       "        [13, 12, 10,  9,  4, 16,  8,  0,  2,  5],\n",
       "        [13, 15,  2, 10,  9,  5,  5, 11,  0,  1],\n",
       "        [ 3,  4,  7,  3,  9, 17,  6,  2,  4,  1],\n",
       "        [19,  0,  2, 17,  4, 11, 13,  2,  6,  9]])]"
      ]
     },
     "execution_count": 39,
     "metadata": {},
     "output_type": "execute_result"
    }
   ],
   "source": [
    "np.vsplit(x, [3, 5])"
   ]
  },
  {
   "cell_type": "code",
   "execution_count": null,
   "metadata": {},
   "outputs": [],
   "source": []
  },
  {
   "cell_type": "code",
   "execution_count": 40,
   "metadata": {},
   "outputs": [
    {
     "data": {
      "text/plain": [
       "array([0, 1, 2, 3, 4])"
      ]
     },
     "execution_count": 40,
     "metadata": {},
     "output_type": "execute_result"
    }
   ],
   "source": [
    "np.arange(5\n",
    "        )"
   ]
  },
  {
   "cell_type": "code",
   "execution_count": 41,
   "metadata": {},
   "outputs": [
    {
     "data": {
      "text/plain": [
       "array([1, 2, 3, 4, 5])"
      ]
     },
     "execution_count": 41,
     "metadata": {},
     "output_type": "execute_result"
    }
   ],
   "source": [
    "np.arange(1, 6)"
   ]
  },
  {
   "cell_type": "code",
   "execution_count": 42,
   "metadata": {},
   "outputs": [
    {
     "data": {
      "text/plain": [
       "array([0.        , 0.5       , 0.66666667, 0.75      , 0.8       ])"
      ]
     },
     "execution_count": 42,
     "metadata": {},
     "output_type": "execute_result"
    }
   ],
   "source": [
    "np.arange(5)/np.arange(1,6)"
   ]
  },
  {
   "cell_type": "code",
   "execution_count": 43,
   "metadata": {},
   "outputs": [
    {
     "data": {
      "text/plain": [
       "array([0, 1, 2, 3, 4, 5, 6, 7, 8, 9])"
      ]
     },
     "execution_count": 43,
     "metadata": {},
     "output_type": "execute_result"
    }
   ],
   "source": [
    "x=np.arange(10\n",
    "         )\n",
    "x"
   ]
  },
  {
   "cell_type": "code",
   "execution_count": 44,
   "metadata": {},
   "outputs": [
    {
     "data": {
      "text/plain": [
       "45"
      ]
     },
     "execution_count": 44,
     "metadata": {},
     "output_type": "execute_result"
    }
   ],
   "source": [
    "np.add.reduce(x)"
   ]
  },
  {
   "cell_type": "code",
   "execution_count": 45,
   "metadata": {},
   "outputs": [
    {
     "data": {
      "text/plain": [
       "-45"
      ]
     },
     "execution_count": 45,
     "metadata": {},
     "output_type": "execute_result"
    }
   ],
   "source": [
    "np.subtract.reduce(x)"
   ]
  },
  {
   "cell_type": "code",
   "execution_count": null,
   "metadata": {},
   "outputs": [],
   "source": []
  },
  {
   "cell_type": "code",
   "execution_count": 46,
   "metadata": {},
   "outputs": [
    {
     "data": {
      "text/plain": [
       "0"
      ]
     },
     "execution_count": 46,
     "metadata": {},
     "output_type": "execute_result"
    }
   ],
   "source": [
    "np.multiply.reduce(x)"
   ]
  },
  {
   "cell_type": "code",
   "execution_count": 47,
   "metadata": {},
   "outputs": [
    {
     "data": {
      "text/plain": [
       "array([ 0,  1,  3,  6, 10, 15, 21, 28, 36, 45], dtype=int32)"
      ]
     },
     "execution_count": 47,
     "metadata": {},
     "output_type": "execute_result"
    }
   ],
   "source": [
    "np.add.accumulate(x)"
   ]
  },
  {
   "cell_type": "code",
   "execution_count": 48,
   "metadata": {},
   "outputs": [
    {
     "data": {
      "text/plain": [
       "array([0, 0, 0, 0, 0, 0, 0, 0, 0, 0], dtype=int32)"
      ]
     },
     "execution_count": 48,
     "metadata": {},
     "output_type": "execute_result"
    }
   ],
   "source": [
    "np.multiply.accumulate(x)"
   ]
  },
  {
   "cell_type": "code",
   "execution_count": 49,
   "metadata": {},
   "outputs": [
    {
     "data": {
      "text/plain": [
       "array([ 2,  4,  6,  8, 10, 12, 14, 16, 18, 20])"
      ]
     },
     "execution_count": 49,
     "metadata": {},
     "output_type": "execute_result"
    }
   ],
   "source": [
    "np.arange(2, 21, 2)"
   ]
  },
  {
   "cell_type": "code",
   "execution_count": 50,
   "metadata": {},
   "outputs": [
    {
     "data": {
      "text/plain": [
       "array([[ 2,  3,  4,  5],\n",
       "       [ 4,  6,  8, 10],\n",
       "       [ 6,  9, 12, 15],\n",
       "       [ 8, 12, 16, 20]])"
      ]
     },
     "execution_count": 50,
     "metadata": {},
     "output_type": "execute_result"
    }
   ],
   "source": [
    "np.multiply.outer(np.arange(1, 5), np.arange(2, 6))"
   ]
  },
  {
   "cell_type": "code",
   "execution_count": 51,
   "metadata": {},
   "outputs": [
    {
     "data": {
      "text/plain": [
       "array([1, 2, 3, 4])"
      ]
     },
     "execution_count": 51,
     "metadata": {},
     "output_type": "execute_result"
    }
   ],
   "source": [
    "x=np.arange(1, 5)\n",
    "x"
   ]
  },
  {
   "cell_type": "code",
   "execution_count": 52,
   "metadata": {},
   "outputs": [
    {
     "data": {
      "text/plain": [
       "array([2, 3, 4, 5])"
      ]
     },
     "execution_count": 52,
     "metadata": {},
     "output_type": "execute_result"
    }
   ],
   "source": [
    "y=np.arange(2, 6)\n",
    "y"
   ]
  },
  {
   "cell_type": "code",
   "execution_count": 53,
   "metadata": {},
   "outputs": [
    {
     "data": {
      "text/plain": [
       "array([1.90735751e-02, 4.18909372e-01, 2.81781918e-01, 2.54192942e-01,\n",
       "       8.98127150e-01, 3.33085986e-01, 6.45970409e-02, 1.82002476e-01,\n",
       "       2.25553268e-01, 7.46737056e-01, 5.57331935e-01, 2.35723471e-02,\n",
       "       2.54091277e-01, 8.95432023e-02, 2.23028594e-01, 7.22392167e-01,\n",
       "       5.91296632e-01, 9.49872267e-01, 5.90842566e-01, 1.52834475e-01,\n",
       "       6.12898746e-01, 1.71801015e-01, 2.35114098e-02, 7.59442780e-01,\n",
       "       7.05928256e-01, 3.75881878e-01, 6.06169393e-02, 9.90100802e-01,\n",
       "       3.71573472e-01, 3.26071300e-01, 6.04218978e-01, 8.36479441e-01,\n",
       "       1.24575148e-01, 6.17353798e-01, 6.21577318e-01, 2.86769035e-01,\n",
       "       5.64199993e-01, 9.60695534e-01, 3.55900158e-01, 9.84500447e-02,\n",
       "       1.48714097e-01, 3.62318570e-02, 1.83942423e-01, 4.84511972e-01,\n",
       "       3.76095550e-01, 1.72979948e-02, 3.66875343e-01, 2.70299990e-01,\n",
       "       1.27604478e-01, 5.15451638e-01, 7.14293162e-01, 1.24366213e-01,\n",
       "       5.86339415e-01, 3.94555940e-01, 6.85672982e-02, 1.73768185e-01,\n",
       "       4.29823430e-01, 4.82848287e-01, 1.79535705e-01, 6.55761913e-01,\n",
       "       2.88149303e-01, 6.73740467e-01, 4.74552802e-01, 2.75084070e-01,\n",
       "       3.15327806e-01, 3.75866080e-02, 5.15018347e-01, 9.56993129e-01,\n",
       "       7.47758722e-01, 7.05382486e-01, 1.75820301e-01, 7.22174222e-01,\n",
       "       1.69766951e-01, 6.10560780e-01, 4.30262963e-01, 3.79669273e-01,\n",
       "       7.90315705e-01, 7.83637501e-01, 4.56422916e-01, 3.10614385e-01,\n",
       "       9.47883347e-01, 7.73420831e-01, 4.77775167e-01, 3.38100924e-01,\n",
       "       1.46048830e-03, 7.72829393e-01, 1.19906751e-01, 7.59181213e-01,\n",
       "       9.35161495e-01, 1.16922038e-01, 9.74554517e-01, 9.03992457e-01,\n",
       "       2.83645285e-01, 8.09258284e-01, 9.32970086e-01, 6.36238527e-02,\n",
       "       3.88817938e-02, 8.10027230e-01, 7.87377629e-01, 4.34608603e-01,\n",
       "       1.38344428e-01, 9.73650580e-01, 4.05551703e-02, 9.52282884e-01,\n",
       "       7.82516226e-01, 4.18546555e-01, 4.68651429e-01, 4.19645539e-01,\n",
       "       9.44013353e-01, 9.68717103e-01, 8.95333763e-02, 1.28947585e-01,\n",
       "       1.22899113e-01, 6.29101635e-01, 2.99059704e-01, 2.07610607e-01,\n",
       "       2.33921003e-01, 6.51569373e-01, 4.27737710e-01, 4.88342951e-01,\n",
       "       4.97834470e-01, 6.01264106e-01, 2.62773078e-02, 3.75140627e-01,\n",
       "       5.75126730e-01, 7.53651906e-02, 3.56304021e-02, 5.03490743e-01,\n",
       "       9.54419645e-01, 8.93899802e-01, 9.08361697e-01, 9.69435371e-02,\n",
       "       9.28903136e-01, 3.38301093e-01, 2.52360673e-01, 5.90802399e-01,\n",
       "       9.04223852e-01, 9.89563786e-01, 3.42196130e-01, 7.38111613e-01,\n",
       "       3.28129882e-01, 9.60712679e-01, 4.21699273e-01, 8.39030770e-01,\n",
       "       7.27003109e-01, 4.48808037e-01, 5.81551159e-01, 3.51410113e-02,\n",
       "       8.03881832e-01, 6.18335622e-01, 7.84691051e-01, 3.62274268e-01,\n",
       "       8.66661142e-01, 6.28108020e-01, 5.00390261e-01, 3.99073018e-01,\n",
       "       6.35642883e-01, 8.54128067e-01, 2.47093663e-02, 2.85403508e-01,\n",
       "       3.16123568e-01, 6.07964087e-01, 6.09660755e-01, 6.52484735e-04,\n",
       "       1.73834673e-01, 7.88372794e-01, 1.37694395e-03, 3.96810401e-01,\n",
       "       6.27615171e-01, 2.04112165e-01, 5.10326284e-01, 6.12429519e-01,\n",
       "       1.80191901e-01, 9.14314473e-01, 9.27274751e-01, 9.05224021e-01,\n",
       "       6.42213011e-01, 5.86136272e-01, 4.97067085e-01, 6.58830601e-01,\n",
       "       9.93258348e-02, 4.63440544e-01, 6.79417377e-02, 8.47237286e-01,\n",
       "       4.08834103e-01, 5.00005415e-01, 9.76908662e-01, 6.55614811e-01,\n",
       "       4.91450392e-01, 8.50519109e-01, 3.96585516e-01, 8.92702639e-02,\n",
       "       9.19904121e-02, 6.35866839e-01, 2.64442601e-01, 8.51711962e-01,\n",
       "       5.46483988e-01, 4.46198486e-02, 7.54192091e-01, 7.21456264e-01,\n",
       "       9.68320912e-01, 2.38912980e-01, 7.25641635e-01, 4.71961764e-01,\n",
       "       5.14498491e-01, 6.52800522e-01, 8.44962276e-01, 5.03800623e-01,\n",
       "       9.32249878e-01, 8.24610391e-01, 1.39142804e-01, 2.70636749e-01,\n",
       "       9.87333976e-01, 3.41153115e-01, 8.84478855e-01, 9.01048458e-01,\n",
       "       6.22083418e-01, 9.46401016e-01, 3.43233406e-01, 3.35005711e-01,\n",
       "       1.00861558e-01, 6.27428395e-01, 1.51660358e-02, 7.52577360e-01,\n",
       "       4.24213989e-01, 8.49879285e-01, 8.21904894e-01, 6.13058198e-01,\n",
       "       3.95623778e-02, 3.93485345e-01, 3.19962674e-01, 1.97873109e-03,\n",
       "       6.02724106e-01, 2.80028183e-01, 4.79067302e-01, 6.33804110e-01,\n",
       "       5.60586510e-01, 5.03090890e-01, 5.91556462e-01, 9.43207969e-01,\n",
       "       3.68979157e-01, 7.58049136e-01, 9.86468345e-01, 6.70494736e-01,\n",
       "       9.84094829e-01, 8.60981840e-01, 6.22700838e-01, 6.62708407e-01,\n",
       "       8.02023952e-02, 5.93027586e-01, 2.24427497e-01, 1.36245490e-01,\n",
       "       3.82674908e-01, 3.75724081e-01, 4.81633602e-01, 4.41711583e-01,\n",
       "       7.39297721e-01, 8.28086918e-01, 4.05338983e-02, 4.71601207e-01,\n",
       "       8.92808062e-01, 4.45494661e-01, 5.68454114e-01, 7.13887626e-01,\n",
       "       3.26160945e-01, 9.50082078e-01, 8.63100283e-01, 1.08825575e-02,\n",
       "       7.24726843e-01, 6.63363004e-01, 8.91847312e-02, 6.77269458e-01,\n",
       "       6.51144626e-01, 4.55724521e-01, 8.50368689e-01, 6.95417485e-01,\n",
       "       7.08498896e-01, 6.57306584e-01, 1.88589118e-02, 9.64272634e-01,\n",
       "       1.86105394e-01, 9.10563673e-02, 9.01524949e-01, 3.71342422e-01,\n",
       "       8.80179244e-01, 2.33649741e-01, 9.31610763e-01, 8.56165465e-01,\n",
       "       6.72779487e-01, 7.62103820e-01, 1.55837733e-01, 3.23373935e-01,\n",
       "       8.10716983e-01, 7.44959074e-01, 8.46405153e-01, 2.67843538e-01,\n",
       "       7.98716776e-01, 8.08633812e-01, 8.13733966e-01, 9.23776675e-01,\n",
       "       8.20172568e-02, 2.26990374e-01, 9.61023877e-01, 6.92954377e-01,\n",
       "       5.99575888e-01, 2.28099370e-01, 7.25867513e-01, 6.46673117e-01,\n",
       "       4.83237072e-01, 4.38586679e-01, 3.64577257e-02, 7.14314850e-02,\n",
       "       4.74540088e-01, 3.81675352e-01, 9.87110215e-01, 2.11671325e-02,\n",
       "       7.62670645e-01, 3.34506696e-01, 7.95818457e-01, 4.63759600e-01,\n",
       "       2.01851336e-02, 6.81044829e-02, 1.25668153e-01, 7.14261813e-01,\n",
       "       8.81500865e-01, 4.68337896e-01, 1.54033607e-01, 2.61007735e-01,\n",
       "       2.38076237e-01, 7.47896962e-01, 6.67108776e-01, 2.99983043e-01,\n",
       "       8.09627182e-01, 3.88118016e-01, 9.11448379e-02, 4.82614244e-01,\n",
       "       4.87383196e-01, 9.99976851e-01, 1.17649598e-01, 5.91124226e-01,\n",
       "       6.65683626e-01, 3.53787401e-01, 9.71420603e-01, 4.72466990e-01,\n",
       "       7.46458947e-01, 6.66707029e-01, 6.94770452e-01, 9.05546286e-01,\n",
       "       2.91724442e-01, 1.95852264e-01, 8.47354648e-02, 2.42236405e-01,\n",
       "       7.90304009e-01, 8.69733273e-02, 1.14114046e-01, 5.68486942e-01,\n",
       "       2.65631131e-01, 4.22045678e-01, 7.36977595e-01, 1.50146320e-01,\n",
       "       4.48861389e-01, 7.47771906e-01, 1.94994084e-01, 4.65128085e-02,\n",
       "       9.65013467e-01, 2.78207184e-01, 6.10399699e-01, 7.84717907e-01,\n",
       "       8.06594599e-02, 6.35199212e-01, 9.80127096e-02, 4.60132874e-02,\n",
       "       7.58516621e-01, 9.31771014e-01, 3.32264811e-02, 2.96933916e-01,\n",
       "       3.43487587e-01, 7.79741439e-01, 8.11902396e-02, 8.92469527e-01,\n",
       "       7.27888207e-02, 4.82919312e-01, 8.80034355e-02, 2.68094016e-01,\n",
       "       6.74191089e-01, 3.34664259e-01, 3.04725788e-01, 8.70458156e-01,\n",
       "       4.08875441e-01, 9.21135359e-01, 4.94293135e-01, 4.64086579e-01,\n",
       "       4.73359667e-01, 2.88530740e-01, 4.57350817e-01, 5.04660701e-01,\n",
       "       5.06470895e-01, 5.30649619e-01, 5.37960548e-01, 6.77817803e-01,\n",
       "       5.14114692e-01, 7.70625039e-01, 3.48606464e-01, 9.40736608e-01,\n",
       "       3.80586249e-01, 7.32566322e-01, 1.67563996e-01, 9.72438831e-01,\n",
       "       3.86192623e-01, 8.52530341e-01, 3.59988057e-01, 6.99554341e-01,\n",
       "       7.02620141e-01, 3.86586505e-01, 3.86993033e-01, 2.89245998e-01,\n",
       "       4.65791951e-01, 4.09177465e-01, 6.99776388e-01, 3.17431950e-01,\n",
       "       4.48317499e-01, 5.46783088e-01, 3.19289023e-01, 7.23308486e-01,\n",
       "       8.04252361e-01, 5.35510746e-01, 3.19612350e-01, 5.10103257e-01,\n",
       "       1.32599685e-01, 5.88864511e-01, 5.63784136e-01, 5.33760117e-01,\n",
       "       1.40064042e-01, 8.57509565e-01, 6.29672017e-01, 1.70018366e-01,\n",
       "       7.79370327e-01, 9.89663840e-01, 8.45859828e-01, 8.02427412e-01,\n",
       "       5.48024451e-01, 2.33800408e-01, 3.60407087e-01, 3.70412113e-01,\n",
       "       2.61197855e-01, 9.06399478e-01, 8.58737304e-01, 1.36499800e-01,\n",
       "       6.00323277e-01, 4.15962021e-01, 4.23344467e-01, 8.77015559e-01,\n",
       "       1.53317120e-02, 1.46790542e-01, 2.10764545e-01, 6.64550998e-01,\n",
       "       3.56753334e-01, 7.93178246e-01, 9.88558583e-01, 1.85667226e-01,\n",
       "       7.12361500e-01, 2.76414865e-01, 3.76572815e-01, 3.19308428e-01,\n",
       "       7.65771272e-01, 6.68698300e-01, 2.50471891e-01, 8.37294590e-01,\n",
       "       2.20926718e-02, 7.10628545e-01, 4.26579227e-02, 4.40891572e-01,\n",
       "       4.47591915e-01, 9.78302260e-01, 3.32442397e-01, 7.63650992e-01,\n",
       "       7.19838795e-02, 4.55604375e-01, 5.12031209e-02, 7.24608136e-01,\n",
       "       9.72758311e-01, 3.05152402e-02, 6.97164404e-01, 3.12899845e-01,\n",
       "       9.02693314e-01, 8.31018383e-01, 6.43436004e-01, 8.19558210e-01,\n",
       "       6.61633521e-01, 7.34921977e-01, 6.95348634e-01, 7.27974322e-01,\n",
       "       8.97979294e-02, 4.22245868e-01, 9.80020918e-01, 2.37994490e-01,\n",
       "       9.85564884e-01, 1.82714011e-01, 3.52182846e-01, 5.27876534e-01,\n",
       "       2.01459294e-01, 4.71353774e-01, 7.18496067e-01, 8.60802264e-01,\n",
       "       2.28174314e-01, 1.62352666e-01, 3.54147018e-01, 1.40832410e-01,\n",
       "       5.73433422e-02, 4.17312457e-01, 2.98138168e-01, 7.75433376e-01,\n",
       "       6.12059335e-01, 8.42848242e-01, 1.26963090e-01, 8.62850550e-01,\n",
       "       9.62756206e-01, 3.78520095e-01, 1.13384359e-01, 3.62989826e-01,\n",
       "       4.62300048e-01, 8.30871911e-01, 5.36677165e-01, 3.77879710e-01,\n",
       "       3.48351075e-01, 7.18022612e-01, 2.87381999e-01, 8.04191756e-01,\n",
       "       3.82324482e-01, 9.00562720e-01, 8.76262242e-01, 8.92855979e-01,\n",
       "       1.32329561e-01, 2.80266575e-01, 1.13515968e-01, 6.17656058e-01,\n",
       "       1.69738609e-01, 4.34692048e-01, 8.96995630e-03, 8.14662647e-01,\n",
       "       1.86799555e-01, 3.80788022e-01, 4.85328569e-01, 2.04171879e-01,\n",
       "       3.48814846e-01, 7.89888613e-01, 9.13565861e-03, 7.10606906e-02,\n",
       "       9.05231728e-01, 7.31617242e-01, 5.88357384e-01, 4.16437172e-01,\n",
       "       9.27657819e-01, 2.54904898e-01, 4.92852651e-01, 6.68056582e-01,\n",
       "       7.62679177e-01, 3.14760086e-01, 2.47961002e-01, 1.15468920e-01,\n",
       "       4.03753569e-01, 4.22969939e-01, 6.78091259e-01, 2.00608561e-01,\n",
       "       5.16970360e-01, 7.54357593e-01, 2.28618665e-01, 2.08803027e-01,\n",
       "       6.83721452e-01, 1.00050232e-01, 2.21651841e-01, 6.06496030e-01,\n",
       "       6.70642176e-01, 7.44462879e-02, 4.22178198e-01, 2.63978269e-01,\n",
       "       9.77671554e-01, 5.88349716e-01, 6.02422325e-01, 4.93035617e-02,\n",
       "       4.42040371e-01, 6.02366158e-01, 9.91712563e-01, 1.78950423e-01,\n",
       "       5.24036324e-01, 5.90585774e-01, 1.41209063e-01, 9.54754993e-01,\n",
       "       8.95457607e-01, 1.28908835e-01, 4.52463574e-01, 7.43605436e-01,\n",
       "       9.12345454e-01, 3.91326839e-01, 2.89473370e-01, 1.20243209e-01,\n",
       "       7.94995268e-01, 3.57985851e-01, 1.67498132e-01, 5.89444129e-01,\n",
       "       2.81963642e-01, 6.26915310e-01, 2.19556838e-01, 8.52679726e-01,\n",
       "       1.04204601e-02, 1.82322112e-02, 5.01249519e-01, 3.43106214e-02,\n",
       "       8.88569568e-01, 7.36220575e-02, 7.47286523e-01, 9.23148986e-01,\n",
       "       3.18112957e-01, 4.09169611e-01, 7.60861125e-01, 5.41106191e-01,\n",
       "       9.19984841e-02, 1.82571099e-01, 4.29148308e-01, 3.36142624e-01,\n",
       "       9.07915122e-01, 6.01393676e-01, 4.49561243e-01, 3.61761391e-01,\n",
       "       7.84630545e-01, 5.58352960e-01, 7.84188691e-01, 9.49808592e-01,\n",
       "       1.82438112e-01, 7.48912074e-01, 9.19689766e-02, 8.57377710e-02,\n",
       "       7.45528902e-01, 1.42509123e-01, 1.64944568e-01, 4.52397302e-01,\n",
       "       8.48974836e-01, 5.25425761e-01, 8.58311604e-01, 6.80259604e-01,\n",
       "       7.80849769e-01, 1.54558624e-01, 4.29639070e-01, 7.56614255e-01,\n",
       "       2.60064584e-01, 8.52835097e-01, 3.20500366e-01, 5.05156355e-01,\n",
       "       2.05527856e-01, 9.96171969e-01, 2.18415484e-01, 1.31730695e-01,\n",
       "       3.04181622e-01, 9.40760856e-01, 3.55157855e-01, 9.77597169e-02,\n",
       "       3.61428425e-01, 6.79910018e-01, 7.23322513e-01, 1.01698074e-01,\n",
       "       5.73854847e-01, 4.98672582e-01, 1.78766138e-01, 1.35763496e-02,\n",
       "       1.65900469e-01, 6.04311920e-01, 2.13508456e-01, 8.39908179e-01,\n",
       "       8.01731926e-01, 6.09092009e-01, 3.00106916e-01, 6.78159272e-01,\n",
       "       6.29359140e-01, 8.37322845e-01, 7.96402068e-01, 9.09696391e-01,\n",
       "       3.01881387e-01, 4.09864709e-01, 5.70263713e-01, 8.49164414e-01,\n",
       "       8.16136128e-01, 6.19889062e-01, 5.54531888e-01, 8.68065597e-01,\n",
       "       4.40944799e-01, 8.78790162e-01, 9.26489016e-01, 7.36981948e-01,\n",
       "       8.80392642e-01, 6.78050152e-01, 6.76143007e-01, 7.25616950e-01,\n",
       "       4.34915508e-01, 4.96402968e-01, 1.75683864e-01, 4.15163311e-01,\n",
       "       6.46712270e-01, 4.32567836e-01, 3.07195141e-03, 5.90780118e-01,\n",
       "       5.14172102e-01, 1.02385354e-01, 5.82099855e-02, 5.81443130e-01,\n",
       "       3.51861606e-01, 3.44473355e-01, 8.30250217e-01, 8.58604664e-02,\n",
       "       5.21631637e-01, 3.33753831e-01, 1.00678476e-01, 2.22013950e-01,\n",
       "       1.89934681e-01, 9.64366408e-01, 8.11222836e-01, 7.35365695e-01,\n",
       "       7.81368093e-01, 8.63828090e-01, 3.64735144e-02, 3.06864011e-01,\n",
       "       3.52453491e-01, 9.88973236e-01, 1.54923238e-01, 6.49636611e-03,\n",
       "       3.44995032e-01, 7.73322086e-01, 1.11074912e-01, 9.05175284e-01,\n",
       "       7.80005999e-01, 3.65938071e-01, 4.16043905e-01, 9.96973708e-01,\n",
       "       2.57904763e-01, 8.64839924e-01, 4.06923988e-01, 9.48009349e-01,\n",
       "       4.23970305e-01, 9.19692503e-01, 3.02322639e-01, 9.09518620e-01,\n",
       "       6.29832667e-01, 1.21495869e-02, 5.26013822e-01, 6.19910474e-01,\n",
       "       6.33313490e-01, 5.75962058e-01, 4.53224164e-01, 3.48765033e-01,\n",
       "       6.43637646e-02, 8.76802994e-01, 2.47754682e-01, 8.67094039e-01,\n",
       "       3.31712519e-01, 4.71375491e-01, 2.58837069e-01, 4.44597667e-01,\n",
       "       7.69736494e-01, 2.95123594e-01, 6.23726726e-01, 6.37683445e-01,\n",
       "       6.96899179e-01, 7.37313399e-01, 7.16222111e-01, 4.11460118e-01,\n",
       "       9.91203520e-01, 6.72598218e-01, 1.89967789e-01, 6.45325001e-01,\n",
       "       4.89533825e-01, 4.55144172e-01, 9.46460657e-01, 9.25454130e-01,\n",
       "       3.85791783e-01, 8.76471873e-02, 1.21709322e-01, 6.28885991e-01,\n",
       "       3.87356965e-01, 1.70411763e-01, 1.25248641e-01, 5.26186938e-01,\n",
       "       7.56486563e-01, 9.24022603e-01, 7.70505792e-01, 8.55971679e-01,\n",
       "       3.42543444e-01, 2.72688976e-01, 9.93806476e-01, 4.57101944e-01,\n",
       "       3.89060076e-01, 1.99753433e-01, 9.30648738e-01, 4.48769658e-01,\n",
       "       8.50093745e-01, 8.36223953e-01, 2.52354553e-01, 1.53071625e-01,\n",
       "       2.11201569e-01, 2.60065041e-01, 4.04070075e-02, 6.27966701e-01,\n",
       "       8.61801508e-01, 2.72253109e-01, 6.79183688e-01, 5.30048244e-01,\n",
       "       3.47567473e-01, 7.11607145e-01, 3.98087239e-01, 1.06949112e-01,\n",
       "       6.98886789e-01, 8.54925462e-01, 4.61528464e-01, 5.62954626e-01,\n",
       "       7.04915387e-01, 7.44251295e-01, 5.73296251e-01, 5.15060344e-02,\n",
       "       4.63637457e-01, 6.21280023e-01, 4.87197763e-02, 5.95240860e-01,\n",
       "       1.68813917e-01, 2.94239050e-01, 7.65798882e-01, 4.27017668e-01,\n",
       "       2.97613829e-01, 3.43383989e-01, 4.51152112e-01, 7.12858230e-01,\n",
       "       6.99888712e-01, 8.07892677e-01, 8.46358940e-01, 3.84698013e-01,\n",
       "       6.48514911e-01, 6.88160850e-01, 2.07910280e-01, 9.41492197e-01,\n",
       "       3.06225943e-01, 4.19820572e-01, 9.57804917e-01, 2.09174181e-01,\n",
       "       3.35277565e-01, 9.85722227e-01, 3.41734382e-01, 2.89930805e-01,\n",
       "       5.29319885e-02, 4.16414045e-01, 5.57890519e-01, 6.58611206e-01,\n",
       "       2.87576903e-01, 1.05193236e-01, 6.72806960e-01, 2.57023407e-01,\n",
       "       2.60025384e-01, 7.82822511e-01, 3.17926976e-01, 2.65857774e-01,\n",
       "       1.10178955e-01, 5.72069640e-01, 6.63073669e-01, 4.63507236e-01,\n",
       "       5.20380376e-01, 4.41112822e-01, 9.75040421e-01, 5.35640473e-01,\n",
       "       1.81084758e-01, 3.32560598e-02, 1.13555542e-01, 4.99215672e-01,\n",
       "       9.12144222e-01, 2.50988540e-01, 6.46502878e-01, 6.89345226e-01,\n",
       "       4.59521173e-01, 3.56148771e-01, 9.13415164e-01, 4.99878453e-01,\n",
       "       3.49862954e-01, 8.56513447e-01, 5.89037656e-01, 5.91786867e-01,\n",
       "       4.08225292e-01, 4.82997719e-01, 7.05776639e-01, 2.24443040e-01,\n",
       "       2.89895419e-01, 6.50211321e-01, 3.92813471e-01, 4.25167989e-01,\n",
       "       9.91536378e-01, 7.99880668e-01, 8.54749354e-03, 5.36723728e-01,\n",
       "       8.14913387e-01, 5.62430217e-01, 5.51835935e-01, 7.06517658e-01,\n",
       "       9.59219962e-01, 6.97494614e-01, 5.76972075e-01, 8.97070255e-01,\n",
       "       1.54794944e-01, 5.68099617e-02, 2.74080196e-01, 5.22691316e-01,\n",
       "       2.20370163e-01, 2.27476603e-01, 3.28872421e-01, 9.06308877e-01,\n",
       "       5.99705197e-01, 6.73939255e-01, 2.89013077e-02, 2.48548438e-01,\n",
       "       6.07172153e-01, 8.73891699e-01, 9.08721515e-01, 3.46616161e-01,\n",
       "       9.13223324e-01, 1.82615021e-01, 2.86732015e-02, 8.12435968e-01,\n",
       "       3.72465230e-01, 8.28671444e-01, 5.50139748e-01, 6.08180941e-01,\n",
       "       8.62497631e-01, 1.02175190e-01, 7.20147117e-01, 6.26483203e-01,\n",
       "       5.02878555e-01, 3.93148000e-01, 9.30173924e-01, 6.60674391e-01,\n",
       "       1.38262137e-01, 4.49343430e-01, 6.30745577e-01, 6.60880064e-01,\n",
       "       8.93280501e-03, 5.89960725e-02, 8.46062247e-01, 4.14067096e-01,\n",
       "       9.13477882e-01, 3.27409191e-01, 2.12538645e-01, 9.67190315e-01,\n",
       "       7.30076445e-02, 5.86792710e-01, 7.19556811e-01, 2.11775423e-01,\n",
       "       5.40861720e-01, 3.55509158e-01, 6.96854841e-01, 8.62232579e-02,\n",
       "       1.94927726e-01, 3.27198771e-01, 6.76371680e-01, 5.42370118e-01,\n",
       "       1.89455093e-01, 4.20007647e-01, 8.65266505e-01, 2.23586742e-02,\n",
       "       3.83374472e-01, 4.05070673e-01, 8.85017685e-01, 6.22344237e-01,\n",
       "       3.12316017e-01, 4.72305316e-02, 5.82512590e-01, 6.99868512e-01,\n",
       "       2.82141963e-01, 9.62315695e-01, 7.16240048e-01, 6.74473927e-02,\n",
       "       5.84974714e-01, 4.69133720e-01, 9.55259062e-01, 8.58953276e-02,\n",
       "       4.84079509e-01, 6.12831199e-01, 4.07519322e-01, 6.32818917e-01,\n",
       "       3.85755176e-01, 9.82745661e-02, 3.00221307e-01, 6.52614919e-01,\n",
       "       5.53587342e-01, 2.82537936e-01, 8.75777921e-01, 2.37851664e-01,\n",
       "       2.25732695e-01, 4.54379808e-01, 1.44644747e-01, 2.02785056e-01,\n",
       "       5.21983203e-01, 5.41379380e-01, 5.58184455e-01, 8.33625373e-01,\n",
       "       9.20461584e-01, 7.03607821e-02, 2.27578363e-01, 3.61018621e-02])"
      ]
     },
     "execution_count": 53,
     "metadata": {},
     "output_type": "execute_result"
    }
   ],
   "source": [
    "x=np.random.random(1000\n",
    "                )\n",
    "x"
   ]
  },
  {
   "cell_type": "code",
   "execution_count": 54,
   "metadata": {},
   "outputs": [
    {
     "data": {
      "text/plain": [
       "497.1867184789743"
      ]
     },
     "execution_count": 54,
     "metadata": {},
     "output_type": "execute_result"
    }
   ],
   "source": [
    "np.sum(x)"
   ]
  },
  {
   "cell_type": "code",
   "execution_count": 55,
   "metadata": {},
   "outputs": [
    {
     "data": {
      "text/plain": [
       "497.1867184789747"
      ]
     },
     "execution_count": 55,
     "metadata": {},
     "output_type": "execute_result"
    }
   ],
   "source": [
    "sum(x)"
   ]
  },
  {
   "cell_type": "code",
   "execution_count": 56,
   "metadata": {},
   "outputs": [
    {
     "name": "stdout",
     "output_type": "stream",
     "text": [
      "678 µs ± 81.4 µs per loop (mean ± std. dev. of 7 runs, 1000 loops each)\n"
     ]
    }
   ],
   "source": [
    "%timeit sum(x)"
   ]
  },
  {
   "cell_type": "code",
   "execution_count": 57,
   "metadata": {},
   "outputs": [
    {
     "name": "stdout",
     "output_type": "stream",
     "text": [
      "24.9 µs ± 3.63 µs per loop (mean ± std. dev. of 7 runs, 10000 loops each)\n"
     ]
    }
   ],
   "source": [
    "%timeit np.sum(x)"
   ]
  },
  {
   "cell_type": "code",
   "execution_count": 58,
   "metadata": {},
   "outputs": [
    {
     "data": {
      "text/plain": [
       "array([6.05032186e-01, 9.13530266e-03, 5.47647439e-01, 9.76329026e-01,\n",
       "       1.47630715e-01, 1.31612025e-01, 2.85349322e-01, 8.53232461e-01,\n",
       "       8.71606372e-01, 2.65904383e-01, 9.85869563e-01, 8.76465258e-01,\n",
       "       7.76220764e-02, 4.38108025e-01, 2.55328372e-01, 1.57702990e-01,\n",
       "       5.89468789e-01, 5.07596925e-01, 5.38974400e-01, 5.55129055e-01,\n",
       "       1.95291380e-01, 2.72738888e-01, 5.67185106e-01, 9.68806043e-01,\n",
       "       9.46607096e-01, 1.13701082e-01, 7.55355024e-02, 6.07031092e-02,\n",
       "       8.85804984e-01, 7.76743387e-01, 5.73772742e-01, 5.73148938e-01,\n",
       "       4.22643183e-01, 1.59919867e-01, 4.67899307e-01, 4.81196159e-01,\n",
       "       7.66035558e-01, 6.98225468e-01, 9.84542853e-01, 2.16968253e-01,\n",
       "       5.83994639e-01, 6.31640991e-01, 2.10349791e-01, 4.24718793e-01,\n",
       "       7.75689023e-01, 2.87922382e-01, 1.88685892e-01, 9.08658608e-01,\n",
       "       6.22057598e-01, 9.96836808e-01, 5.19732549e-01, 2.40348396e-01,\n",
       "       1.08169953e-02, 1.34650557e-01, 5.28179869e-01, 8.58603632e-01,\n",
       "       1.41331979e-01, 2.24988305e-01, 1.53050917e-01, 1.86016590e-01,\n",
       "       7.20659671e-03, 8.87507613e-01, 5.61867305e-01, 2.80084140e-01,\n",
       "       9.15156403e-01, 5.71241305e-01, 1.18597505e-01, 3.14783405e-01,\n",
       "       3.10666622e-01, 2.19843993e-01, 9.36554148e-02, 6.31209837e-01,\n",
       "       3.93505749e-01, 6.66747721e-01, 1.85577517e-01, 8.50844814e-01,\n",
       "       9.90533342e-01, 7.49626142e-01, 2.69448600e-01, 1.87226297e-01,\n",
       "       9.16522805e-01, 7.98514939e-02, 4.04658532e-01, 3.16729554e-01,\n",
       "       5.20346934e-01, 9.15876628e-02, 9.35467266e-01, 3.30518757e-01,\n",
       "       3.80244715e-01, 5.39907418e-01, 1.75955550e-02, 2.20580052e-01,\n",
       "       2.89905831e-01, 5.41896275e-01, 1.77091293e-01, 3.15154542e-01,\n",
       "       8.61375890e-01, 6.91472831e-01, 3.91029207e-02, 9.33479258e-01,\n",
       "       8.43405791e-01, 8.10966259e-01, 8.97816819e-01, 5.88230862e-01,\n",
       "       9.72897013e-01, 8.76879930e-01, 5.22831706e-01, 5.37528245e-01,\n",
       "       7.05871461e-01, 1.57759857e-01, 4.17868826e-01, 4.89406498e-01,\n",
       "       5.18723514e-01, 8.58555343e-01, 5.67777174e-01, 8.74458264e-01,\n",
       "       1.07254940e-01, 4.54815413e-01, 8.87393383e-01, 6.70912563e-02,\n",
       "       8.02651038e-04, 8.53090533e-01, 5.72603007e-02, 1.75531849e-01,\n",
       "       5.74671362e-01, 4.05793341e-01, 1.72106215e-02, 5.69572059e-03,\n",
       "       7.63780283e-01, 6.38746997e-01, 4.15169346e-01, 4.30896339e-01,\n",
       "       7.87325055e-01, 8.36383559e-01, 9.45257342e-01, 4.29199590e-01,\n",
       "       7.74759885e-01, 8.98263298e-01, 9.60358749e-01, 7.76025904e-01,\n",
       "       9.81113413e-01, 5.47542978e-01, 3.57768258e-01, 6.28644127e-01,\n",
       "       2.72492256e-01, 9.18619912e-01, 1.58693206e-01, 9.09007153e-01,\n",
       "       8.54157458e-01, 7.31804247e-01, 9.78020317e-01, 1.51578015e-01,\n",
       "       3.74933837e-01, 1.96682755e-01, 6.13833782e-01, 8.99329906e-02,\n",
       "       5.23582771e-01, 1.28018394e-01, 4.30903266e-01, 9.56901305e-01,\n",
       "       9.68076995e-01, 2.40772405e-01, 4.64602769e-01, 3.30561435e-01,\n",
       "       9.55886051e-01, 7.84564407e-02, 9.09486733e-01, 1.33272439e-02,\n",
       "       9.51118161e-01, 9.08591120e-01, 8.09612769e-01, 3.80443297e-01,\n",
       "       3.19357244e-01, 5.41314824e-01, 1.42447869e-02, 4.90851491e-01,\n",
       "       9.36642214e-01, 5.80007867e-01, 1.29291314e-02, 2.94818860e-01,\n",
       "       6.63988671e-01, 5.16222877e-01, 2.98536056e-02, 1.60738734e-01,\n",
       "       4.69527565e-01, 1.98772399e-01, 4.99867774e-01, 7.78598711e-02,\n",
       "       2.34011657e-02, 3.39967109e-01, 4.90292322e-01, 7.26170257e-01,\n",
       "       9.61549671e-01, 7.48922163e-01, 2.61743626e-01, 9.13247401e-01,\n",
       "       7.43341678e-01, 9.46934857e-02, 7.46030067e-01, 7.40923952e-02,\n",
       "       3.30121240e-02, 4.11532924e-01, 8.60902562e-01, 5.00082930e-01,\n",
       "       3.19321371e-01, 9.49698006e-01, 6.95619070e-01, 7.16353579e-01,\n",
       "       2.63182215e-01, 2.58549375e-01, 2.71069552e-01, 5.61731222e-01,\n",
       "       5.58845496e-02, 9.43043146e-01, 8.52486133e-01, 2.31347493e-01,\n",
       "       8.55325744e-01, 9.87281545e-01, 3.06930188e-01, 5.46654525e-01,\n",
       "       9.64010498e-01, 4.54151332e-01, 4.47026918e-02, 6.47223999e-01,\n",
       "       8.66435155e-01, 5.15313879e-01, 5.12756501e-01, 3.03331512e-01,\n",
       "       9.18689580e-01, 7.37235481e-01, 8.92589949e-01, 5.99804330e-01,\n",
       "       4.24357368e-01, 1.54468521e-01, 6.53860475e-01, 8.28550715e-01,\n",
       "       4.92531220e-01, 9.86561566e-01, 1.48022381e-01, 9.94678305e-01,\n",
       "       7.14120538e-01, 2.79900135e-01, 8.06572842e-01, 5.00285091e-01,\n",
       "       7.09959056e-01, 4.92738586e-01, 6.72625291e-01, 2.97568220e-01,\n",
       "       6.08529160e-01, 8.77699454e-01, 3.53554609e-03, 9.15490707e-01,\n",
       "       4.07326366e-02, 6.57662933e-02, 2.32437416e-01, 8.35447902e-01,\n",
       "       5.60415598e-01, 4.44210196e-01, 5.52244861e-01, 3.10840998e-01,\n",
       "       9.34081834e-01, 1.64542480e-01, 3.41398412e-01, 6.84606232e-01,\n",
       "       3.57376221e-01, 8.61400973e-02, 5.10315642e-01, 1.98478634e-01,\n",
       "       1.36018454e-01, 5.54890424e-01, 9.69181304e-01, 2.23628307e-01,\n",
       "       4.33140330e-01, 8.77424218e-01, 3.38858331e-01, 8.56770673e-01,\n",
       "       4.94680180e-02, 4.29160296e-01, 5.47442652e-01, 9.48294403e-01,\n",
       "       2.04732674e-01, 1.14018772e-01, 7.06090770e-02, 6.17166529e-01,\n",
       "       2.16092315e-01, 5.80048094e-01, 9.47919727e-01, 2.82638867e-01,\n",
       "       1.10363112e-01, 7.32991883e-01, 6.50298763e-01, 9.13310691e-01,\n",
       "       7.65934421e-01, 3.93132768e-01, 7.54611761e-01, 4.41580770e-01,\n",
       "       6.79858370e-01, 9.28415753e-01, 4.82680853e-01, 1.26405226e-01,\n",
       "       8.10528932e-01, 2.96126670e-01, 6.05377437e-01, 3.28349675e-01,\n",
       "       2.30969407e-01, 3.62113363e-02, 5.31814775e-01, 2.46017432e-01,\n",
       "       1.59079634e-01, 2.02806871e-01, 6.27937154e-01, 7.10308005e-02,\n",
       "       9.47987383e-01, 4.84444204e-02, 4.00144846e-01, 3.40847751e-01,\n",
       "       8.01487739e-01, 9.60841975e-01, 4.41168240e-01, 6.10360556e-01,\n",
       "       3.05327536e-01, 3.65571221e-01, 4.28541790e-01, 8.05359579e-01,\n",
       "       1.50070945e-01, 7.99417678e-01, 1.79447313e-01, 6.07902532e-01,\n",
       "       8.96490743e-01, 1.19834747e-01, 4.34194249e-01, 6.41932013e-01,\n",
       "       8.72219104e-01, 8.25634285e-01, 3.16314545e-01, 9.32507657e-01,\n",
       "       6.11311345e-01, 7.21164831e-01, 5.79271326e-01, 4.13568411e-01,\n",
       "       6.74441587e-01, 6.14842840e-01, 2.12615790e-01, 2.59942913e-01,\n",
       "       3.86631879e-01, 5.57837266e-01, 9.81035267e-02, 9.10301326e-01,\n",
       "       7.60513008e-01, 5.77418762e-01, 1.31000649e-01, 5.21815395e-01,\n",
       "       8.12670099e-01, 5.70772590e-01, 3.77002427e-01, 4.69663893e-01,\n",
       "       4.22795937e-01, 4.11030250e-01, 5.22691748e-01, 2.35267746e-01,\n",
       "       7.60388244e-01, 1.41457039e-01, 6.57615143e-01, 5.60372565e-01,\n",
       "       4.32817595e-01, 8.17661126e-01, 4.12476167e-01, 9.83882958e-01,\n",
       "       9.66306556e-01, 7.05433149e-01, 9.59219429e-01, 7.41000579e-01,\n",
       "       4.45972504e-01, 1.01867490e-01, 3.49531539e-01, 4.55565431e-01,\n",
       "       4.16410822e-02, 3.73000439e-01, 6.61632033e-02, 8.18112632e-01,\n",
       "       3.43763122e-01, 7.25219784e-01, 4.76177609e-01, 3.90945737e-01,\n",
       "       7.00559294e-01, 6.44170422e-01, 9.54755814e-01, 1.12669317e-01,\n",
       "       3.92124888e-01, 2.98120181e-01, 3.49031932e-01, 9.79353521e-02,\n",
       "       2.13969542e-01, 2.61996901e-01, 6.39010928e-01, 1.45734178e-01,\n",
       "       9.87268775e-01, 2.87307738e-01, 2.76157932e-01, 3.95822205e-01,\n",
       "       9.32770386e-01, 3.49217735e-01, 5.58190754e-01, 4.44128518e-01,\n",
       "       3.38527187e-01, 5.78633615e-01, 8.99122876e-01, 3.40029408e-01,\n",
       "       9.34823517e-01, 3.35448952e-01, 9.15012292e-01, 8.43076676e-01,\n",
       "       7.85771346e-01, 2.82078483e-02, 4.17647019e-03, 5.60250028e-01,\n",
       "       4.00382434e-02, 4.51127603e-01, 5.03443925e-01, 9.97303040e-01,\n",
       "       5.80710353e-01, 4.12997747e-01, 5.65126035e-01, 5.62158755e-01,\n",
       "       6.43714036e-01, 3.55585091e-01, 3.95338226e-01, 1.74163680e-01,\n",
       "       2.56340210e-01, 1.66437844e-01, 1.54026340e-01, 4.96971667e-01,\n",
       "       1.56228096e-01, 5.79805402e-01, 3.07523750e-01, 1.99400264e-01,\n",
       "       3.43358615e-01, 6.71162866e-01, 2.66005220e-01, 6.68799641e-01,\n",
       "       1.24429848e-01, 4.82271495e-02, 4.93556344e-01, 7.61588911e-01,\n",
       "       8.43348221e-01, 6.19004738e-01, 7.30699011e-02, 7.58841770e-01,\n",
       "       7.89871191e-01, 4.96734673e-01, 2.77411039e-01, 3.63795923e-02,\n",
       "       4.40665858e-01, 4.69987197e-01, 1.46057993e-01, 5.38085790e-01,\n",
       "       6.46750673e-01, 3.01420031e-01, 7.86894635e-01, 9.67695311e-01,\n",
       "       6.48389566e-01, 6.01604883e-01, 1.50978749e-01, 1.70881881e-01,\n",
       "       9.31974056e-01, 9.54693686e-01, 4.14756619e-01, 8.20152242e-01,\n",
       "       6.56099818e-01, 5.23577965e-01, 9.46911025e-01, 1.34050806e-01,\n",
       "       9.94199052e-01, 5.23655698e-02, 3.14711090e-01, 6.69526405e-01,\n",
       "       4.92913790e-01, 8.30538528e-02, 1.03991249e-01, 6.94822447e-01,\n",
       "       1.94229685e-01, 7.64368376e-01, 8.06144686e-01, 8.21895634e-02,\n",
       "       8.14058266e-01, 3.87951183e-01, 1.36400252e-01, 4.71876818e-01,\n",
       "       6.36371895e-01, 1.87562041e-01, 3.34640958e-01, 3.10710163e-02,\n",
       "       9.68503215e-01, 1.88888058e-01, 5.31154008e-01, 8.44989717e-01,\n",
       "       2.15195947e-01, 8.05595963e-02, 6.73352589e-01, 1.59094948e-02,\n",
       "       9.02325595e-01, 5.91467981e-02, 1.76123824e-01, 2.05055852e-03,\n",
       "       6.83130858e-01, 8.72849086e-01, 3.59982422e-01, 3.88214101e-01,\n",
       "       3.79865198e-01, 3.10343129e-01, 9.07238999e-01, 6.32337767e-01,\n",
       "       9.36753497e-02, 4.81173546e-02, 1.86465825e-01, 1.40439247e-01,\n",
       "       8.16686488e-01, 1.66507834e-01, 6.25543778e-01, 3.84501196e-01,\n",
       "       4.09386649e-01, 3.29725017e-01, 7.36038897e-01, 8.72543605e-01,\n",
       "       5.68789067e-01, 3.93717786e-01, 1.12019312e-01, 4.34725181e-01,\n",
       "       2.29359857e-01, 3.13088300e-01, 7.40954742e-01, 1.83683360e-01,\n",
       "       8.50857206e-01, 5.12986016e-02, 6.29191750e-01, 1.25551222e-01,\n",
       "       6.95328094e-01, 7.90323005e-02, 4.75356023e-01, 8.49682964e-01,\n",
       "       9.81817237e-01, 4.54638211e-01, 5.69897532e-01, 4.79188035e-01,\n",
       "       2.82546145e-02, 2.39411876e-01, 7.32989259e-01, 8.03453377e-02,\n",
       "       7.37601148e-01, 1.27850713e-01, 9.35856339e-01, 8.93093427e-01,\n",
       "       6.35427908e-01, 6.86731023e-01, 9.68080595e-01, 9.38906132e-01,\n",
       "       3.60943598e-02, 4.41134867e-01, 8.81283838e-02, 1.16397764e-01,\n",
       "       8.25111973e-01, 1.64102161e-01, 6.97651262e-01, 1.71138386e-01,\n",
       "       9.65035645e-01, 2.10314362e-01, 5.25703475e-01, 2.85196997e-01,\n",
       "       1.10392113e-01, 4.43799128e-01, 6.47394150e-01, 8.06790324e-01,\n",
       "       6.34155644e-01, 2.05060380e-01, 2.80610946e-01, 1.93027040e-01,\n",
       "       3.27572963e-02, 7.59307701e-02, 6.60180736e-01, 7.60553754e-01,\n",
       "       3.16633961e-01, 7.23622509e-01, 9.82281622e-01, 1.60880789e-01,\n",
       "       6.82014189e-02, 8.72165680e-01, 6.32001137e-01, 6.72285156e-01,\n",
       "       4.69432929e-01, 6.79626991e-01, 9.41836782e-01, 5.37408211e-02,\n",
       "       7.46051637e-01, 9.87000205e-01, 3.66667459e-01, 5.66903677e-03,\n",
       "       6.41476688e-02, 4.80185527e-01, 7.08586948e-02, 4.61672040e-01,\n",
       "       6.85454149e-01, 1.65742980e-01, 5.90847493e-01, 9.32463945e-01,\n",
       "       4.37344820e-01, 1.79748826e-01, 3.84599413e-01, 9.13768772e-01,\n",
       "       2.60161701e-01, 2.38195927e-01, 7.72645236e-01, 5.78212111e-01,\n",
       "       6.35506176e-01, 2.02415681e-01, 2.62681018e-01, 5.14396852e-01,\n",
       "       4.61485248e-01, 5.39909816e-01, 9.99261852e-02, 9.70337289e-01,\n",
       "       4.60284297e-01, 9.63989544e-01, 3.60274747e-01, 4.09150932e-01,\n",
       "       8.01380123e-01, 7.61557888e-02, 2.20633321e-01, 6.86356553e-01,\n",
       "       9.68367636e-01, 3.63426952e-01, 1.60398621e-01, 7.15495133e-01,\n",
       "       2.54095126e-02, 6.50635204e-01, 8.07777414e-01, 6.34422676e-01,\n",
       "       5.79339996e-01, 1.08833597e-01, 1.13131456e-01, 9.71874725e-01,\n",
       "       4.87989113e-01, 8.57476277e-01, 6.38965028e-01, 2.06417159e-01,\n",
       "       5.93767784e-01, 7.14358633e-01, 9.59547500e-01, 7.23862225e-01,\n",
       "       3.18886559e-01, 4.91020177e-01, 8.19816229e-01, 2.05883311e-01,\n",
       "       6.26287249e-01, 6.88288503e-01, 2.07143795e-02, 1.82468797e-01,\n",
       "       3.20228648e-01, 3.62829145e-01, 1.28794768e-01, 4.43125341e-01,\n",
       "       9.34712803e-01, 1.22191876e-01, 2.62092104e-01, 9.01547328e-01,\n",
       "       8.78898666e-01, 7.66662656e-01, 1.24077955e-01, 1.91082440e-01,\n",
       "       6.86496238e-01, 5.88354142e-01, 2.58453222e-01, 8.99984613e-01,\n",
       "       5.45599455e-01, 8.63067885e-02, 5.22418583e-01, 6.43704434e-01,\n",
       "       8.70872037e-01, 6.81638990e-01, 4.89661526e-01, 3.63902977e-01,\n",
       "       8.73745273e-01, 7.03559844e-01, 2.95530952e-01, 4.67079900e-01,\n",
       "       1.10349928e-01, 8.42488287e-01, 9.69380923e-01, 1.35269300e-01,\n",
       "       9.65262752e-01, 9.56221177e-01, 6.77069116e-01, 7.82063033e-02,\n",
       "       8.85179853e-01, 7.21095889e-02, 7.74579495e-01, 3.76010279e-01,\n",
       "       5.88330326e-01, 1.92842999e-01, 4.35174923e-01, 9.39467182e-01,\n",
       "       7.49850207e-01, 8.35432654e-01, 6.05797844e-01, 9.48851963e-01,\n",
       "       6.77122939e-01, 8.76335008e-01, 7.80040193e-01, 7.07785267e-01,\n",
       "       9.56142087e-01, 9.51432572e-01, 3.54310422e-01, 8.28536517e-01,\n",
       "       2.56298498e-01, 4.85201842e-01, 3.03208047e-02, 4.66529822e-01,\n",
       "       9.59474534e-01, 8.85224552e-01, 5.69321984e-01, 4.59494867e-01,\n",
       "       4.12097919e-01, 3.48375987e-01, 4.19014838e-01, 9.06833561e-01,\n",
       "       8.00940633e-01, 3.23294862e-01, 8.06172798e-01, 9.85351011e-01,\n",
       "       1.41288077e-01, 9.92016946e-01, 4.83314419e-01, 8.61051864e-02,\n",
       "       2.65470287e-01, 3.89419888e-02, 3.87622949e-01, 8.40182293e-01,\n",
       "       8.39970200e-01, 3.39786595e-01, 1.30067073e-01, 8.84124722e-01,\n",
       "       4.06216718e-01, 7.26726795e-01, 9.13155826e-01, 5.30082123e-01,\n",
       "       8.43832029e-01, 8.76522280e-01, 4.49959791e-01, 4.34229460e-01,\n",
       "       6.83286665e-03, 4.39801737e-01, 1.92049900e-01, 3.34405167e-01,\n",
       "       3.71602650e-01, 3.16618793e-01, 4.63096411e-01, 9.34905408e-01,\n",
       "       2.61353663e-01, 4.07167057e-01, 6.16668195e-01, 4.24663595e-01,\n",
       "       6.23816661e-01, 4.64551157e-01, 7.08881104e-02, 1.53578651e-01,\n",
       "       1.22765447e-01, 7.97366259e-02, 5.13862080e-01, 8.41397396e-01,\n",
       "       6.44335658e-01, 6.69125036e-01, 6.96830803e-01, 2.11795481e-01,\n",
       "       2.98910843e-02, 7.01741741e-01, 5.13269268e-01, 3.91738319e-01,\n",
       "       7.93254990e-01, 6.27586927e-01, 4.04335492e-01, 4.94104543e-01,\n",
       "       5.45214040e-01, 9.41151779e-02, 1.47126117e-01, 4.35156109e-02,\n",
       "       4.61738523e-01, 9.04586164e-03, 1.73367093e-01, 5.56533406e-01,\n",
       "       8.69678835e-01, 5.10841401e-01, 4.16258433e-01, 8.78686722e-01,\n",
       "       9.07658641e-01, 7.07445813e-01, 3.85480806e-01, 1.08915480e-01,\n",
       "       4.83592136e-01, 4.55147349e-02, 5.54888112e-03, 2.29905336e-01,\n",
       "       4.80470042e-01, 4.35578829e-01, 3.89186139e-01, 3.55917546e-02,\n",
       "       1.71038030e-01, 7.47589983e-01, 4.66389964e-01, 8.20762275e-01,\n",
       "       3.78777247e-01, 9.81552525e-01, 6.70492740e-01, 5.41702034e-01,\n",
       "       6.91377070e-01, 1.92776557e-01, 5.62799662e-01, 8.05964691e-01,\n",
       "       2.54305670e-01, 5.28967555e-02, 7.03356247e-02, 8.03787452e-01,\n",
       "       6.34677740e-01, 3.64270571e-01, 5.11136209e-01, 6.42101770e-01,\n",
       "       6.13057444e-01, 2.65241241e-01, 3.51092147e-01, 9.15953958e-01,\n",
       "       3.06402287e-01, 8.95330159e-01, 5.81929372e-01, 3.70859642e-01,\n",
       "       8.47693240e-01, 1.23587409e-01, 5.06277207e-01, 6.06141260e-01,\n",
       "       2.30003002e-01, 8.40847849e-02, 7.02881631e-01, 4.77077615e-01,\n",
       "       5.76663531e-01, 4.40828989e-01, 8.27297080e-01, 9.18484473e-01,\n",
       "       6.40550324e-01, 2.52427446e-03, 6.19618502e-01, 5.15456152e-01,\n",
       "       8.03988598e-01, 4.33180792e-02, 3.97671148e-01, 3.44624320e-01,\n",
       "       8.01205023e-01, 3.16177972e-01, 6.25242755e-01, 5.33815141e-01,\n",
       "       1.22497929e-01, 9.54308022e-01, 2.51620854e-01, 8.96773270e-01,\n",
       "       4.69702676e-01, 3.32702825e-01, 1.14302179e-01, 1.35027077e-01,\n",
       "       6.00479900e-01, 9.80735177e-01, 1.22662616e-01, 2.57841416e-01,\n",
       "       7.49296098e-01, 5.08521982e-01, 8.41659430e-01, 4.01059530e-02,\n",
       "       1.33776735e-01, 5.70905112e-02, 6.08373952e-01, 9.67481634e-01,\n",
       "       3.45639948e-02, 6.64859680e-01, 2.40827905e-01, 8.27926960e-01,\n",
       "       6.92105132e-01, 4.71475953e-01, 5.00522083e-01, 5.38518680e-01,\n",
       "       7.92418569e-01, 8.86183875e-01, 3.87927201e-01, 8.91866684e-01,\n",
       "       5.77984266e-01, 4.05066362e-01, 3.01855941e-01, 4.50433884e-01,\n",
       "       4.78384874e-01, 7.24883188e-01, 6.56334806e-01, 9.06237006e-01,\n",
       "       1.87002257e-01, 7.98801579e-01, 3.53024684e-01, 2.29545418e-01,\n",
       "       5.78832576e-01, 9.58971966e-01, 4.12817829e-01, 8.09095938e-01,\n",
       "       2.79915536e-01, 5.90354425e-02, 7.43242888e-01, 6.27646785e-01,\n",
       "       3.11608441e-01, 3.75046652e-01, 5.21449663e-01, 8.12812771e-02,\n",
       "       1.81873066e-01, 8.55777614e-01, 6.38177234e-01, 7.31971068e-01,\n",
       "       2.21917269e-01, 9.37502902e-01, 9.43258899e-01, 2.63730939e-01,\n",
       "       2.30762429e-01, 4.43644532e-04, 4.98259505e-01, 3.19313772e-01,\n",
       "       2.11365910e-01, 8.75899927e-01, 9.37359495e-01, 6.94294328e-01,\n",
       "       3.17173860e-01, 1.76162040e-01, 5.70729273e-01, 9.97259744e-01,\n",
       "       6.80597791e-01, 6.16622492e-01, 2.18721121e-01, 2.56119822e-01,\n",
       "       7.02148096e-02, 8.19813219e-01, 6.27369969e-01, 9.16720538e-01,\n",
       "       3.30491335e-01, 9.11180936e-01, 3.35647678e-01, 3.14965917e-01,\n",
       "       2.40836204e-01, 9.88642233e-01, 9.00260958e-03, 2.78108742e-01,\n",
       "       4.18033697e-01, 4.54247454e-01, 6.61751512e-03, 4.03846750e-01,\n",
       "       3.40532416e-01, 6.02531744e-01, 6.24306041e-03, 7.01777251e-01,\n",
       "       6.60422687e-01, 4.14925508e-01, 1.78769919e-01, 7.89628422e-01,\n",
       "       2.09821215e-01, 2.32285528e-02, 9.33354992e-01, 1.49828348e-01,\n",
       "       8.59897406e-01, 5.98726006e-01, 6.25881244e-01, 1.19610620e-01,\n",
       "       7.61030187e-01, 5.51757868e-01, 6.89076801e-01, 5.76074290e-01,\n",
       "       9.67311470e-01, 5.83518025e-01, 1.40995409e-01, 4.28883248e-01,\n",
       "       6.94095579e-01, 7.17556673e-01, 5.60021830e-01, 3.92602090e-01,\n",
       "       6.16910065e-01, 3.74885003e-01, 6.06083907e-01, 2.76949746e-01,\n",
       "       3.28400317e-02, 8.24161324e-01, 6.87732697e-01, 8.82200244e-01,\n",
       "       1.54500201e-01, 4.85403771e-01, 8.42779972e-01, 7.80804628e-01,\n",
       "       1.88955987e-02, 7.19381558e-01, 8.39620041e-01, 8.79100044e-01,\n",
       "       9.78640931e-01, 7.29446407e-01, 6.04860523e-01, 3.59646076e-01])"
      ]
     },
     "execution_count": 58,
     "metadata": {},
     "output_type": "execute_result"
    }
   ],
   "source": [
    "np.random.rand(1000)"
   ]
  },
  {
   "cell_type": "code",
   "execution_count": 59,
   "metadata": {},
   "outputs": [
    {
     "data": {
      "text/plain": [
       "\u001b[1;31mDocstring:\u001b[0m\n",
       "random(size=None)\n",
       "\n",
       "Return random floats in the half-open interval [0.0, 1.0). Alias for\n",
       "`random_sample` to ease forward-porting to the new random API.\n",
       "\u001b[1;31mType:\u001b[0m      builtin_function_or_method\n"
      ]
     },
     "metadata": {},
     "output_type": "display_data"
    }
   ],
   "source": [
    "np.random.random?"
   ]
  },
  {
   "cell_type": "code",
   "execution_count": 60,
   "metadata": {},
   "outputs": [
    {
     "data": {
      "text/plain": [
       "array([0.05691233, 0.11665335, 0.57675391, ..., 0.45788456, 0.02358045,\n",
       "       0.45658142])"
      ]
     },
     "execution_count": 60,
     "metadata": {},
     "output_type": "execute_result"
    }
   ],
   "source": [
    "x=np.random.rand(100000)\n",
    "x"
   ]
  },
  {
   "cell_type": "code",
   "execution_count": 61,
   "metadata": {},
   "outputs": [
    {
     "data": {
      "text/plain": [
       "(7.386398159781038e-10, 0.9999814208731143)"
      ]
     },
     "execution_count": 61,
     "metadata": {},
     "output_type": "execute_result"
    }
   ],
   "source": [
    "min(x), max(x)"
   ]
  },
  {
   "cell_type": "code",
   "execution_count": 62,
   "metadata": {},
   "outputs": [
    {
     "name": "stdout",
     "output_type": "stream",
     "text": [
      "232 µs ± 54.2 µs per loop (mean ± std. dev. of 7 runs, 1000 loops each)\n"
     ]
    }
   ],
   "source": [
    "%timeit np.min(x), np.max(x)"
   ]
  },
  {
   "cell_type": "code",
   "execution_count": 63,
   "metadata": {},
   "outputs": [
    {
     "name": "stdout",
     "output_type": "stream",
     "text": [
      "82.1 ms ± 3.86 ms per loop (mean ± std. dev. of 7 runs, 10 loops each)\n"
     ]
    }
   ],
   "source": [
    "%timeit min(x), max(x)"
   ]
  },
  {
   "cell_type": "code",
   "execution_count": 64,
   "metadata": {},
   "outputs": [
    {
     "data": {
      "text/plain": [
       "array([9, 8, 8, 6, 3])"
      ]
     },
     "execution_count": 64,
     "metadata": {},
     "output_type": "execute_result"
    }
   ],
   "source": [
    "np.random.randint(3, 10, size=5)"
   ]
  },
  {
   "cell_type": "code",
   "execution_count": 65,
   "metadata": {},
   "outputs": [
    {
     "data": {
      "text/plain": [
       "\u001b[1;31mDocstring:\u001b[0m\n",
       "rand(d0, d1, ..., dn)\n",
       "\n",
       "Random values in a given shape.\n",
       "\n",
       ".. note::\n",
       "    This is a convenience function for users porting code from Matlab,\n",
       "    and wraps `random_sample`. That function takes a\n",
       "    tuple to specify the size of the output, which is consistent with\n",
       "    other NumPy functions like `numpy.zeros` and `numpy.ones`.\n",
       "\n",
       "Create an array of the given shape and populate it with\n",
       "random samples from a uniform distribution\n",
       "over ``[0, 1)``.\n",
       "\n",
       "Parameters\n",
       "----------\n",
       "d0, d1, ..., dn : int, optional\n",
       "    The dimensions of the returned array, must be non-negative.\n",
       "    If no argument is given a single Python float is returned.\n",
       "\n",
       "Returns\n",
       "-------\n",
       "out : ndarray, shape ``(d0, d1, ..., dn)``\n",
       "    Random values.\n",
       "\n",
       "See Also\n",
       "--------\n",
       "random\n",
       "\n",
       "Examples\n",
       "--------\n",
       ">>> np.random.rand(3,2)\n",
       "array([[ 0.14022471,  0.96360618],  #random\n",
       "       [ 0.37601032,  0.25528411],  #random\n",
       "       [ 0.49313049,  0.94909878]]) #random\n",
       "\u001b[1;31mType:\u001b[0m      builtin_function_or_method\n"
      ]
     },
     "metadata": {},
     "output_type": "display_data"
    }
   ],
   "source": [
    "np.random.rand?"
   ]
  },
  {
   "cell_type": "code",
   "execution_count": 66,
   "metadata": {},
   "outputs": [
    {
     "data": {
      "text/plain": [
       "49875.69985295342"
      ]
     },
     "execution_count": 66,
     "metadata": {},
     "output_type": "execute_result"
    }
   ],
   "source": [
    "np.sum(x)"
   ]
  },
  {
   "cell_type": "code",
   "execution_count": 67,
   "metadata": {},
   "outputs": [
    {
     "data": {
      "text/plain": [
       "array([[0.56966475, 0.18324964, 0.60412836, ..., 0.86702297, 0.71372754,\n",
       "        0.68977793],\n",
       "       [0.13486415, 0.90177398, 0.04880236, ..., 0.67128203, 0.96385786,\n",
       "        0.08242146],\n",
       "       [0.37665015, 0.54418831, 0.29093553, ..., 0.90448203, 0.11478305,\n",
       "        0.13199156],\n",
       "       ...,\n",
       "       [0.73743397, 0.42982778, 0.62932083, ..., 0.14722904, 0.37746539,\n",
       "        0.68306422],\n",
       "       [0.71593507, 0.83094569, 0.54699399, ..., 0.49680768, 0.73379793,\n",
       "        0.04060434],\n",
       "       [0.81214817, 0.0174234 , 0.57741829, ..., 0.50122317, 0.54459944,\n",
       "        0.78007883]])"
      ]
     },
     "execution_count": 67,
     "metadata": {},
     "output_type": "execute_result"
    }
   ],
   "source": [
    "x=np.random.random([500, 400])\n",
    "x"
   ]
  },
  {
   "cell_type": "code",
   "execution_count": 68,
   "metadata": {},
   "outputs": [
    {
     "data": {
      "text/plain": [
       "array([203.23844121, 191.68574119, 192.7610835 , 194.08863979,\n",
       "       192.8866302 , 195.94292031, 198.88636586, 193.44954821,\n",
       "       213.58784291, 206.26779769, 202.16810158, 202.11683152,\n",
       "       200.1546641 , 199.64591009, 208.32378422, 209.65473387,\n",
       "       207.00378468, 194.52917645, 190.23216723, 200.63127743,\n",
       "       197.00018528, 192.55279877, 197.18992277, 199.3359503 ,\n",
       "       207.51679554, 197.10432399, 197.9892627 , 193.05263119,\n",
       "       196.38697459, 195.01633362, 206.13336049, 199.51052734,\n",
       "       204.62170266, 201.07646091, 205.33617415, 203.5445181 ,\n",
       "       205.00396093, 204.49326141, 202.90621233, 194.96348819,\n",
       "       199.46013754, 204.61007401, 204.02085922, 205.63206404,\n",
       "       200.73980233, 198.17860108, 196.15023996, 200.78143014,\n",
       "       188.99238403, 195.32401217, 200.40638182, 193.48811016,\n",
       "       194.64031098, 207.03181575, 196.18729596, 192.24443172,\n",
       "       208.94696015, 191.68944023, 199.95284465, 201.22714521,\n",
       "       203.27718926, 191.4326836 , 198.55711577, 187.69808519,\n",
       "       209.64227269, 210.2992623 , 195.60288192, 202.262198  ,\n",
       "       196.3084809 , 195.49522679, 202.2668218 , 204.98352154,\n",
       "       195.09489703, 192.34825952, 203.37732038, 189.02575467,\n",
       "       193.35928298, 192.96183076, 197.13514698, 205.02940473,\n",
       "       207.23182109, 191.03907075, 207.7579507 , 199.33898762,\n",
       "       202.71306822, 203.19218188, 205.53176082, 195.49642617,\n",
       "       191.86301706, 197.44590873, 192.18797428, 204.64031655,\n",
       "       201.38232545, 198.44771341, 206.17933092, 208.38568145,\n",
       "       201.71237937, 197.76659953, 200.45420702, 196.74682207,\n",
       "       204.55086384, 201.90279361, 196.11588507, 204.3001565 ,\n",
       "       192.67396398, 201.13831047, 200.4999607 , 198.71940051,\n",
       "       197.8335673 , 195.76820213, 184.99965843, 189.96396663,\n",
       "       200.83111418, 206.56635405, 202.33245123, 192.41503373,\n",
       "       208.29562396, 201.82628292, 189.51515496, 202.17450185,\n",
       "       202.85325085, 206.97440138, 200.9126727 , 206.2439456 ,\n",
       "       213.40122101, 201.41832214, 201.10725152, 193.83128903,\n",
       "       201.69266365, 190.22910272, 195.56511995, 188.88009159,\n",
       "       204.55808331, 208.28393372, 201.93265344, 202.72865408,\n",
       "       188.70913652, 192.70580681, 200.63184969, 208.22225399,\n",
       "       196.34115478, 196.74575699, 196.94200628, 192.47482374,\n",
       "       196.28059071, 204.97234399, 212.37303836, 198.61210471,\n",
       "       199.61930351, 198.13916506, 211.41985923, 192.06999784,\n",
       "       200.98420619, 200.29415587, 207.33840409, 206.75456457,\n",
       "       202.92435073, 195.67655812, 190.04683286, 204.74016322,\n",
       "       201.58522213, 201.42540071, 202.30461429, 192.21182499,\n",
       "       198.34659357, 196.17379249, 203.75406273, 201.49541307,\n",
       "       188.13954166, 217.73764743, 202.14139987, 189.69148947,\n",
       "       208.09283234, 202.36709148, 200.00527408, 200.51129378,\n",
       "       201.8597112 , 204.76581632, 203.19762546, 199.71165118,\n",
       "       203.23239736, 198.54434281, 193.31131917, 196.25454264,\n",
       "       200.76414376, 200.49972733, 205.73446683, 191.61087999,\n",
       "       200.11466073, 211.53129334, 207.74519845, 194.58574186,\n",
       "       187.43186452, 206.65325948, 192.83014618, 206.57170477,\n",
       "       201.69948462, 197.84212015, 207.55257037, 194.72816813,\n",
       "       207.89711518, 204.01883475, 196.30151317, 196.65267354,\n",
       "       201.04901435, 201.75608619, 195.42367397, 192.98326094,\n",
       "       208.34819976, 199.82768791, 213.82795456, 196.3066241 ,\n",
       "       208.36633951, 202.19974189, 201.21992158, 210.40280028,\n",
       "       194.85278954, 201.4586644 , 195.39013574, 200.84126741,\n",
       "       204.69552471, 206.87234304, 197.55494355, 204.4711369 ,\n",
       "       205.87036681, 201.89508136, 190.97203725, 196.68064894,\n",
       "       200.28777229, 199.76420149, 208.44984101, 202.35131575,\n",
       "       194.626559  , 199.11182039, 195.33337499, 194.78150711,\n",
       "       203.32047025, 206.33251754, 204.87226768, 195.70974735,\n",
       "       209.18647371, 200.25234663, 200.03725747, 199.34367012,\n",
       "       208.12637153, 199.96940082, 198.09017459, 203.44824814,\n",
       "       196.34905189, 197.31145675, 198.329944  , 198.07232967,\n",
       "       198.17128741, 194.04865995, 205.25309871, 201.17428879,\n",
       "       194.97918594, 199.97703452, 204.57249577, 204.58422659,\n",
       "       184.68294509, 207.6608457 , 216.01366267, 197.90509196,\n",
       "       196.39816096, 194.80185167, 196.01567054, 194.51835006,\n",
       "       180.29728815, 193.07954779, 199.8510491 , 201.15605576,\n",
       "       204.08916709, 187.54839229, 196.19079639, 204.02646786,\n",
       "       201.48235149, 192.13392847, 190.56147873, 200.30574054,\n",
       "       199.49101284, 202.85000639, 189.76775845, 204.83417941,\n",
       "       197.36219992, 201.2030751 , 207.69081363, 197.61044522,\n",
       "       204.55956035, 196.99893421, 197.56849303, 194.20447446,\n",
       "       190.85115897, 199.40145939, 191.98015287, 195.49915902,\n",
       "       198.34611088, 211.04815224, 201.82870927, 203.85338915,\n",
       "       201.96746157, 203.84664642, 194.49428424, 201.53944741,\n",
       "       201.42985927, 204.18288266, 195.79379409, 193.12938772,\n",
       "       196.29802706, 204.61016508, 195.50883845, 205.87180016,\n",
       "       205.50745467, 197.38080368, 200.91192606, 198.31401916,\n",
       "       187.16674303, 201.82351452, 202.81471296, 204.30689921,\n",
       "       199.62806228, 198.19684884, 202.90634442, 201.94900783,\n",
       "       190.73054104, 203.01050648, 210.28546585, 197.74863617,\n",
       "       198.75739751, 199.75869625, 201.86610875, 193.95910322,\n",
       "       200.59033021, 195.73330564, 213.05162777, 196.1465716 ,\n",
       "       195.45043501, 195.49709928, 198.48626929, 203.25400043,\n",
       "       193.577881  , 192.08820679, 198.27735169, 195.12939554,\n",
       "       190.65424542, 205.54054362, 205.26166076, 202.90593409,\n",
       "       194.99694024, 204.54220487, 200.42193906, 198.3930409 ,\n",
       "       200.92596176, 198.21697111, 202.10553363, 203.51653046,\n",
       "       197.05877534, 190.58145749, 205.88978355, 208.86468381,\n",
       "       186.45023469, 206.65744214, 192.44976269, 206.12685028,\n",
       "       199.71738395, 199.05777071, 202.33867011, 182.49523673,\n",
       "       198.28033836, 199.47805779, 195.56627303, 197.54922615,\n",
       "       204.94550695, 196.4774829 , 207.52608309, 197.58522865,\n",
       "       209.38086085, 187.77016289, 204.82156849, 207.50587173,\n",
       "       201.94680185, 202.68440247, 196.09569759, 195.18043761,\n",
       "       202.24359348, 201.69400203, 195.39569898, 197.89211595,\n",
       "       204.54847786, 188.74867416, 198.9970507 , 187.84667103,\n",
       "       198.77936967, 192.69078464, 201.39417169, 211.93314012,\n",
       "       208.97112104, 196.69037663, 195.92528515, 195.75000339,\n",
       "       200.86435378, 203.3654847 , 199.82685845, 202.55864006,\n",
       "       192.24559565, 208.10368414, 204.13454034, 198.73120948,\n",
       "       190.75310585, 201.96952177, 200.86612081, 194.27107311,\n",
       "       204.24486852, 195.7523713 , 186.33197911, 195.18825039,\n",
       "       199.32152512, 197.78146   , 194.81576773, 197.53698079,\n",
       "       201.92491254, 199.52280289, 194.72604472, 210.9627515 ,\n",
       "       199.29977052, 197.51371509, 194.53738702, 195.05485342,\n",
       "       198.5528466 , 206.60623842, 195.99932543, 209.10475753,\n",
       "       201.94647454, 203.84276374, 199.74441014, 205.14090591,\n",
       "       195.44212946, 200.95290142, 201.82406022, 196.59212284,\n",
       "       202.45451177, 206.01591388, 194.96948292, 200.7396231 ,\n",
       "       201.08749742, 209.62013604, 182.26042339, 198.6301593 ,\n",
       "       204.01157422, 196.86972474, 201.31763462, 199.77760467,\n",
       "       194.5381221 , 184.67176271, 204.00395271, 201.18690566,\n",
       "       201.1998766 , 192.45573534, 199.75960935, 197.33372389,\n",
       "       206.85100762, 205.45781025, 197.83455192, 198.94802221,\n",
       "       191.1241108 , 203.07770086, 207.3810718 , 201.78685228,\n",
       "       207.82462826, 204.39849919, 203.38108768, 204.26588556,\n",
       "       196.08985888, 193.84207735, 206.25153814, 195.96163166,\n",
       "       203.56090752, 210.85106388, 193.1518868 , 204.74038543,\n",
       "       201.35700576, 197.67053253, 202.49613256, 198.453513  ,\n",
       "       202.32823832, 195.52275977, 197.38029726, 194.02144075,\n",
       "       197.74356241, 195.21463305, 209.48206627, 204.55196159,\n",
       "       198.99888294, 199.54238853, 192.66740418, 187.65027019,\n",
       "       198.32169159, 209.55668527, 197.05611002, 210.62462537])"
      ]
     },
     "execution_count": 68,
     "metadata": {},
     "output_type": "execute_result"
    }
   ],
   "source": [
    "a=np.sum(x, axis=1)\n",
    "a"
   ]
  },
  {
   "cell_type": "code",
   "execution_count": 69,
   "metadata": {},
   "outputs": [
    {
     "data": {
      "text/plain": [
       "array([254.44931108, 242.89829417, 248.61751443, 248.57750856,\n",
       "       247.2231315 , 256.51743073, 257.68193329, 239.72677046,\n",
       "       244.60202653, 261.1541573 , 248.46045593, 248.98073204,\n",
       "       253.50697628, 255.13830486, 252.35980684, 254.34719801,\n",
       "       245.27150913, 251.47260064, 235.81277892, 241.93102911,\n",
       "       250.64316944, 257.83812756, 238.72643531, 237.5693201 ,\n",
       "       249.31417268, 256.51845278, 235.55741893, 252.20832717,\n",
       "       249.92955457, 246.04551775, 249.86162441, 254.81696147,\n",
       "       232.97673322, 240.61082625, 249.87212882, 244.70845404,\n",
       "       241.82983836, 248.96018434, 247.18574586, 258.24593455,\n",
       "       252.16539253, 258.60962968, 248.80107226, 244.32066837,\n",
       "       253.46131129, 249.95424155, 250.22073698, 249.53340791,\n",
       "       255.90895566, 248.34491524, 246.02676387, 257.47664801,\n",
       "       248.00997286, 254.45298582, 244.92946125, 241.48379928,\n",
       "       251.60170371, 246.42249438, 260.2714431 , 247.55338976,\n",
       "       254.43887457, 257.13348164, 254.84751598, 248.51112172,\n",
       "       236.13770293, 255.10314305, 242.93282478, 240.22184835,\n",
       "       245.95030443, 252.72350587, 260.63799069, 254.75549019,\n",
       "       249.70495598, 265.56480462, 244.64594987, 249.36701302,\n",
       "       248.36234064, 245.57620182, 251.35734908, 245.12566555,\n",
       "       246.80973806, 247.26017645, 244.88264461, 250.39385146,\n",
       "       260.70634765, 254.69880231, 253.79813829, 249.64026216,\n",
       "       238.95229088, 263.03745696, 255.06944328, 242.78336629,\n",
       "       253.47552214, 246.4422952 , 246.86952571, 241.54030419,\n",
       "       252.85732662, 247.3847149 , 250.55576669, 258.20361787,\n",
       "       252.39512815, 258.76064135, 246.30941863, 255.26189591,\n",
       "       247.88675194, 253.88980799, 241.71618686, 249.02973074,\n",
       "       250.62682619, 250.71057103, 259.64840721, 249.70347773,\n",
       "       254.61652178, 251.57255289, 253.43272619, 247.0097782 ,\n",
       "       258.44335917, 250.60482289, 244.5829286 , 255.88832026,\n",
       "       245.80257624, 249.46785023, 235.13360783, 250.12811974,\n",
       "       247.00056908, 244.78730062, 245.5440532 , 252.23315483,\n",
       "       246.42654056, 254.67373653, 259.15621267, 257.92419862,\n",
       "       243.60617364, 251.8390162 , 248.40266707, 262.01366931,\n",
       "       246.9293447 , 244.81142692, 243.18397513, 245.72253543,\n",
       "       257.01217419, 250.87444715, 261.76669546, 240.50364489,\n",
       "       255.49650819, 249.10396571, 253.54036287, 256.48129823,\n",
       "       262.97250406, 251.03003664, 248.75273676, 257.21546693,\n",
       "       242.37922587, 246.85554797, 245.8320534 , 257.17236528,\n",
       "       257.45824614, 241.74923629, 249.1748525 , 244.78778676,\n",
       "       243.18509122, 232.62079901, 250.88385573, 246.71174624,\n",
       "       253.32502292, 243.96595013, 238.01447138, 251.81733189,\n",
       "       247.93849352, 248.34375517, 247.50197679, 236.15027787,\n",
       "       240.69115133, 243.615321  , 252.77417997, 254.45247017,\n",
       "       245.7683398 , 235.16715866, 254.80866029, 252.00070855,\n",
       "       244.06527593, 256.82831526, 252.44494495, 235.5259625 ,\n",
       "       249.20087483, 243.91783729, 243.02734805, 249.26701189,\n",
       "       241.10220403, 253.55519513, 268.28285718, 237.3019187 ,\n",
       "       263.49917698, 251.37968118, 257.75454769, 256.77886793,\n",
       "       240.83751332, 245.69734362, 244.6179306 , 246.24786354,\n",
       "       242.14261571, 243.54095377, 246.8701346 , 242.63371462,\n",
       "       251.66284005, 245.76314227, 251.85352704, 251.02512468,\n",
       "       246.16207157, 250.05407543, 247.12942038, 241.48320943,\n",
       "       251.24080521, 245.36220642, 253.75601663, 247.54590412,\n",
       "       236.63505166, 256.14048277, 242.53990326, 240.94618597,\n",
       "       249.39051849, 236.21572799, 242.27643024, 246.32992896,\n",
       "       256.9320153 , 252.14524747, 249.70564763, 245.11034851,\n",
       "       247.15563137, 251.98888922, 244.69415034, 246.76951184,\n",
       "       245.55637044, 255.95853828, 249.5483807 , 248.86719069,\n",
       "       241.76817771, 254.52552089, 255.03643309, 247.52095849,\n",
       "       255.44124776, 249.88033152, 255.3340238 , 242.58884784,\n",
       "       256.70238254, 250.2938162 , 253.27252086, 256.17714126,\n",
       "       253.92105574, 248.35779279, 255.33680513, 253.45521646,\n",
       "       254.33274069, 257.04251389, 240.77639195, 249.55534532,\n",
       "       252.44748251, 254.67423445, 243.53820309, 260.67159666,\n",
       "       246.93657493, 242.26662292, 257.51916294, 248.50533856,\n",
       "       243.46188577, 262.96449251, 249.49661047, 254.71565618,\n",
       "       250.24431144, 242.40311984, 256.5246483 , 246.87886886,\n",
       "       256.1425342 , 262.39445707, 255.1589142 , 256.05129854,\n",
       "       242.7378782 , 250.08247846, 253.0184015 , 256.37949644,\n",
       "       257.16034248, 254.56354678, 248.99226106, 256.85836618,\n",
       "       251.7926781 , 241.51155315, 249.93231888, 254.16636988,\n",
       "       235.29696999, 248.87164409, 260.89360811, 252.11836718,\n",
       "       247.95636527, 259.07922061, 236.88348582, 246.64405916,\n",
       "       250.98360797, 254.75310631, 255.46660387, 254.45249715,\n",
       "       246.79288481, 240.39004215, 247.40231173, 265.31473632,\n",
       "       244.53048639, 238.90098132, 248.7791235 , 253.59122088,\n",
       "       245.93041191, 247.2903331 , 240.77385672, 251.6526304 ,\n",
       "       242.0780035 , 243.46611   , 249.691314  , 256.96619179,\n",
       "       240.20881924, 258.48675143, 243.68030307, 248.21822824,\n",
       "       241.20036488, 253.50132168, 268.36210507, 254.97539973,\n",
       "       244.98244555, 246.06529174, 241.27667507, 254.97182065,\n",
       "       253.28840083, 250.45794219, 246.24560203, 238.20996326,\n",
       "       258.13193337, 253.99519072, 247.44315728, 239.19018911,\n",
       "       255.43794452, 247.75754754, 240.34482428, 252.83323176,\n",
       "       248.71834374, 249.56935509, 254.63417629, 249.71600272,\n",
       "       261.15052883, 257.54084825, 242.51524751, 244.00441629,\n",
       "       250.88190025, 247.71653352, 259.2897299 , 250.20607711,\n",
       "       256.21762485, 250.57625216, 250.29174754, 254.2236474 ,\n",
       "       245.95169476, 254.22004605, 253.16515553, 248.63541783,\n",
       "       241.56161844, 249.06215082, 253.32777279, 262.30890314,\n",
       "       234.15829521, 247.89603814, 257.48854986, 253.06452973,\n",
       "       260.36635326, 253.3986865 , 251.01719584, 252.68733419,\n",
       "       257.43790625, 243.79364363, 244.7015613 , 247.85015175,\n",
       "       251.32390916, 247.26674882, 258.69454207, 244.07325702,\n",
       "       252.09214723, 251.87913106, 248.99832068, 251.29154705,\n",
       "       250.28183782, 261.09210128, 247.74945548, 239.35861066,\n",
       "       253.65270707, 247.99850449, 244.58465363, 249.9955758 ,\n",
       "       248.72267191, 255.28907985, 243.19523786, 237.37203868,\n",
       "       255.19776399, 263.31435078, 240.4626007 , 242.56763401])"
      ]
     },
     "execution_count": 69,
     "metadata": {},
     "output_type": "execute_result"
    }
   ],
   "source": [
    "b=np.sum(x, axis=0)\n",
    "b"
   ]
  },
  {
   "cell_type": "code",
   "execution_count": 70,
   "metadata": {},
   "outputs": [
    {
     "data": {
      "text/plain": [
       "199.8393685041423"
      ]
     },
     "execution_count": 70,
     "metadata": {},
     "output_type": "execute_result"
    }
   ],
   "source": [
    "np.median(a)"
   ]
  },
  {
   "cell_type": "code",
   "execution_count": 71,
   "metadata": {},
   "outputs": [
    {
     "data": {
      "text/plain": [
       "249.60480862539555"
      ]
     },
     "execution_count": 71,
     "metadata": {},
     "output_type": "execute_result"
    }
   ],
   "source": [
    "np.median(b)"
   ]
  },
  {
   "cell_type": "code",
   "execution_count": 72,
   "metadata": {},
   "outputs": [
    {
     "data": {
      "text/plain": [
       "\u001b[1;31mSignature:\u001b[0m\n",
       "\u001b[0mnp\u001b[0m\u001b[1;33m.\u001b[0m\u001b[0mpercentile\u001b[0m\u001b[1;33m(\u001b[0m\u001b[1;33m\n",
       "\u001b[0m    \u001b[0ma\u001b[0m\u001b[1;33m,\u001b[0m\u001b[1;33m\n",
       "\u001b[0m    \u001b[0mq\u001b[0m\u001b[1;33m,\u001b[0m\u001b[1;33m\n",
       "\u001b[0m    \u001b[0maxis\u001b[0m\u001b[1;33m=\u001b[0m\u001b[1;32mNone\u001b[0m\u001b[1;33m,\u001b[0m\u001b[1;33m\n",
       "\u001b[0m    \u001b[0mout\u001b[0m\u001b[1;33m=\u001b[0m\u001b[1;32mNone\u001b[0m\u001b[1;33m,\u001b[0m\u001b[1;33m\n",
       "\u001b[0m    \u001b[0moverwrite_input\u001b[0m\u001b[1;33m=\u001b[0m\u001b[1;32mFalse\u001b[0m\u001b[1;33m,\u001b[0m\u001b[1;33m\n",
       "\u001b[0m    \u001b[0minterpolation\u001b[0m\u001b[1;33m=\u001b[0m\u001b[1;34m'linear'\u001b[0m\u001b[1;33m,\u001b[0m\u001b[1;33m\n",
       "\u001b[0m    \u001b[0mkeepdims\u001b[0m\u001b[1;33m=\u001b[0m\u001b[1;32mFalse\u001b[0m\u001b[1;33m,\u001b[0m\u001b[1;33m\n",
       "\u001b[0m\u001b[1;33m)\u001b[0m\u001b[1;33m\u001b[0m\u001b[1;33m\u001b[0m\u001b[0m\n",
       "\u001b[1;31mDocstring:\u001b[0m\n",
       "Compute the q-th percentile of the data along the specified axis.\n",
       "\n",
       "Returns the q-th percentile(s) of the array elements.\n",
       "\n",
       "Parameters\n",
       "----------\n",
       "a : array_like\n",
       "    Input array or object that can be converted to an array.\n",
       "q : array_like of float\n",
       "    Percentile or sequence of percentiles to compute, which must be between\n",
       "    0 and 100 inclusive.\n",
       "axis : {int, tuple of int, None}, optional\n",
       "    Axis or axes along which the percentiles are computed. The\n",
       "    default is to compute the percentile(s) along a flattened\n",
       "    version of the array.\n",
       "\n",
       "    .. versionchanged:: 1.9.0\n",
       "        A tuple of axes is supported\n",
       "out : ndarray, optional\n",
       "    Alternative output array in which to place the result. It must\n",
       "    have the same shape and buffer length as the expected output,\n",
       "    but the type (of the output) will be cast if necessary.\n",
       "overwrite_input : bool, optional\n",
       "    If True, then allow the input array `a` to be modified by intermediate\n",
       "    calculations, to save memory. In this case, the contents of the input\n",
       "    `a` after this function completes is undefined.\n",
       "\n",
       "interpolation : {'linear', 'lower', 'higher', 'midpoint', 'nearest'}\n",
       "    This optional parameter specifies the interpolation method to\n",
       "    use when the desired percentile lies between two data points\n",
       "    ``i < j``:\n",
       "\n",
       "    * 'linear': ``i + (j - i) * fraction``, where ``fraction``\n",
       "      is the fractional part of the index surrounded by ``i``\n",
       "      and ``j``.\n",
       "    * 'lower': ``i``.\n",
       "    * 'higher': ``j``.\n",
       "    * 'nearest': ``i`` or ``j``, whichever is nearest.\n",
       "    * 'midpoint': ``(i + j) / 2``.\n",
       "\n",
       "    .. versionadded:: 1.9.0\n",
       "keepdims : bool, optional\n",
       "    If this is set to True, the axes which are reduced are left in\n",
       "    the result as dimensions with size one. With this option, the\n",
       "    result will broadcast correctly against the original array `a`.\n",
       "\n",
       "    .. versionadded:: 1.9.0\n",
       "\n",
       "Returns\n",
       "-------\n",
       "percentile : scalar or ndarray\n",
       "    If `q` is a single percentile and `axis=None`, then the result\n",
       "    is a scalar. If multiple percentiles are given, first axis of\n",
       "    the result corresponds to the percentiles. The other axes are\n",
       "    the axes that remain after the reduction of `a`. If the input\n",
       "    contains integers or floats smaller than ``float64``, the output\n",
       "    data-type is ``float64``. Otherwise, the output data-type is the\n",
       "    same as that of the input. If `out` is specified, that array is\n",
       "    returned instead.\n",
       "\n",
       "See Also\n",
       "--------\n",
       "mean\n",
       "median : equivalent to ``percentile(..., 50)``\n",
       "nanpercentile\n",
       "quantile : equivalent to percentile, except with q in the range [0, 1].\n",
       "\n",
       "Notes\n",
       "-----\n",
       "Given a vector ``V`` of length ``N``, the q-th percentile of\n",
       "``V`` is the value ``q/100`` of the way from the minimum to the\n",
       "maximum in a sorted copy of ``V``. The values and distances of\n",
       "the two nearest neighbors as well as the `interpolation` parameter\n",
       "will determine the percentile if the normalized ranking does not\n",
       "match the location of ``q`` exactly. This function is the same as\n",
       "the median if ``q=50``, the same as the minimum if ``q=0`` and the\n",
       "same as the maximum if ``q=100``.\n",
       "\n",
       "Examples\n",
       "--------\n",
       ">>> a = np.array([[10, 7, 4], [3, 2, 1]])\n",
       ">>> a\n",
       "array([[10,  7,  4],\n",
       "       [ 3,  2,  1]])\n",
       ">>> np.percentile(a, 50)\n",
       "3.5\n",
       ">>> np.percentile(a, 50, axis=0)\n",
       "array([6.5, 4.5, 2.5])\n",
       ">>> np.percentile(a, 50, axis=1)\n",
       "array([7.,  2.])\n",
       ">>> np.percentile(a, 50, axis=1, keepdims=True)\n",
       "array([[7.],\n",
       "       [2.]])\n",
       "\n",
       ">>> m = np.percentile(a, 50, axis=0)\n",
       ">>> out = np.zeros_like(m)\n",
       ">>> np.percentile(a, 50, axis=0, out=out)\n",
       "array([6.5, 4.5, 2.5])\n",
       ">>> m\n",
       "array([6.5, 4.5, 2.5])\n",
       "\n",
       ">>> b = a.copy()\n",
       ">>> np.percentile(b, 50, axis=1, overwrite_input=True)\n",
       "array([7.,  2.])\n",
       ">>> assert not np.all(a == b)\n",
       "\n",
       "The different types of interpolation can be visualized graphically:\n",
       "\n",
       ".. plot::\n",
       "\n",
       "    import matplotlib.pyplot as plt\n",
       "\n",
       "    a = np.arange(4)\n",
       "    p = np.linspace(0, 100, 6001)\n",
       "    ax = plt.gca()\n",
       "    lines = [\n",
       "        ('linear', None),\n",
       "        ('higher', '--'),\n",
       "        ('lower', '--'),\n",
       "        ('nearest', '-.'),\n",
       "        ('midpoint', '-.'),\n",
       "    ]\n",
       "    for interpolation, style in lines:\n",
       "        ax.plot(\n",
       "            p, np.percentile(a, p, interpolation=interpolation),\n",
       "            label=interpolation, linestyle=style)\n",
       "    ax.set(\n",
       "        title='Interpolation methods for list: ' + str(a),\n",
       "        xlabel='Percentile',\n",
       "        ylabel='List item returned',\n",
       "        yticks=a)\n",
       "    ax.legend()\n",
       "    plt.show()\n",
       "\u001b[1;31mFile:\u001b[0m      c:\\users\\kishan verma\\anaconda3\\lib\\site-packages\\numpy\\lib\\function_base.py\n",
       "\u001b[1;31mType:\u001b[0m      function\n"
      ]
     },
     "metadata": {},
     "output_type": "display_data"
    }
   ],
   "source": [
    "np.percentile?"
   ]
  },
  {
   "cell_type": "code",
   "execution_count": 73,
   "metadata": {},
   "outputs": [],
   "source": [
    "import pandas as pd\n",
    "train  = pd.read_csv(\"Datasets/train.csv\")\n",
    "test = pd.read_csv(\"Datasets/test.csv\")\n"
   ]
  },
  {
   "cell_type": "code",
   "execution_count": 74,
   "metadata": {},
   "outputs": [],
   "source": [
    "train.workclass.value_counts(sort=True)\n",
    "train.workclass.fillna('Private',inplace=True)\n",
    "train.occupation.value_counts(sort=True)\n",
    "train.occupation.fillna('Prof-specialty',inplace=True)\n",
    "train['native.country'].value_counts(sort=True)\n",
    "train['native.country'].fillna('United-States',inplace=True)"
   ]
  },
  {
   "cell_type": "raw",
   "metadata": {},
   "source": [
    "from sklearn import preprocessing\n",
    "\n",
    "for x in train.columns:\n",
    "    if train[x].dtype == 'object':\n",
    "        lbl = preprocessing.LabelEncoder()\n",
    "        lbl.fit(list(train[x].values))\n",
    "        train[x] = lbl.transform(list(train[x].values))"
   ]
  },
  {
   "cell_type": "code",
   "execution_count": 75,
   "metadata": {},
   "outputs": [
    {
     "data": {
      "text/html": [
       "<div>\n",
       "<style scoped>\n",
       "    .dataframe tbody tr th:only-of-type {\n",
       "        vertical-align: middle;\n",
       "    }\n",
       "\n",
       "    .dataframe tbody tr th {\n",
       "        vertical-align: top;\n",
       "    }\n",
       "\n",
       "    .dataframe thead th {\n",
       "        text-align: right;\n",
       "    }\n",
       "</style>\n",
       "<table border=\"1\" class=\"dataframe\">\n",
       "  <thead>\n",
       "    <tr style=\"text-align: right;\">\n",
       "      <th></th>\n",
       "      <th>age</th>\n",
       "      <th>workclass</th>\n",
       "      <th>fnlwgt</th>\n",
       "      <th>education</th>\n",
       "      <th>education.num</th>\n",
       "      <th>marital.status</th>\n",
       "      <th>occupation</th>\n",
       "      <th>relationship</th>\n",
       "      <th>race</th>\n",
       "      <th>sex</th>\n",
       "      <th>capital.gain</th>\n",
       "      <th>capital.loss</th>\n",
       "      <th>hours.per.week</th>\n",
       "      <th>native.country</th>\n",
       "      <th>target</th>\n",
       "    </tr>\n",
       "  </thead>\n",
       "  <tbody>\n",
       "    <tr>\n",
       "      <th>0</th>\n",
       "      <td>39</td>\n",
       "      <td>State-gov</td>\n",
       "      <td>77516</td>\n",
       "      <td>Bachelors</td>\n",
       "      <td>13</td>\n",
       "      <td>Never-married</td>\n",
       "      <td>Adm-clerical</td>\n",
       "      <td>Not-in-family</td>\n",
       "      <td>White</td>\n",
       "      <td>Male</td>\n",
       "      <td>2174</td>\n",
       "      <td>0</td>\n",
       "      <td>40</td>\n",
       "      <td>United-States</td>\n",
       "      <td>&lt;=50K</td>\n",
       "    </tr>\n",
       "    <tr>\n",
       "      <th>1</th>\n",
       "      <td>50</td>\n",
       "      <td>Self-emp-not-inc</td>\n",
       "      <td>83311</td>\n",
       "      <td>Bachelors</td>\n",
       "      <td>13</td>\n",
       "      <td>Married-civ-spouse</td>\n",
       "      <td>Exec-managerial</td>\n",
       "      <td>Husband</td>\n",
       "      <td>White</td>\n",
       "      <td>Male</td>\n",
       "      <td>0</td>\n",
       "      <td>0</td>\n",
       "      <td>13</td>\n",
       "      <td>United-States</td>\n",
       "      <td>&lt;=50K</td>\n",
       "    </tr>\n",
       "    <tr>\n",
       "      <th>2</th>\n",
       "      <td>38</td>\n",
       "      <td>Private</td>\n",
       "      <td>215646</td>\n",
       "      <td>HS-grad</td>\n",
       "      <td>9</td>\n",
       "      <td>Divorced</td>\n",
       "      <td>Handlers-cleaners</td>\n",
       "      <td>Not-in-family</td>\n",
       "      <td>White</td>\n",
       "      <td>Male</td>\n",
       "      <td>0</td>\n",
       "      <td>0</td>\n",
       "      <td>40</td>\n",
       "      <td>United-States</td>\n",
       "      <td>&lt;=50K</td>\n",
       "    </tr>\n",
       "    <tr>\n",
       "      <th>3</th>\n",
       "      <td>53</td>\n",
       "      <td>Private</td>\n",
       "      <td>234721</td>\n",
       "      <td>11th</td>\n",
       "      <td>7</td>\n",
       "      <td>Married-civ-spouse</td>\n",
       "      <td>Handlers-cleaners</td>\n",
       "      <td>Husband</td>\n",
       "      <td>Black</td>\n",
       "      <td>Male</td>\n",
       "      <td>0</td>\n",
       "      <td>0</td>\n",
       "      <td>40</td>\n",
       "      <td>United-States</td>\n",
       "      <td>&lt;=50K</td>\n",
       "    </tr>\n",
       "    <tr>\n",
       "      <th>4</th>\n",
       "      <td>28</td>\n",
       "      <td>Private</td>\n",
       "      <td>338409</td>\n",
       "      <td>Bachelors</td>\n",
       "      <td>13</td>\n",
       "      <td>Married-civ-spouse</td>\n",
       "      <td>Prof-specialty</td>\n",
       "      <td>Wife</td>\n",
       "      <td>Black</td>\n",
       "      <td>Female</td>\n",
       "      <td>0</td>\n",
       "      <td>0</td>\n",
       "      <td>40</td>\n",
       "      <td>Cuba</td>\n",
       "      <td>&lt;=50K</td>\n",
       "    </tr>\n",
       "  </tbody>\n",
       "</table>\n",
       "</div>"
      ],
      "text/plain": [
       "   age          workclass  fnlwgt   education  education.num  \\\n",
       "0   39          State-gov   77516   Bachelors             13   \n",
       "1   50   Self-emp-not-inc   83311   Bachelors             13   \n",
       "2   38            Private  215646     HS-grad              9   \n",
       "3   53            Private  234721        11th              7   \n",
       "4   28            Private  338409   Bachelors             13   \n",
       "\n",
       "        marital.status          occupation    relationship    race      sex  \\\n",
       "0        Never-married        Adm-clerical   Not-in-family   White     Male   \n",
       "1   Married-civ-spouse     Exec-managerial         Husband   White     Male   \n",
       "2             Divorced   Handlers-cleaners   Not-in-family   White     Male   \n",
       "3   Married-civ-spouse   Handlers-cleaners         Husband   Black     Male   \n",
       "4   Married-civ-spouse      Prof-specialty            Wife   Black   Female   \n",
       "\n",
       "   capital.gain  capital.loss  hours.per.week  native.country  target  \n",
       "0          2174             0              40   United-States   <=50K  \n",
       "1             0             0              13   United-States   <=50K  \n",
       "2             0             0              40   United-States   <=50K  \n",
       "3             0             0              40   United-States   <=50K  \n",
       "4             0             0              40            Cuba   <=50K  "
      ]
     },
     "execution_count": 75,
     "metadata": {},
     "output_type": "execute_result"
    }
   ],
   "source": [
    "train.head()"
   ]
  },
  {
   "cell_type": "code",
   "execution_count": 76,
   "metadata": {},
   "outputs": [
    {
     "ename": "ValueError",
     "evalue": "could not convert string to float: ' Federal-gov'",
     "output_type": "error",
     "traceback": [
      "\u001b[1;31m---------------------------------------------------------------------------\u001b[0m",
      "\u001b[1;31mValueError\u001b[0m                                Traceback (most recent call last)",
      "\u001b[1;32m<ipython-input-76-0696e55a3fd8>\u001b[0m in \u001b[0;36m<module>\u001b[1;34m\u001b[0m\n\u001b[0;32m     12\u001b[0m \u001b[1;31m#train the RF classifier\u001b[0m\u001b[1;33m\u001b[0m\u001b[1;33m\u001b[0m\u001b[1;33m\u001b[0m\u001b[0m\n\u001b[0;32m     13\u001b[0m \u001b[0mclf\u001b[0m \u001b[1;33m=\u001b[0m \u001b[0mRandomForestClassifier\u001b[0m\u001b[1;33m(\u001b[0m\u001b[0mn_estimators\u001b[0m \u001b[1;33m=\u001b[0m \u001b[1;36m500\u001b[0m\u001b[1;33m,\u001b[0m \u001b[0mmax_depth\u001b[0m \u001b[1;33m=\u001b[0m \u001b[1;36m6\u001b[0m\u001b[1;33m)\u001b[0m\u001b[1;33m\u001b[0m\u001b[1;33m\u001b[0m\u001b[0m\n\u001b[1;32m---> 14\u001b[1;33m \u001b[0mclf\u001b[0m\u001b[1;33m.\u001b[0m\u001b[0mfit\u001b[0m\u001b[1;33m(\u001b[0m\u001b[0mX_train\u001b[0m\u001b[1;33m,\u001b[0m\u001b[0my_train\u001b[0m\u001b[1;33m)\u001b[0m\u001b[1;33m\u001b[0m\u001b[1;33m\u001b[0m\u001b[0m\n\u001b[0m\u001b[0;32m     15\u001b[0m \u001b[1;33m\u001b[0m\u001b[0m\n\u001b[0;32m     16\u001b[0m \u001b[0mRandomForestClassifier\u001b[0m\u001b[1;33m(\u001b[0m\u001b[0mbootstrap\u001b[0m\u001b[1;33m=\u001b[0m\u001b[1;32mTrue\u001b[0m\u001b[1;33m,\u001b[0m \u001b[0mclass_weight\u001b[0m\u001b[1;33m=\u001b[0m\u001b[1;32mNone\u001b[0m\u001b[1;33m,\u001b[0m \u001b[0mcriterion\u001b[0m\u001b[1;33m=\u001b[0m\u001b[1;34m'gini'\u001b[0m\u001b[1;33m,\u001b[0m \u001b[0mmax_depth\u001b[0m\u001b[1;33m=\u001b[0m\u001b[1;36m6\u001b[0m\u001b[1;33m,\u001b[0m \u001b[0mmax_features\u001b[0m\u001b[1;33m=\u001b[0m\u001b[1;34m'auto'\u001b[0m\u001b[1;33m,\u001b[0m \u001b[0mmax_leaf_nodes\u001b[0m\u001b[1;33m=\u001b[0m\u001b[1;32mNone\u001b[0m\u001b[1;33m,\u001b[0m \u001b[0mmin_impurity_split\u001b[0m\u001b[1;33m=\u001b[0m\u001b[1;36m1e-07\u001b[0m\u001b[1;33m,\u001b[0m \u001b[0mmin_samples_leaf\u001b[0m\u001b[1;33m=\u001b[0m\u001b[1;36m1\u001b[0m\u001b[1;33m,\u001b[0m \u001b[0mmin_samples_split\u001b[0m\u001b[1;33m=\u001b[0m\u001b[1;36m2\u001b[0m\u001b[1;33m,\u001b[0m \u001b[0mmin_weight_fraction_leaf\u001b[0m\u001b[1;33m=\u001b[0m\u001b[1;36m0.0\u001b[0m\u001b[1;33m,\u001b[0m \u001b[0mn_estimators\u001b[0m\u001b[1;33m=\u001b[0m\u001b[1;36m500\u001b[0m\u001b[1;33m,\u001b[0m \u001b[0mn_jobs\u001b[0m\u001b[1;33m=\u001b[0m\u001b[1;36m1\u001b[0m\u001b[1;33m,\u001b[0m \u001b[0moob_score\u001b[0m\u001b[1;33m=\u001b[0m\u001b[1;32mFalse\u001b[0m\u001b[1;33m,\u001b[0m \u001b[0mrandom_state\u001b[0m\u001b[1;33m=\u001b[0m\u001b[1;32mNone\u001b[0m\u001b[1;33m,\u001b[0m \u001b[0mverbose\u001b[0m\u001b[1;33m=\u001b[0m\u001b[1;36m0\u001b[0m\u001b[1;33m,\u001b[0m \u001b[0mwarm_start\u001b[0m\u001b[1;33m=\u001b[0m\u001b[1;32mFalse\u001b[0m\u001b[1;33m)\u001b[0m\u001b[1;33m\u001b[0m\u001b[1;33m\u001b[0m\u001b[0m\n",
      "\u001b[1;32m~\\anaconda3\\lib\\site-packages\\sklearn\\ensemble\\_forest.py\u001b[0m in \u001b[0;36mfit\u001b[1;34m(self, X, y, sample_weight)\u001b[0m\n\u001b[0;32m    293\u001b[0m         \"\"\"\n\u001b[0;32m    294\u001b[0m         \u001b[1;31m# Validate or convert input data\u001b[0m\u001b[1;33m\u001b[0m\u001b[1;33m\u001b[0m\u001b[1;33m\u001b[0m\u001b[0m\n\u001b[1;32m--> 295\u001b[1;33m         \u001b[0mX\u001b[0m \u001b[1;33m=\u001b[0m \u001b[0mcheck_array\u001b[0m\u001b[1;33m(\u001b[0m\u001b[0mX\u001b[0m\u001b[1;33m,\u001b[0m \u001b[0maccept_sparse\u001b[0m\u001b[1;33m=\u001b[0m\u001b[1;34m\"csc\"\u001b[0m\u001b[1;33m,\u001b[0m \u001b[0mdtype\u001b[0m\u001b[1;33m=\u001b[0m\u001b[0mDTYPE\u001b[0m\u001b[1;33m)\u001b[0m\u001b[1;33m\u001b[0m\u001b[1;33m\u001b[0m\u001b[0m\n\u001b[0m\u001b[0;32m    296\u001b[0m         \u001b[0my\u001b[0m \u001b[1;33m=\u001b[0m \u001b[0mcheck_array\u001b[0m\u001b[1;33m(\u001b[0m\u001b[0my\u001b[0m\u001b[1;33m,\u001b[0m \u001b[0maccept_sparse\u001b[0m\u001b[1;33m=\u001b[0m\u001b[1;34m'csc'\u001b[0m\u001b[1;33m,\u001b[0m \u001b[0mensure_2d\u001b[0m\u001b[1;33m=\u001b[0m\u001b[1;32mFalse\u001b[0m\u001b[1;33m,\u001b[0m \u001b[0mdtype\u001b[0m\u001b[1;33m=\u001b[0m\u001b[1;32mNone\u001b[0m\u001b[1;33m)\u001b[0m\u001b[1;33m\u001b[0m\u001b[1;33m\u001b[0m\u001b[0m\n\u001b[0;32m    297\u001b[0m         \u001b[1;32mif\u001b[0m \u001b[0msample_weight\u001b[0m \u001b[1;32mis\u001b[0m \u001b[1;32mnot\u001b[0m \u001b[1;32mNone\u001b[0m\u001b[1;33m:\u001b[0m\u001b[1;33m\u001b[0m\u001b[1;33m\u001b[0m\u001b[0m\n",
      "\u001b[1;32m~\\anaconda3\\lib\\site-packages\\sklearn\\utils\\validation.py\u001b[0m in \u001b[0;36mcheck_array\u001b[1;34m(array, accept_sparse, accept_large_sparse, dtype, order, copy, force_all_finite, ensure_2d, allow_nd, ensure_min_samples, ensure_min_features, warn_on_dtype, estimator)\u001b[0m\n\u001b[0;32m    529\u001b[0m                     \u001b[0marray\u001b[0m \u001b[1;33m=\u001b[0m \u001b[0marray\u001b[0m\u001b[1;33m.\u001b[0m\u001b[0mastype\u001b[0m\u001b[1;33m(\u001b[0m\u001b[0mdtype\u001b[0m\u001b[1;33m,\u001b[0m \u001b[0mcasting\u001b[0m\u001b[1;33m=\u001b[0m\u001b[1;34m\"unsafe\"\u001b[0m\u001b[1;33m,\u001b[0m \u001b[0mcopy\u001b[0m\u001b[1;33m=\u001b[0m\u001b[1;32mFalse\u001b[0m\u001b[1;33m)\u001b[0m\u001b[1;33m\u001b[0m\u001b[1;33m\u001b[0m\u001b[0m\n\u001b[0;32m    530\u001b[0m                 \u001b[1;32melse\u001b[0m\u001b[1;33m:\u001b[0m\u001b[1;33m\u001b[0m\u001b[1;33m\u001b[0m\u001b[0m\n\u001b[1;32m--> 531\u001b[1;33m                     \u001b[0marray\u001b[0m \u001b[1;33m=\u001b[0m \u001b[0mnp\u001b[0m\u001b[1;33m.\u001b[0m\u001b[0masarray\u001b[0m\u001b[1;33m(\u001b[0m\u001b[0marray\u001b[0m\u001b[1;33m,\u001b[0m \u001b[0morder\u001b[0m\u001b[1;33m=\u001b[0m\u001b[0morder\u001b[0m\u001b[1;33m,\u001b[0m \u001b[0mdtype\u001b[0m\u001b[1;33m=\u001b[0m\u001b[0mdtype\u001b[0m\u001b[1;33m)\u001b[0m\u001b[1;33m\u001b[0m\u001b[1;33m\u001b[0m\u001b[0m\n\u001b[0m\u001b[0;32m    532\u001b[0m             \u001b[1;32mexcept\u001b[0m \u001b[0mComplexWarning\u001b[0m\u001b[1;33m:\u001b[0m\u001b[1;33m\u001b[0m\u001b[1;33m\u001b[0m\u001b[0m\n\u001b[0;32m    533\u001b[0m                 raise ValueError(\"Complex data not supported\\n\"\n",
      "\u001b[1;32m~\\anaconda3\\lib\\site-packages\\numpy\\core\\_asarray.py\u001b[0m in \u001b[0;36masarray\u001b[1;34m(a, dtype, order)\u001b[0m\n\u001b[0;32m     83\u001b[0m \u001b[1;33m\u001b[0m\u001b[0m\n\u001b[0;32m     84\u001b[0m     \"\"\"\n\u001b[1;32m---> 85\u001b[1;33m     \u001b[1;32mreturn\u001b[0m \u001b[0marray\u001b[0m\u001b[1;33m(\u001b[0m\u001b[0ma\u001b[0m\u001b[1;33m,\u001b[0m \u001b[0mdtype\u001b[0m\u001b[1;33m,\u001b[0m \u001b[0mcopy\u001b[0m\u001b[1;33m=\u001b[0m\u001b[1;32mFalse\u001b[0m\u001b[1;33m,\u001b[0m \u001b[0morder\u001b[0m\u001b[1;33m=\u001b[0m\u001b[0morder\u001b[0m\u001b[1;33m)\u001b[0m\u001b[1;33m\u001b[0m\u001b[1;33m\u001b[0m\u001b[0m\n\u001b[0m\u001b[0;32m     86\u001b[0m \u001b[1;33m\u001b[0m\u001b[0m\n\u001b[0;32m     87\u001b[0m \u001b[1;33m\u001b[0m\u001b[0m\n",
      "\u001b[1;31mValueError\u001b[0m: could not convert string to float: ' Federal-gov'"
     ]
    }
   ],
   "source": [
    "from sklearn.model_selection import train_test_split\n",
    "from sklearn.ensemble import RandomForestClassifier\n",
    "from sklearn.model_selection import cross_val_score\n",
    "from sklearn.metrics import accuracy_score\n",
    "\n",
    "y = train['target']\n",
    "del train['target']\n",
    "\n",
    "X = train\n",
    "X_train,X_test,y_train,y_test = train_test_split(X,y,test_size=0.3,random_state=1,stratify=y)\n",
    "\n",
    "#train the RF classifier\n",
    "clf = RandomForestClassifier(n_estimators = 500, max_depth = 6)\n",
    "clf.fit(X_train,y_train)\n",
    "\n",
    "RandomForestClassifier(bootstrap=True, class_weight=None, criterion='gini', max_depth=6, max_features='auto', max_leaf_nodes=None, min_impurity_split=1e-07, min_samples_leaf=1, min_samples_split=2, min_weight_fraction_leaf=0.0, n_estimators=500, n_jobs=1, oob_score=False, random_state=None, verbose=0, warm_start=False)\n",
    "\n",
    "clf.predict(X_test)"
   ]
  },
  {
   "cell_type": "code",
   "execution_count": 77,
   "metadata": {},
   "outputs": [
    {
     "ename": "NotFittedError",
     "evalue": "This RandomForestClassifier instance is not fitted yet. Call 'fit' with appropriate arguments before using this estimator.",
     "output_type": "error",
     "traceback": [
      "\u001b[1;31m---------------------------------------------------------------------------\u001b[0m",
      "\u001b[1;31mNotFittedError\u001b[0m                            Traceback (most recent call last)",
      "\u001b[1;32m<ipython-input-77-6c006bbcc226>\u001b[0m in \u001b[0;36m<module>\u001b[1;34m\u001b[0m\n\u001b[0;32m      1\u001b[0m \u001b[1;32mimport\u001b[0m \u001b[0mnumpy\u001b[0m \u001b[1;32mas\u001b[0m \u001b[0mnp\u001b[0m\u001b[1;33m\u001b[0m\u001b[1;33m\u001b[0m\u001b[0m\n\u001b[1;32m----> 2\u001b[1;33m \u001b[0mprediction\u001b[0m \u001b[1;33m=\u001b[0m \u001b[0mclf\u001b[0m\u001b[1;33m.\u001b[0m\u001b[0mpredict\u001b[0m\u001b[1;33m(\u001b[0m\u001b[0mX_test\u001b[0m\u001b[1;33m)\u001b[0m\u001b[1;33m\u001b[0m\u001b[1;33m\u001b[0m\u001b[0m\n\u001b[0m\u001b[0;32m      3\u001b[0m \u001b[0macc\u001b[0m \u001b[1;33m=\u001b[0m  \u001b[0maccuracy_score\u001b[0m\u001b[1;33m(\u001b[0m\u001b[0mnp\u001b[0m\u001b[1;33m.\u001b[0m\u001b[0marray\u001b[0m\u001b[1;33m(\u001b[0m\u001b[0my_test\u001b[0m\u001b[1;33m)\u001b[0m\u001b[1;33m,\u001b[0m\u001b[0mprediction\u001b[0m\u001b[1;33m)\u001b[0m\u001b[1;33m\u001b[0m\u001b[1;33m\u001b[0m\u001b[0m\n\u001b[0;32m      4\u001b[0m \u001b[0mprint\u001b[0m \u001b[1;33m(\u001b[0m\u001b[1;34m'The accuracy of Random Forest is {}'\u001b[0m\u001b[1;33m.\u001b[0m\u001b[0mformat\u001b[0m\u001b[1;33m(\u001b[0m\u001b[0macc\u001b[0m\u001b[1;33m)\u001b[0m\u001b[1;33m)\u001b[0m\u001b[1;33m\u001b[0m\u001b[1;33m\u001b[0m\u001b[0m\n",
      "\u001b[1;32m~\\anaconda3\\lib\\site-packages\\sklearn\\ensemble\\_forest.py\u001b[0m in \u001b[0;36mpredict\u001b[1;34m(self, X)\u001b[0m\n\u001b[0;32m    610\u001b[0m             \u001b[0mThe\u001b[0m \u001b[0mpredicted\u001b[0m \u001b[0mclasses\u001b[0m\u001b[1;33m.\u001b[0m\u001b[1;33m\u001b[0m\u001b[1;33m\u001b[0m\u001b[0m\n\u001b[0;32m    611\u001b[0m         \"\"\"\n\u001b[1;32m--> 612\u001b[1;33m         \u001b[0mproba\u001b[0m \u001b[1;33m=\u001b[0m \u001b[0mself\u001b[0m\u001b[1;33m.\u001b[0m\u001b[0mpredict_proba\u001b[0m\u001b[1;33m(\u001b[0m\u001b[0mX\u001b[0m\u001b[1;33m)\u001b[0m\u001b[1;33m\u001b[0m\u001b[1;33m\u001b[0m\u001b[0m\n\u001b[0m\u001b[0;32m    613\u001b[0m \u001b[1;33m\u001b[0m\u001b[0m\n\u001b[0;32m    614\u001b[0m         \u001b[1;32mif\u001b[0m \u001b[0mself\u001b[0m\u001b[1;33m.\u001b[0m\u001b[0mn_outputs_\u001b[0m \u001b[1;33m==\u001b[0m \u001b[1;36m1\u001b[0m\u001b[1;33m:\u001b[0m\u001b[1;33m\u001b[0m\u001b[1;33m\u001b[0m\u001b[0m\n",
      "\u001b[1;32m~\\anaconda3\\lib\\site-packages\\sklearn\\ensemble\\_forest.py\u001b[0m in \u001b[0;36mpredict_proba\u001b[1;34m(self, X)\u001b[0m\n\u001b[0;32m    652\u001b[0m             \u001b[0mclasses\u001b[0m \u001b[0mcorresponds\u001b[0m \u001b[0mto\u001b[0m \u001b[0mthat\u001b[0m \u001b[1;32min\u001b[0m \u001b[0mthe\u001b[0m \u001b[0mattribute\u001b[0m \u001b[1;33m:\u001b[0m\u001b[0mterm\u001b[0m\u001b[1;33m:\u001b[0m\u001b[0;31m`\u001b[0m\u001b[0mclasses_\u001b[0m\u001b[0;31m`\u001b[0m\u001b[1;33m.\u001b[0m\u001b[1;33m\u001b[0m\u001b[1;33m\u001b[0m\u001b[0m\n\u001b[0;32m    653\u001b[0m         \"\"\"\n\u001b[1;32m--> 654\u001b[1;33m         \u001b[0mcheck_is_fitted\u001b[0m\u001b[1;33m(\u001b[0m\u001b[0mself\u001b[0m\u001b[1;33m)\u001b[0m\u001b[1;33m\u001b[0m\u001b[1;33m\u001b[0m\u001b[0m\n\u001b[0m\u001b[0;32m    655\u001b[0m         \u001b[1;31m# Check data\u001b[0m\u001b[1;33m\u001b[0m\u001b[1;33m\u001b[0m\u001b[1;33m\u001b[0m\u001b[0m\n\u001b[0;32m    656\u001b[0m         \u001b[0mX\u001b[0m \u001b[1;33m=\u001b[0m \u001b[0mself\u001b[0m\u001b[1;33m.\u001b[0m\u001b[0m_validate_X_predict\u001b[0m\u001b[1;33m(\u001b[0m\u001b[0mX\u001b[0m\u001b[1;33m)\u001b[0m\u001b[1;33m\u001b[0m\u001b[1;33m\u001b[0m\u001b[0m\n",
      "\u001b[1;32m~\\anaconda3\\lib\\site-packages\\sklearn\\utils\\validation.py\u001b[0m in \u001b[0;36mcheck_is_fitted\u001b[1;34m(estimator, attributes, msg, all_or_any)\u001b[0m\n\u001b[0;32m    965\u001b[0m \u001b[1;33m\u001b[0m\u001b[0m\n\u001b[0;32m    966\u001b[0m     \u001b[1;32mif\u001b[0m \u001b[1;32mnot\u001b[0m \u001b[0mattrs\u001b[0m\u001b[1;33m:\u001b[0m\u001b[1;33m\u001b[0m\u001b[1;33m\u001b[0m\u001b[0m\n\u001b[1;32m--> 967\u001b[1;33m         \u001b[1;32mraise\u001b[0m \u001b[0mNotFittedError\u001b[0m\u001b[1;33m(\u001b[0m\u001b[0mmsg\u001b[0m \u001b[1;33m%\u001b[0m \u001b[1;33m{\u001b[0m\u001b[1;34m'name'\u001b[0m\u001b[1;33m:\u001b[0m \u001b[0mtype\u001b[0m\u001b[1;33m(\u001b[0m\u001b[0mestimator\u001b[0m\u001b[1;33m)\u001b[0m\u001b[1;33m.\u001b[0m\u001b[0m__name__\u001b[0m\u001b[1;33m}\u001b[0m\u001b[1;33m)\u001b[0m\u001b[1;33m\u001b[0m\u001b[1;33m\u001b[0m\u001b[0m\n\u001b[0m\u001b[0;32m    968\u001b[0m \u001b[1;33m\u001b[0m\u001b[0m\n\u001b[0;32m    969\u001b[0m \u001b[1;33m\u001b[0m\u001b[0m\n",
      "\u001b[1;31mNotFittedError\u001b[0m: This RandomForestClassifier instance is not fitted yet. Call 'fit' with appropriate arguments before using this estimator."
     ]
    }
   ],
   "source": [
    "import numpy as np\n",
    "prediction = clf.predict(X_test)\n",
    "acc =  accuracy_score(np.array(y_test),prediction)\n",
    "print ('The accuracy of Random Forest is {}'.format(acc))"
   ]
  }
 ],
 "metadata": {
  "kernelspec": {
   "display_name": "Python 3",
   "language": "python",
   "name": "python3"
  },
  "language_info": {
   "codemirror_mode": {
    "name": "ipython",
    "version": 3
   },
   "file_extension": ".py",
   "mimetype": "text/x-python",
   "name": "python",
   "nbconvert_exporter": "python",
   "pygments_lexer": "ipython3",
   "version": "3.7.6"
  }
 },
 "nbformat": 4,
 "nbformat_minor": 4
}
