{
 "cells": [
  {
   "cell_type": "code",
   "execution_count": 37,
   "metadata": {},
   "outputs": [
    {
     "name": "stdout",
     "output_type": "stream",
     "text": [
      "24 µs ± 0 ns per loop (mean ± std. dev. of 1 run, 1 loop each)\n",
      "30.3 µs ± 0 ns per loop (mean ± std. dev. of 1 run, 1 loop each)\n",
      "19.1 µs ± 0 ns per loop (mean ± std. dev. of 1 run, 1 loop each)\n",
      "95.3 µs ± 0 ns per loop (mean ± std. dev. of 1 run, 1 loop each)\n",
      "17.9 µs ± 0 ns per loop (mean ± std. dev. of 1 run, 1 loop each)\n",
      "18.1 µs ± 0 ns per loop (mean ± std. dev. of 1 run, 1 loop each)\n",
      "17.3 µs ± 0 ns per loop (mean ± std. dev. of 1 run, 1 loop each)\n",
      "17.9 µs ± 0 ns per loop (mean ± std. dev. of 1 run, 1 loop each)\n",
      "17.5 µs ± 0 ns per loop (mean ± std. dev. of 1 run, 1 loop each)\n",
      "17.5 µs ± 0 ns per loop (mean ± std. dev. of 1 run, 1 loop each)\n",
      "18.4 µs ± 0 ns per loop (mean ± std. dev. of 1 run, 1 loop each)\n",
      "17.2 µs ± 0 ns per loop (mean ± std. dev. of 1 run, 1 loop each)\n",
      "17.7 µs ± 0 ns per loop (mean ± std. dev. of 1 run, 1 loop each)\n",
      "18 µs ± 0 ns per loop (mean ± std. dev. of 1 run, 1 loop each)\n",
      "19.5 µs ± 0 ns per loop (mean ± std. dev. of 1 run, 1 loop each)\n",
      "30 µs ± 0 ns per loop (mean ± std. dev. of 1 run, 1 loop each)\n",
      "17.1 µs ± 0 ns per loop (mean ± std. dev. of 1 run, 1 loop each)\n",
      "17.9 µs ± 0 ns per loop (mean ± std. dev. of 1 run, 1 loop each)\n",
      "18.2 µs ± 0 ns per loop (mean ± std. dev. of 1 run, 1 loop each)\n",
      "17.9 µs ± 0 ns per loop (mean ± std. dev. of 1 run, 1 loop each)\n",
      "17.6 µs ± 0 ns per loop (mean ± std. dev. of 1 run, 1 loop each)\n",
      "17.6 µs ± 0 ns per loop (mean ± std. dev. of 1 run, 1 loop each)\n",
      "18.3 µs ± 0 ns per loop (mean ± std. dev. of 1 run, 1 loop each)\n",
      "17.7 µs ± 0 ns per loop (mean ± std. dev. of 1 run, 1 loop each)\n",
      "17.7 µs ± 0 ns per loop (mean ± std. dev. of 1 run, 1 loop each)\n",
      "21.9 µs ± 0 ns per loop (mean ± std. dev. of 1 run, 1 loop each)\n",
      "19 µs ± 0 ns per loop (mean ± std. dev. of 1 run, 1 loop each)\n",
      "30.2 µs ± 0 ns per loop (mean ± std. dev. of 1 run, 1 loop each)\n",
      "17.7 µs ± 0 ns per loop (mean ± std. dev. of 1 run, 1 loop each)\n",
      "17.4 µs ± 0 ns per loop (mean ± std. dev. of 1 run, 1 loop each)\n",
      "19.2 µs ± 0 ns per loop (mean ± std. dev. of 1 run, 1 loop each)\n",
      "29.1 µs ± 0 ns per loop (mean ± std. dev. of 1 run, 1 loop each)\n",
      "17.3 µs ± 0 ns per loop (mean ± std. dev. of 1 run, 1 loop each)\n",
      "17.3 µs ± 0 ns per loop (mean ± std. dev. of 1 run, 1 loop each)\n",
      "30.3 µs ± 0 ns per loop (mean ± std. dev. of 1 run, 1 loop each)\n",
      "28.4 µs ± 0 ns per loop (mean ± std. dev. of 1 run, 1 loop each)\n",
      "17.9 µs ± 0 ns per loop (mean ± std. dev. of 1 run, 1 loop each)\n",
      "18 µs ± 0 ns per loop (mean ± std. dev. of 1 run, 1 loop each)\n",
      "18.4 µs ± 0 ns per loop (mean ± std. dev. of 1 run, 1 loop each)\n",
      "17.8 µs ± 0 ns per loop (mean ± std. dev. of 1 run, 1 loop each)\n",
      "17.2 µs ± 0 ns per loop (mean ± std. dev. of 1 run, 1 loop each)\n",
      "16.3 µs ± 0 ns per loop (mean ± std. dev. of 1 run, 1 loop each)\n",
      "19.1 µs ± 0 ns per loop (mean ± std. dev. of 1 run, 1 loop each)\n",
      "17.3 µs ± 0 ns per loop (mean ± std. dev. of 1 run, 1 loop each)\n",
      "18.2 µs ± 0 ns per loop (mean ± std. dev. of 1 run, 1 loop each)\n",
      "17.8 µs ± 0 ns per loop (mean ± std. dev. of 1 run, 1 loop each)\n",
      "18.9 µs ± 0 ns per loop (mean ± std. dev. of 1 run, 1 loop each)\n",
      "17.5 µs ± 0 ns per loop (mean ± std. dev. of 1 run, 1 loop each)\n",
      "34.1 µs ± 0 ns per loop (mean ± std. dev. of 1 run, 1 loop each)\n",
      "17.8 µs ± 0 ns per loop (mean ± std. dev. of 1 run, 1 loop each)\n",
      "19.2 µs ± 0 ns per loop (mean ± std. dev. of 1 run, 1 loop each)\n",
      "17.2 µs ± 0 ns per loop (mean ± std. dev. of 1 run, 1 loop each)\n",
      "17.7 µs ± 0 ns per loop (mean ± std. dev. of 1 run, 1 loop each)\n",
      "17.3 µs ± 0 ns per loop (mean ± std. dev. of 1 run, 1 loop each)\n",
      "30.2 µs ± 0 ns per loop (mean ± std. dev. of 1 run, 1 loop each)\n",
      "17.3 µs ± 0 ns per loop (mean ± std. dev. of 1 run, 1 loop each)\n",
      "17.6 µs ± 0 ns per loop (mean ± std. dev. of 1 run, 1 loop each)\n",
      "17 µs ± 0 ns per loop (mean ± std. dev. of 1 run, 1 loop each)\n",
      "17.3 µs ± 0 ns per loop (mean ± std. dev. of 1 run, 1 loop each)\n",
      "17.7 µs ± 0 ns per loop (mean ± std. dev. of 1 run, 1 loop each)\n",
      "17.9 µs ± 0 ns per loop (mean ± std. dev. of 1 run, 1 loop each)\n",
      "18.2 µs ± 0 ns per loop (mean ± std. dev. of 1 run, 1 loop each)\n",
      "19.2 µs ± 0 ns per loop (mean ± std. dev. of 1 run, 1 loop each)\n",
      "17.7 µs ± 0 ns per loop (mean ± std. dev. of 1 run, 1 loop each)\n",
      "17.6 µs ± 0 ns per loop (mean ± std. dev. of 1 run, 1 loop each)\n",
      "18 µs ± 0 ns per loop (mean ± std. dev. of 1 run, 1 loop each)\n",
      "30.7 µs ± 0 ns per loop (mean ± std. dev. of 1 run, 1 loop each)\n",
      "16.2 µs ± 0 ns per loop (mean ± std. dev. of 1 run, 1 loop each)\n",
      "16.3 µs ± 0 ns per loop (mean ± std. dev. of 1 run, 1 loop each)\n",
      "17 µs ± 0 ns per loop (mean ± std. dev. of 1 run, 1 loop each)\n",
      "18.1 µs ± 0 ns per loop (mean ± std. dev. of 1 run, 1 loop each)\n",
      "17.4 µs ± 0 ns per loop (mean ± std. dev. of 1 run, 1 loop each)\n",
      "16.4 µs ± 0 ns per loop (mean ± std. dev. of 1 run, 1 loop each)\n",
      "17.1 µs ± 0 ns per loop (mean ± std. dev. of 1 run, 1 loop each)\n",
      "18.9 µs ± 0 ns per loop (mean ± std. dev. of 1 run, 1 loop each)\n",
      "16.1 µs ± 0 ns per loop (mean ± std. dev. of 1 run, 1 loop each)\n",
      "17.9 µs ± 0 ns per loop (mean ± std. dev. of 1 run, 1 loop each)\n",
      "16.3 µs ± 0 ns per loop (mean ± std. dev. of 1 run, 1 loop each)\n",
      "17.6 µs ± 0 ns per loop (mean ± std. dev. of 1 run, 1 loop each)\n",
      "16.4 µs ± 0 ns per loop (mean ± std. dev. of 1 run, 1 loop each)\n"
     ]
    }
   ],
   "source": [
    "import numpy as np\n",
    "normalsort=[]\n",
    "mergesort=[]\n",
    "quicksort=[]\n",
    "heapsort=[]\n",
    "stablesort=[]\n",
    "\n",
    "sizes=[100]\n",
    "\n",
    "for s in sizes:\n",
    "    for _ in range(20):\n",
    "        arr=np.random.randint(10000000, size=s)\n",
    "    \n",
    "        x=np.copy(arr)\n",
    "        r2=%timeit -n1 -r1 -o np.sort(x, kind='quicksort')\n",
    "        quicksort.append(r2.average)\n",
    "    \n",
    "        x=np.copy(arr)\n",
    "        r3=%timeit -n1 -r1 -o np.sort(x, kind='mergesort')\n",
    "        mergesort.append(r3.average)\n",
    "\n",
    "        x=np.copy(arr)\n",
    "        r4=%timeit -n1 -r1 -o np.sort(x, kind='heapsort')\n",
    "        heapsort.append(r4.average)\n",
    "    \n",
    "        x=np.copy(arr)\n",
    "        r5=%timeit -n1 -r1 -o np.sort(x, kind='stablesort')\n",
    "        stablesort.append(r5.average)\n",
    "        "
   ]
  },
  {
   "cell_type": "code",
   "execution_count": 38,
   "metadata": {},
   "outputs": [
    {
     "data": {
      "text/plain": [
       "[<matplotlib.lines.Line2D at 0x7f2c9c8af150>]"
      ]
     },
     "execution_count": 38,
     "metadata": {},
     "output_type": "execute_result"
    },
    {
     "data": {
      "image/png": "[encoded data removed]",
      "text/plain": [
       "<Figure size 432x288 with 1 Axes>"
      ]
     },
     "metadata": {
      "needs_background": "light"
     },
     "output_type": "display_data"
    }
   ],
   "source": [
    "import matplotlib.pyplot as plt\n",
    "plt.plot(normalsort, color='black')\n",
    "plt.plot(quicksort, color='red')\n",
    "plt.plot(heapsort, color='green')\n",
    "plt.plot(stablesort, color='blue')\n",
    "plt.plot(mergesort, color='yellow')"
   ]
  },
  {
   "cell_type": "code",
   "execution_count": 39,
   "metadata": {},
   "outputs": [
    {
     "data": {
      "text/plain": [
       "array([[0.61185289, 0.13949386],\n",
       "       [0.29214465, 0.36636184],\n",
       "       [0.45606998, 0.78517596],\n",
       "       [0.19967378, 0.51423444],\n",
       "       [0.59241457, 0.04645041],\n",
       "       [0.60754485, 0.17052412],\n",
       "       [0.06505159, 0.94888554],\n",
       "       [0.96563203, 0.80839735],\n",
       "       [0.30461377, 0.09767211],\n",
       "       [0.68423303, 0.44015249]])"
      ]
     },
     "execution_count": 39,
     "metadata": {},
     "output_type": "execute_result"
    }
   ],
   "source": [
    "x=np.array([[0.61185289, 0.13949386],\n",
    "       [0.29214465, 0.36636184],\n",
    "       [0.45606998, 0.78517596],\n",
    "       [0.19967378, 0.51423444],\n",
    "       [0.59241457, 0.04645041],\n",
    "       [0.60754485, 0.17052412],\n",
    "       [0.06505159, 0.94888554],\n",
    "       [0.96563203, 0.80839735],\n",
    "       [0.30461377, 0.09767211],\n",
    "       [0.68423303, 0.44015249]])\n",
    "x"
   ]
  },
  {
   "cell_type": "code",
   "execution_count": 40,
   "metadata": {},
   "outputs": [
    {
     "data": {
      "text/plain": [
       "<matplotlib.legend.Legend at 0x7f2c9c842790>"
      ]
     },
     "execution_count": 40,
     "metadata": {},
     "output_type": "execute_result"
    },
    {
     "data": {
      "image/png": "[encoded data removed]",
      "text/plain": [
       "<Figure size 432x288 with 1 Axes>"
      ]
     },
     "metadata": {
      "needs_background": "light"
     },
     "output_type": "display_data"
    }
   ],
   "source": [
    "plt.xticks(np.arange(0, 1.1, .1))\n",
    "plt.yticks(np.arange(0, 1.1, .1))\n",
    "\n",
    "for p in x:\n",
    "    plt.scatter(p[0], p[1])\n",
    "plt.legend(np.arange(10))\n"
   ]
  },
  {
   "cell_type": "code",
   "execution_count": 41,
   "metadata": {},
   "outputs": [
    {
     "data": {
      "text/plain": [
       "array([[121,  86,  39,  22],\n",
       "       [ 46,  92,  41, 197],\n",
       "       [122, 143, 109,  40],\n",
       "       [113, 130, 131, 184],\n",
       "       [190, 144,  41, 113],\n",
       "       [  8,  17, 148, 194],\n",
       "       [120,  87, 170, 143],\n",
       "       [ 54,  31,  64, 130],\n",
       "       [144, 178, 182, 151],\n",
       "       [ 20,  92, 155,  13]])"
      ]
     },
     "execution_count": 41,
     "metadata": {},
     "output_type": "execute_result"
    }
   ],
   "source": [
    "arr=np.random.randint(200, size=[10,4])\n",
    "arr"
   ]
  },
  {
   "cell_type": "code",
   "execution_count": 45,
   "metadata": {},
   "outputs": [
    {
     "data": {
      "text/plain": [
       "<matplotlib.collections.PathCollection at 0x7f2c710ef090>"
      ]
     },
     "execution_count": 45,
     "metadata": {},
     "output_type": "execute_result"
    },
    {
     "data": {
      "image/png": "[encoded data removed]",
      "text/plain": [
       "<Figure size 432x288 with 1 Axes>"
      ]
     },
     "metadata": {
      "needs_background": "light"
     },
     "output_type": "display_data"
    }
   ],
   "source": [
    "plt.scatter(arr[:, 0], arr[:, 1], arr[:, 2], arr[:, 3])"
   ]
  },
  {
   "cell_type": "code",
   "execution_count": null,
   "metadata": {},
   "outputs": [],
   "source": [
    "from mpl_toolkits.mplot3d import Axes3D\n",
    "import matplotlib.pyplot as plt\n",
    "\n",
    "\n",
    "\n",
    "fig = plt.figure()\n",
    "ax = fig.add_subplot(111, projection='3d')\n",
    "\n",
    "x =[1,2,3,4,5,6,7,8,9,10]\n",
    "y =[5,6,2,3,13,4,1,2,4,8]\n",
    "z =[2,3,3,3,5,7,9,11,9,10]\n",
    "\n",
    "\n",
    "\n",
    "ax.scatter(x, y, z, c='r', marker='o')\n",
    "\n",
    "ax.set_xlabel('X Label')\n",
    "ax.set_ylabel('Y Label')\n",
    "ax.set_zlabel('Z Label')\n",
    "\n",
    "plt.show()"
   ]
  }
 ],
 "metadata": {
  "kernelspec": {
   "display_name": "Python 3",
   "language": "python",
   "name": "python3"
  },
  "language_info": {
   "codemirror_mode": {
    "name": "ipython",
    "version": 3
   },
   "file_extension": ".py",
   "mimetype": "text/x-python",
   "name": "python",
   "nbconvert_exporter": "python",
   "pygments_lexer": "ipython3",
   "version": "3.7.6"
  }
 },
 "nbformat": 4,
 "nbformat_minor": 4
}
