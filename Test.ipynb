{
 "cells": [
  {
   "cell_type": "code",
   "execution_count": 1,
   "metadata": {},
   "outputs": [
    {
     "name": "stdout",
     "output_type": "stream",
     "text": [
      "25.7 µs ± 0 ns per loop (mean ± std. dev. of 1 run, 1 loop each)\n",
      "25.4 µs ± 0 ns per loop (mean ± std. dev. of 1 run, 1 loop each)\n",
      "18.4 µs ± 0 ns per loop (mean ± std. dev. of 1 run, 1 loop each)\n",
      "16.9 µs ± 0 ns per loop (mean ± std. dev. of 1 run, 1 loop each)\n",
      "16.5 µs ± 0 ns per loop (mean ± std. dev. of 1 run, 1 loop each)\n",
      "17 µs ± 0 ns per loop (mean ± std. dev. of 1 run, 1 loop each)\n",
      "17.9 µs ± 0 ns per loop (mean ± std. dev. of 1 run, 1 loop each)\n",
      "17.9 µs ± 0 ns per loop (mean ± std. dev. of 1 run, 1 loop each)\n",
      "14.8 µs ± 0 ns per loop (mean ± std. dev. of 1 run, 1 loop each)\n",
      "15.6 µs ± 0 ns per loop (mean ± std. dev. of 1 run, 1 loop each)\n",
      "18.1 µs ± 0 ns per loop (mean ± std. dev. of 1 run, 1 loop each)\n",
      "17.3 µs ± 0 ns per loop (mean ± std. dev. of 1 run, 1 loop each)\n",
      "16.9 µs ± 0 ns per loop (mean ± std. dev. of 1 run, 1 loop each)\n",
      "17.1 µs ± 0 ns per loop (mean ± std. dev. of 1 run, 1 loop each)\n",
      "16.6 µs ± 0 ns per loop (mean ± std. dev. of 1 run, 1 loop each)\n",
      "16.1 µs ± 0 ns per loop (mean ± std. dev. of 1 run, 1 loop each)\n",
      "16.5 µs ± 0 ns per loop (mean ± std. dev. of 1 run, 1 loop each)\n",
      "17.1 µs ± 0 ns per loop (mean ± std. dev. of 1 run, 1 loop each)\n",
      "17.5 µs ± 0 ns per loop (mean ± std. dev. of 1 run, 1 loop each)\n",
      "16.7 µs ± 0 ns per loop (mean ± std. dev. of 1 run, 1 loop each)\n",
      "16.9 µs ± 0 ns per loop (mean ± std. dev. of 1 run, 1 loop each)\n",
      "17 µs ± 0 ns per loop (mean ± std. dev. of 1 run, 1 loop each)\n",
      "18.4 µs ± 0 ns per loop (mean ± std. dev. of 1 run, 1 loop each)\n",
      "17 µs ± 0 ns per loop (mean ± std. dev. of 1 run, 1 loop each)\n",
      "22.2 µs ± 0 ns per loop (mean ± std. dev. of 1 run, 1 loop each)\n",
      "17 µs ± 0 ns per loop (mean ± std. dev. of 1 run, 1 loop each)\n",
      "18.1 µs ± 0 ns per loop (mean ± std. dev. of 1 run, 1 loop each)\n",
      "17.1 µs ± 0 ns per loop (mean ± std. dev. of 1 run, 1 loop each)\n",
      "15.5 µs ± 0 ns per loop (mean ± std. dev. of 1 run, 1 loop each)\n",
      "16.1 µs ± 0 ns per loop (mean ± std. dev. of 1 run, 1 loop each)\n",
      "17.9 µs ± 0 ns per loop (mean ± std. dev. of 1 run, 1 loop each)\n",
      "17.8 µs ± 0 ns per loop (mean ± std. dev. of 1 run, 1 loop each)\n",
      "16.8 µs ± 0 ns per loop (mean ± std. dev. of 1 run, 1 loop each)\n",
      "15.6 µs ± 0 ns per loop (mean ± std. dev. of 1 run, 1 loop each)\n",
      "18.2 µs ± 0 ns per loop (mean ± std. dev. of 1 run, 1 loop each)\n",
      "16.8 µs ± 0 ns per loop (mean ± std. dev. of 1 run, 1 loop each)\n",
      "15.2 µs ± 0 ns per loop (mean ± std. dev. of 1 run, 1 loop each)\n",
      "15.7 µs ± 0 ns per loop (mean ± std. dev. of 1 run, 1 loop each)\n",
      "16.5 µs ± 0 ns per loop (mean ± std. dev. of 1 run, 1 loop each)\n",
      "16.7 µs ± 0 ns per loop (mean ± std. dev. of 1 run, 1 loop each)\n",
      "16.6 µs ± 0 ns per loop (mean ± std. dev. of 1 run, 1 loop each)\n",
      "16.3 µs ± 0 ns per loop (mean ± std. dev. of 1 run, 1 loop each)\n",
      "18.4 µs ± 0 ns per loop (mean ± std. dev. of 1 run, 1 loop each)\n",
      "16.1 µs ± 0 ns per loop (mean ± std. dev. of 1 run, 1 loop each)\n",
      "16.7 µs ± 0 ns per loop (mean ± std. dev. of 1 run, 1 loop each)\n",
      "16.4 µs ± 0 ns per loop (mean ± std. dev. of 1 run, 1 loop each)\n",
      "18.5 µs ± 0 ns per loop (mean ± std. dev. of 1 run, 1 loop each)\n",
      "15.9 µs ± 0 ns per loop (mean ± std. dev. of 1 run, 1 loop each)\n",
      "15.5 µs ± 0 ns per loop (mean ± std. dev. of 1 run, 1 loop each)\n",
      "16.9 µs ± 0 ns per loop (mean ± std. dev. of 1 run, 1 loop each)\n",
      "18 µs ± 0 ns per loop (mean ± std. dev. of 1 run, 1 loop each)\n",
      "16.1 µs ± 0 ns per loop (mean ± std. dev. of 1 run, 1 loop each)\n",
      "16.5 µs ± 0 ns per loop (mean ± std. dev. of 1 run, 1 loop each)\n",
      "15.6 µs ± 0 ns per loop (mean ± std. dev. of 1 run, 1 loop each)\n",
      "16.4 µs ± 0 ns per loop (mean ± std. dev. of 1 run, 1 loop each)\n",
      "17.4 µs ± 0 ns per loop (mean ± std. dev. of 1 run, 1 loop each)\n",
      "15.4 µs ± 0 ns per loop (mean ± std. dev. of 1 run, 1 loop each)\n",
      "15.4 µs ± 0 ns per loop (mean ± std. dev. of 1 run, 1 loop each)\n",
      "17.4 µs ± 0 ns per loop (mean ± std. dev. of 1 run, 1 loop each)\n",
      "15.5 µs ± 0 ns per loop (mean ± std. dev. of 1 run, 1 loop each)\n",
      "16.6 µs ± 0 ns per loop (mean ± std. dev. of 1 run, 1 loop each)\n",
      "17.3 µs ± 0 ns per loop (mean ± std. dev. of 1 run, 1 loop each)\n",
      "17.9 µs ± 0 ns per loop (mean ± std. dev. of 1 run, 1 loop each)\n",
      "17.6 µs ± 0 ns per loop (mean ± std. dev. of 1 run, 1 loop each)\n",
      "16.6 µs ± 0 ns per loop (mean ± std. dev. of 1 run, 1 loop each)\n",
      "17 µs ± 0 ns per loop (mean ± std. dev. of 1 run, 1 loop each)\n",
      "18.3 µs ± 0 ns per loop (mean ± std. dev. of 1 run, 1 loop each)\n",
      "16.9 µs ± 0 ns per loop (mean ± std. dev. of 1 run, 1 loop each)\n",
      "16.6 µs ± 0 ns per loop (mean ± std. dev. of 1 run, 1 loop each)\n",
      "17 µs ± 0 ns per loop (mean ± std. dev. of 1 run, 1 loop each)\n",
      "18.4 µs ± 0 ns per loop (mean ± std. dev. of 1 run, 1 loop each)\n",
      "16.9 µs ± 0 ns per loop (mean ± std. dev. of 1 run, 1 loop each)\n",
      "16.7 µs ± 0 ns per loop (mean ± std. dev. of 1 run, 1 loop each)\n",
      "16.7 µs ± 0 ns per loop (mean ± std. dev. of 1 run, 1 loop each)\n",
      "18.5 µs ± 0 ns per loop (mean ± std. dev. of 1 run, 1 loop each)\n",
      "17.2 µs ± 0 ns per loop (mean ± std. dev. of 1 run, 1 loop each)\n",
      "16.7 µs ± 0 ns per loop (mean ± std. dev. of 1 run, 1 loop each)\n",
      "17.1 µs ± 0 ns per loop (mean ± std. dev. of 1 run, 1 loop each)\n",
      "18.3 µs ± 0 ns per loop (mean ± std. dev. of 1 run, 1 loop each)\n",
      "17.1 µs ± 0 ns per loop (mean ± std. dev. of 1 run, 1 loop each)\n"
     ]
    }
   ],
   "source": [
    "import numpy as np\n",
    "normalsort=[]\n",
    "mergesort=[]\n",
    "quicksort=[]\n",
    "heapsort=[]\n",
    "stablesort=[]\n",
    "\n",
    "sizes=[100]\n",
    "\n",
    "for s in sizes:\n",
    "    for _ in range(20):\n",
    "        arr=np.random.randint(10000000, size=s)\n",
    "    \n",
    "        x=np.copy(arr)\n",
    "        r2=%timeit -n1 -r1 -o np.sort(x, kind='quicksort')\n",
    "        quicksort.append(r2.average)\n",
    "    \n",
    "        x=np.copy(arr)\n",
    "        r3=%timeit -n1 -r1 -o np.sort(x, kind='mergesort')\n",
    "        mergesort.append(r3.average)\n",
    "\n",
    "        x=np.copy(arr)\n",
    "        r4=%timeit -n1 -r1 -o np.sort(x, kind='heapsort')\n",
    "        heapsort.append(r4.average)\n",
    "    \n",
    "        x=np.copy(arr)\n",
    "        r5=%timeit -n1 -r1 -o np.sort(x, kind='stablesort')\n",
    "        stablesort.append(r5.average)\n",
    "        "
   ]
  },
  {
   "cell_type": "code",
   "execution_count": 2,
   "metadata": {},
   "outputs": [
    {
     "data": {
      "text/plain": [
       "[<matplotlib.lines.Line2D at 0x7f6918237610>]"
      ]
     },
     "execution_count": 2,
     "metadata": {},
     "output_type": "execute_result"
    },
    {
     "data": {
      "image/png": "[encoded data removed]",
      "text/plain": [
       "<Figure size 432x288 with 1 Axes>"
      ]
     },
     "metadata": {
      "needs_background": "light"
     },
     "output_type": "display_data"
    }
   ],
   "source": [
    "import matplotlib.pyplot as plt\n",
    "plt.plot(normalsort, color='black')\n",
    "plt.plot(quicksort, color='red')\n",
    "plt.plot(heapsort, color='green')\n",
    "plt.plot(stablesort, color='blue')\n",
    "plt.plot(mergesort, color='yellow')"
   ]
  },
  {
   "cell_type": "code",
   "execution_count": 3,
   "metadata": {},
   "outputs": [
    {
     "data": {
      "text/plain": [
       "array([[0.61185289, 0.13949386],\n",
       "       [0.29214465, 0.36636184],\n",
       "       [0.45606998, 0.78517596],\n",
       "       [0.19967378, 0.51423444],\n",
       "       [0.59241457, 0.04645041],\n",
       "       [0.60754485, 0.17052412],\n",
       "       [0.06505159, 0.94888554],\n",
       "       [0.96563203, 0.80839735],\n",
       "       [0.30461377, 0.09767211],\n",
       "       [0.68423303, 0.44015249]])"
      ]
     },
     "execution_count": 3,
     "metadata": {},
     "output_type": "execute_result"
    }
   ],
   "source": [
    "x=np.array([[0.61185289, 0.13949386],\n",
    "       [0.29214465, 0.36636184],\n",
    "       [0.45606998, 0.78517596],\n",
    "       [0.19967378, 0.51423444],\n",
    "       [0.59241457, 0.04645041],\n",
    "       [0.60754485, 0.17052412],\n",
    "       [0.06505159, 0.94888554],\n",
    "       [0.96563203, 0.80839735],\n",
    "       [0.30461377, 0.09767211],\n",
    "       [0.68423303, 0.44015249]])\n",
    "x"
   ]
  },
  {
   "cell_type": "code",
   "execution_count": 4,
   "metadata": {},
   "outputs": [
    {
     "data": {
      "text/plain": [
       "<matplotlib.legend.Legend at 0x7f690b3b6b50>"
      ]
     },
     "execution_count": 4,
     "metadata": {},
     "output_type": "execute_result"
    },
    {
     "data": {
      "image/png": "[encoded data removed]",
      "text/plain": [
       "<Figure size 432x288 with 1 Axes>"
      ]
     },
     "metadata": {
      "needs_background": "light"
     },
     "output_type": "display_data"
    }
   ],
   "source": [
    "plt.xticks(np.arange(0, 1.1, .1))\n",
    "plt.yticks(np.arange(0, 1.1, .1))\n",
    "\n",
    "for p in x:\n",
    "    plt.scatter(p[0], p[1])\n",
    "plt.legend(np.arange(10))\n"
   ]
  },
  {
   "cell_type": "code",
   "execution_count": 5,
   "metadata": {},
   "outputs": [
    {
     "data": {
      "text/plain": [
       "array([[  8, 140,   2,  60],\n",
       "       [167, 136, 172, 123],\n",
       "       [148, 196, 139,  92],\n",
       "       [ 21, 158, 115,  13],\n",
       "       [ 38, 106,  99, 101],\n",
       "       [ 17, 118,  42, 109],\n",
       "       [160,  14,  56, 154],\n",
       "       [ 40, 186,  48,  80],\n",
       "       [ 22,  11, 111, 170],\n",
       "       [ 69, 139,   9,  21]])"
      ]
     },
     "execution_count": 5,
     "metadata": {},
     "output_type": "execute_result"
    }
   ],
   "source": [
    "arr=np.random.randint(200, size=[10,4])\n",
    "arr"
   ]
  },
  {
   "cell_type": "code",
   "execution_count": 6,
   "metadata": {},
   "outputs": [
    {
     "data": {
      "text/plain": [
       "<matplotlib.collections.PathCollection at 0x7f690b440b50>"
      ]
     },
     "execution_count": 6,
     "metadata": {},
     "output_type": "execute_result"
    },
    {
     "data": {
      "image/png": "[encoded data removed]",
      "text/plain": [
       "<Figure size 432x288 with 1 Axes>"
      ]
     },
     "metadata": {
      "needs_background": "light"
     },
     "output_type": "display_data"
    }
   ],
   "source": [
    "plt.scatter(arr[:, 0], arr[:, 1], arr[:, 2], arr[:, 3])"
   ]
  },
  {
   "cell_type": "code",
   "execution_count": 7,
   "metadata": {},
   "outputs": [],
   "source": [
    "X = np.random.rand(10, 2)"
   ]
  },
  {
   "cell_type": "code",
   "execution_count": 8,
   "metadata": {},
   "outputs": [
    {
     "data": {
      "text/plain": [
       "array([[0.78644134, 0.07642707],\n",
       "       [0.87146408, 0.30198172],\n",
       "       [0.10929676, 0.36478852],\n",
       "       [0.93430697, 0.17921803],\n",
       "       [0.33025141, 0.64376443],\n",
       "       [0.05852897, 0.95810766],\n",
       "       [0.46187176, 0.97087375],\n",
       "       [0.70672782, 0.37142115],\n",
       "       [0.28750298, 0.48307428],\n",
       "       [0.2053943 , 0.04407519]])"
      ]
     },
     "execution_count": 8,
     "metadata": {},
     "output_type": "execute_result"
    }
   ],
   "source": [
    "X"
   ]
  },
  {
   "cell_type": "code",
   "execution_count": 9,
   "metadata": {},
   "outputs": [
    {
     "data": {
      "text/plain": [
       "array([[[0.78644134, 0.07642707]],\n",
       "\n",
       "       [[0.87146408, 0.30198172]],\n",
       "\n",
       "       [[0.10929676, 0.36478852]],\n",
       "\n",
       "       [[0.93430697, 0.17921803]],\n",
       "\n",
       "       [[0.33025141, 0.64376443]],\n",
       "\n",
       "       [[0.05852897, 0.95810766]],\n",
       "\n",
       "       [[0.46187176, 0.97087375]],\n",
       "\n",
       "       [[0.70672782, 0.37142115]],\n",
       "\n",
       "       [[0.28750298, 0.48307428]],\n",
       "\n",
       "       [[0.2053943 , 0.04407519]]])"
      ]
     },
     "execution_count": 9,
     "metadata": {},
     "output_type": "execute_result"
    }
   ],
   "source": [
    "X[:, np.newaxis, :]"
   ]
  },
  {
   "cell_type": "code",
   "execution_count": 10,
   "metadata": {},
   "outputs": [
    {
     "data": {
      "text/plain": [
       "array([[ 0,  8],\n",
       "       [16,  4],\n",
       "       [10, 14],\n",
       "       [ 5, 16],\n",
       "       [11,  9],\n",
       "       [13, 17],\n",
       "       [11,  1],\n",
       "       [ 7, 18],\n",
       "       [17, 11],\n",
       "       [17, 17]])"
      ]
     },
     "execution_count": 10,
     "metadata": {},
     "output_type": "execute_result"
    }
   ],
   "source": [
    "x=np.random.randint(20, size=[10, 2])\n",
    "x"
   ]
  }
 ],
 "metadata": {
  "kernelspec": {
   "display_name": "Python 3",
   "language": "python",
   "name": "python3"
  },
  "language_info": {
   "codemirror_mode": {
    "name": "ipython",
    "version": 3
   },
   "file_extension": ".py",
   "mimetype": "text/x-python",
   "name": "python",
   "nbconvert_exporter": "python",
   "pygments_lexer": "ipython3",
   "version": "3.7.6"
  }
 },
 "nbformat": 4,
 "nbformat_minor": 4
}
