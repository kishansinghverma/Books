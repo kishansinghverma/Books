{
 "cells": [
  {
   "cell_type": "code",
   "execution_count": 1,
   "metadata": {},
   "outputs": [
    {
     "name": "stdout",
     "output_type": "stream",
     "text": [
      "24.4 µs ± 0 ns per loop (mean ± std. dev. of 1 run, 1 loop each)\n",
      "45.4 µs ± 0 ns per loop (mean ± std. dev. of 1 run, 1 loop each)\n",
      "24 µs ± 0 ns per loop (mean ± std. dev. of 1 run, 1 loop each)\n",
      "28.6 µs ± 0 ns per loop (mean ± std. dev. of 1 run, 1 loop each)\n",
      "16.1 µs ± 0 ns per loop (mean ± std. dev. of 1 run, 1 loop each)\n",
      "23.4 µs ± 0 ns per loop (mean ± std. dev. of 1 run, 1 loop each)\n",
      "16.9 µs ± 0 ns per loop (mean ± std. dev. of 1 run, 1 loop each)\n",
      "16.9 µs ± 0 ns per loop (mean ± std. dev. of 1 run, 1 loop each)\n",
      "378 µs ± 0 ns per loop (mean ± std. dev. of 1 run, 1 loop each)\n",
      "18.2 µs ± 0 ns per loop (mean ± std. dev. of 1 run, 1 loop each)\n",
      "16.7 µs ± 0 ns per loop (mean ± std. dev. of 1 run, 1 loop each)\n",
      "32.9 µs ± 0 ns per loop (mean ± std. dev. of 1 run, 1 loop each)\n",
      "28.1 µs ± 0 ns per loop (mean ± std. dev. of 1 run, 1 loop each)\n",
      "17.4 µs ± 0 ns per loop (mean ± std. dev. of 1 run, 1 loop each)\n",
      "2.28 ms ± 0 ns per loop (mean ± std. dev. of 1 run, 1 loop each)\n",
      "31.7 µs ± 0 ns per loop (mean ± std. dev. of 1 run, 1 loop each)\n",
      "16.7 µs ± 0 ns per loop (mean ± std. dev. of 1 run, 1 loop each)\n",
      "17.6 µs ± 0 ns per loop (mean ± std. dev. of 1 run, 1 loop each)\n",
      "36.6 ms ± 0 ns per loop (mean ± std. dev. of 1 run, 1 loop each)\n",
      "20.7 µs ± 0 ns per loop (mean ± std. dev. of 1 run, 1 loop each)\n",
      "16.4 µs ± 0 ns per loop (mean ± std. dev. of 1 run, 1 loop each)\n",
      "17.4 µs ± 0 ns per loop (mean ± std. dev. of 1 run, 1 loop each)\n",
      "22.9 µs ± 0 ns per loop (mean ± std. dev. of 1 run, 1 loop each)\n",
      "28.1 µs ± 0 ns per loop (mean ± std. dev. of 1 run, 1 loop each)\n",
      "28.2 µs ± 0 ns per loop (mean ± std. dev. of 1 run, 1 loop each)\n",
      "379 µs ± 0 ns per loop (mean ± std. dev. of 1 run, 1 loop each)\n",
      "30.3 µs ± 0 ns per loop (mean ± std. dev. of 1 run, 1 loop each)\n",
      "17.1 µs ± 0 ns per loop (mean ± std. dev. of 1 run, 1 loop each)\n",
      "31.9 µs ± 0 ns per loop (mean ± std. dev. of 1 run, 1 loop each)\n",
      "31.9 µs ± 0 ns per loop (mean ± std. dev. of 1 run, 1 loop each)\n",
      "30.1 µs ± 0 ns per loop (mean ± std. dev. of 1 run, 1 loop each)\n",
      "16.6 µs ± 0 ns per loop (mean ± std. dev. of 1 run, 1 loop each)\n",
      "32.9 µs ± 0 ns per loop (mean ± std. dev. of 1 run, 1 loop each)\n",
      "16.8 µs ± 0 ns per loop (mean ± std. dev. of 1 run, 1 loop each)\n",
      "18.3 µs ± 0 ns per loop (mean ± std. dev. of 1 run, 1 loop each)\n",
      "37.9 µs ± 0 ns per loop (mean ± std. dev. of 1 run, 1 loop each)\n",
      "17.3 µs ± 0 ns per loop (mean ± std. dev. of 1 run, 1 loop each)\n",
      "2.11 ms ± 0 ns per loop (mean ± std. dev. of 1 run, 1 loop each)\n",
      "34.8 µs ± 0 ns per loop (mean ± std. dev. of 1 run, 1 loop each)\n",
      "17.7 µs ± 0 ns per loop (mean ± std. dev. of 1 run, 1 loop each)\n",
      "16 µs ± 0 ns per loop (mean ± std. dev. of 1 run, 1 loop each)\n",
      "19.8 µs ± 0 ns per loop (mean ± std. dev. of 1 run, 1 loop each)\n",
      "18.1 µs ± 0 ns per loop (mean ± std. dev. of 1 run, 1 loop each)\n",
      "17.2 µs ± 0 ns per loop (mean ± std. dev. of 1 run, 1 loop each)\n",
      "16.7 µs ± 0 ns per loop (mean ± std. dev. of 1 run, 1 loop each)\n",
      "33.1 µs ± 0 ns per loop (mean ± std. dev. of 1 run, 1 loop each)\n",
      "18.6 µs ± 0 ns per loop (mean ± std. dev. of 1 run, 1 loop each)\n",
      "17.6 µs ± 0 ns per loop (mean ± std. dev. of 1 run, 1 loop each)\n",
      "32.8 µs ± 0 ns per loop (mean ± std. dev. of 1 run, 1 loop each)\n",
      "17.8 µs ± 0 ns per loop (mean ± std. dev. of 1 run, 1 loop each)\n",
      "20.7 µs ± 0 ns per loop (mean ± std. dev. of 1 run, 1 loop each)\n",
      "17.2 µs ± 0 ns per loop (mean ± std. dev. of 1 run, 1 loop each)\n",
      "22.5 µs ± 0 ns per loop (mean ± std. dev. of 1 run, 1 loop each)\n",
      "23.3 µs ± 0 ns per loop (mean ± std. dev. of 1 run, 1 loop each)\n",
      "18.3 µs ± 0 ns per loop (mean ± std. dev. of 1 run, 1 loop each)\n",
      "17.3 µs ± 0 ns per loop (mean ± std. dev. of 1 run, 1 loop each)\n",
      "31.1 µs ± 0 ns per loop (mean ± std. dev. of 1 run, 1 loop each)\n",
      "18.4 µs ± 0 ns per loop (mean ± std. dev. of 1 run, 1 loop each)\n",
      "16.8 µs ± 0 ns per loop (mean ± std. dev. of 1 run, 1 loop each)\n",
      "20.4 µs ± 0 ns per loop (mean ± std. dev. of 1 run, 1 loop each)\n",
      "2.1 ms ± 0 ns per loop (mean ± std. dev. of 1 run, 1 loop each)\n",
      "18 µs ± 0 ns per loop (mean ± std. dev. of 1 run, 1 loop each)\n",
      "17.8 µs ± 0 ns per loop (mean ± std. dev. of 1 run, 1 loop each)\n",
      "17.5 µs ± 0 ns per loop (mean ± std. dev. of 1 run, 1 loop each)\n",
      "15.5 µs ± 0 ns per loop (mean ± std. dev. of 1 run, 1 loop each)\n",
      "18.2 µs ± 0 ns per loop (mean ± std. dev. of 1 run, 1 loop each)\n",
      "16.9 µs ± 0 ns per loop (mean ± std. dev. of 1 run, 1 loop each)\n",
      "17 µs ± 0 ns per loop (mean ± std. dev. of 1 run, 1 loop each)\n",
      "15.6 µs ± 0 ns per loop (mean ± std. dev. of 1 run, 1 loop each)\n",
      "16.6 µs ± 0 ns per loop (mean ± std. dev. of 1 run, 1 loop each)\n",
      "16.8 µs ± 0 ns per loop (mean ± std. dev. of 1 run, 1 loop each)\n",
      "16.6 µs ± 0 ns per loop (mean ± std. dev. of 1 run, 1 loop each)\n",
      "16.4 µs ± 0 ns per loop (mean ± std. dev. of 1 run, 1 loop each)\n",
      "30.1 µs ± 0 ns per loop (mean ± std. dev. of 1 run, 1 loop each)\n",
      "17.6 µs ± 0 ns per loop (mean ± std. dev. of 1 run, 1 loop each)\n",
      "17.4 µs ± 0 ns per loop (mean ± std. dev. of 1 run, 1 loop each)\n",
      "2.05 ms ± 0 ns per loop (mean ± std. dev. of 1 run, 1 loop each)\n",
      "20.6 µs ± 0 ns per loop (mean ± std. dev. of 1 run, 1 loop each)\n",
      "18.9 µs ± 0 ns per loop (mean ± std. dev. of 1 run, 1 loop each)\n",
      "17.2 µs ± 0 ns per loop (mean ± std. dev. of 1 run, 1 loop each)\n"
     ]
    }
   ],
   "source": [
    "import numpy as np\n",
    "normalsort=[]\n",
    "mergesort=[]\n",
    "quicksort=[]\n",
    "heapsort=[]\n",
    "stablesort=[]\n",
    "\n",
    "sizes=[100]\n",
    "\n",
    "for s in sizes:\n",
    "    for _ in range(20):\n",
    "        arr=np.random.randint(10000000, size=s)\n",
    "    \n",
    "        x=np.copy(arr)\n",
    "        r2=%timeit -n1 -r1 -o np.sort(x, kind='quicksort')\n",
    "        quicksort.append(r2.average)\n",
    "    \n",
    "        x=np.copy(arr)\n",
    "        r3=%timeit -n1 -r1 -o np.sort(x, kind='mergesort')\n",
    "        mergesort.append(r3.average)\n",
    "\n",
    "        x=np.copy(arr)\n",
    "        r4=%timeit -n1 -r1 -o np.sort(x, kind='heapsort')\n",
    "        heapsort.append(r4.average)\n",
    "    \n",
    "        x=np.copy(arr)\n",
    "        r5=%timeit -n1 -r1 -o np.sort(x, kind='stablesort')\n",
    "        stablesort.append(r5.average)\n",
    "        "
   ]
  },
  {
   "cell_type": "code",
   "execution_count": 2,
   "metadata": {},
   "outputs": [
    {
     "data": {
      "text/plain": [
       "[<matplotlib.lines.Line2D at 0x7f18160d98d0>]"
      ]
     },
     "execution_count": 2,
     "metadata": {},
     "output_type": "execute_result"
    },
    {
     "data": {
      "image/png": "[encoded data removed]",
      "text/plain": [
       "<Figure size 432x288 with 1 Axes>"
      ]
     },
     "metadata": {
      "needs_background": "light"
     },
     "output_type": "display_data"
    }
   ],
   "source": [
    "import matplotlib.pyplot as plt\n",
    "plt.plot(normalsort, color='black')\n",
    "plt.plot(quicksort, color='red')\n",
    "plt.plot(heapsort, color='green')\n",
    "plt.plot(stablesort, color='blue')\n",
    "plt.plot(mergesort, color='yellow')"
   ]
  },
  {
   "cell_type": "code",
   "execution_count": 3,
   "metadata": {},
   "outputs": [
    {
     "data": {
      "text/plain": [
       "array([[0.61185289, 0.13949386],\n",
       "       [0.29214465, 0.36636184],\n",
       "       [0.45606998, 0.78517596],\n",
       "       [0.19967378, 0.51423444],\n",
       "       [0.59241457, 0.04645041],\n",
       "       [0.60754485, 0.17052412],\n",
       "       [0.06505159, 0.94888554],\n",
       "       [0.96563203, 0.80839735],\n",
       "       [0.30461377, 0.09767211],\n",
       "       [0.68423303, 0.44015249]])"
      ]
     },
     "execution_count": 3,
     "metadata": {},
     "output_type": "execute_result"
    }
   ],
   "source": [
    "x=np.array([[0.61185289, 0.13949386],\n",
    "       [0.29214465, 0.36636184],\n",
    "       [0.45606998, 0.78517596],\n",
    "       [0.19967378, 0.51423444],\n",
    "       [0.59241457, 0.04645041],\n",
    "       [0.60754485, 0.17052412],\n",
    "       [0.06505159, 0.94888554],\n",
    "       [0.96563203, 0.80839735],\n",
    "       [0.30461377, 0.09767211],\n",
    "       [0.68423303, 0.44015249]])\n",
    "x"
   ]
  },
  {
   "cell_type": "code",
   "execution_count": 4,
   "metadata": {},
   "outputs": [
    {
     "data": {
      "text/plain": [
       "<matplotlib.legend.Legend at 0x7f1816036c50>"
      ]
     },
     "execution_count": 4,
     "metadata": {},
     "output_type": "execute_result"
    },
    {
     "data": {
      "image/png": "[encoded data removed]",
      "text/plain": [
       "<Figure size 432x288 with 1 Axes>"
      ]
     },
     "metadata": {
      "needs_background": "light"
     },
     "output_type": "display_data"
    }
   ],
   "source": [
    "plt.xticks(np.arange(0, 1.1, .1))\n",
    "plt.yticks(np.arange(0, 1.1, .1))\n",
    "\n",
    "for p in x:\n",
    "    plt.scatter(p[0], p[1])\n",
    "plt.legend(np.arange(10))\n"
   ]
  },
  {
   "cell_type": "code",
   "execution_count": 5,
   "metadata": {},
   "outputs": [
    {
     "data": {
      "text/plain": [
       "array([[ 32, 136,  57,  91],\n",
       "       [ 16,  12, 171,  16],\n",
       "       [101, 103, 180,  15],\n",
       "       [ 80,  52,  50,  31],\n",
       "       [170,  72,  41, 125],\n",
       "       [163,  36, 115, 114],\n",
       "       [ 22,  72, 154, 142],\n",
       "       [165,  52,  68, 122],\n",
       "       [ 14,  45,   2,  88],\n",
       "       [166, 104,  20,  52]])"
      ]
     },
     "execution_count": 5,
     "metadata": {},
     "output_type": "execute_result"
    }
   ],
   "source": [
    "arr=np.random.randint(200, size=[10,4])\n",
    "arr"
   ]
  },
  {
   "cell_type": "code",
   "execution_count": 6,
   "metadata": {},
   "outputs": [
    {
     "data": {
      "text/plain": [
       "<matplotlib.collections.PathCollection at 0x7f1815f6e4d0>"
      ]
     },
     "execution_count": 6,
     "metadata": {},
     "output_type": "execute_result"
    },
    {
     "data": {
      "image/png": "[encoded data removed]",
      "text/plain": [
       "<Figure size 432x288 with 1 Axes>"
      ]
     },
     "metadata": {
      "needs_background": "light"
     },
     "output_type": "display_data"
    }
   ],
   "source": [
    "plt.scatter(arr[:, 0], arr[:, 1], arr[:, 2], arr[:, 3])"
   ]
  },
  {
   "cell_type": "code",
   "execution_count": 7,
   "metadata": {},
   "outputs": [],
   "source": [
    "X = np.random.rand(10, 2)"
   ]
  },
  {
   "cell_type": "code",
   "execution_count": 8,
   "metadata": {},
   "outputs": [
    {
     "data": {
      "text/plain": [
       "array([[0.05775   , 0.4353987 ],\n",
       "       [0.6764582 , 0.08350754],\n",
       "       [0.42250138, 0.7191629 ],\n",
       "       [0.87408652, 0.39014552],\n",
       "       [0.69615577, 0.86546073],\n",
       "       [0.53277696, 0.84785618],\n",
       "       [0.80084983, 0.88277254],\n",
       "       [0.40280519, 0.41756831],\n",
       "       [0.25094579, 0.65902004],\n",
       "       [0.34443441, 0.30677585]])"
      ]
     },
     "execution_count": 8,
     "metadata": {},
     "output_type": "execute_result"
    }
   ],
   "source": [
    "X"
   ]
  },
  {
   "cell_type": "code",
   "execution_count": 9,
   "metadata": {},
   "outputs": [
    {
     "data": {
      "text/plain": [
       "array([[[0.05775   , 0.4353987 ]],\n",
       "\n",
       "       [[0.6764582 , 0.08350754]],\n",
       "\n",
       "       [[0.42250138, 0.7191629 ]],\n",
       "\n",
       "       [[0.87408652, 0.39014552]],\n",
       "\n",
       "       [[0.69615577, 0.86546073]],\n",
       "\n",
       "       [[0.53277696, 0.84785618]],\n",
       "\n",
       "       [[0.80084983, 0.88277254]],\n",
       "\n",
       "       [[0.40280519, 0.41756831]],\n",
       "\n",
       "       [[0.25094579, 0.65902004]],\n",
       "\n",
       "       [[0.34443441, 0.30677585]]])"
      ]
     },
     "execution_count": 9,
     "metadata": {},
     "output_type": "execute_result"
    }
   ],
   "source": [
    "X[:, np.newaxis, :]"
   ]
  },
  {
   "cell_type": "code",
   "execution_count": 10,
   "metadata": {},
   "outputs": [
    {
     "data": {
      "text/plain": [
       "array([[11, 12],\n",
       "       [16, 13],\n",
       "       [19,  1],\n",
       "       [18,  2],\n",
       "       [14,  6],\n",
       "       [ 5, 18],\n",
       "       [ 0, 11],\n",
       "       [10, 12],\n",
       "       [ 2, 11],\n",
       "       [14, 18]])"
      ]
     },
     "execution_count": 10,
     "metadata": {},
     "output_type": "execute_result"
    }
   ],
   "source": [
    "x=np.random.randint(20, size=[10, 2])\n",
    "x"
   ]
  },
  {
   "cell_type": "code",
   "execution_count": 27,
   "metadata": {},
   "outputs": [
    {
     "data": {
      "text/plain": [
       "[<matplotlib.lines.Line2D at 0x7f1815860d90>]"
      ]
     },
     "execution_count": 27,
     "metadata": {},
     "output_type": "execute_result"
    },
    {
     "data": {
      "image/png": "[encoded data removed]",
      "text/plain": [
       "<Figure size 432x288 with 1 Axes>"
      ]
     },
     "metadata": {
      "needs_background": "light"
     },
     "output_type": "display_data"
    }
   ],
   "source": [
    "Max=10000\n",
    "\n",
    "factors=[2]*(Max+1)\n",
    "factors[1]=1\n",
    "\n",
    "for x in range(2, (Max//2)):\n",
    "    for y in range(x,Max+1, x):\n",
    "        if(y!=x and y%x==0):\n",
    "            factors[y]+=1\n",
    "nums=[]\n",
    "\n",
    "for x in range(Max+1):\n",
    "    sum=0\n",
    "    for i in range(1, len(factors[1:])):\n",
    "        sum+=factors[i]\n",
    "        if(sum>=x):\n",
    "            nums.append(i)\n",
    "            break;             \n",
    "plt.plot(range(1, len(nums)+1), nums)"
   ]
  },
  {
   "cell_type": "code",
   "execution_count": 60,
   "metadata": {},
   "outputs": [
    {
     "data": {
      "text/plain": [
       "[<matplotlib.lines.Line2D at 0x7f181505f110>]"
      ]
     },
     "execution_count": 60,
     "metadata": {},
     "output_type": "execute_result"
    },
    {
     "data": {
      "image/png": "[encoded data removed]",
      "text/plain": [
       "<Figure size 432x288 with 1 Axes>"
      ]
     },
     "metadata": {
      "needs_background": "light"
     },
     "output_type": "display_data"
    }
   ],
   "source": [
    "nm=list(np.arange(0, 9, 0.01))\n",
    "fn=list(map(np.sin, nm))\n",
    "plt.plot(nm, fn)"
   ]
  }
 ],
 "metadata": {
  "kernelspec": {
   "display_name": "Python 3",
   "language": "python",
   "name": "python3"
  },
  "language_info": {
   "codemirror_mode": {
    "name": "ipython",
    "version": 3
   },
   "file_extension": ".py",
   "mimetype": "text/x-python",
   "name": "python",
   "nbconvert_exporter": "python",
   "pygments_lexer": "ipython3",
   "version": "3.7.6"
  }
 },
 "nbformat": 4,
 "nbformat_minor": 4
}
