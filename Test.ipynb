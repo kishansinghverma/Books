{
 "cells": [
  {
   "cell_type": "code",
   "execution_count": 5,
   "metadata": {},
   "outputs": [
    {
     "name": "stdout",
     "output_type": "stream",
     "text": [
      "22.4 µs ± 0 ns per loop (mean ± std. dev. of 1 run, 1 loop each)\n",
      "19.5 µs ± 0 ns per loop (mean ± std. dev. of 1 run, 1 loop each)\n",
      "19.4 µs ± 0 ns per loop (mean ± std. dev. of 1 run, 1 loop each)\n",
      "17.2 µs ± 0 ns per loop (mean ± std. dev. of 1 run, 1 loop each)\n",
      "21.8 µs ± 0 ns per loop (mean ± std. dev. of 1 run, 1 loop each)\n",
      "17.7 µs ± 0 ns per loop (mean ± std. dev. of 1 run, 1 loop each)\n",
      "18.7 µs ± 0 ns per loop (mean ± std. dev. of 1 run, 1 loop each)\n",
      "29.3 µs ± 0 ns per loop (mean ± std. dev. of 1 run, 1 loop each)\n",
      "32 µs ± 0 ns per loop (mean ± std. dev. of 1 run, 1 loop each)\n",
      "17 µs ± 0 ns per loop (mean ± std. dev. of 1 run, 1 loop each)\n",
      "19.3 µs ± 0 ns per loop (mean ± std. dev. of 1 run, 1 loop each)\n",
      "19.6 µs ± 0 ns per loop (mean ± std. dev. of 1 run, 1 loop each)\n",
      "17.2 µs ± 0 ns per loop (mean ± std. dev. of 1 run, 1 loop each)\n",
      "17.3 µs ± 0 ns per loop (mean ± std. dev. of 1 run, 1 loop each)\n",
      "18 µs ± 0 ns per loop (mean ± std. dev. of 1 run, 1 loop each)\n",
      "17.3 µs ± 0 ns per loop (mean ± std. dev. of 1 run, 1 loop each)\n",
      "30 µs ± 0 ns per loop (mean ± std. dev. of 1 run, 1 loop each)\n",
      "17.4 µs ± 0 ns per loop (mean ± std. dev. of 1 run, 1 loop each)\n",
      "18.4 µs ± 0 ns per loop (mean ± std. dev. of 1 run, 1 loop each)\n",
      "17.5 µs ± 0 ns per loop (mean ± std. dev. of 1 run, 1 loop each)\n",
      "17 µs ± 0 ns per loop (mean ± std. dev. of 1 run, 1 loop each)\n",
      "17.4 µs ± 0 ns per loop (mean ± std. dev. of 1 run, 1 loop each)\n",
      "18 µs ± 0 ns per loop (mean ± std. dev. of 1 run, 1 loop each)\n",
      "30.9 µs ± 0 ns per loop (mean ± std. dev. of 1 run, 1 loop each)\n",
      "16.9 µs ± 0 ns per loop (mean ± std. dev. of 1 run, 1 loop each)\n",
      "18 µs ± 0 ns per loop (mean ± std. dev. of 1 run, 1 loop each)\n",
      "18.7 µs ± 0 ns per loop (mean ± std. dev. of 1 run, 1 loop each)\n",
      "18 µs ± 0 ns per loop (mean ± std. dev. of 1 run, 1 loop each)\n",
      "17.1 µs ± 0 ns per loop (mean ± std. dev. of 1 run, 1 loop each)\n",
      "17.5 µs ± 0 ns per loop (mean ± std. dev. of 1 run, 1 loop each)\n",
      "12.3 ms ± 0 ns per loop (mean ± std. dev. of 1 run, 1 loop each)\n",
      "17.9 µs ± 0 ns per loop (mean ± std. dev. of 1 run, 1 loop each)\n",
      "17.8 µs ± 0 ns per loop (mean ± std. dev. of 1 run, 1 loop each)\n",
      "17.4 µs ± 0 ns per loop (mean ± std. dev. of 1 run, 1 loop each)\n",
      "18.4 µs ± 0 ns per loop (mean ± std. dev. of 1 run, 1 loop each)\n",
      "17.7 µs ± 0 ns per loop (mean ± std. dev. of 1 run, 1 loop each)\n",
      "16.9 µs ± 0 ns per loop (mean ± std. dev. of 1 run, 1 loop each)\n",
      "17.2 µs ± 0 ns per loop (mean ± std. dev. of 1 run, 1 loop each)\n",
      "27.2 µs ± 0 ns per loop (mean ± std. dev. of 1 run, 1 loop each)\n",
      "17.9 µs ± 0 ns per loop (mean ± std. dev. of 1 run, 1 loop each)\n",
      "17.1 µs ± 0 ns per loop (mean ± std. dev. of 1 run, 1 loop each)\n",
      "17.9 µs ± 0 ns per loop (mean ± std. dev. of 1 run, 1 loop each)\n",
      "18.5 µs ± 0 ns per loop (mean ± std. dev. of 1 run, 1 loop each)\n",
      "29.3 µs ± 0 ns per loop (mean ± std. dev. of 1 run, 1 loop each)\n",
      "17 µs ± 0 ns per loop (mean ± std. dev. of 1 run, 1 loop each)\n",
      "17.6 µs ± 0 ns per loop (mean ± std. dev. of 1 run, 1 loop each)\n",
      "18.7 µs ± 0 ns per loop (mean ± std. dev. of 1 run, 1 loop each)\n",
      "28.9 µs ± 0 ns per loop (mean ± std. dev. of 1 run, 1 loop each)\n",
      "17.6 µs ± 0 ns per loop (mean ± std. dev. of 1 run, 1 loop each)\n",
      "17.5 µs ± 0 ns per loop (mean ± std. dev. of 1 run, 1 loop each)\n",
      "18.6 µs ± 0 ns per loop (mean ± std. dev. of 1 run, 1 loop each)\n",
      "17.7 µs ± 0 ns per loop (mean ± std. dev. of 1 run, 1 loop each)\n",
      "459 µs ± 0 ns per loop (mean ± std. dev. of 1 run, 1 loop each)\n",
      "17.4 µs ± 0 ns per loop (mean ± std. dev. of 1 run, 1 loop each)\n",
      "18.7 µs ± 0 ns per loop (mean ± std. dev. of 1 run, 1 loop each)\n",
      "17.8 µs ± 0 ns per loop (mean ± std. dev. of 1 run, 1 loop each)\n",
      "17.4 µs ± 0 ns per loop (mean ± std. dev. of 1 run, 1 loop each)\n",
      "17.6 µs ± 0 ns per loop (mean ± std. dev. of 1 run, 1 loop each)\n",
      "19.2 µs ± 0 ns per loop (mean ± std. dev. of 1 run, 1 loop each)\n",
      "44.2 µs ± 0 ns per loop (mean ± std. dev. of 1 run, 1 loop each)\n",
      "17.2 µs ± 0 ns per loop (mean ± std. dev. of 1 run, 1 loop each)\n",
      "17.8 µs ± 0 ns per loop (mean ± std. dev. of 1 run, 1 loop each)\n",
      "30.4 µs ± 0 ns per loop (mean ± std. dev. of 1 run, 1 loop each)\n",
      "17.2 µs ± 0 ns per loop (mean ± std. dev. of 1 run, 1 loop each)\n",
      "16.5 µs ± 0 ns per loop (mean ± std. dev. of 1 run, 1 loop each)\n",
      "43.7 µs ± 0 ns per loop (mean ± std. dev. of 1 run, 1 loop each)\n",
      "18.7 µs ± 0 ns per loop (mean ± std. dev. of 1 run, 1 loop each)\n",
      "17.7 µs ± 0 ns per loop (mean ± std. dev. of 1 run, 1 loop each)\n",
      "17.2 µs ± 0 ns per loop (mean ± std. dev. of 1 run, 1 loop each)\n",
      "17.5 µs ± 0 ns per loop (mean ± std. dev. of 1 run, 1 loop each)\n",
      "18.8 µs ± 0 ns per loop (mean ± std. dev. of 1 run, 1 loop each)\n",
      "17.9 µs ± 0 ns per loop (mean ± std. dev. of 1 run, 1 loop each)\n",
      "17.7 µs ± 0 ns per loop (mean ± std. dev. of 1 run, 1 loop each)\n",
      "2.32 ms ± 0 ns per loop (mean ± std. dev. of 1 run, 1 loop each)\n",
      "17.9 µs ± 0 ns per loop (mean ± std. dev. of 1 run, 1 loop each)\n",
      "17.3 µs ± 0 ns per loop (mean ± std. dev. of 1 run, 1 loop each)\n",
      "17.9 µs ± 0 ns per loop (mean ± std. dev. of 1 run, 1 loop each)\n",
      "18.3 µs ± 0 ns per loop (mean ± std. dev. of 1 run, 1 loop each)\n",
      "19.1 µs ± 0 ns per loop (mean ± std. dev. of 1 run, 1 loop each)\n",
      "18.1 µs ± 0 ns per loop (mean ± std. dev. of 1 run, 1 loop each)\n"
     ]
    }
   ],
   "source": [
    "import numpy as np\n",
    "normalsort=[]\n",
    "mergesort=[]\n",
    "quicksort=[]\n",
    "heapsort=[]\n",
    "stablesort=[]\n",
    "\n",
    "sizes=[100]\n",
    "\n",
    "for s in sizes:\n",
    "    for _ in range(20):\n",
    "        arr=np.random.randint(10000000, size=s)\n",
    "    \n",
    "        x=np.copy(arr)\n",
    "        r2=%timeit -n1 -r1 -o np.sort(x, kind='quicksort')\n",
    "        quicksort.append(r2.average)\n",
    "    \n",
    "        x=np.copy(arr)\n",
    "        r3=%timeit -n1 -r1 -o np.sort(x, kind='mergesort')\n",
    "        mergesort.append(r3.average)\n",
    "\n",
    "        x=np.copy(arr)\n",
    "        r4=%timeit -n1 -r1 -o np.sort(x, kind='heapsort')\n",
    "        heapsort.append(r4.average)\n",
    "    \n",
    "        x=np.copy(arr)\n",
    "        r5=%timeit -n1 -r1 -o np.sort(x, kind='stablesort')\n",
    "        stablesort.append(r5.average)\n",
    "        "
   ]
  },
  {
   "cell_type": "code",
   "execution_count": 6,
   "metadata": {},
   "outputs": [
    {
     "data": {
      "text/plain": [
       "[<matplotlib.lines.Line2D at 0x7ff271a50290>]"
      ]
     },
     "execution_count": 6,
     "metadata": {},
     "output_type": "execute_result"
    },
    {
     "data": {
      "image/png": "[encoded data removed]",
      "text/plain": [
       "<Figure size 432x288 with 1 Axes>"
      ]
     },
     "metadata": {
      "needs_background": "light"
     },
     "output_type": "display_data"
    }
   ],
   "source": [
    "import matplotlib.pyplot as plt\n",
    "plt.plot(normalsort, color='black')\n",
    "plt.plot(quicksort, color='red')\n",
    "plt.plot(heapsort, color='green')\n",
    "plt.plot(stablesort, color='blue')\n",
    "plt.plot(mergesort, color='yellow')"
   ]
  }
 ],
 "metadata": {
  "kernelspec": {
   "display_name": "Python 3",
   "language": "python",
   "name": "python3"
  },
  "language_info": {
   "codemirror_mode": {
    "name": "ipython",
    "version": 3
   },
   "file_extension": ".py",
   "mimetype": "text/x-python",
   "name": "python",
   "nbconvert_exporter": "python",
   "pygments_lexer": "ipython3",
   "version": "3.7.6"
  }
 },
 "nbformat": 4,
 "nbformat_minor": 4
}
