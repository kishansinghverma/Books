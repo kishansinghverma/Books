{
 "cells": [
  {
   "cell_type": "code",
   "execution_count": 83,
   "metadata": {},
   "outputs": [
    {
     "name": "stdout",
     "output_type": "stream",
     "text": [
      "921 µs ± 0 ns per loop (mean ± std. dev. of 1 run, 1 loop each)\n",
      "989 µs ± 0 ns per loop (mean ± std. dev. of 1 run, 1 loop each)\n",
      "25.1 µs ± 0 ns per loop (mean ± std. dev. of 1 run, 1 loop each)\n",
      "23.7 µs ± 0 ns per loop (mean ± std. dev. of 1 run, 1 loop each)\n",
      "17.9 µs ± 0 ns per loop (mean ± std. dev. of 1 run, 1 loop each)\n",
      "18.6 µs ± 0 ns per loop (mean ± std. dev. of 1 run, 1 loop each)\n",
      "19.2 µs ± 0 ns per loop (mean ± std. dev. of 1 run, 1 loop each)\n",
      "18.5 µs ± 0 ns per loop (mean ± std. dev. of 1 run, 1 loop each)\n",
      "18.2 µs ± 0 ns per loop (mean ± std. dev. of 1 run, 1 loop each)\n",
      "17.8 µs ± 0 ns per loop (mean ± std. dev. of 1 run, 1 loop each)\n",
      "19.1 µs ± 0 ns per loop (mean ± std. dev. of 1 run, 1 loop each)\n",
      "18.1 µs ± 0 ns per loop (mean ± std. dev. of 1 run, 1 loop each)\n",
      "17.3 µs ± 0 ns per loop (mean ± std. dev. of 1 run, 1 loop each)\n",
      "17.8 µs ± 0 ns per loop (mean ± std. dev. of 1 run, 1 loop each)\n",
      "19 µs ± 0 ns per loop (mean ± std. dev. of 1 run, 1 loop each)\n",
      "17.9 µs ± 0 ns per loop (mean ± std. dev. of 1 run, 1 loop each)\n",
      "17.9 µs ± 0 ns per loop (mean ± std. dev. of 1 run, 1 loop each)\n",
      "18 µs ± 0 ns per loop (mean ± std. dev. of 1 run, 1 loop each)\n",
      "19.7 µs ± 0 ns per loop (mean ± std. dev. of 1 run, 1 loop each)\n",
      "18.1 µs ± 0 ns per loop (mean ± std. dev. of 1 run, 1 loop each)\n",
      "17.9 µs ± 0 ns per loop (mean ± std. dev. of 1 run, 1 loop each)\n",
      "18.4 µs ± 0 ns per loop (mean ± std. dev. of 1 run, 1 loop each)\n",
      "19.3 µs ± 0 ns per loop (mean ± std. dev. of 1 run, 1 loop each)\n",
      "17.5 µs ± 0 ns per loop (mean ± std. dev. of 1 run, 1 loop each)\n",
      "18 µs ± 0 ns per loop (mean ± std. dev. of 1 run, 1 loop each)\n",
      "18 µs ± 0 ns per loop (mean ± std. dev. of 1 run, 1 loop each)\n",
      "19 µs ± 0 ns per loop (mean ± std. dev. of 1 run, 1 loop each)\n",
      "17.7 µs ± 0 ns per loop (mean ± std. dev. of 1 run, 1 loop each)\n",
      "17.8 µs ± 0 ns per loop (mean ± std. dev. of 1 run, 1 loop each)\n",
      "22.4 µs ± 0 ns per loop (mean ± std. dev. of 1 run, 1 loop each)\n",
      "19.2 µs ± 0 ns per loop (mean ± std. dev. of 1 run, 1 loop each)\n",
      "18.4 µs ± 0 ns per loop (mean ± std. dev. of 1 run, 1 loop each)\n",
      "17.7 µs ± 0 ns per loop (mean ± std. dev. of 1 run, 1 loop each)\n",
      "18.3 µs ± 0 ns per loop (mean ± std. dev. of 1 run, 1 loop each)\n",
      "19.4 µs ± 0 ns per loop (mean ± std. dev. of 1 run, 1 loop each)\n",
      "18.2 µs ± 0 ns per loop (mean ± std. dev. of 1 run, 1 loop each)\n",
      "17.5 µs ± 0 ns per loop (mean ± std. dev. of 1 run, 1 loop each)\n",
      "17.9 µs ± 0 ns per loop (mean ± std. dev. of 1 run, 1 loop each)\n",
      "19.2 µs ± 0 ns per loop (mean ± std. dev. of 1 run, 1 loop each)\n",
      "18.1 µs ± 0 ns per loop (mean ± std. dev. of 1 run, 1 loop each)\n",
      "17.6 µs ± 0 ns per loop (mean ± std. dev. of 1 run, 1 loop each)\n",
      "17.8 µs ± 0 ns per loop (mean ± std. dev. of 1 run, 1 loop each)\n",
      "19.3 µs ± 0 ns per loop (mean ± std. dev. of 1 run, 1 loop each)\n",
      "17.9 µs ± 0 ns per loop (mean ± std. dev. of 1 run, 1 loop each)\n",
      "17.5 µs ± 0 ns per loop (mean ± std. dev. of 1 run, 1 loop each)\n",
      "18.9 µs ± 0 ns per loop (mean ± std. dev. of 1 run, 1 loop each)\n",
      "19.1 µs ± 0 ns per loop (mean ± std. dev. of 1 run, 1 loop each)\n",
      "18.1 µs ± 0 ns per loop (mean ± std. dev. of 1 run, 1 loop each)\n",
      "17.9 µs ± 0 ns per loop (mean ± std. dev. of 1 run, 1 loop each)\n",
      "17.8 µs ± 0 ns per loop (mean ± std. dev. of 1 run, 1 loop each)\n",
      "19.2 µs ± 0 ns per loop (mean ± std. dev. of 1 run, 1 loop each)\n",
      "17.5 µs ± 0 ns per loop (mean ± std. dev. of 1 run, 1 loop each)\n",
      "17.9 µs ± 0 ns per loop (mean ± std. dev. of 1 run, 1 loop each)\n",
      "18.8 µs ± 0 ns per loop (mean ± std. dev. of 1 run, 1 loop each)\n",
      "19.7 µs ± 0 ns per loop (mean ± std. dev. of 1 run, 1 loop each)\n",
      "18.1 µs ± 0 ns per loop (mean ± std. dev. of 1 run, 1 loop each)\n",
      "17.7 µs ± 0 ns per loop (mean ± std. dev. of 1 run, 1 loop each)\n",
      "18.9 µs ± 0 ns per loop (mean ± std. dev. of 1 run, 1 loop each)\n",
      "19.9 µs ± 0 ns per loop (mean ± std. dev. of 1 run, 1 loop each)\n",
      "17.7 µs ± 0 ns per loop (mean ± std. dev. of 1 run, 1 loop each)\n",
      "17.5 µs ± 0 ns per loop (mean ± std. dev. of 1 run, 1 loop each)\n",
      "17.9 µs ± 0 ns per loop (mean ± std. dev. of 1 run, 1 loop each)\n",
      "18.8 µs ± 0 ns per loop (mean ± std. dev. of 1 run, 1 loop each)\n",
      "18.1 µs ± 0 ns per loop (mean ± std. dev. of 1 run, 1 loop each)\n",
      "18 µs ± 0 ns per loop (mean ± std. dev. of 1 run, 1 loop each)\n",
      "18 µs ± 0 ns per loop (mean ± std. dev. of 1 run, 1 loop each)\n",
      "20.2 µs ± 0 ns per loop (mean ± std. dev. of 1 run, 1 loop each)\n",
      "23.4 µs ± 0 ns per loop (mean ± std. dev. of 1 run, 1 loop each)\n",
      "17.5 µs ± 0 ns per loop (mean ± std. dev. of 1 run, 1 loop each)\n",
      "17.9 µs ± 0 ns per loop (mean ± std. dev. of 1 run, 1 loop each)\n",
      "18.8 µs ± 0 ns per loop (mean ± std. dev. of 1 run, 1 loop each)\n",
      "18 µs ± 0 ns per loop (mean ± std. dev. of 1 run, 1 loop each)\n",
      "18.5 µs ± 0 ns per loop (mean ± std. dev. of 1 run, 1 loop each)\n",
      "18.3 µs ± 0 ns per loop (mean ± std. dev. of 1 run, 1 loop each)\n",
      "19.1 µs ± 0 ns per loop (mean ± std. dev. of 1 run, 1 loop each)\n",
      "17.7 µs ± 0 ns per loop (mean ± std. dev. of 1 run, 1 loop each)\n",
      "17.7 µs ± 0 ns per loop (mean ± std. dev. of 1 run, 1 loop each)\n",
      "18.2 µs ± 0 ns per loop (mean ± std. dev. of 1 run, 1 loop each)\n",
      "18.7 µs ± 0 ns per loop (mean ± std. dev. of 1 run, 1 loop each)\n",
      "18 µs ± 0 ns per loop (mean ± std. dev. of 1 run, 1 loop each)\n"
     ]
    }
   ],
   "source": [
    "import numpy as np\n",
    "import pandas as pd\n",
    "normalsort=[]\n",
    "mergesort=[]\n",
    "quicksort=[]\n",
    "heapsort=[]\n",
    "stablesort=[]\n",
    "\n",
    "sizes=[100]\n",
    "\n",
    "for s in sizes:\n",
    "    for _ in range(20):\n",
    "        arr=np.random.randint(10000000, size=s)\n",
    "    \n",
    "        x=np.copy(arr)\n",
    "        r2=%timeit -n1 -r1 -o np.sort(x, kind='quicksort')\n",
    "        quicksort.append(r2.average)\n",
    "    \n",
    "        x=np.copy(arr)\n",
    "        r3=%timeit -n1 -r1 -o np.sort(x, kind='mergesort')\n",
    "        mergesort.append(r3.average)\n",
    "\n",
    "        x=np.copy(arr)\n",
    "        r4=%timeit -n1 -r1 -o np.sort(x, kind='heapsort')\n",
    "        heapsort.append(r4.average)\n",
    "    \n",
    "        x=np.copy(arr)\n",
    "        r5=%timeit -n1 -r1 -o np.sort(x, kind='stablesort')\n",
    "        stablesort.append(r5.average)\n",
    "        "
   ]
  },
  {
   "cell_type": "code",
   "execution_count": 84,
   "metadata": {},
   "outputs": [
    {
     "data": {
      "text/plain": [
       "[<matplotlib.lines.Line2D at 0x7fa8fe44a4d0>]"
      ]
     },
     "execution_count": 84,
     "metadata": {},
     "output_type": "execute_result"
    },
    {
     "data": {
      "image/png": "[encoded data removed]",
      "text/plain": [
       "<Figure size 432x288 with 1 Axes>"
      ]
     },
     "metadata": {
      "needs_background": "light"
     },
     "output_type": "display_data"
    }
   ],
   "source": [
    "import matplotlib.pyplot as plt\n",
    "plt.plot(normalsort, color='black')\n",
    "plt.plot(quicksort, color='red')\n",
    "plt.plot(heapsort, color='green')\n",
    "plt.plot(stablesort, color='blue')\n",
    "plt.plot(mergesort, color='yellow')"
   ]
  },
  {
   "cell_type": "code",
   "execution_count": 85,
   "metadata": {},
   "outputs": [
    {
     "data": {
      "text/plain": [
       "array([[0.61185289, 0.13949386],\n",
       "       [0.29214465, 0.36636184],\n",
       "       [0.45606998, 0.78517596],\n",
       "       [0.19967378, 0.51423444],\n",
       "       [0.59241457, 0.04645041],\n",
       "       [0.60754485, 0.17052412],\n",
       "       [0.06505159, 0.94888554],\n",
       "       [0.96563203, 0.80839735],\n",
       "       [0.30461377, 0.09767211],\n",
       "       [0.68423303, 0.44015249]])"
      ]
     },
     "execution_count": 85,
     "metadata": {},
     "output_type": "execute_result"
    }
   ],
   "source": [
    "x=np.array([[0.61185289, 0.13949386],\n",
    "       [0.29214465, 0.36636184],\n",
    "       [0.45606998, 0.78517596],\n",
    "       [0.19967378, 0.51423444],\n",
    "       [0.59241457, 0.04645041],\n",
    "       [0.60754485, 0.17052412],\n",
    "       [0.06505159, 0.94888554],\n",
    "       [0.96563203, 0.80839735],\n",
    "       [0.30461377, 0.09767211],\n",
    "       [0.68423303, 0.44015249]])\n",
    "x"
   ]
  },
  {
   "cell_type": "code",
   "execution_count": 86,
   "metadata": {},
   "outputs": [
    {
     "data": {
      "text/plain": [
       "<matplotlib.legend.Legend at 0x7fa8fe416350>"
      ]
     },
     "execution_count": 86,
     "metadata": {},
     "output_type": "execute_result"
    },
    {
     "data": {
      "image/png": "[encoded data removed]",
      "text/plain": [
       "<Figure size 432x288 with 1 Axes>"
      ]
     },
     "metadata": {
      "needs_background": "light"
     },
     "output_type": "display_data"
    }
   ],
   "source": [
    "plt.xticks(np.arange(0, 1.1, .1))\n",
    "plt.yticks(np.arange(0, 1.1, .1))\n",
    "\n",
    "for p in x:\n",
    "    plt.scatter(p[0], p[1])\n",
    "plt.legend(np.arange(10))\n"
   ]
  },
  {
   "cell_type": "code",
   "execution_count": 87,
   "metadata": {},
   "outputs": [
    {
     "data": {
      "text/plain": [
       "array([[ 63, 149,  46, 190],\n",
       "       [  2, 152,  47,  24],\n",
       "       [ 40,  15,  41,  54],\n",
       "       [158,  88,   8,  61],\n",
       "       [ 10,  55,  40, 191],\n",
       "       [166, 118,  87, 174],\n",
       "       [ 71,  98,   1,  45],\n",
       "       [ 96, 175, 182,  80],\n",
       "       [ 96, 115,  41, 199],\n",
       "       [116, 176, 145,  45]])"
      ]
     },
     "execution_count": 87,
     "metadata": {},
     "output_type": "execute_result"
    }
   ],
   "source": [
    "arr=np.random.randint(200, size=[10,4])\n",
    "arr"
   ]
  },
  {
   "cell_type": "code",
   "execution_count": 88,
   "metadata": {},
   "outputs": [
    {
     "data": {
      "text/plain": [
       "<matplotlib.collections.PathCollection at 0x7fa8fe3c7a10>"
      ]
     },
     "execution_count": 88,
     "metadata": {},
     "output_type": "execute_result"
    },
    {
     "data": {
      "image/png": "[encoded data removed]",
      "text/plain": [
       "<Figure size 432x288 with 1 Axes>"
      ]
     },
     "metadata": {
      "needs_background": "light"
     },
     "output_type": "display_data"
    }
   ],
   "source": [
    "plt.scatter(arr[:, 0], arr[:, 1], arr[:, 2], arr[:, 3])"
   ]
  },
  {
   "cell_type": "code",
   "execution_count": 89,
   "metadata": {},
   "outputs": [],
   "source": [
    "X = np.random.rand(10, 2)"
   ]
  },
  {
   "cell_type": "code",
   "execution_count": 90,
   "metadata": {},
   "outputs": [
    {
     "data": {
      "text/plain": [
       "array([[0.06732221, 0.17969576],\n",
       "       [0.80243035, 0.8628927 ],\n",
       "       [0.26490693, 0.42295771],\n",
       "       [0.64222251, 0.24906081],\n",
       "       [0.47966726, 0.14137504],\n",
       "       [0.95616972, 0.02029213],\n",
       "       [0.26982538, 0.73282613],\n",
       "       [0.7044723 , 0.74556459],\n",
       "       [0.73631536, 0.61058451],\n",
       "       [0.59480429, 0.03622656]])"
      ]
     },
     "execution_count": 90,
     "metadata": {},
     "output_type": "execute_result"
    }
   ],
   "source": [
    "X"
   ]
  },
  {
   "cell_type": "code",
   "execution_count": 91,
   "metadata": {},
   "outputs": [
    {
     "data": {
      "text/plain": [
       "array([[[0.06732221, 0.17969576]],\n",
       "\n",
       "       [[0.80243035, 0.8628927 ]],\n",
       "\n",
       "       [[0.26490693, 0.42295771]],\n",
       "\n",
       "       [[0.64222251, 0.24906081]],\n",
       "\n",
       "       [[0.47966726, 0.14137504]],\n",
       "\n",
       "       [[0.95616972, 0.02029213]],\n",
       "\n",
       "       [[0.26982538, 0.73282613]],\n",
       "\n",
       "       [[0.7044723 , 0.74556459]],\n",
       "\n",
       "       [[0.73631536, 0.61058451]],\n",
       "\n",
       "       [[0.59480429, 0.03622656]]])"
      ]
     },
     "execution_count": 91,
     "metadata": {},
     "output_type": "execute_result"
    }
   ],
   "source": [
    "X[:, np.newaxis, :]"
   ]
  },
  {
   "cell_type": "code",
   "execution_count": 92,
   "metadata": {},
   "outputs": [
    {
     "data": {
      "text/plain": [
       "array([[ 4,  2],\n",
       "       [19, 10],\n",
       "       [ 4, 12],\n",
       "       [15, 10],\n",
       "       [10, 10],\n",
       "       [17, 19],\n",
       "       [19, 10],\n",
       "       [ 3, 16],\n",
       "       [18,  7],\n",
       "       [17, 14]])"
      ]
     },
     "execution_count": 92,
     "metadata": {},
     "output_type": "execute_result"
    }
   ],
   "source": [
    "x=np.random.randint(20, size=[10, 2])\n",
    "x"
   ]
  },
  {
   "cell_type": "code",
   "execution_count": 93,
   "metadata": {},
   "outputs": [
    {
     "data": {
      "text/plain": [
       "[<matplotlib.lines.Line2D at 0x7fa8fe3fff90>]"
      ]
     },
     "execution_count": 93,
     "metadata": {},
     "output_type": "execute_result"
    },
    {
     "data": {
      "image/png": "[encoded data removed]",
      "text/plain": [
       "<Figure size 432x288 with 1 Axes>"
      ]
     },
     "metadata": {
      "needs_background": "light"
     },
     "output_type": "display_data"
    }
   ],
   "source": [
    "Max=10000\n",
    "\n",
    "factors=[2]*(Max+1)\n",
    "factors[1]=1\n",
    "\n",
    "for x in range(2, (Max//2)):\n",
    "    for y in range(x,Max+1, x):\n",
    "        if(y!=x and y%x==0):\n",
    "            factors[y]+=1\n",
    "nums=[]\n",
    "\n",
    "for x in range(Max+1):\n",
    "    sum=0\n",
    "    for i in range(1, len(factors[1:])):\n",
    "        sum+=factors[i]\n",
    "        if(sum>=x):\n",
    "            nums.append(i)\n",
    "            break;             \n",
    "plt.plot(range(1, len(nums)+1), nums)"
   ]
  },
  {
   "cell_type": "code",
   "execution_count": 94,
   "metadata": {},
   "outputs": [
    {
     "data": {
      "text/plain": [
       "[<matplotlib.lines.Line2D at 0x7fa8fe3ab490>]"
      ]
     },
     "execution_count": 94,
     "metadata": {},
     "output_type": "execute_result"
    },
    {
     "data": {
      "image/png": "[encoded data removed]",
      "text/plain": [
       "<Figure size 432x288 with 1 Axes>"
      ]
     },
     "metadata": {
      "needs_background": "light"
     },
     "output_type": "display_data"
    }
   ],
   "source": [
    "nm=list(np.arange(0, 9, 0.01))\n",
    "fn=list(map(np.sin, nm))\n",
    "plt.plot(nm, fn)"
   ]
  },
  {
   "cell_type": "code",
   "execution_count": 95,
   "metadata": {},
   "outputs": [
    {
     "data": {
      "text/plain": [
       "array([6, 5, 4, 3, 2, 1])"
      ]
     },
     "execution_count": 95,
     "metadata": {},
     "output_type": "execute_result"
    }
   ],
   "source": [
    "np.arange(6,0,-1)"
   ]
  }
 ],
 "metadata": {
  "kernelspec": {
   "display_name": "Python 3",
   "language": "python",
   "name": "python3"
  },
  "language_info": {
   "codemirror_mode": {
    "name": "ipython",
    "version": 3
   },
   "file_extension": ".py",
   "mimetype": "text/x-python",
   "name": "python",
   "nbconvert_exporter": "python",
   "pygments_lexer": "ipython3",
   "version": "3.7.6"
  }
 },
 "nbformat": 4,
 "nbformat_minor": 4
}
