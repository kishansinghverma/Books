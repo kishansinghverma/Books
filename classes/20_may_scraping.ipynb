{
 "cells": [
  {
   "cell_type": "code",
   "execution_count": 1,
   "metadata": {},
   "outputs": [],
   "source": [
    "#read data from webpage\n",
    "import requests\n",
    "resp=requests.get(\"https://mohfw.gov.in/\")\n",
    "web_data=resp.text"
   ]
  },
  {
   "cell_type": "code",
   "execution_count": 8,
   "metadata": {},
   "outputs": [],
   "source": [
    "#parse web data according to html tag\n",
    "from bs4 import BeautifulSoup\n",
    "soup=BeautifulSoup(web_data,parser='html5lib')"
   ]
  },
  {
   "cell_type": "code",
   "execution_count": 15,
   "metadata": {},
   "outputs": [],
   "source": [
    "#how to get only text from web data(i.e. data without html tags)\n",
    "#print(web_data)\n",
    "#print(soup.get_text(strip=True,separator=\"\\n\"))"
   ]
  },
  {
   "cell_type": "code",
   "execution_count": 18,
   "metadata": {},
   "outputs": [
    {
     "name": "stdout",
     "output_type": "stream",
     "text": [
      "<a href=\"index.html\">Home</a>\n",
      "Home\n",
      "index.html\n"
     ]
    }
   ],
   "source": [
    "#how to get first anchor(hyperlink)\n",
    "link=soup.find(\"a\")\n",
    "print(link)\n",
    "print(link.get_text())\n",
    "print(link.get('href'))"
   ]
  },
  {
   "cell_type": "code",
   "execution_count": 25,
   "metadata": {},
   "outputs": [
    {
     "name": "stdout",
     "output_type": "stream",
     "text": [
      "433\n"
     ]
    }
   ],
   "source": [
    "#how to get all anchors(hyperinks)\n",
    "links=soup.find_all(\"a\")\n",
    "print(len(links))\n",
    "\n",
    "#how to save all links to text file\n",
    "file=open('links.txt','w',encoding='latin')\n",
    "for link in links:\n",
    "    file.write(str(link))\n",
    "    file.write(\"\\n\")\n",
    "file.close()    "
   ]
  },
  {
   "cell_type": "code",
   "execution_count": null,
   "metadata": {},
   "outputs": [],
   "source": []
  }
 ],
 "metadata": {
  "kernelspec": {
   "display_name": "Python 3",
   "language": "python",
   "name": "python3"
  },
  "language_info": {
   "codemirror_mode": {
    "name": "ipython",
    "version": 3
   },
   "file_extension": ".py",
   "mimetype": "text/x-python",
   "name": "python",
   "nbconvert_exporter": "python",
   "pygments_lexer": "ipython3",
   "version": "3.7.4"
  }
 },
 "nbformat": 4,
 "nbformat_minor": 4
}
